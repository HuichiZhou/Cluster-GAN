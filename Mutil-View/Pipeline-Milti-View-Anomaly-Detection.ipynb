{
 "cells": [
  {
   "cell_type": "markdown",
   "id": "50c17ff1",
   "metadata": {},
   "source": [
    "# 基于ClusterGAN的多视图异常检测算法"
   ]
  },
  {
   "cell_type": "code",
   "execution_count": 1,
   "id": "3cce46f3",
   "metadata": {},
   "outputs": [],
   "source": [
    "import os\n",
    "import random\n",
    "import numpy as np\n",
    "from PIL import Image\n",
    "from tqdm import tqdm\n",
    "import matplotlib.pyplot as plt\n",
    "from itertools import chain as ichain\n",
    "\n",
    "import torch\n",
    "import torch.nn as nn\n",
    "import torch.nn.functional as F\n",
    "from torch.autograd import Variable\n",
    "from torch.autograd import grad as torch_grad\n",
    "from torch.utils.data import DataLoader, Dataset\n",
    "\n",
    "from torchvision import datasets\n",
    "import torchvision.transforms as transforms\n",
    "\n",
    "import time\n",
    "import cv2\n",
    "\n",
    "from sklearn.preprocessing import MinMaxScaler"
   ]
  },
  {
   "cell_type": "markdown",
   "id": "c001d1b8",
   "metadata": {},
   "source": [
    "## 制作数据集"
   ]
  },
  {
   "cell_type": "markdown",
   "id": "30118c12",
   "metadata": {},
   "source": [
    "### 两个实验数据集，从torchvision.datasets导入\n"
   ]
  },
  {
   "cell_type": "code",
   "execution_count": 2,
   "id": "b37fb0d6",
   "metadata": {},
   "outputs": [
    {
     "data": {
      "text/plain": [
       "{'mnist': torchvision.datasets.mnist.MNIST,\n",
       " 'fashion-mnist': torchvision.datasets.mnist.FashionMNIST}"
      ]
     },
     "execution_count": 2,
     "metadata": {},
     "output_type": "execute_result"
    }
   ],
   "source": [
    "DATASET_FN_DICT = {\n",
    "                    'mnist': datasets.MNIST,\n",
    "                    'fashion-mnist': datasets.FashionMNIST\n",
    "                   }\n",
    "DATASET_FN_DICT"
   ]
  },
  {
   "cell_type": "code",
   "execution_count": 3,
   "id": "6e7e9af8",
   "metadata": {},
   "outputs": [
    {
     "data": {
      "text/plain": [
       "dict_keys(['mnist', 'fashion-mnist'])"
      ]
     },
     "execution_count": 3,
     "metadata": {},
     "output_type": "execute_result"
    }
   ],
   "source": [
    "dataset_list = DATASET_FN_DICT.keys()\n",
    "dataset_list"
   ]
  },
  {
   "cell_type": "markdown",
   "id": "c9ca2763",
   "metadata": {},
   "source": [
    "### 传入参数返回一个类函数"
   ]
  },
  {
   "cell_type": "code",
   "execution_count": 4,
   "id": "c86f47f0",
   "metadata": {},
   "outputs": [],
   "source": [
    "def get_dataset(dataset_name='mnist'):\n",
    "    if dataset_name in DATASET_FN_DICT:\n",
    "        fn = DATASET_FN_DICT[dataset_name]\n",
    "        return fn\n",
    "    else:\n",
    "        raise ValueError('Invalid dataset, {}, entered. Must be '\n",
    "                         'in {}'.format(dataset_name, DATASET_FN_DICT.keys()))"
   ]
  },
  {
   "cell_type": "code",
   "execution_count": 5,
   "id": "51d85b03",
   "metadata": {},
   "outputs": [
    {
     "data": {
      "text/plain": [
       "torchvision.datasets.mnist.MNIST"
      ]
     },
     "execution_count": 5,
     "metadata": {},
     "output_type": "execute_result"
    }
   ],
   "source": [
    "get_dataset('mnist')"
   ]
  },
  {
   "cell_type": "markdown",
   "id": "c3a2c90b",
   "metadata": {},
   "source": [
    "### 传入 数据名称、数据存储路径、dataloader的批次大小、是否为训练集\n"
   ]
  },
  {
   "cell_type": "code",
   "execution_count": 6,
   "id": "4ffc09bd",
   "metadata": {},
   "outputs": [],
   "source": [
    "def get_dataloader(dataset_name='mnist', data_dir='./datasets/mnist', batch_size=64, train_set=True, num_workers=1):\n",
    "    dset = get_dataset(dataset_name)\n",
    "\n",
    "    dataloader = torch.utils.data.DataLoader(\n",
    "        dset(data_dir, train=train_set, download=False, transform=transforms.Compose(\n",
    "            [\n",
    "                transforms.ToTensor(),\n",
    "            ]\n",
    "        )\n",
    "             ),\n",
    "        num_workers=num_workers,\n",
    "        batch_size=batch_size,\n",
    "        shuffle=True\n",
    "    )\n",
    "    return dataloader"
   ]
  },
  {
   "cell_type": "code",
   "execution_count": 7,
   "id": "03b1a23e",
   "metadata": {},
   "outputs": [],
   "source": [
    "mnist = get_dataloader(dataset_name='mnist', data_dir='./datasets/mnist', batch_size=64, train_set=True, num_workers=1)"
   ]
  },
  {
   "cell_type": "markdown",
   "id": "bc2cf67f",
   "metadata": {},
   "source": [
    "### 构造多视图数据：GLCM数据"
   ]
  },
  {
   "cell_type": "code",
   "execution_count": 8,
   "id": "e9462442",
   "metadata": {},
   "outputs": [],
   "source": [
    "def fast_glcm(img, vmin=0, vmax=255, nbit=8, kernel_size=5):\n",
    "    \"\"\"\n",
    "    img: 传入的图像\n",
    "    vmin: 灰度的最小值\n",
    "    vmax: 灰度的最大值\n",
    "    nbit： 间隔\n",
    "    kernel_size: 卷积核的大小\n",
    "    \"\"\"\n",
    "    mi, ma = vmin, vmax\n",
    "    ks = kernel_size\n",
    "    h,w = img.shape\n",
    "\n",
    "    # digitize\n",
    "    bins = np.linspace(mi, ma+1, nbit+1)\n",
    "    gl1 = np.digitize(img, bins) - 1\n",
    "    gl2 = np.append(gl1[:,1:], gl1[:,-1:], axis=1)\n",
    "\n",
    "    # make glcm\n",
    "    glcm = np.zeros((nbit, nbit, h, w), dtype=np.uint8)\n",
    "    for i in range(nbit):\n",
    "        for j in range(nbit):\n",
    "            mask = ((gl1==i) & (gl2==j))\n",
    "            glcm[i,j, mask] = 1\n",
    "\n",
    "    kernel = np.ones((ks, ks), dtype=np.uint8)\n",
    "    for i in range(nbit):\n",
    "        for j in range(nbit):\n",
    "            glcm[i,j] = cv2.filter2D(glcm[i,j], -1, kernel)\n",
    "\n",
    "    glcm = glcm.astype(np.float32)\n",
    "    return glcm\n",
    "\n",
    "def fast_glcm_mean(img, vmin=0, vmax=255, nbit=8, ks=5):\n",
    "    '''\n",
    "    calc glcm mean\n",
    "    '''\n",
    "    h,w = img.shape\n",
    "    glcm = fast_glcm(img, vmin, vmax, nbit, ks)\n",
    "    mean = np.zeros((h,w), dtype=np.float32)\n",
    "    for i in range(nbit):\n",
    "        for j in range(nbit):\n",
    "            mean += glcm[i,j] * i / (nbit)**2\n",
    "    return mean\n",
    "\n",
    "def fast_glcm_std(img, vmin=0, vmax=255, nbit=8, ks=5):\n",
    "    '''\n",
    "    calc glcm std\n",
    "    '''\n",
    "    h,w = img.shape\n",
    "    glcm = fast_glcm(img, vmin, vmax, nbit, ks)\n",
    "    mean = np.zeros((h,w), dtype=np.float32)\n",
    "    for i in range(nbit):\n",
    "        for j in range(nbit):\n",
    "            mean += glcm[i,j] * i / (nbit)**2\n",
    "\n",
    "    std2 = np.zeros((h,w), dtype=np.float32)\n",
    "    for i in range(nbit):\n",
    "        for j in range(nbit):\n",
    "            std2 += (glcm[i,j] * i - mean)**2\n",
    "\n",
    "    std = np.sqrt(std2)\n",
    "    return std\n",
    "\n",
    "def fast_glcm_contrast(img, vmin=0, vmax=255, nbit=8, ks=5):\n",
    "    '''\n",
    "    计算对比度\n",
    "    '''\n",
    "    h,w = img.shape\n",
    "    glcm = fast_glcm(img, vmin, vmax, nbit, ks)\n",
    "    cont = np.zeros((h,w), dtype=np.float32)\n",
    "    for i in range(nbit):\n",
    "        for j in range(nbit):\n",
    "            cont += glcm[i,j] * (i-j)**2\n",
    "    return cont\n",
    "\n",
    "def fast_glcm_dissimilarity(img, vmin=0, vmax=255, nbit=8, ks=5):\n",
    "    '''\n",
    "    计算不相似度\n",
    "    '''\n",
    "    h,w = img.shape\n",
    "    glcm = fast_glcm(img, vmin, vmax, nbit, ks)\n",
    "    diss = np.zeros((h,w), dtype=np.float32)\n",
    "    for i in range(nbit):\n",
    "        for j in range(nbit):\n",
    "            diss += glcm[i,j] * np.abs(i-j)\n",
    "    return diss\n",
    "\n",
    "def fast_glcm_homogeneity(img, vmin=0, vmax=255, nbit=8, ks=5):\n",
    "    '''\n",
    "    计算均匀性\n",
    "    '''\n",
    "    h,w = img.shape\n",
    "    glcm = fast_glcm(img, vmin, vmax, nbit, ks)\n",
    "    homo = np.zeros((h,w), dtype=np.float32)\n",
    "    for i in range(nbit):\n",
    "        for j in range(nbit):\n",
    "            homo += glcm[i,j] / (1.+(i-j)**2)\n",
    "    return homo\n",
    "\n",
    "def fast_glcm_ASM(img, vmin=0, vmax=255, nbit=8, ks=5):\n",
    "    '''\n",
    "    ASM（Angular Second Moment）和能量（Energy）\n",
    "    '''\n",
    "    h,w = img.shape\n",
    "    glcm = fast_glcm(img, vmin, vmax, nbit, ks)\n",
    "    asm = np.zeros((h,w), dtype=np.float32)\n",
    "    for i in range(nbit):\n",
    "        for j in range(nbit):\n",
    "            asm  += glcm[i,j]**2\n",
    "\n",
    "    ene = np.sqrt(asm)\n",
    "    return asm, ene\n",
    "\n",
    "def fast_glcm_max(img, vmin=0, vmax=255, nbit=8, ks=5):\n",
    "    '''\n",
    "    计算GLCM的最大值（Maximum）\n",
    "    '''\n",
    "    glcm = fast_glcm(img, vmin, vmax, nbit, ks)\n",
    "    max_  = np.max(glcm, axis=(0,1))\n",
    "    return max_\n",
    "\n",
    "def fast_glcm_entropy(img, vmin=0, vmax=255, nbit=8, ks=5):\n",
    "    '''\n",
    "    计算GLCM的熵（Entropy）\n",
    "    '''\n",
    "    glcm = fast_glcm(img, vmin, vmax, nbit, ks)\n",
    "    pnorm = glcm / np.sum(glcm, axis=(0,1)) + 1./ks**2\n",
    "    ent  = np.sum(-pnorm * np.log(pnorm), axis=(0,1))\n",
    "    return ent\n",
    "\n",
    "def mnist_on_glcm():\n",
    "    nbit = 8\n",
    "    ks = 5\n",
    "    mi, ma = 0, 255\n",
    "\n",
    "    ori_f = './datasets/mnist/MNIST/processed/training.pt' #该数据集使用torchvision下载\n",
    "    imgs, labels = torch.load(ori_f)\n",
    "\n",
    "    glcm_mnist = []\n",
    "    for img in imgs:\n",
    "        img = fast_glcm_mean(img, vmin=mi, vmax=ma, nbit=nbit, ks=ks)\n",
    "        glcm_mnist.append(img)\n",
    "    glcm_mnist = torch.tensor(glcm_mnist)\n",
    "\n",
    "    file = (glcm_mnist, labels)\n",
    "    tar_f = './datasets/mnist/MNIST/processed/mnist_glcm.pt'\n",
    "    with open(tar_f, 'wb') as f:\n",
    "        torch.save(file, f)\n",
    "    print('shape ', glcm_mnist.shape)\n",
    "    print('glcm on mnist generate success.')"
   ]
  },
  {
   "cell_type": "markdown",
   "id": "91949b7f",
   "metadata": {},
   "source": [
    "### 导入数据集 查看"
   ]
  },
  {
   "cell_type": "code",
   "execution_count": 9,
   "id": "a9273316",
   "metadata": {},
   "outputs": [
    {
     "data": {
      "text/plain": [
       "torch.Size([60000, 28, 28])"
      ]
     },
     "execution_count": 9,
     "metadata": {},
     "output_type": "execute_result"
    }
   ],
   "source": [
    "torch.load('./datasets/mnist/MNIST/processed/mnist_glcm.pt')[0].shape"
   ]
  },
  {
   "cell_type": "markdown",
   "id": "4ffe5f3b",
   "metadata": {},
   "source": [
    "### 由原始数据生成GLCM数据\n",
    "保存地址为 './datasets/mnist/MNIST/processed/mnist_glcm.pt'"
   ]
  },
  {
   "cell_type": "code",
   "execution_count": 10,
   "id": "1426937d",
   "metadata": {},
   "outputs": [
    {
     "name": "stdout",
     "output_type": "stream",
     "text": [
      "shape  torch.Size([60000, 28, 28])\n",
      "glcm on mnist generate success.\n",
      "cost 60.27004909515381s\n"
     ]
    }
   ],
   "source": [
    "t1 = time.time()\n",
    "mnist_on_glcm()\n",
    "t2 = time.time()\n",
    "print('cost {}s'.format(t2 - t1))"
   ]
  },
  {
   "cell_type": "code",
   "execution_count": 11,
   "id": "e3880052",
   "metadata": {},
   "outputs": [
    {
     "data": {
      "text/plain": [
       "torch.Size([28, 28])"
      ]
     },
     "execution_count": 11,
     "metadata": {},
     "output_type": "execute_result"
    }
   ],
   "source": [
    "data_glcm = torch.load('./datasets/mnist/MNIST/processed/mnist_glcm.pt')\n",
    "data_glcm[0][0].shape"
   ]
  },
  {
   "cell_type": "code",
   "execution_count": 12,
   "id": "3d91688f",
   "metadata": {},
   "outputs": [
    {
     "data": {
      "text/plain": [
       "torch.Size([28, 28])"
      ]
     },
     "execution_count": 12,
     "metadata": {},
     "output_type": "execute_result"
    }
   ],
   "source": [
    "data_ori = torch.load('./datasets/mnist/MNIST/processed/training.pt')\n",
    "data_ori[0][0].shape"
   ]
  },
  {
   "cell_type": "code",
   "execution_count": 13,
   "id": "0cd86002",
   "metadata": {},
   "outputs": [
    {
     "data": {
      "image/png": "[encoded data removed]",
      "text/plain": [
       "<Figure size 640x480 with 2 Axes>"
      ]
     },
     "metadata": {},
     "output_type": "display_data"
    }
   ],
   "source": [
    "import matplotlib.pyplot as plt\n",
    "\n",
    "\n",
    "# 创建一个包含两个子图的画布\n",
    "fig, axes = plt.subplots(1, 2)\n",
    "\n",
    "# 绘制第一个子图\n",
    "axes[0].imshow(data_ori[0][0].squeeze())\n",
    "\n",
    "# 绘制第二个子图\n",
    "axes[1].imshow(data_glcm[0][0].squeeze())\n",
    "\n",
    "# 显示图形\n",
    "plt.show()"
   ]
  },
  {
   "cell_type": "markdown",
   "id": "2786dd65",
   "metadata": {},
   "source": [
    "## 构造多视图数据：LBP数据"
   ]
  },
  {
   "cell_type": "code",
   "execution_count": 9,
   "id": "1eaf9408",
   "metadata": {},
   "outputs": [],
   "source": [
    "class LBP:\n",
    "    def __init__(self):\n",
    "        #revolve_map为旋转不变模式的36种特征值从小到大进行序列化编号得到的字典\n",
    "        self.revolve_map={0:0, 1:1, 3:2, 5:3, 7:4, 9:5, 11:6, 13:7, 15:8, 17:9, 19:10,\n",
    "                          21:11, 23:12, 25:13, 27:14, 29:15, 31:16, 37:17, 39:18, 43:19, 45:20,\n",
    "                          47:21, 51:22, 53:23, 55:24, 59:25, 61:26, 63:27, 85:28, 87:29, 91:30,\n",
    "                          95:31, 111:32, 119:33, 127:34, 255:35}\n",
    "        \n",
    "        #uniform_map为等价模式的58种特征值从小到大进行序列化编号得到的字典\n",
    "        self.uniform_map={0:0, 1:1, 2:2, 3:3, 4:4, 6:5, 7:6, 8:7, 12:8, 14:9, 15:10,\n",
    "                          16:11, 24:12, 28:13, 30:14, 31:15, 32:16, 48:17, 56:18, 60:19, 62:20,\n",
    "                          63:21, 64:22, 96:23, 112:24, 120:25, 124:26, 126:27, 127:28, 128:29, 129:30,\n",
    "                          131:31, 135:32, 143:33, 159:34, 191:35, 192:36, 193:37, 195:38, 199:39, 207:40,\n",
    "                          223:41,224:42,225:43,227:44,231:45,239:46,240:47,241:48,\n",
    "                          243:49, 247:50, 248:51, 249:52, 251:53, 252:54, 253:55, 254:56, 255:57}\n",
    "\n",
    "    # 将图像载入，并转化为灰度图，获取图像灰度图的像素信息   \n",
    "    def describe(self,image):\n",
    "        image_array = np.array(Image.open(image).convert('L'))\n",
    "        return image_array\n",
    "    \n",
    "    # 图像的LBP原始特征计算算法：将图像指定位置的像素与周围8个像素比较\n",
    "    # 比中心像素大的点赋值为1，比中心像素小的赋值为0，返回得到的二进制序列\n",
    "    def calute_basic_lbp(self, image_array, i, j):\n",
    "        sum=[]\n",
    "        if image_array[i-1, j-1] > image_array[i, j]:\n",
    "            sum.append(1)\n",
    "        else:\n",
    "            sum.append(0)\n",
    "            \n",
    "        if image_array[i-1, j] > image_array[i, j]:\n",
    "            sum.append(1)\n",
    "        else:\n",
    "            sum.append(0)\n",
    "        \n",
    "        if image_array[i-1, j+1] > image_array[i, j]:\n",
    "            sum.append(1)\n",
    "        else:\n",
    "            sum.append(0)\n",
    "        \n",
    "        if image_array[i, j-1] > image_array[i, j]:\n",
    "            sum.append(1)\n",
    "        else:\n",
    "            sum.append(0)\n",
    "        \n",
    "        if image_array[i, j+1] > image_array[i, j]:\n",
    "            sum.append(1)\n",
    "        else:\n",
    "            sum.append(0)\n",
    "        \n",
    "        if image_array[i+1, j-1] > image_array[i, j]:\n",
    "            sum.append(1)\n",
    "        else:\n",
    "            sum.append(0)\n",
    "        \n",
    "        if image_array[i+1, j] > image_array[i, j]:\n",
    "            sum.append(1)\n",
    "        else:\n",
    "            sum.append(0)\n",
    "        \n",
    "        if image_array[i+1, j+1] > image_array[i, j]:\n",
    "            sum.append(1)\n",
    "        else:\n",
    "            sum.append(0)\n",
    "        return sum\n",
    "    \n",
    "    #获取二进制序列进行不断环形旋转得到新的二进制序列的最小十进制值\n",
    "    def get_min_for_revolve(self,arr): \n",
    "        values=[]\n",
    "        circle=arr\n",
    "        circle.extend(arr)\n",
    "        for i in range(0,8):\n",
    "            j = 0\n",
    "            sum = 0\n",
    "            bit_num = 0\n",
    "            while j < 8:\n",
    "                sum += circle[i+j]<<bit_num\n",
    "                bit_num += 1\n",
    "                j += 1\n",
    "            values.append(sum)\n",
    "        return min(values)\n",
    "\n",
    "    # 获取值r的二进制中1的位数\n",
    "    def calc_sum(self,r):\n",
    "        num = 0\n",
    "        while(r):\n",
    "            r &= (r-1)\n",
    "            num += 1\n",
    "        return num\n",
    "\n",
    "    # 获取图像的LBP原始模式特征\n",
    "    def lbp_basic(self,image_array):\n",
    "        basic_array = np.zeros(image_array.shape, np.uint8)\n",
    "        width = image_array.shape[0]\n",
    "        height = image_array.shape[1]\n",
    "        for i in range(1, width-1):\n",
    "            for j in range(1, height-1):\n",
    "                sum = self.calute_basic_lbp(image_array, i, j)\n",
    "                bit_num=0\n",
    "                result=0\n",
    "                for s in sum:\n",
    "                    result += s<<bit_num\n",
    "                    bit_num += 1\n",
    "                basic_array[i, j] = result\n",
    "        return basic_array\n",
    "\n",
    "    # 获取图像的LBP旋转不变模式特征\n",
    "    def lbp_revolve(self, image_array):\n",
    "        revolve_array = np.zeros(image_array.shape, np.uint8)\n",
    "        width = image_array.shape[0]\n",
    "        height = image_array.shape[1]\n",
    "        for i in range(1, width-1):\n",
    "            for j in range(1, height-1):\n",
    "                sum = self.calute_basic_lbp(image_array, i, j)\n",
    "                revolve_key = self.get_min_for_revolve(sum)\n",
    "                revolve_array[i, j] = self.revolve_map[revolve_key]\n",
    "        return revolve_array\n",
    "\n",
    "    # 获取图像的LBP等价模式特征\n",
    "    def lbp_uniform(self,image_array):\n",
    "        uniform_array=np.zeros(image_array.shape, np.uint8)\n",
    "        basic_array=self.lbp_basic(image_array)\n",
    "        width=image_array.shape[0]\n",
    "        height=image_array.shape[1]\n",
    "\n",
    "        for i in range(1,width-1):\n",
    "            for j in range(1,height-1):\n",
    "                 k= basic_array[i,j]<<1\n",
    "                 if k>255:\n",
    "                     k=k-255\n",
    "                 xor=basic_array[i, j]^k\n",
    "                 num=self.calc_sum(xor)\n",
    "                 if num<=2:\n",
    "                     uniform_array[i, j]=self.uniform_map[basic_array[i, j]]\n",
    "                 else:\n",
    "                     uniform_array[i, j]=58\n",
    "        return uniform_array\n",
    "    \n",
    "    #获取图像的LBP旋转不变等价模式特征\n",
    "    def lbp_revolve_uniform(self, image_array):\n",
    "        uniform_revolve_array = np.zeros(image_array.shape, np.uint8)\n",
    "        basic_array=self.lbp_basic(image_array)\n",
    "        width = image_array.shape[0]\n",
    "        height = image_array.shape[1]\n",
    "        for i in range(1, width-1):\n",
    "            for j in range(1, height-1):\n",
    "                 k = basic_array[i,j]<<1\n",
    "                 if k > 255:\n",
    "                     k = k-255\n",
    "                 xor = basic_array[i,j]^k\n",
    "                 num = self.calc_sum(xor)\n",
    "                 if num <= 2:\n",
    "                     uniform_revolve_array[i, j] = self.calc_sum(basic_array[i, j])\n",
    "                 else:\n",
    "                     uniform_revolve_array[i, j] = 9\n",
    "        return uniform_revolve_array\n",
    "\n",
    "    # 绘制指定维数和范围的图像灰度归一化统计直方图\n",
    "    def show_hist(self, img_array, im_bins, im_range):\n",
    "        hist = cv2.calcHist([img_array], [0], None, im_bins, im_range)\n",
    "        hist = cv2.normalize(hist, None).flatten()\n",
    "        plt.plot(hist, color = 'r')\n",
    "        plt.xlim(im_range)\n",
    "        plt.show()\n",
    "        \n",
    "    # 绘制图像原始LBP特征的归一化统计直方图  \n",
    "    def show_basic_hist(self,img_array):\n",
    "        self.show_hist(img_array, [256], [0,256])\n",
    "        \n",
    "    # 绘制图像旋转不变LBP特征的归一化统计直方图     \n",
    "    def show_revolve_hist(self, img_array):\n",
    "        self.show_hist(img_array, [36], [0,36])\n",
    "\n",
    "    # 绘制图像等价模式LBP特征的归一化统计直方图     \n",
    "    def show_uniform_hist(self,img_array):\n",
    "        self.show_hist(img_array, [60], [0,60])\n",
    "        \n",
    "    # 绘制图像旋转不变等价模式LBP特征的归一化统计直方图     \n",
    "    def show_revolve_uniform_hist(self, img_array):\n",
    "        self.show_hist(img_array, [10], [0,10])\n",
    "\n",
    "    #显示图像\n",
    "    def show_image(self, image_array):\n",
    "        plt.imshow(image_array)\n",
    "        plt.show()"
   ]
  },
  {
   "cell_type": "code",
   "execution_count": 10,
   "id": "d60727aa",
   "metadata": {},
   "outputs": [],
   "source": [
    "def lbp_on_mnist():\n",
    "    # Load\n",
    "    ori_f = './datasets/mnist/MNIST/processed/training.pt'\n",
    "    imgs, labels = torch.load(ori_f)\n",
    "\n",
    "    # feat\n",
    "    lbp = LBP()\n",
    "    lbp_imgs = []\n",
    "    for img in imgs:\n",
    "        lbp_img = lbp.lbp_revolve_uniform(img.numpy())\n",
    "        lbp_imgs.append(lbp_img)\n",
    "    lbp_imgs = torch.tensor(lbp_imgs)\n",
    "\n",
    "    # save\n",
    "    file = (lbp_imgs, labels)\n",
    "    tar_f = './datasets/mnist/MNIST/processed/mnist_lbp.pt'\n",
    "    with open(tar_f, 'wb') as f:\n",
    "        torch.save(file, f)\n",
    "    print('shape ', lbp_imgs.shape)\n",
    "    print('lbp on mnist generate success.')"
   ]
  },
  {
   "cell_type": "code",
   "execution_count": 16,
   "id": "6dea21f4",
   "metadata": {},
   "outputs": [
    {
     "name": "stdout",
     "output_type": "stream",
     "text": [
      "shape  torch.Size([60000, 28, 28])\n",
      "lbp on mnist generate success.\n",
      "cost 265.06121945381165s\n"
     ]
    }
   ],
   "source": [
    "t1 = time.time()\n",
    "lbp_on_mnist()\n",
    "t2 = time.time()\n",
    "print('cost {}s'.format(t2 - t1))"
   ]
  },
  {
   "cell_type": "code",
   "execution_count": 17,
   "id": "fd47c50a",
   "metadata": {},
   "outputs": [
    {
     "data": {
      "text/plain": [
       "torch.Size([28, 28])"
      ]
     },
     "execution_count": 17,
     "metadata": {},
     "output_type": "execute_result"
    }
   ],
   "source": [
    "data_lbp = torch.load('./datasets/mnist/MNIST/processed/mnist_lbp.pt')\n",
    "data_lbp[0][0].shape"
   ]
  },
  {
   "cell_type": "code",
   "execution_count": 18,
   "id": "de0bce3f",
   "metadata": {},
   "outputs": [
    {
     "data": {
      "image/png": "[encoded data removed]",
      "text/plain": [
       "<Figure size 640x480 with 3 Axes>"
      ]
     },
     "metadata": {},
     "output_type": "display_data"
    }
   ],
   "source": [
    "import matplotlib.pyplot as plt\n",
    "\n",
    "\n",
    "# 创建一个包含两个子图的画布\n",
    "fig, axes = plt.subplots(1, 3)\n",
    "\n",
    "# 绘制第一个子图\n",
    "axes[0].imshow(data_ori[0][0].squeeze())\n",
    "\n",
    "# 绘制第二个子图\n",
    "axes[1].imshow(data_glcm[0][0].squeeze())\n",
    "\n",
    "# 绘制第三个子图\n",
    "axes[2].imshow(data_lbp[0][0].squeeze())\n",
    "\n",
    "# 显示图形\n",
    "plt.show()"
   ]
  },
  {
   "cell_type": "markdown",
   "id": "2cbaf81d",
   "metadata": {},
   "source": [
    "### 将上述提取的特征进行重构"
   ]
  },
  {
   "cell_type": "code",
   "execution_count": 11,
   "id": "86122885",
   "metadata": {},
   "outputs": [],
   "source": [
    "# MNIST数据集迭代器\n",
    "class MNISTDataset(Dataset):\n",
    "    # 视图地址 ./datasets/mnist/MNIST/processed\n",
    "    feat1v_f = './datasets/mnist/MNIST/processed/mnist_{}.pt'\n",
    "    feat2v_f = './datasets/mnist/MNIST/processed/mnist_{}_{}.pt'\n",
    "    feat3v_f = './datasets/mnist/MNIST/processed/mnist_{}_{}_{}.pt'\n",
    "    \n",
    "    # 异常数据视图地址\n",
    "    anom_feat2v_f = './datasets/mnist/MNIST/processed/mnist_{}_{}_anom{}.pt'\n",
    "    anom_feat3v_f = './datasets/mnist/MNIST/processed/mnist_{}_{}_{}_anom{}.pt'\n",
    "    # 标签\n",
    "    feat_list = {'ori', 'lbp', 'glcm'}\n",
    "    anom_list = {'015', '005', '001', '005_0', '005_20', '005_40', '005_60', '005_80', '005_100'}\n",
    "\n",
    "    def __init__(self, rt=True, anom='', feat1='ori', feat2='lbp', feat3=''):\n",
    "        if rt:\n",
    "            pass\n",
    "        if feat3 == '':\n",
    "            self.view = 2\n",
    "            if anom and anom in self.anom_list:\n",
    "                self.data1, self.data2, self.labels = torch.load(self.anom_feat2v_f.format(feat1, feat2, anom))\n",
    "            else:\n",
    "                self.data1, self.data2, self.labels = torch.load(self.feat2v_f.format(feat1, feat2))\n",
    "        else:\n",
    "            self.view = 3\n",
    "            if anom and anom in self.anom_list:\n",
    "                self.data1, self.data2, self.data3, self.labels = torch.load(\n",
    "                    self.anom_feat3v_f.format(feat1, feat2, feat3, anom))\n",
    "            else:\n",
    "                self.data1, self.data2, self.data3, self.labels = torch.load(self.feat3v_f.format(feat1, feat2, feat3))\n",
    "\n",
    "    def __getitem__(self, index):\n",
    "        if self.view == 2:\n",
    "            data1, data2, label = self.data1[index], self.data2[index], self.labels[index]\n",
    "            return data1, data2, label\n",
    "        else:\n",
    "            data1, data2, data3, label = self.data1[index], self.data2[index], self.data3[index], self.labels[index]\n",
    "            return data1, data2, data3, label\n",
    "\n",
    "    def __len__(self):\n",
    "        return len(self.labels)\n",
    "\n",
    "    def gen(self, feat1='lbp', feat2='glcm', feat3=''):\n",
    "        \"\"\"\n",
    "        根据需要选择生成2view合集 lbp_glcm\n",
    "        \"\"\"\n",
    "        if feat3 == '':\n",
    "            data1, _ = torch.load(self.feat1v_f.format(feat1))\n",
    "            data2, _ = torch.load(self.feat1v_f.format(feat2))\n",
    "            scaler = MinMaxScaler()\n",
    "            trans = transforms.Compose([\n",
    "                transforms.ToTensor()\n",
    "            ])\n",
    "            res_data1 = torch.empty(data1.shape)\n",
    "            res_data2 = torch.empty(data2.shape)\n",
    "            for i in range(len(data1)):\n",
    "                res_data1[i] = trans(scaler.fit_transform(data1[i]))\n",
    "                res_data2[i] = trans(scaler.fit_transform(data2[i]))\n",
    "            res_data1.unsqueeze_(dim=1)\n",
    "            res_data2.unsqueeze_(dim=1)\n",
    "            file = (res_data1, res_data2, _)\n",
    "            with open(self.feat2v_f.format(feat1, feat2), 'wb') as f:\n",
    "                torch.save(file, f)\n",
    "            print('gen {} success.'.format(self.feat2v_f.format(feat1, feat2)))\n",
    "        else:\n",
    "            data1, _ = torch.load(self.feat1v_f.format(feat1))\n",
    "            data2, _ = torch.load(self.feat1v_f.format(feat2))\n",
    "            data3, _ = torch.load(self.feat1v_f.format(feat3))\n",
    "            scaler = MinMaxScaler()\n",
    "            trans = transforms.Compose([\n",
    "                transforms.ToTensor()\n",
    "            ])\n",
    "            res_data1 = torch.empty(data1.shape)\n",
    "            res_data2 = torch.empty(data2.shape)\n",
    "            res_data3 = torch.empty(data3.shape)\n",
    "            for i in range(len(data1)):\n",
    "                res_data1[i] = trans(scaler.fit_transform(data1[i]))\n",
    "                res_data2[i] = trans(scaler.fit_transform(data2[i]))\n",
    "                res_data3[i] = trans(scaler.fit_transform(data3[i]))\n",
    "            res_data1.unsqueeze_(dim=1)\n",
    "            res_data2.unsqueeze_(dim=1)\n",
    "            res_data3.unsqueeze_(dim=1)\n",
    "            file = (res_data1, res_data2, res_data3, _)\n",
    "            with open(self.feat3v_f.format(feat1, feat2, feat3), 'wb') as f:\n",
    "                torch.save(file, f)\n",
    "            print('gen {} success.'.format(self.feat3v_f.format(feat1, feat2, feat3)))\n",
    "\n",
    "    def gen_cls_attr_ca_anom(self, anom='', feat1='lbp', feat2='glcm', feat3=''):\n",
    "        \"\"\"\n",
    "        类异常 + 属性异常 + 类属性\n",
    "        \"\"\"\n",
    "        feature_num = 60\n",
    "        if feat3 == '':\n",
    "            data1, data2, labels = torch.load(self.feat2v_f.format(feat1, feat2))\n",
    "        else:\n",
    "            data1, data2, data3, labels = torch.load(self.feat3v_f.format(feat1, feat2, feat3))\n",
    "        if anom in self.anom_list:\n",
    "            if '015' == anom:\n",
    "                anom_num = feature_num * 0.15\n",
    "            elif '005' == anom:\n",
    "                anom_num = feature_num * 0.05\n",
    "            elif '001' == anom:\n",
    "                anom_num = feature_num * 0.01\n",
    "            else:\n",
    "                raise ValueError('ratio not exist.')\n",
    "            anom_index = random.sample(range(feature_num), int(anom_num))  # 015 - 9000/3, 005 - 3000/3, 001 - 600/3\n",
    "            cls_anom, attr_anom, ca_anom = np.array_split(np.array(anom_index), 3)\n",
    "            print('anom index ', anom_index)\n",
    "            print('anom num ', len(anom_index))\n",
    "        else:\n",
    "            raise ValueError('anom not exist.')\n",
    "        torch.zero_(labels).type(dtype=torch.int)\n",
    "        for i in cls_anom:\n",
    "            temp = torch.clone(data1[i])\n",
    "            data1[i] = data1[i + feature_num]\n",
    "            data1[i + feature_num] = data1[i + feature_num * 2]\n",
    "            data1[i + feature_num * 2] = temp\n",
    "            labels[i], labels[i + feature_num], labels[i + feature_num * 2] = 1, 1, 1\n",
    "        for i in attr_anom:\n",
    "            data1[i] = torch.randn(data1[i].shape)\n",
    "            data1[i + feature_num] = torch.randn(data1[i].shape)\n",
    "            data1[i + feature_num * 2] = torch.randn(data1[i].shape)\n",
    "            labels[i], labels[i + feature_num], labels[i + feature_num * 2] = 1, 1, 1\n",
    "        for i in ca_anom:\n",
    "            temp = torch.clone(data1[i])\n",
    "            data1[i] = data1[i + feature_num]\n",
    "            data1[i + feature_num] = data1[i + feature_num * 2]\n",
    "            data1[i + feature_num * 2] = temp\n",
    "            data2[i] = torch.randn(data2[i].shape)\n",
    "            data2[i + feature_num] = torch.randn(data2[i].shape)\n",
    "            data2[i + feature_num * 2] = torch.randn(data2[i].shape)\n",
    "            labels[i], labels[i + feature_num], labels[i + feature_num * 2] = 1, 1, 1\n",
    "\n",
    "        if feat3 == '':\n",
    "            file = (data1, data2, labels)\n",
    "            with open(self.anom_feat2v_f.format(feat1, feat2, anom), 'wb') as f:\n",
    "                torch.save(file, f)\n",
    "                print('anom generate success in {}'.format(self.anom_feat2v_f.format(feat1, feat2, anom)))\n",
    "        else:\n",
    "            file = (data1, data2, data3, labels)\n",
    "            with open(self.anom_feat3v_f.format(feat1, feat2, feat3, anom), 'wb') as f:\n",
    "                torch.save(file, f)\n",
    "                print('anom generate success in {}'.format(self.anom_feat3v_f.format(feat1, feat2, feat3, anom)))\n",
    "\n",
    "    def gen_cls_attr(self, anom='', feat1='lbp', feat2='glcm', feat3=''):\n",
    "        \"\"\"\n",
    "        类异常 + 属性异常（按不同比例）\n",
    "        \"\"\"\n",
    "        feature_num = 20000  # 200 -> 60; 60000 -> 20000\n",
    "        if feat3 == '':\n",
    "            data1, data2, labels = torch.load(self.feat2v_f.format(feat1, feat2))\n",
    "        else:\n",
    "            data1, data2, data3, labels = torch.load(self.feat3v_f.format(feat1, feat2, feat3))\n",
    "        if anom in self.anom_list:\n",
    "            if '005' in anom:\n",
    "                anom_num = feature_num * 0.05\n",
    "                if '_0' in anom:\n",
    "                    cls_num = anom_num * 0\n",
    "                    attr_num = anom_num - cls_num\n",
    "                elif '_20' in anom:\n",
    "                    cls_num = anom_num * 0.2\n",
    "                    attr_num = anom_num - cls_num\n",
    "                elif '_40' in anom:\n",
    "                    cls_num = anom_num * 0.4\n",
    "                    attr_num = anom_num - cls_num\n",
    "                elif '_60' in anom:\n",
    "                    cls_num = anom_num * 0.6\n",
    "                    attr_num = anom_num - cls_num\n",
    "                elif '_80' in anom:\n",
    "                    cls_num = anom_num * 0.8\n",
    "                    attr_num = anom_num - cls_num\n",
    "                elif '_100' in anom:\n",
    "                    cls_num = anom_num * 1\n",
    "                    attr_num = anom_num - cls_num\n",
    "                else:\n",
    "                    raise ValueError('ratio not exist.')\n",
    "            else:\n",
    "                raise ValueError('ratio not exist.')\n",
    "            anom_index = random.sample(range(feature_num), int(anom_num))  # 015 - 9000/3, 005 - 3000/3, 001 - 600/3\n",
    "            cls_anom = anom_index[:int(cls_num)]\n",
    "            attr_anom = anom_index[int(cls_num):]\n",
    "            print('anom index ', anom_index)\n",
    "            print('cls anom ', cls_anom)\n",
    "            print('cls num ', cls_num)\n",
    "            print('cls len ', len(cls_anom))\n",
    "            print('attr anom ', attr_anom)\n",
    "            print('attr num ', attr_num)\n",
    "            print('attr len ', len(attr_anom))\n",
    "            print('anom num ', len(anom_index))\n",
    "        else:\n",
    "            raise ValueError('anom not exist.')\n",
    "        torch.zero_(labels).type(dtype=torch.int)\n",
    "        for i in cls_anom:\n",
    "            # 通过交换数据和修改标签来实现类异常\n",
    "            temp = torch.clone(data1[i])\n",
    "            data1[i] = data1[i + feature_num]\n",
    "            data1[i + feature_num] = data1[i + feature_num * 2]\n",
    "            data1[i + feature_num * 2] = temp\n",
    "            labels[i], labels[i + feature_num], labels[i + feature_num * 2] = 1, 1, 1\n",
    "        for i in attr_anom:\n",
    "            # 使用高斯噪声生成\n",
    "            data1[i] = torch.randn(data1[i].shape)\n",
    "            data1[i + feature_num] = torch.randn(data1[i].shape)\n",
    "            data1[i + feature_num * 2] = torch.randn(data1[i].shape)\n",
    "            labels[i], labels[i + feature_num], labels[i + feature_num * 2] = 1, 1, 1\n",
    "\n",
    "        if feat3 == '':\n",
    "            file = (data1, data2, labels)\n",
    "            with open(self.anom_feat2v_f.format(feat1, feat2, anom), 'wb') as f:\n",
    "                torch.save(file, f, _use_new_zipfile_serialization=False)\n",
    "                print('anom generate success in {}'.format(self.anom_feat2v_f.format(feat1, feat2, anom)))\n",
    "        else:\n",
    "            file = (data1, data2, data3, labels)\n",
    "            with open(self.anom_feat3v_f.format(feat1, feat2, feat3, anom), 'wb') as f:\n",
    "                torch.save(file, f, _use_new_zipfile_serialization=False)\n",
    "                print('anom generate success in {}'.format(self.anom_feat3v_f.format(feat1, feat2, feat3, anom)))"
   ]
  },
  {
   "cell_type": "code",
   "execution_count": 12,
   "id": "5718d309",
   "metadata": {},
   "outputs": [],
   "source": [
    "ds = MNISTDataset()"
   ]
  },
  {
   "cell_type": "markdown",
   "id": "0bf4d640",
   "metadata": {},
   "source": [
    "### 生成 ori_lbp联合数据"
   ]
  },
  {
   "cell_type": "code",
   "execution_count": 21,
   "id": "9be9df6f",
   "metadata": {},
   "outputs": [
    {
     "name": "stdout",
     "output_type": "stream",
     "text": [
      "gen ./datasets/mnist/MNIST/processed/mnist_ori_lbp.pt success.\n",
      "cost 18.675711631774902s\n"
     ]
    }
   ],
   "source": [
    "t1 = time.time()\n",
    "ds.gen('ori','lbp')\n",
    "t2 = time.time()\n",
    "print('cost {}s'.format(t2 - t1))"
   ]
  },
  {
   "cell_type": "markdown",
   "id": "8691c1a0",
   "metadata": {},
   "source": [
    "### 生成 ori_glcm联合数据"
   ]
  },
  {
   "cell_type": "code",
   "execution_count": 22,
   "id": "b6f3d2eb",
   "metadata": {},
   "outputs": [
    {
     "name": "stdout",
     "output_type": "stream",
     "text": [
      "gen ./datasets/mnist/MNIST/processed/mnist_ori_glcm.pt success.\n",
      "cost 19.2883141040802s\n"
     ]
    }
   ],
   "source": [
    "t1 = time.time()\n",
    "ds.gen('ori','glcm')\n",
    "t2 = time.time()\n",
    "print('cost {}s'.format(t2 - t1))"
   ]
  },
  {
   "cell_type": "markdown",
   "id": "fddd6ee4",
   "metadata": {},
   "source": [
    "### 生成 lbp_glcm联合数据"
   ]
  },
  {
   "cell_type": "code",
   "execution_count": 23,
   "id": "af171d50",
   "metadata": {},
   "outputs": [
    {
     "name": "stdout",
     "output_type": "stream",
     "text": [
      "gen ./datasets/mnist/MNIST/processed/mnist_lbp_glcm.pt success.\n",
      "cost 19.280882835388184s\n"
     ]
    }
   ],
   "source": [
    "t1 = time.time()\n",
    "ds.gen('lbp','glcm')\n",
    "t2 = time.time()\n",
    "print('cost {}s'.format(t2 - t1))"
   ]
  },
  {
   "cell_type": "markdown",
   "id": "39c86b34",
   "metadata": {},
   "source": [
    "### 生成异常数据\n",
    "实验中我们考虑了三种类型的异常值，即**类异常值**、**属性异常值**和**类-属性异常值**。  \n",
    "为了生成离群点，我们根据设定的离群点比例随机生成一个离群点索引列表。  \n",
    "随后，根据生成的离群点索引列表，去替换数据集中的正常数据。  \n",
    "对于类离群点，我们将不属于同一类别的样本对中的$[\\frac{V}{2}]$个视图中的特征进行交换，保持其他视图中的特征不变。  \n",
    "\n",
    "**简而言之就是，在两个视图的情况下，假定为LBP和GLCM两个特征，我们有样本$x_{lbp}[1]$和$x_{GLCM}[1]$，标签为1，  \n",
    "我们固定$x_{lbp}[1]$，将$x_{GLCM}[1]$强制更新为$x_{GLCM}[2]$，其中样本$x[2]$的标签为2**\n",
    "\n",
    "对于属性离群者，我们将样本中的所有视图的特征转换成高斯噪声。  \n",
    "\n",
    "**简而言之，属性离群就是该样本哪个类别都不属于，远离各类中心，因此我们直接将其变为高斯噪声即可。**\n",
    "\n",
    "\n",
    "对于类属性离群值，我们首先将不属于同一类别的样本对中的$[\\frac{V}{2}]$个视图中的特征进行交换，\n",
    "对$[\\frac{V}{2}]$个视图中的特征转换成高斯噪声。   \n",
    "\n",
    "**简而言之，一个进行类离群，一个进行属性离群。**"
   ]
  },
  {
   "cell_type": "code",
   "execution_count": 13,
   "id": "4eb3a04f",
   "metadata": {
    "scrolled": false
   },
   "outputs": [
    {
     "name": "stdout",
     "output_type": "stream",
     "text": [
      "anom index  [5832, 5682, 16590, 14886, 10118, 7171, 2139, 10512, 19213, 246, 11212, 16969, 6897, 19644, 7301, 11795, 9998, 229, 8246, 10286, 11137, 520, 17159, 8002, 12217, 11190, 18880, 2778, 14092, 11460, 13901, 15701, 10177, 7318, 6847, 5665, 5146, 15499, 8503, 1514, 537, 13768, 14015, 15831, 16250, 18972, 15265, 15321, 7482, 500, 19659, 13506, 11761, 746, 6544, 4424, 5005, 12816, 6202, 11887, 16328, 1109, 3746, 6236, 15704, 16142, 3680, 6747, 7786, 8953, 11389, 11452, 4582, 10890, 12499, 8277, 12803, 12036, 15620, 357, 12298, 19224, 5472, 1945, 10586, 14400, 18002, 12055, 276, 5461, 11355, 3054, 5779, 8494, 8579, 6803, 6329, 15019, 10835, 4026, 11136, 12972, 5434, 3190, 13654, 2788, 16779, 14114, 8524, 16456, 15967, 17952, 11479, 5129, 11364, 13087, 10478, 13795, 8671, 5972, 6285, 13708, 2960, 11209, 36, 11876, 11443, 2016, 11252, 1062, 3644, 18907, 10969, 7584, 12900, 14763, 3421, 6035, 9042, 18029, 15929, 7806, 18887, 17363, 17721, 9909, 3969, 14235, 2746, 793, 14592, 12811, 7091, 5068, 8971, 14609, 18628, 5154, 14631, 740, 5039, 7998, 19941, 15422, 3046, 7910, 65, 18346, 1176, 2486, 19558, 18043, 8581, 5379, 14762, 6996, 10558, 7744, 15222, 18353, 1095, 13006, 11994, 16532, 15616, 15775, 14149, 8925, 1039, 19486, 863, 15930, 23, 18914, 7982, 4808, 15958, 7949, 3962, 8609, 8812, 19230, 12071, 14469, 4976, 11714, 18191, 15903, 9781, 10831, 2977, 19499, 887, 4312, 8402, 14839, 11484, 15508, 12955, 559, 14688, 2083, 7498, 13670, 13530, 3427, 10451, 3959, 11030, 13493, 9420, 16875, 9320, 9198, 15753, 15053, 7370, 16370, 686, 15319, 14775, 2918, 6610, 17584, 11500, 4278, 11621, 2036, 17576, 4002, 18177, 2651, 12041, 6749, 8521, 3844, 10652, 5353, 2801, 13873, 9246, 18452, 12374, 2018, 8398, 15239, 7323, 2167, 7168, 19837, 4833, 8168, 19930, 12155, 5704, 9273, 190, 3520, 14201, 14080, 18777, 2786, 14837, 14657, 4717, 4310, 9036, 9936, 9582, 9877, 10134, 19366, 6471, 7651, 1330, 1220, 17807, 18041, 19556, 12934, 15460, 1369, 12772, 10277, 9272, 3265, 3657, 6730, 16866, 6493, 8742, 11833, 14332, 1319, 14396, 6999, 2817, 4646, 8044, 10645, 12660, 523, 11736, 780, 10723, 10480, 18044, 19780, 1444, 10274, 18402, 2679, 13549, 2629, 10560, 10953, 14292, 12106, 12275, 10935, 3847, 19898, 8911, 6114, 335, 16897, 7683, 17725, 13705, 8482, 9946, 14478, 4018, 5781, 12101, 16734, 15162, 7108, 16629, 1700, 14750, 18815, 17029, 16585, 6520, 6857, 2777, 15150, 15100, 10600, 19962, 2070, 11288, 17221, 4212, 2069, 3521, 14435, 912, 10242, 2492, 10833, 10509, 8710, 13559, 16820, 19761, 3337, 4764, 874, 15982, 6734, 3389, 12720, 12238, 1872, 8670, 5927, 14078, 7592, 9966, 11905, 13069, 9780, 654, 6148, 3528, 9638, 5286, 3135, 15784, 13333, 8174, 79, 8752, 16044, 12044, 1921, 3053, 15173, 5542, 5037, 10101, 51, 18312, 7732, 19087, 5773, 13563, 943, 16804, 4529, 908, 3110, 15905, 14284, 5804, 1762, 5754, 2890, 317, 13110, 11398, 3425, 15652, 2741, 2972, 5575, 7831, 17128, 3065, 3557, 4945, 5570, 8068, 3758, 12700, 7087, 17954, 9737, 583, 18980, 10332, 10510, 3980, 11877, 10484, 15229, 4521, 9494, 8612, 13425, 15054, 6515, 18908, 5133, 10910, 5233, 844, 4455, 19202, 16725, 1633, 17597, 772, 3464, 17140, 16378, 8888, 18988, 12263, 9250, 11096, 19371, 5036, 4725, 5351, 14985, 14593, 11830, 6953, 9714, 13793, 1432, 11643, 890, 13554, 19729, 15814, 7246, 5293, 11366, 10085, 18759, 4707, 5734, 2636, 8941, 19441, 3554, 3327, 12964, 17252, 4597, 6720, 5688, 1281, 8473, 15952, 12312, 17315, 17659, 6972, 14907, 4287, 11141, 12844, 1179, 6300, 8765, 2379, 19704, 7753, 1502, 15642, 15684, 14390, 8868, 4595, 17413, 19348, 15320, 5205, 10288, 1833, 13831, 10640, 8071, 14132, 16577, 6213, 14595, 10319, 17, 1585, 5772, 732, 8895, 203, 6492, 5311, 5067, 11625, 6895, 1440, 11173, 4822, 15957, 7133, 12394, 19913, 600, 10513, 15332, 5462, 18507, 18456, 3683, 428, 2463, 19211, 8553, 13179, 24, 3752, 4205, 19161, 8405, 1608, 17133, 3278, 7161, 17564, 5950, 11677, 5244, 8968, 1344, 16392, 9929, 4319, 14833, 13944, 16455, 3360, 8815, 8793, 1960, 13742, 6772, 9228, 13488, 7526, 13967, 1972, 2129, 11063, 6138, 8274, 10855, 7857, 10041, 17589, 14037, 7465, 294, 8893, 15948, 6243, 14845, 7199, 14165, 9593, 44, 1203, 800, 16863, 13864, 10625, 695, 3725, 15397, 15368, 12753, 10676, 4329, 13857, 16027, 18931, 15566, 1273, 11154, 17612, 12938, 5593, 16544, 16083, 3559, 11839, 16079, 9291, 12047, 7923, 18446, 13244, 14693, 10323, 13170, 16018, 18676, 8195, 16803, 13724, 19403, 19506, 287, 17673, 17238, 7338, 7963, 13883, 5181, 7868, 16587, 6991, 501, 13361, 19543, 17526, 7231, 16666, 4387, 6336, 19092, 6286, 18544, 15254, 2822, 6993, 5708, 1411, 364, 741, 15800, 3536, 1336, 13522, 16242, 8169, 18772, 10057, 6159, 4198, 3014, 1292, 221, 8012, 4220, 3083, 13309, 18537, 13108, 5116, 3740, 11919, 16552, 8606, 8782, 17113, 16357, 11119, 19840, 8361, 8065, 14581, 19030, 404, 9383, 16974, 19791, 2430, 4483, 19969, 1952, 14192, 3625, 9256, 12227, 9413, 9009, 12033, 6079, 148, 9965, 14937, 8142, 18205, 19266, 9949, 5916, 4630, 12897, 19705, 11059, 2299, 15440, 6648, 18049, 17921, 16434, 8516, 17630, 14255, 6298, 6543, 1312, 15576, 13036, 10240, 16381, 17846, 1144, 19661, 17163, 1597, 15172, 4604, 3380, 5693, 1965, 1164, 10995, 179, 1617, 5559, 4692, 13615, 14181, 964, 15349, 11473, 8308, 14446, 14048, 1018, 4793, 6957, 13490, 18357, 868, 17695, 16053, 2497, 8875, 935, 5664, 6319, 8446, 3352, 14771, 12146, 14732, 15166, 5372, 3078, 18744, 4616, 15971, 17530, 3699, 14868, 6733, 12069, 15474, 14604, 5645, 19890, 3517, 4437, 10568, 10795, 9136, 1706, 18811, 9782, 1423, 3621, 10154, 17061, 10106, 18847, 8990, 15235, 10418, 9241, 840, 12433, 11328, 7615, 3239, 6296, 1343, 11370, 7122, 4408, 5604, 12249, 9179, 6097, 19485, 13755, 19568, 8713, 3666, 15897, 1484, 6267, 7645, 10500, 6348, 8773, 10143, 4677, 15183, 1552, 16219, 11382, 1199, 3938, 15202, 10790, 3538, 10994, 11862, 12526, 9957, 13874, 14561, 6562, 3090, 3822, 3732, 14437, 6915, 5339, 4097, 4501, 10663, 8265, 9739, 7222, 10107, 8767, 5030, 12087, 2284, 1451, 17039, 3117, 5666, 3686, 6381, 10224, 13297, 10530, 7074, 4459, 8155, 18869, 5350, 16575, 9627, 8442, 17233, 9954, 15037, 18334, 2955, 9833, 16410, 19829, 13065, 13524, 3860, 19168, 2343, 18820, 2565, 10487, 10246, 5402, 2406, 16172, 12771, 172, 7470, 10308, 7808, 8434, 7891, 6258, 4479, 9262, 8089, 4672, 19816, 18713, 2962, 11976, 17299, 6850, 8800, 4092, 14064, 8870, 13545, 9979, 9973, 13851, 12160, 10215, 9321, 15633, 12056, 16574, 19404, 16486, 7973, 8813, 12504]\n",
      "cls anom  [5832, 5682, 16590, 14886, 10118, 7171, 2139, 10512, 19213, 246, 11212, 16969, 6897, 19644, 7301, 11795, 9998, 229, 8246, 10286, 11137, 520, 17159, 8002, 12217, 11190, 18880, 2778, 14092, 11460, 13901, 15701, 10177, 7318, 6847, 5665, 5146, 15499, 8503, 1514, 537, 13768, 14015, 15831, 16250, 18972, 15265, 15321, 7482, 500, 19659, 13506, 11761, 746, 6544, 4424, 5005, 12816, 6202, 11887, 16328, 1109, 3746, 6236, 15704, 16142, 3680, 6747, 7786, 8953, 11389, 11452, 4582, 10890, 12499, 8277, 12803, 12036, 15620, 357, 12298, 19224, 5472, 1945, 10586, 14400, 18002, 12055, 276, 5461, 11355, 3054, 5779, 8494, 8579, 6803, 6329, 15019, 10835, 4026, 11136, 12972, 5434, 3190, 13654, 2788, 16779, 14114, 8524, 16456, 15967, 17952, 11479, 5129, 11364, 13087, 10478, 13795, 8671, 5972, 6285, 13708, 2960, 11209, 36, 11876, 11443, 2016, 11252, 1062, 3644, 18907, 10969, 7584, 12900, 14763, 3421, 6035, 9042, 18029, 15929, 7806, 18887, 17363, 17721, 9909, 3969, 14235, 2746, 793, 14592, 12811, 7091, 5068, 8971, 14609, 18628, 5154, 14631, 740, 5039, 7998, 19941, 15422, 3046, 7910, 65, 18346, 1176, 2486, 19558, 18043, 8581, 5379, 14762, 6996, 10558, 7744, 15222, 18353, 1095, 13006, 11994, 16532, 15616, 15775, 14149, 8925, 1039, 19486, 863, 15930, 23, 18914, 7982, 4808, 15958, 7949, 3962, 8609, 8812, 19230, 12071, 14469, 4976, 11714, 18191, 15903, 9781, 10831, 2977, 19499, 887, 4312, 8402, 14839, 11484, 15508, 12955, 559, 14688, 2083, 7498, 13670, 13530, 3427, 10451, 3959, 11030, 13493, 9420, 16875, 9320, 9198, 15753, 15053, 7370, 16370, 686, 15319, 14775, 2918, 6610, 17584, 11500, 4278, 11621, 2036, 17576, 4002, 18177, 2651, 12041, 6749, 8521, 3844, 10652, 5353, 2801, 13873, 9246, 18452, 12374, 2018, 8398, 15239, 7323, 2167, 7168, 19837, 4833, 8168, 19930, 12155, 5704, 9273, 190, 3520, 14201, 14080, 18777, 2786, 14837, 14657, 4717, 4310, 9036, 9936, 9582, 9877, 10134, 19366, 6471, 7651, 1330, 1220, 17807, 18041, 19556, 12934, 15460, 1369, 12772, 10277, 9272, 3265, 3657, 6730, 16866, 6493, 8742, 11833, 14332, 1319, 14396, 6999, 2817, 4646, 8044, 10645, 12660, 523, 11736, 780, 10723, 10480, 18044, 19780, 1444, 10274, 18402, 2679, 13549, 2629, 10560, 10953, 14292, 12106, 12275, 10935, 3847, 19898, 8911, 6114, 335, 16897, 7683, 17725, 13705, 8482, 9946, 14478, 4018, 5781, 12101, 16734, 15162, 7108, 16629, 1700, 14750, 18815, 17029, 16585, 6520, 6857, 2777, 15150, 15100, 10600, 19962, 2070, 11288, 17221, 4212, 2069, 3521, 14435, 912, 10242, 2492, 10833, 10509, 8710, 13559, 16820, 19761, 3337, 4764, 874, 15982, 6734, 3389, 12720, 12238, 1872, 8670, 5927, 14078, 7592, 9966, 11905, 13069, 9780, 654, 6148, 3528, 9638, 5286, 3135, 15784, 13333, 8174, 79, 8752, 16044, 12044, 1921, 3053, 15173, 5542, 5037, 10101, 51, 18312, 7732, 19087, 5773, 13563, 943, 16804, 4529, 908, 3110, 15905, 14284, 5804, 1762, 5754, 2890, 317, 13110, 11398, 3425, 15652, 2741, 2972, 5575, 7831, 17128, 3065, 3557, 4945, 5570, 8068, 3758, 12700, 7087, 17954, 9737, 583, 18980, 10332, 10510, 3980, 11877, 10484, 15229, 4521, 9494, 8612, 13425, 15054, 6515, 18908, 5133, 10910, 5233, 844, 4455, 19202, 16725, 1633, 17597, 772, 3464, 17140, 16378, 8888, 18988, 12263, 9250, 11096, 19371, 5036, 4725, 5351, 14985, 14593, 11830, 6953, 9714, 13793, 1432, 11643, 890, 13554, 19729, 15814, 7246, 5293, 11366, 10085, 18759, 4707, 5734, 2636, 8941, 19441, 3554, 3327, 12964, 17252, 4597, 6720, 5688, 1281, 8473, 15952, 12312, 17315, 17659, 6972, 14907, 4287, 11141, 12844, 1179, 6300, 8765, 2379, 19704, 7753, 1502, 15642, 15684, 14390, 8868, 4595, 17413, 19348, 15320, 5205, 10288, 1833, 13831, 10640, 8071, 14132, 16577, 6213, 14595, 10319, 17, 1585, 5772, 732, 8895, 203, 6492, 5311, 5067, 11625, 6895, 1440, 11173, 4822, 15957, 7133, 12394, 19913, 600, 10513, 15332, 5462, 18507, 18456, 3683, 428, 2463, 19211, 8553, 13179, 24, 3752, 4205, 19161, 8405, 1608, 17133, 3278, 7161, 17564, 5950, 11677, 5244, 8968, 1344, 16392, 9929, 4319, 14833, 13944, 16455, 3360, 8815, 8793, 1960, 13742, 6772, 9228, 13488, 7526, 13967, 1972, 2129, 11063, 6138, 8274, 10855, 7857, 10041, 17589, 14037, 7465, 294, 8893, 15948, 6243, 14845, 7199, 14165, 9593, 44, 1203, 800, 16863, 13864, 10625, 695, 3725, 15397, 15368, 12753, 10676, 4329, 13857, 16027, 18931, 15566, 1273, 11154, 17612, 12938, 5593, 16544, 16083, 3559, 11839, 16079, 9291, 12047, 7923, 18446, 13244, 14693, 10323, 13170, 16018, 18676, 8195, 16803, 13724, 19403, 19506, 287, 17673, 17238, 7338, 7963, 13883, 5181, 7868, 16587, 6991, 501, 13361, 19543, 17526, 7231, 16666, 4387, 6336, 19092, 6286, 18544, 15254, 2822, 6993, 5708, 1411, 364, 741, 15800, 3536, 1336, 13522, 16242, 8169, 18772, 10057, 6159, 4198, 3014, 1292, 221, 8012, 4220, 3083, 13309, 18537, 13108, 5116, 3740, 11919, 16552, 8606, 8782, 17113, 16357, 11119, 19840, 8361, 8065, 14581, 19030, 404, 9383, 16974, 19791, 2430, 4483, 19969, 1952, 14192, 3625, 9256, 12227, 9413, 9009, 12033, 6079, 148, 9965, 14937, 8142, 18205, 19266, 9949, 5916, 4630, 12897, 19705, 11059, 2299, 15440, 6648, 18049, 17921, 16434, 8516, 17630, 14255, 6298, 6543, 1312, 15576, 13036, 10240, 16381, 17846, 1144, 19661, 17163, 1597, 15172, 4604, 3380, 5693, 1965, 1164, 10995, 179, 1617, 5559, 4692, 13615, 14181, 964, 15349, 11473, 8308, 14446, 14048, 1018, 4793, 6957, 13490, 18357, 868, 17695, 16053, 2497, 8875, 935, 5664, 6319, 8446, 3352, 14771, 12146, 14732, 15166, 5372, 3078, 18744, 4616, 15971, 17530, 3699, 14868, 6733, 12069, 15474, 14604, 5645, 19890, 3517, 4437, 10568, 10795, 9136, 1706, 18811, 9782, 1423, 3621, 10154, 17061, 10106, 18847, 8990, 15235, 10418, 9241, 840, 12433, 11328, 7615, 3239, 6296, 1343, 11370, 7122, 4408, 5604, 12249, 9179, 6097, 19485, 13755, 19568, 8713, 3666, 15897, 1484, 6267, 7645, 10500, 6348, 8773, 10143, 4677, 15183, 1552, 16219, 11382, 1199, 3938, 15202, 10790, 3538, 10994, 11862, 12526, 9957, 13874, 14561, 6562, 3090, 3822, 3732, 14437, 6915, 5339, 4097, 4501, 10663, 8265, 9739, 7222, 10107, 8767, 5030, 12087, 2284, 1451, 17039, 3117, 5666, 3686, 6381, 10224, 13297, 10530, 7074, 4459, 8155, 18869, 5350, 16575, 9627, 8442, 17233, 9954, 15037, 18334, 2955, 9833, 16410, 19829, 13065, 13524, 3860, 19168, 2343, 18820, 2565, 10487, 10246, 5402, 2406, 16172, 12771, 172, 7470, 10308, 7808, 8434, 7891, 6258, 4479, 9262, 8089, 4672, 19816, 18713, 2962, 11976, 17299, 6850, 8800, 4092, 14064, 8870, 13545, 9979, 9973, 13851, 12160, 10215, 9321, 15633, 12056, 16574, 19404, 16486, 7973, 8813, 12504]\n",
      "cls num  1000.0\n",
      "cls len  1000\n",
      "attr anom  []\n",
      "attr num  0.0\n",
      "attr len  0\n",
      "anom num  1000\n",
      "anom generate success in ./datasets/mnist/MNIST/processed/mnist_lbp_glcm_anom005_100.pt\n"
     ]
    }
   ],
   "source": [
    "ds.gen_cls_attr(anom='005_100', feat1='lbp', feat2='glcm') ## 生成类异常 5%的数据为异常 其中100%为类异常"
   ]
  },
  {
   "cell_type": "code",
   "execution_count": 14,
   "id": "79eb2366",
   "metadata": {},
   "outputs": [],
   "source": [
    "data = torch.load(\"./datasets/mnist/MNIST/processed/mnist_lbp_glcm_anom005_100.pt\")"
   ]
  },
  {
   "cell_type": "code",
   "execution_count": 17,
   "id": "8be10966",
   "metadata": {},
   "outputs": [
    {
     "data": {
      "image/png": "[encoded data removed]",
      "text/plain": [
       "<Figure size 640x480 with 5 Axes>"
      ]
     },
     "metadata": {},
     "output_type": "display_data"
    }
   ],
   "source": [
    "# 创建一个包含两个子图的画布\n",
    "fig, axes = plt.subplots(1, 5)\n",
    "\n",
    "# axes[0].imshow(data_ori[0][7].squeeze())\n",
    "# axes[1].imshow(data_glcm[0][7].squeeze())\n",
    "# axes[2].imshow(data_lbp[0][7].squeeze())\n",
    "axes[3].imshow(data[0][13545].squeeze()) # ori上变化\n",
    "axes[4].imshow(data[1][13545].squeeze())\n",
    "\n",
    "\n",
    "# 显示图形\n",
    "plt.show()"
   ]
  },
  {
   "cell_type": "code",
   "execution_count": 18,
   "id": "b85891fd",
   "metadata": {
    "scrolled": false
   },
   "outputs": [
    {
     "name": "stdout",
     "output_type": "stream",
     "text": [
      "anom index  [6443, 9114, 17514, 1584, 15036, 15309, 11871, 1849, 4753, 18302, 12215, 8601, 18667, 10341, 2099, 10068, 10299, 11867, 8528, 13333, 18296, 6335, 9030, 13465, 6142, 11329, 14553, 6501, 11892, 7548, 16259, 4207, 17259, 17734, 18066, 8465, 3769, 11248, 14440, 13317, 8117, 17510, 17923, 19941, 14299, 11372, 17679, 15762, 13241, 12856, 13178, 6547, 19339, 7261, 8433, 3062, 14733, 3080, 14083, 5095, 3658, 15494, 634, 7208, 244, 18551, 4268, 9801, 2328, 18353, 10010, 1321, 19475, 3161, 15485, 19771, 8262, 19190, 13180, 5967, 14932, 4624, 7584, 15915, 15855, 10227, 2621, 12323, 6070, 4475, 19229, 15757, 12914, 10996, 821, 8127, 8698, 5463, 14393, 15257, 9330, 10701, 17735, 11763, 12987, 18735, 2749, 1260, 2858, 15512, 1758, 11900, 6475, 2435, 10892, 19548, 17594, 9856, 17270, 6712, 1563, 3829, 2177, 6935, 17439, 12015, 8420, 17123, 7858, 11658, 16450, 9768, 5378, 10173, 10802, 6583, 13841, 11633, 18609, 4960, 10105, 11714, 18877, 14146, 11387, 5551, 13190, 19493, 5039, 350, 14351, 4925, 12277, 9184, 6609, 6123, 13850, 16434, 4839, 6791, 3866, 17501, 9060, 5723, 2517, 7906, 2084, 3346, 3760, 15481, 12769, 12728, 2361, 16999, 12104, 10355, 15432, 11794, 9660, 1351, 5040, 12697, 19831, 5998, 2307, 6203, 17511, 19331, 14449, 18016, 16530, 12655, 19832, 6403, 11729, 11164, 13622, 1292, 8269, 11829, 2388, 3864, 3234, 3548, 12896, 3642, 9195, 6929, 16992, 5571, 427, 4361, 6332, 18213, 6989, 55, 13530, 8102, 2587, 19465, 13102, 6128, 5649, 6606, 464, 14472, 10922, 3427, 552, 6407, 17130, 4005, 14712, 5309, 7221, 13316, 17209, 10779, 6884, 17144, 18703, 17863, 18443, 11094, 7835, 11828, 15238, 17742, 19760, 1748, 14962, 15991, 13141, 7436, 18161, 146, 7764, 890, 321, 4203, 4625, 11846, 11800, 16269, 3050, 15086, 1309, 3433, 7508, 14947, 10093, 19616, 9145, 4988, 3568, 7811, 5501, 4710, 9600, 7146, 9141, 13470, 2380, 13862, 8015, 19529, 4630, 12097, 8137, 7682, 10116, 4904, 5598, 3552, 3979, 17298, 14192, 10206, 18656, 3983, 3162, 14639, 2058, 15420, 11562, 5829, 5537, 9150, 673, 434, 10289, 12300, 12354, 16695, 6967, 1097, 8589, 547, 682, 16544, 14422, 19132, 14400, 4667, 4171, 13029, 18242, 4033, 12757, 14794, 18014, 11226, 11095, 13740, 3620, 1326, 9331, 924, 14792, 2555, 3455, 8225, 13963, 18429, 18765, 19710, 4686, 16884, 11918, 9374, 4998, 6466, 11189, 3330, 18664, 15220, 6085, 17320, 873, 12792, 16475, 6528, 1245, 14475, 17225, 11079, 3207, 4258, 9916, 12589, 19714, 16199, 19770, 18697, 2951, 6611, 4548, 8745, 7179, 6585, 10636, 4154, 2594, 13890, 4271, 9530, 5628, 7910, 18233, 16759, 17829, 11961, 4077, 10281, 19630, 18044, 17912, 9303, 4348, 7782, 6523, 13937, 14828, 7930, 17994, 3192, 17890, 14743, 4251, 7601, 15403, 14689, 8066, 7075, 4023, 9846, 883, 16712, 3312, 8991, 5890, 12467, 5016, 10126, 7169, 12578, 15960, 12841, 16704, 19228, 15080, 2528, 7320, 9257, 12883, 2770, 10783, 6165, 14691, 1619, 6092, 15303, 16703, 1418, 17880, 1574, 17953, 11426, 13347, 3404, 15385, 4248, 10360, 4743, 13054, 7472, 10642, 3611, 7084, 7614, 207, 15457, 5299, 8024, 16268, 3167, 13737, 10518, 12142, 6232, 2428, 15717, 602, 1799, 8870, 13115, 2910, 15387, 19860, 6486, 6725, 14468, 15977, 15444, 17614, 9643, 15538, 17989, 19542, 13435, 15742, 4771, 12065, 6395, 17809, 16552, 10253, 13821, 14612, 12475, 18825, 8693, 19604, 18601, 6807, 17542, 117, 17712, 7386, 7131, 2787, 3336, 7022, 5430, 13416, 15458, 14420, 16341, 17827, 19301, 19384, 7066, 12423, 9533, 17602, 11328, 6065, 8042, 9323, 8677, 16470, 1276, 2002, 11455, 17269, 527, 14029, 16507, 3610, 14607, 14785, 11351, 8518, 10950, 19968, 19040, 15582, 4394, 1894, 10357, 9284, 7190, 6810, 10157, 4412, 18078, 370, 17938, 2334, 972, 5918, 7051, 9970, 12043, 4633, 61, 17193, 8364, 3030, 4654, 15209, 13550, 8437, 15229, 2329, 3481, 5525, 13815, 16573, 3564, 19089, 17677, 5513, 17135, 4472, 7241, 13013, 5937, 6732, 9831, 8398, 11770, 18546, 18331, 9649, 14038, 14892, 9497, 17369, 4119, 10035, 1688, 172, 12101, 15072, 13175, 15775, 7486, 7117, 3646, 3086, 1266, 2284, 11504, 15127, 12586, 7527, 1856, 12053, 7494, 2743, 7604, 19753, 1985, 15845, 2968, 1362, 3081, 13434, 133, 4421, 16916, 126, 17312, 17527, 14548, 18128, 3657, 14111, 8671, 3324, 17336, 14346, 8408, 11467, 17643, 3205, 6550, 11270, 2804, 17664, 13722, 13403, 2537, 15419, 826, 6039, 7553, 19254, 3129, 12540, 446, 2226, 19452, 14060, 8186, 16931, 14175, 12600, 1415, 13927, 12484, 17723, 15859, 5860, 6134, 16145, 9905, 5545, 9830, 2868, 17093, 18232, 9917, 8219, 14678, 12168, 8755, 16839, 9616, 6107, 9946, 15730, 16633, 3213, 16363, 17265, 1289, 2648, 12852, 13371, 11383, 18640, 19216, 10580, 9273, 19222, 19217, 9142, 5880, 19342, 13978, 8896, 12715, 10697, 16752, 3015, 3976, 4735, 18637, 18466, 5842, 10097, 1885, 18772, 6041, 8004, 5165, 10844, 8291, 6113, 14415, 12509, 17045, 10923, 3954, 19210, 449, 19162, 13228, 19761, 9439, 19018, 18923, 14823, 14243, 7159, 8893, 19368, 880, 13895, 16296, 12298, 15932, 16635, 5026, 19593, 14166, 18606, 16490, 5122, 13270, 18476, 17555, 11682, 8260, 3484, 647, 3789, 4311, 13829, 4172, 562, 15216, 18299, 17249, 6490, 7542, 7289, 3742, 7105, 8594, 2806, 5925, 2683, 12700, 15360, 13637, 13757, 14569, 19810, 14614, 16066, 19497, 10300, 1388, 6148, 3776, 16008, 8463, 12828, 11416, 6108, 13754, 8108, 1157, 11532, 15544, 7936, 19111, 8451, 18822, 17559, 15559, 4043, 7359, 3627, 14873, 7493, 11964, 19068, 6627, 16950, 12384, 3654, 10501, 7398, 2941, 18372, 1062, 15581, 2323, 14096, 19999, 1364, 4880, 19226, 19398, 2450, 9901, 8122, 1676, 15378, 11632, 13876, 7768, 18591, 8278, 4327, 2230, 19877, 15999, 6961, 17054, 16414, 11166, 14429, 11786, 2102, 9018, 12547, 6439, 3887, 10732, 3799, 7620, 7214, 10666, 585, 728, 6667, 3151, 13584, 12330, 4822, 12133, 7863, 9117, 4878, 13478, 10888, 15553, 17062, 11649, 2184, 16230, 19796, 17891, 5875, 13075, 11936, 1625, 9762, 11170, 13245, 10410, 1422, 11611, 17593, 16454, 19279, 12212, 15962, 19467, 10955, 4818, 18149, 3740, 14197, 13856, 9022, 18183, 2007, 9010, 14063, 6666, 15616, 13440, 12357, 3003, 10026, 6143, 18158, 16692, 2698, 5602, 9425, 10699, 15921, 12066, 11912, 6052, 18139, 14369, 9718, 19292, 6957, 18039, 492, 4777, 9390, 2575, 15213, 13706, 18114, 14645, 17814, 7365, 13733, 11375, 7304, 4448, 6753, 8807, 15184, 7971, 3898, 14513, 5653, 9563, 19145, 18017, 10499, 5037, 9173, 3721, 17342, 8049, 10879, 16673, 14049, 12685, 3988, 5363, 2619, 19834, 7201, 17728, 14581, 19224, 15800, 669, 1815, 9993, 17771, 13492, 10797, 19156, 1841, 12424, 10813, 7513, 365, 18629, 10236, 8603, 15760, 8467, 18727, 2296]\n",
      "cls anom  []\n",
      "cls num  0.0\n",
      "cls len  0\n",
      "attr anom  [6443, 9114, 17514, 1584, 15036, 15309, 11871, 1849, 4753, 18302, 12215, 8601, 18667, 10341, 2099, 10068, 10299, 11867, 8528, 13333, 18296, 6335, 9030, 13465, 6142, 11329, 14553, 6501, 11892, 7548, 16259, 4207, 17259, 17734, 18066, 8465, 3769, 11248, 14440, 13317, 8117, 17510, 17923, 19941, 14299, 11372, 17679, 15762, 13241, 12856, 13178, 6547, 19339, 7261, 8433, 3062, 14733, 3080, 14083, 5095, 3658, 15494, 634, 7208, 244, 18551, 4268, 9801, 2328, 18353, 10010, 1321, 19475, 3161, 15485, 19771, 8262, 19190, 13180, 5967, 14932, 4624, 7584, 15915, 15855, 10227, 2621, 12323, 6070, 4475, 19229, 15757, 12914, 10996, 821, 8127, 8698, 5463, 14393, 15257, 9330, 10701, 17735, 11763, 12987, 18735, 2749, 1260, 2858, 15512, 1758, 11900, 6475, 2435, 10892, 19548, 17594, 9856, 17270, 6712, 1563, 3829, 2177, 6935, 17439, 12015, 8420, 17123, 7858, 11658, 16450, 9768, 5378, 10173, 10802, 6583, 13841, 11633, 18609, 4960, 10105, 11714, 18877, 14146, 11387, 5551, 13190, 19493, 5039, 350, 14351, 4925, 12277, 9184, 6609, 6123, 13850, 16434, 4839, 6791, 3866, 17501, 9060, 5723, 2517, 7906, 2084, 3346, 3760, 15481, 12769, 12728, 2361, 16999, 12104, 10355, 15432, 11794, 9660, 1351, 5040, 12697, 19831, 5998, 2307, 6203, 17511, 19331, 14449, 18016, 16530, 12655, 19832, 6403, 11729, 11164, 13622, 1292, 8269, 11829, 2388, 3864, 3234, 3548, 12896, 3642, 9195, 6929, 16992, 5571, 427, 4361, 6332, 18213, 6989, 55, 13530, 8102, 2587, 19465, 13102, 6128, 5649, 6606, 464, 14472, 10922, 3427, 552, 6407, 17130, 4005, 14712, 5309, 7221, 13316, 17209, 10779, 6884, 17144, 18703, 17863, 18443, 11094, 7835, 11828, 15238, 17742, 19760, 1748, 14962, 15991, 13141, 7436, 18161, 146, 7764, 890, 321, 4203, 4625, 11846, 11800, 16269, 3050, 15086, 1309, 3433, 7508, 14947, 10093, 19616, 9145, 4988, 3568, 7811, 5501, 4710, 9600, 7146, 9141, 13470, 2380, 13862, 8015, 19529, 4630, 12097, 8137, 7682, 10116, 4904, 5598, 3552, 3979, 17298, 14192, 10206, 18656, 3983, 3162, 14639, 2058, 15420, 11562, 5829, 5537, 9150, 673, 434, 10289, 12300, 12354, 16695, 6967, 1097, 8589, 547, 682, 16544, 14422, 19132, 14400, 4667, 4171, 13029, 18242, 4033, 12757, 14794, 18014, 11226, 11095, 13740, 3620, 1326, 9331, 924, 14792, 2555, 3455, 8225, 13963, 18429, 18765, 19710, 4686, 16884, 11918, 9374, 4998, 6466, 11189, 3330, 18664, 15220, 6085, 17320, 873, 12792, 16475, 6528, 1245, 14475, 17225, 11079, 3207, 4258, 9916, 12589, 19714, 16199, 19770, 18697, 2951, 6611, 4548, 8745, 7179, 6585, 10636, 4154, 2594, 13890, 4271, 9530, 5628, 7910, 18233, 16759, 17829, 11961, 4077, 10281, 19630, 18044, 17912, 9303, 4348, 7782, 6523, 13937, 14828, 7930, 17994, 3192, 17890, 14743, 4251, 7601, 15403, 14689, 8066, 7075, 4023, 9846, 883, 16712, 3312, 8991, 5890, 12467, 5016, 10126, 7169, 12578, 15960, 12841, 16704, 19228, 15080, 2528, 7320, 9257, 12883, 2770, 10783, 6165, 14691, 1619, 6092, 15303, 16703, 1418, 17880, 1574, 17953, 11426, 13347, 3404, 15385, 4248, 10360, 4743, 13054, 7472, 10642, 3611, 7084, 7614, 207, 15457, 5299, 8024, 16268, 3167, 13737, 10518, 12142, 6232, 2428, 15717, 602, 1799, 8870, 13115, 2910, 15387, 19860, 6486, 6725, 14468, 15977, 15444, 17614, 9643, 15538, 17989, 19542, 13435, 15742, 4771, 12065, 6395, 17809, 16552, 10253, 13821, 14612, 12475, 18825, 8693, 19604, 18601, 6807, 17542, 117, 17712, 7386, 7131, 2787, 3336, 7022, 5430, 13416, 15458, 14420, 16341, 17827, 19301, 19384, 7066, 12423, 9533, 17602, 11328, 6065, 8042, 9323, 8677, 16470, 1276, 2002, 11455, 17269, 527, 14029, 16507, 3610, 14607, 14785, 11351, 8518, 10950, 19968, 19040, 15582, 4394, 1894, 10357, 9284, 7190, 6810, 10157, 4412, 18078, 370, 17938, 2334, 972, 5918, 7051, 9970, 12043, 4633, 61, 17193, 8364, 3030, 4654, 15209, 13550, 8437, 15229, 2329, 3481, 5525, 13815, 16573, 3564, 19089, 17677, 5513, 17135, 4472, 7241, 13013, 5937, 6732, 9831, 8398, 11770, 18546, 18331, 9649, 14038, 14892, 9497, 17369, 4119, 10035, 1688, 172, 12101, 15072, 13175, 15775, 7486, 7117, 3646, 3086, 1266, 2284, 11504, 15127, 12586, 7527, 1856, 12053, 7494, 2743, 7604, 19753, 1985, 15845, 2968, 1362, 3081, 13434, 133, 4421, 16916, 126, 17312, 17527, 14548, 18128, 3657, 14111, 8671, 3324, 17336, 14346, 8408, 11467, 17643, 3205, 6550, 11270, 2804, 17664, 13722, 13403, 2537, 15419, 826, 6039, 7553, 19254, 3129, 12540, 446, 2226, 19452, 14060, 8186, 16931, 14175, 12600, 1415, 13927, 12484, 17723, 15859, 5860, 6134, 16145, 9905, 5545, 9830, 2868, 17093, 18232, 9917, 8219, 14678, 12168, 8755, 16839, 9616, 6107, 9946, 15730, 16633, 3213, 16363, 17265, 1289, 2648, 12852, 13371, 11383, 18640, 19216, 10580, 9273, 19222, 19217, 9142, 5880, 19342, 13978, 8896, 12715, 10697, 16752, 3015, 3976, 4735, 18637, 18466, 5842, 10097, 1885, 18772, 6041, 8004, 5165, 10844, 8291, 6113, 14415, 12509, 17045, 10923, 3954, 19210, 449, 19162, 13228, 19761, 9439, 19018, 18923, 14823, 14243, 7159, 8893, 19368, 880, 13895, 16296, 12298, 15932, 16635, 5026, 19593, 14166, 18606, 16490, 5122, 13270, 18476, 17555, 11682, 8260, 3484, 647, 3789, 4311, 13829, 4172, 562, 15216, 18299, 17249, 6490, 7542, 7289, 3742, 7105, 8594, 2806, 5925, 2683, 12700, 15360, 13637, 13757, 14569, 19810, 14614, 16066, 19497, 10300, 1388, 6148, 3776, 16008, 8463, 12828, 11416, 6108, 13754, 8108, 1157, 11532, 15544, 7936, 19111, 8451, 18822, 17559, 15559, 4043, 7359, 3627, 14873, 7493, 11964, 19068, 6627, 16950, 12384, 3654, 10501, 7398, 2941, 18372, 1062, 15581, 2323, 14096, 19999, 1364, 4880, 19226, 19398, 2450, 9901, 8122, 1676, 15378, 11632, 13876, 7768, 18591, 8278, 4327, 2230, 19877, 15999, 6961, 17054, 16414, 11166, 14429, 11786, 2102, 9018, 12547, 6439, 3887, 10732, 3799, 7620, 7214, 10666, 585, 728, 6667, 3151, 13584, 12330, 4822, 12133, 7863, 9117, 4878, 13478, 10888, 15553, 17062, 11649, 2184, 16230, 19796, 17891, 5875, 13075, 11936, 1625, 9762, 11170, 13245, 10410, 1422, 11611, 17593, 16454, 19279, 12212, 15962, 19467, 10955, 4818, 18149, 3740, 14197, 13856, 9022, 18183, 2007, 9010, 14063, 6666, 15616, 13440, 12357, 3003, 10026, 6143, 18158, 16692, 2698, 5602, 9425, 10699, 15921, 12066, 11912, 6052, 18139, 14369, 9718, 19292, 6957, 18039, 492, 4777, 9390, 2575, 15213, 13706, 18114, 14645, 17814, 7365, 13733, 11375, 7304, 4448, 6753, 8807, 15184, 7971, 3898, 14513, 5653, 9563, 19145, 18017, 10499, 5037, 9173, 3721, 17342, 8049, 10879, 16673, 14049, 12685, 3988, 5363, 2619, 19834, 7201, 17728, 14581, 19224, 15800, 669, 1815, 9993, 17771, 13492, 10797, 19156, 1841, 12424, 10813, 7513, 365, 18629, 10236, 8603, 15760, 8467, 18727, 2296]\n",
      "attr num  1000.0\n",
      "attr len  1000\n",
      "anom num  1000\n",
      "anom generate success in ./datasets/mnist/MNIST/processed/mnist_lbp_glcm_anom005_0.pt\n"
     ]
    }
   ],
   "source": [
    "ds.gen_cls_attr(anom='005_0', feat1='lbp', feat2='glcm') ## 生成类异常 5%的数据为异常 其中100%为类异常"
   ]
  },
  {
   "cell_type": "code",
   "execution_count": 21,
   "id": "46fc9ba5",
   "metadata": {},
   "outputs": [],
   "source": [
    "data = torch.load(\"./datasets/mnist/MNIST/processed/mnist_lbp_glcm_anom005_0.pt\")"
   ]
  },
  {
   "cell_type": "code",
   "execution_count": 22,
   "id": "3d3be642",
   "metadata": {},
   "outputs": [
    {
     "data": {
      "image/png": "[encoded data removed]",
      "text/plain": [
       "<Figure size 640x480 with 5 Axes>"
      ]
     },
     "metadata": {},
     "output_type": "display_data"
    }
   ],
   "source": [
    "# 创建一个包含两个子图的画布\n",
    "fig, axes = plt.subplots(1, 5)\n",
    "\n",
    "# axes[0].imshow(data_ori[0][5363].squeeze())\n",
    "# axes[1].imshow(data_glcm[0][5363].squeeze())\n",
    "# axes[2].imshow(data_lbp[0][5363].squeeze())\n",
    "axes[3].imshow(data[0][2296].squeeze()) # ori上变化\n",
    "axes[4].imshow(data[1][2296].squeeze())\n",
    "\n",
    "\n",
    "# 显示图形\n",
    "plt.show()"
   ]
  },
  {
   "cell_type": "markdown",
   "id": "8b78dfef",
   "metadata": {},
   "source": [
    "## 模型训练阶段"
   ]
  },
  {
   "cell_type": "code",
   "execution_count": 23,
   "id": "2d47e5cb",
   "metadata": {},
   "outputs": [],
   "source": [
    "device_id = 0 # GPU编号\n",
    "wass_metric = True# 是否使用W-GAN\n",
    "n_epochs = 200  # epoch\n",
    "batch_size = 64  # batch\n",
    "# mnist_ori_glcm_anom005_100\n",
    "c = True\n",
    "device = torch.device(\"cuda\" if torch.cuda.is_available() else \"cpu\")\n",
    "dataset = 'mnist'\n",
    "feat1 = 'lbp'  # view1特征种类\n",
    "feat2 = 'glcm'  # view2特征种类\n",
    "feat3 = ''  # view3特征种类\n",
    "anom = '005_0'  # 异常比例 {'015', '005', '001', '005_0', '005_20', '005_40', '005_60', '005_80', '005_100'}\n",
    "\n",
    "lr1 = 1e-4  # 步长\n",
    "lr2 = 1e-4  # 步长\n",
    "lr3 = 1e-4  # 步长\n",
    "b1 = 0.5  # 优化器参数\n",
    "b2 = 0.9  # 优化器参数\n",
    "decay = 2.5 * 1e-5  # 优化器参数\n",
    "n_skip_iter = 1  # 训练n次D 训练1次G+E\n",
    "\n",
    "# Latent space info\n",
    "view_num = 2\n",
    "latent_dim = 30  # 用于生成图片的隐空间向量dim\n",
    "n_c = 10  # 聚类个数\n",
    "\n",
    "betan1 = 10  # 计算zn1损失时对应的参数\n",
    "betan2 = 10  # 计算zn2损失时对应的参数\n",
    "betan3 = 10  # 计算zn2损失时对应的参数\n",
    "betac1 = 10  # 计算zc1损失时对应的参数\n",
    "betac2 = 10  # 计算zc2损失时对应的参数\n",
    "betac3 = 10  # 计算zc2损失时对应的参数"
   ]
  },
  {
   "cell_type": "code",
   "execution_count": 24,
   "id": "ea556a22",
   "metadata": {},
   "outputs": [],
   "source": [
    "mtype = 'van'\n",
    "if wass_metric:\n",
    "    mtype = 'wass'\n",
    "\n",
    "sep_und = '_'\n",
    "run_name_comps = [feat1, feat2, anom, mtype, 'e%i' % n_epochs, 'b%i' % batch_size, 'l%i' % latent_dim,\n",
    "                  'betan1%.3f' % betan1, 'betac1%.3f' % betac1, 'betan2%.3f' % betan2, 'betac2%.3f' % betac2]\n",
    "run_name = sep_und.join(run_name_comps)"
   ]
  },
  {
   "cell_type": "code",
   "execution_count": 25,
   "id": "be8e4001",
   "metadata": {},
   "outputs": [
    {
     "data": {
      "text/plain": [
       "'lbp_glcm_005_0_wass_e200_b64_l30_betan110.000_betac110.000_betan210.000_betac210.000'"
      ]
     },
     "execution_count": 25,
     "metadata": {},
     "output_type": "execute_result"
    }
   ],
   "source": [
    "run_name"
   ]
  },
  {
   "cell_type": "code",
   "execution_count": 26,
   "id": "761158fd",
   "metadata": {},
   "outputs": [
    {
     "name": "stdout",
     "output_type": "stream",
     "text": [
      "\n",
      "Results to be saved in directory ./out/lbp_glcm_005_0_wass_e200_b64_l30_betan110.000_betac110.000_betan210.000_betac210.000\n",
      "\n"
     ]
    }
   ],
   "source": [
    "# 生成输出的文件夹路径\n",
    "run_dir = os.path.join('./out', run_name)  # ./out/iepoch\n",
    "os.makedirs(run_dir, exist_ok=True)\n",
    "\n",
    "print('\\nResults to be saved in directory %s\\n' % (run_dir))"
   ]
  },
  {
   "cell_type": "code",
   "execution_count": 27,
   "id": "9f8fe414",
   "metadata": {},
   "outputs": [],
   "source": [
    "# 对于MNIST数据集\n",
    "x_shape = (1, 28, 28) #[channel, size, size]\n",
    "\n",
    "# 加载cuda \n",
    "cuda = True if torch.cuda.is_available() else False\n",
    "if cuda: \n",
    "    torch.cuda.set_device(device_id)"
   ]
  },
  {
   "cell_type": "code",
   "execution_count": 28,
   "id": "426c0fd5",
   "metadata": {},
   "outputs": [],
   "source": [
    "# binary-cross-entropy\n",
    "bce_loss1 = torch.nn.BCELoss()\n",
    "bce_loss2 = torch.nn.BCELoss()\n",
    "# cross-entropy\n",
    "xe_loss1 = torch.nn.CrossEntropyLoss()\n",
    "xe_loss2 = torch.nn.CrossEntropyLoss()\n",
    "# mean-square-loss\n",
    "mse_loss1 = torch.nn.MSELoss()\n",
    "mse_loss2 = torch.nn.MSELoss()"
   ]
  },
  {
   "cell_type": "code",
   "execution_count": 29,
   "id": "422dd735",
   "metadata": {},
   "outputs": [],
   "source": [
    "class Reshape(nn.Module):\n",
    "    def __init__(self, shape=None):\n",
    "        super(Reshape, self).__init__()\n",
    "        self.shape = shape\n",
    "\n",
    "    def forward(self, x):\n",
    "        if self.shape is None:\n",
    "            return x.view(x.size(0), -1)  # 将x展平成一维向量\n",
    "        else:\n",
    "            return x.view(x.size(0), *self.shape)\n",
    "\n",
    "    def extra_repr(self):\n",
    "        return 'shape={}'.format(\n",
    "            self.shape\n",
    "        )"
   ]
  },
  {
   "cell_type": "code",
   "execution_count": 30,
   "id": "40de8837",
   "metadata": {},
   "outputs": [],
   "source": [
    "def initialize_weights(net):\n",
    "    for m in net.modules():\n",
    "        if isinstance(m, nn.Conv2d):\n",
    "            m.weight.data.normal_(0, 0.02)\n",
    "            m.bias.data.zero_()\n",
    "        elif isinstance(m, nn.ConvTranspose2d):\n",
    "            m.weight.data.normal_(0, 0.02)\n",
    "            m.bias.data.zero_()\n",
    "        elif isinstance(m, nn.Linear):\n",
    "            m.weight.data.normal_(0, 0.02)\n",
    "            m.bias.data.zero_()"
   ]
  },
  {
   "cell_type": "code",
   "execution_count": 31,
   "id": "3f763b68",
   "metadata": {},
   "outputs": [],
   "source": [
    "class Generator_CNN(nn.Module):\n",
    "    def __init__(self, latent_dim, n_c, x_shape):\n",
    "        super(Generator_CNN, self).__init__()\n",
    "        self.name = 'generator'\n",
    "        self.latent_dim = latent_dim\n",
    "        self.n_c = n_c\n",
    "        self.x_shape = x_shape\n",
    "        self.ishape = (128, 7, 7)\n",
    "        self.iels = int(np.prod(self.ishape))\n",
    "        self.model = nn.Sequential(\n",
    "            nn.Linear(self.latent_dim + self.n_c, 1024),\n",
    "            nn.LeakyReLU(0.2, inplace=True),\n",
    "            nn.BatchNorm1d(1024),\n",
    "            nn.Linear(1024, self.iels),\n",
    "            nn.LeakyReLU(0.2, inplace=True),\n",
    "            nn.BatchNorm1d(self.iels),\n",
    "            Reshape(self.ishape),\n",
    "            nn.ConvTranspose2d(128, 64, 4, stride=2, padding=1, bias=True),\n",
    "            nn.BatchNorm2d(64),\n",
    "            nn.LeakyReLU(0.2, inplace=False),\n",
    "            nn.ConvTranspose2d(64, 1, 4, stride=2, padding=1, bias=True),\n",
    "            nn.Sigmoid()\n",
    "        )\n",
    "        initialize_weights(self)\n",
    "\n",
    "    def forward(self, zn, zc):\n",
    "        z = torch.cat((zn, zc), 1)\n",
    "        x_gen = self.model(z)\n",
    "        x_gen = x_gen.view(x_gen.size(0), *self.x_shape)\n",
    "        return x_gen\n",
    "\n",
    "\n",
    "class Encoder_CNN(nn.Module):\n",
    "    def __init__(self, latent_dim, n_c):\n",
    "        super(Encoder_CNN, self).__init__()\n",
    "        self.name = 'encoder'\n",
    "        self.channels = 1\n",
    "        self.latent_dim = latent_dim\n",
    "        self.n_c = n_c\n",
    "        self.cshape = (128, 5, 5)\n",
    "        self.iels = int(np.prod(self.cshape))\n",
    "        self.lshape = (self.iels, )\n",
    "        self.model = nn.Sequential(\n",
    "            nn.Conv2d(self.channels, 64, 4, stride=2, bias=True),\n",
    "            nn.LeakyReLU(0.2, inplace=True),\n",
    "            nn.Conv2d(64, 128, 4, stride=2, bias=True),\n",
    "            nn.LeakyReLU(0.2, inplace=True),\n",
    "            Reshape(self.lshape),\n",
    "            nn.Linear(self.iels, 1024),\n",
    "            nn.LeakyReLU(0.2, inplace=True),\n",
    "            nn.Linear(1024, latent_dim + n_c)\n",
    "        )\n",
    "        initialize_weights(self)\n",
    "\n",
    "    def forward(self, in_feat):\n",
    "        z_img = self.model(in_feat)\n",
    "        z = z_img.view(z_img.shape[0], -1)\n",
    "        zn = z[:, :self.latent_dim]\n",
    "        zc_logits = z[:, self.latent_dim:]\n",
    "        zc = softmax(zc_logits)\n",
    "        return zn, zc, zc_logits\n",
    "\n",
    "\n",
    "class Discriminator_CNN(nn.Module):\n",
    "    def __init__(self, wass_metric=True):\n",
    "        super(Discriminator_CNN, self).__init__()\n",
    "        self.name = 'discriminator'\n",
    "        self.channels = 1\n",
    "        self.cshape = (128, 5, 5)\n",
    "        self.iels = int(np.prod(self.cshape))\n",
    "        self.lshape = (self.iels, )\n",
    "        self.wass = wass_metric\n",
    "\n",
    "        self.model = nn.Sequential(\n",
    "            nn.Conv2d(self.channels, 64, 4, stride=2, bias=True),\n",
    "            nn.LeakyReLU(0.2, inplace=True),\n",
    "            nn.Conv2d(64, 128, 4, stride=2, bias=True),\n",
    "            nn.LeakyReLU(0.2, inplace=True),\n",
    "            Reshape(self.lshape),\n",
    "            nn.Linear(self.iels, 1024),\n",
    "            nn.LeakyReLU(0.2, inplace=True),\n",
    "            nn.Linear(1024, 1),\n",
    "        )\n",
    "\n",
    "        if (not self.wass):\n",
    "            self.model = nn.Sequential(self.model, torch.nn.Sigmoid())\n",
    "        initialize_weights(self)\n",
    "\n",
    "    def forward(self, img):\n",
    "        validity = self.model(img)\n",
    "        return validity"
   ]
  },
  {
   "cell_type": "code",
   "execution_count": 32,
   "id": "d1701d80",
   "metadata": {},
   "outputs": [],
   "source": [
    "class MultiNet_mnist(nn.Module):\n",
    "    def __init__(self, view_num, latent_dim, cls_num, x_shape, wass=True):\n",
    "        super().__init__()\n",
    "        self.view_num = view_num\n",
    "        self.latent_dim = latent_dim\n",
    "        self.cls_num = cls_num\n",
    "\n",
    "        self.Gs = nn.ModuleList(\n",
    "            [Generator_CNN(latent_dim=latent_dim, n_c=cls_num, x_shape=x_shape) for _ in range(view_num)])\n",
    "        \n",
    "        self.Ds = nn.ModuleList(\n",
    "            [Discriminator_CNN(wass_metric=wass) for _ in range(view_num)])\n",
    "        \n",
    "        self.Es = nn.ModuleList(\n",
    "            [Encoder_CNN(latent_dim=latent_dim, n_c=cls_num) for _ in range(view_num)])\n",
    "\n",
    "    def forward(self, zn=None, zc=None, data=None, mode='G'):\n",
    "        if mode == 'G':\n",
    "            g = []\n",
    "            for i in range(self.view_num):\n",
    "                g.append(self.Gs[i](zn[i], zc[i]))\n",
    "            return g\n",
    "        elif mode == 'D':\n",
    "            d = []\n",
    "            for i in range(self.view_num):\n",
    "                d.append(self.Ds[i](data[i]))\n",
    "            return d\n",
    "        elif mode == 'E':\n",
    "            e = []\n",
    "            for i in range(self.view_num):\n",
    "                e.append(self.Es[i](data[i]))\n",
    "            return e\n",
    "        else:\n",
    "            raise ValueError('err mode')"
   ]
  },
  {
   "cell_type": "code",
   "execution_count": 33,
   "id": "68e758ab",
   "metadata": {},
   "outputs": [],
   "source": [
    "net = MultiNet_mnist(view_num=2, latent_dim=latent_dim, cls_num=n_c, x_shape=x_shape, wass=wass_metric)"
   ]
  },
  {
   "cell_type": "code",
   "execution_count": 34,
   "id": "d6063e93",
   "metadata": {},
   "outputs": [
    {
     "name": "stdout",
     "output_type": "stream",
     "text": [
      "MultiNet_mnist(\n",
      "  (Gs): ModuleList(\n",
      "    (0): Generator_CNN(\n",
      "      (model): Sequential(\n",
      "        (0): Linear(in_features=40, out_features=1024, bias=True)\n",
      "        (1): LeakyReLU(negative_slope=0.2, inplace=True)\n",
      "        (2): BatchNorm1d(1024, eps=1e-05, momentum=0.1, affine=True, track_running_stats=True)\n",
      "        (3): Linear(in_features=1024, out_features=6272, bias=True)\n",
      "        (4): LeakyReLU(negative_slope=0.2, inplace=True)\n",
      "        (5): BatchNorm1d(6272, eps=1e-05, momentum=0.1, affine=True, track_running_stats=True)\n",
      "        (6): Reshape(shape=(128, 7, 7))\n",
      "        (7): ConvTranspose2d(128, 64, kernel_size=(4, 4), stride=(2, 2), padding=(1, 1))\n",
      "        (8): BatchNorm2d(64, eps=1e-05, momentum=0.1, affine=True, track_running_stats=True)\n",
      "        (9): LeakyReLU(negative_slope=0.2)\n",
      "        (10): ConvTranspose2d(64, 1, kernel_size=(4, 4), stride=(2, 2), padding=(1, 1))\n",
      "        (11): Sigmoid()\n",
      "      )\n",
      "    )\n",
      "    (1): Generator_CNN(\n",
      "      (model): Sequential(\n",
      "        (0): Linear(in_features=40, out_features=1024, bias=True)\n",
      "        (1): LeakyReLU(negative_slope=0.2, inplace=True)\n",
      "        (2): BatchNorm1d(1024, eps=1e-05, momentum=0.1, affine=True, track_running_stats=True)\n",
      "        (3): Linear(in_features=1024, out_features=6272, bias=True)\n",
      "        (4): LeakyReLU(negative_slope=0.2, inplace=True)\n",
      "        (5): BatchNorm1d(6272, eps=1e-05, momentum=0.1, affine=True, track_running_stats=True)\n",
      "        (6): Reshape(shape=(128, 7, 7))\n",
      "        (7): ConvTranspose2d(128, 64, kernel_size=(4, 4), stride=(2, 2), padding=(1, 1))\n",
      "        (8): BatchNorm2d(64, eps=1e-05, momentum=0.1, affine=True, track_running_stats=True)\n",
      "        (9): LeakyReLU(negative_slope=0.2)\n",
      "        (10): ConvTranspose2d(64, 1, kernel_size=(4, 4), stride=(2, 2), padding=(1, 1))\n",
      "        (11): Sigmoid()\n",
      "      )\n",
      "    )\n",
      "  )\n",
      "  (Ds): ModuleList(\n",
      "    (0): Discriminator_CNN(\n",
      "      (model): Sequential(\n",
      "        (0): Conv2d(1, 64, kernel_size=(4, 4), stride=(2, 2))\n",
      "        (1): LeakyReLU(negative_slope=0.2, inplace=True)\n",
      "        (2): Conv2d(64, 128, kernel_size=(4, 4), stride=(2, 2))\n",
      "        (3): LeakyReLU(negative_slope=0.2, inplace=True)\n",
      "        (4): Reshape(shape=(3200,))\n",
      "        (5): Linear(in_features=3200, out_features=1024, bias=True)\n",
      "        (6): LeakyReLU(negative_slope=0.2, inplace=True)\n",
      "        (7): Linear(in_features=1024, out_features=1, bias=True)\n",
      "      )\n",
      "    )\n",
      "    (1): Discriminator_CNN(\n",
      "      (model): Sequential(\n",
      "        (0): Conv2d(1, 64, kernel_size=(4, 4), stride=(2, 2))\n",
      "        (1): LeakyReLU(negative_slope=0.2, inplace=True)\n",
      "        (2): Conv2d(64, 128, kernel_size=(4, 4), stride=(2, 2))\n",
      "        (3): LeakyReLU(negative_slope=0.2, inplace=True)\n",
      "        (4): Reshape(shape=(3200,))\n",
      "        (5): Linear(in_features=3200, out_features=1024, bias=True)\n",
      "        (6): LeakyReLU(negative_slope=0.2, inplace=True)\n",
      "        (7): Linear(in_features=1024, out_features=1, bias=True)\n",
      "      )\n",
      "    )\n",
      "  )\n",
      "  (Es): ModuleList(\n",
      "    (0): Encoder_CNN(\n",
      "      (model): Sequential(\n",
      "        (0): Conv2d(1, 64, kernel_size=(4, 4), stride=(2, 2))\n",
      "        (1): LeakyReLU(negative_slope=0.2, inplace=True)\n",
      "        (2): Conv2d(64, 128, kernel_size=(4, 4), stride=(2, 2))\n",
      "        (3): LeakyReLU(negative_slope=0.2, inplace=True)\n",
      "        (4): Reshape(shape=(3200,))\n",
      "        (5): Linear(in_features=3200, out_features=1024, bias=True)\n",
      "        (6): LeakyReLU(negative_slope=0.2, inplace=True)\n",
      "        (7): Linear(in_features=1024, out_features=40, bias=True)\n",
      "      )\n",
      "    )\n",
      "    (1): Encoder_CNN(\n",
      "      (model): Sequential(\n",
      "        (0): Conv2d(1, 64, kernel_size=(4, 4), stride=(2, 2))\n",
      "        (1): LeakyReLU(negative_slope=0.2, inplace=True)\n",
      "        (2): Conv2d(64, 128, kernel_size=(4, 4), stride=(2, 2))\n",
      "        (3): LeakyReLU(negative_slope=0.2, inplace=True)\n",
      "        (4): Reshape(shape=(3200,))\n",
      "        (5): Linear(in_features=3200, out_features=1024, bias=True)\n",
      "        (6): LeakyReLU(negative_slope=0.2, inplace=True)\n",
      "        (7): Linear(in_features=1024, out_features=40, bias=True)\n",
      "      )\n",
      "    )\n",
      "  )\n",
      ")\n"
     ]
    }
   ],
   "source": [
    "print(net)"
   ]
  },
  {
   "cell_type": "code",
   "execution_count": 35,
   "id": "4a431857",
   "metadata": {},
   "outputs": [],
   "source": [
    "if cuda:\n",
    "    net.cuda()\n",
    "    bce_loss1.cuda()\n",
    "    bce_loss2.cuda()\n",
    "    xe_loss1.cuda()\n",
    "    xe_loss2.cuda()\n",
    "    mse_loss1.cuda()\n",
    "    mse_loss2.cuda()"
   ]
  },
  {
   "cell_type": "code",
   "execution_count": 36,
   "id": "dce601de",
   "metadata": {},
   "outputs": [],
   "source": [
    "Tensor = torch.cuda.FloatTensor if cuda else torch.FloatTensor"
   ]
  },
  {
   "cell_type": "code",
   "execution_count": 37,
   "id": "85b5dca1",
   "metadata": {},
   "outputs": [],
   "source": [
    "def dataloader_v2(dataset='mnist', anom='005', feat1='lbp', feat2='glcm', batch=64, shuffle=False):\n",
    "    if dataset == 'mnist':\n",
    "        return DataLoader(MNISTDataset(anom=anom, feat1=feat1, feat2=feat2), batch_size=batch, shuffle=shuffle)\n",
    "    elif dataset == 'fashionmnist':\n",
    "        return DataLoader(FashionMNISTDataset(anom=anom, feat1=feat1, feat2=feat2), batch_size=batch, shuffle=shuffle)\n",
    "    else:\n",
    "        raise ValueError('no dataset')"
   ]
  },
  {
   "cell_type": "code",
   "execution_count": 38,
   "id": "5b2f3b28",
   "metadata": {},
   "outputs": [],
   "source": [
    "# 加载Mutil-view-two-dataset\n",
    "loader = dataloader_v2(dataset=dataset, anom=anom, feat1=feat1, feat2=feat2, batch=batch_size, shuffle=True)"
   ]
  },
  {
   "cell_type": "code",
   "execution_count": 39,
   "id": "f31d01cf",
   "metadata": {},
   "outputs": [],
   "source": [
    "# 联合优化 G E，生成器 和 编码器\n",
    "GsEs_chain1 = ichain(net.Gs[0].parameters(), net.Es[0].parameters())\n",
    "GsEs_chain2 = ichain(net.Gs[1].parameters(), net.Es[1].parameters())\n",
    "optimizer_GsEs1 = torch.optim.Adam(GsEs_chain1, lr=lr1, betas=(b1, b2), weight_decay=decay)\n",
    "optimizer_GsEs2 = torch.optim.Adam(GsEs_chain2, lr=lr2, betas=(b1, b2), weight_decay=decay)"
   ]
  },
  {
   "cell_type": "code",
   "execution_count": 40,
   "id": "a208f7dc",
   "metadata": {},
   "outputs": [],
   "source": [
    " # 单独优化 D， 判别器 \n",
    "optimizer_Ds1 = torch.optim.Adam(net.Ds[0].parameters(), lr=lr1, betas=(b1, b2))\n",
    "optimizer_Ds2 = torch.optim.Adam(net.Ds[1].parameters(), lr=lr2, betas=(b1, b2))"
   ]
  },
  {
   "cell_type": "code",
   "execution_count": 41,
   "id": "fb7d5831",
   "metadata": {},
   "outputs": [],
   "source": [
    "#使用列表记录损失\n",
    "eval_ge_loss1 = []\n",
    "eval_ge_loss2 = []\n",
    "eval_d_loss1 = []\n",
    "eval_d_loss2 = []\n",
    "eval_auc = []"
   ]
  },
  {
   "cell_type": "code",
   "execution_count": 42,
   "id": "e2570452",
   "metadata": {},
   "outputs": [],
   "source": [
    "# Sample a random latent space vector\n",
    "# 随机生成噪声 隐空间上的向量\n",
    "def sample_z(shape=64, latent_dim=10, n_c=10, fix_class=-1, req_grad=False):  # shape就是img[0], 也就是batch_size\n",
    "\n",
    "    assert (fix_class == -1 or (fix_class >= 0 and fix_class < n_c)), \"Requested class %i outside bounds.\" % fix_class\n",
    "\n",
    "    # 将Tensor放到GPU上\n",
    "    Tensor = torch.cuda.FloatTensor if cuda else torch.FloatTensor\n",
    "\n",
    "    # Sample noise as generator input, zn\n",
    "    # 生成噪声zn\n",
    "    \"\"\"\n",
    "    Tensor是基本数据类型，Variable是对Tensor的封装。\n",
    "    Variable引入了计算图实现自动求导，backward(). Pytorch默认只进行一次自动求导，然后将计算图丢弃，如果想要多次求导需要retain_graph来保留计算图。\n",
    "    \"\"\"\n",
    "    zn = Variable(Tensor(0.75 * np.random.normal(0, 1, (shape, latent_dim))), requires_grad=req_grad)\n",
    "\n",
    "    ######### zc, zc_idx variables with grads, and zc to one-hot vector\n",
    "    # Pure one-hot vector generation\n",
    "    # 生成噪声zc 和 zc_idx\n",
    "    zc_FT = Tensor(shape, n_c).fill_(0)  # FloatTensor类型的张量，是empty的特例。初始化形状，用0填充。torch.zeros\n",
    "    zc_idx = torch.empty(shape, dtype=torch.long)  # empty创建任意类型的张量，使用参数才可以确定形状和数据类型。\n",
    "    \"\"\"\n",
    "    scatter(dim, index, src)\n",
    "    将src中的数据根据index中的索引按照dim的方向填入self.\n",
    "    \n",
    "    index必须是LongTensor类型，所以初始化zc_idx的时候创建的是torch.long类型的Tensor。\n",
    "    \n",
    "    Ex:\n",
    "    class_num = 10\n",
    "    batch_size = 4\n",
    "    label = torch.LongTensor(batch_size, 1).random_() % class_num\n",
    "    #tensor([[6],\n",
    "    #        [0],\n",
    "    #        [3],\n",
    "    #        [2]])\n",
    "    torch.zeros(batch_size, class_num).scatter_(1, label, 1)\n",
    "    #tensor([[0., 0., 0., 0., 0., 0., 1., 0., 0., 0.],\n",
    "    #        [1., 0., 0., 0., 0., 0., 0., 0., 0., 0.],\n",
    "    #        [0., 0., 0., 1., 0., 0., 0., 0., 0., 0.],\n",
    "    #        [0., 0., 1., 0., 0., 0., 0., 0., 0., 0.]])\n",
    "    \"\"\"\n",
    "\n",
    "    \"\"\"\n",
    "    unsqueeze(dim)\n",
    "    扩展维度\n",
    "    \n",
    "    [0, 1, 2, 3]\n",
    "    在dim上扩展，如dim=0在0维上加1。[[0, 1, 2, 3]]\n",
    "    dim=1在1维上加1[[0],\n",
    "                    [1],\n",
    "                    [2],\n",
    "                    [3]]\n",
    "    dim=-1是在最后一个维度上加1，也就是dim=1\n",
    "    dim=-2是在倒数第二个维度上加1，也就是dim=0\n",
    "    \"\"\"\n",
    "\n",
    "    \"\"\"\n",
    "    _xxx\n",
    "    in place操作\n",
    "    \n",
    "    inplace操作是指将新值赋到原变量地址上的操作。\n",
    "    \"\"\"\n",
    "    if (fix_class == -1):\n",
    "        zc_idx = zc_idx.random_(n_c).cuda() if cuda else zc_idx.random_(n_c)  # 用一个离散均匀分布来填充当前的张量。[from 0, to n_c]\n",
    "        zc_FT = zc_FT.scatter_(1, zc_idx.unsqueeze(1), 1.)  # 用于one-hot编码 zc_idx扩展为2维 zc_FT也就生成了二维上的one-hot编码\n",
    "        # zc_idx = torch.empty(shape, dtype=torch.long).random_(n_c).cuda()\n",
    "        # zc_FT = Tensor(shape, n_c).fill_(0).scatter_(1, zc_idx.unsqueeze(1), 1.)\n",
    "    else:\n",
    "        zc_idx[:] = fix_class\n",
    "        zc_FT[:, fix_class] = 1\n",
    "\n",
    "        zc_idx = zc_idx.cuda() if cuda else zc_idx\n",
    "        zc_FT = zc_FT.cuda() if cuda else zc_idx\n",
    "\n",
    "    zc = Variable(zc_FT, requires_grad=req_grad)\n",
    "\n",
    "    ## Gaussian-noisey vector generation\n",
    "    # zc = Variable(Tensor(np.random.normal(0, 1, (shape, n_c))), requires_grad=req_grad)\n",
    "    # zc = softmax(zc)\n",
    "    # zc_idx = torch.argmax(zc, dim=1)\n",
    "\n",
    "    # Return components of latent space variable\n",
    "    # zn[batch_size, 隐空间dim] zc[batch_size, 聚类个数c_n] zc_idx[batch_size]\n",
    "    return zn, zc, zc_idx"
   ]
  },
  {
   "cell_type": "code",
   "execution_count": 43,
   "id": "519c867f",
   "metadata": {},
   "outputs": [],
   "source": [
    "def softmax(x):\n",
    "    return F.softmax(x, dim=1)"
   ]
  },
  {
   "cell_type": "code",
   "execution_count": 44,
   "id": "9ddaa854",
   "metadata": {},
   "outputs": [],
   "source": [
    "def calc_gradient_penalty(netD, real_data, generated_data):\n",
    "    # GP strength\n",
    "    LAMBDA = 10\n",
    "\n",
    "    b_size = real_data.size()[0]\n",
    "\n",
    "    # Calculate interpolation\n",
    "    alpha = torch.rand(b_size, 1, 1, 1)\n",
    "    alpha = alpha.expand_as(real_data).cuda()\n",
    "\n",
    "    interpolated = alpha * real_data.data + (1 - alpha) * generated_data.data\n",
    "    interpolated = Variable(interpolated, requires_grad=True)\n",
    "    interpolated = interpolated.cuda() if cuda else interpolated\n",
    "\n",
    "    # Calculate probability of interpolated examples\n",
    "    prob_interpolated = netD(interpolated)\n",
    "\n",
    "    # Calculate gradients of probabilities with respect to examples\n",
    "    gradients = torch_grad(outputs=prob_interpolated, inputs=interpolated,\n",
    "                           grad_outputs=torch.ones(prob_interpolated.size()).cuda(),\n",
    "                           create_graph=True, retain_graph=True)[0]\n",
    "\n",
    "    # Gradients have shape (batch_size, num_channels, img_width, img_height),\n",
    "    # so flatten to easily take norm per example in batch\n",
    "    gradients = gradients.view(b_size, -1)\n",
    "\n",
    "    # Derivatives of the gradient close to 0 can cause problems because of\n",
    "    # the square root, so manually calculate norm and add epsilon\n",
    "    gradients_norm = torch.sqrt(torch.sum(gradients ** 2, dim=1) + 1e-12)\n",
    "\n",
    "    # Return gradient penalty\n",
    "    return LAMBDA * ((gradients_norm - 1) ** 2).mean()"
   ]
  },
  {
   "cell_type": "code",
   "execution_count": 45,
   "id": "0b46e2c9",
   "metadata": {},
   "outputs": [
    {
     "name": "stdout",
     "output_type": "stream",
     "text": [
      "\n",
      "Begin training session with 200 epochs...\n",
      "\n"
     ]
    }
   ],
   "source": [
    "print('\\nBegin training session with %i epochs...\\n' % n_epochs)"
   ]
  },
  {
   "cell_type": "code",
   "execution_count": 46,
   "id": "079747d0",
   "metadata": {
    "scrolled": true
   },
   "outputs": [
    {
     "name": "stderr",
     "output_type": "stream",
     "text": [
      "  0%|                                           | 0/200 [00:00<?, ?it/s]"
     ]
    },
    {
     "name": "stdout",
     "output_type": "stream",
     "text": [
      "[Epoch 0/200]\n",
      "Losses: [GE1: 28.79877471923828, GE2: 28.7906494140625] [D1: 9.712751388549805, D2: 9.73239803314209]\n",
      "[Epoch 0/200]\n",
      "Losses: [GE1: 8.776874542236328, GE2: 13.225286483764648] [D1: -8.927139282226562, D2: -9.196504592895508]\n",
      "[Epoch 0/200]\n",
      "Losses: [GE1: -2.9844846725463867, GE2: 3.4847850799560547] [D1: -8.087573051452637, D2: -6.56536340713501]\n",
      "[Epoch 0/200]\n",
      "Losses: [GE1: -10.218647956848145, GE2: -3.5255656242370605] [D1: -5.862199783325195, D2: -4.0558366775512695]\n",
      "[Epoch 0/200]\n",
      "Losses: [GE1: -12.272286415100098, GE2: -6.687191963195801] [D1: -4.644688606262207, D2: -2.340580463409424]\n",
      "[Epoch 0/200]\n",
      "Losses: [GE1: -13.004470825195312, GE2: -6.020285606384277] [D1: -3.38464093208313, D2: -1.5771033763885498]\n",
      "[Epoch 0/200]\n",
      "Losses: [GE1: -13.062996864318848, GE2: -3.8067057132720947] [D1: -3.641890525817871, D2: -1.2161779403686523]\n",
      "[Epoch 0/200]\n",
      "Losses: [GE1: -13.141030311584473, GE2: -3.2907538414001465] [D1: -4.065951347351074, D2: -1.2022665739059448]\n",
      "[Epoch 0/200]\n",
      "Losses: [GE1: -12.521296501159668, GE2: -2.31136417388916] [D1: -2.9009957313537598, D2: -1.1364282369613647]\n",
      "[Epoch 0/200]\n",
      "Losses: [GE1: -12.055731773376465, GE2: -0.5878938436508179] [D1: -2.63486647605896, D2: -1.2335532903671265]\n"
     ]
    },
    {
     "name": "stderr",
     "output_type": "stream",
     "text": [
      "  0%|▏                                | 1/200 [00:28<1:33:55, 28.32s/it]"
     ]
    },
    {
     "name": "stdout",
     "output_type": "stream",
     "text": [
      "[Epoch 1/200]\n",
      "Losses: [GE1: -12.379551887512207, GE2: -1.775989294052124] [D1: -2.725621223449707, D2: -1.1160577535629272]\n",
      "[Epoch 1/200]\n",
      "Losses: [GE1: -10.758749961853027, GE2: 1.6094465255737305] [D1: -2.9369704723358154, D2: -1.0525119304656982]\n",
      "[Epoch 1/200]\n",
      "Losses: [GE1: -11.931050300598145, GE2: 0.6038874387741089] [D1: -2.55379581451416, D2: -1.1454466581344604]\n",
      "[Epoch 1/200]\n",
      "Losses: [GE1: -11.14677619934082, GE2: 1.6182936429977417] [D1: -1.8165628910064697, D2: -1.1305900812149048]\n",
      "[Epoch 1/200]\n",
      "Losses: [GE1: -10.60329818725586, GE2: 1.4039275646209717] [D1: -2.3294148445129395, D2: -1.1521879434585571]\n",
      "[Epoch 1/200]\n",
      "Losses: [GE1: -9.872726440429688, GE2: 2.0056943893432617] [D1: -2.8693370819091797, D2: -1.1274114847183228]\n",
      "[Epoch 1/200]\n",
      "Losses: [GE1: -10.723907470703125, GE2: 0.7365561723709106] [D1: -2.521716833114624, D2: -1.1086794137954712]\n",
      "[Epoch 1/200]\n",
      "Losses: [GE1: -8.377752304077148, GE2: 2.0872974395751953] [D1: -1.3906906843185425, D2: -1.1013444662094116]\n",
      "[Epoch 1/200]\n",
      "Losses: [GE1: -8.867594718933105, GE2: 1.8732434511184692] [D1: -2.1453592777252197, D2: -1.094282865524292]\n",
      "[Epoch 1/200]\n",
      "Losses: [GE1: -7.849790096282959, GE2: 1.9687912464141846] [D1: -2.875786304473877, D2: -1.198211669921875]\n"
     ]
    },
    {
     "name": "stderr",
     "output_type": "stream",
     "text": [
      "  1%|▎                                | 2/200 [00:56<1:33:53, 28.45s/it]"
     ]
    },
    {
     "name": "stdout",
     "output_type": "stream",
     "text": [
      "[Epoch 2/200]\n",
      "Losses: [GE1: -8.732611656188965, GE2: 1.8767613172531128] [D1: -2.402657985687256, D2: -1.0838658809661865]\n",
      "[Epoch 2/200]\n",
      "Losses: [GE1: -7.227132797241211, GE2: 2.552117109298706] [D1: -2.1417927742004395, D2: -1.1848512887954712]\n",
      "[Epoch 2/200]\n",
      "Losses: [GE1: -9.160172462463379, GE2: 0.08294009417295456] [D1: -2.449389696121216, D2: -1.1032085418701172]\n",
      "[Epoch 2/200]\n",
      "Losses: [GE1: -8.68259048461914, GE2: -2.240567207336426] [D1: -2.947897434234619, D2: -1.091404676437378]\n",
      "[Epoch 2/200]\n",
      "Losses: [GE1: -7.977566242218018, GE2: 1.689997911453247] [D1: -2.249784231185913, D2: -0.8842623233795166]\n",
      "[Epoch 2/200]\n",
      "Losses: [GE1: -6.001159191131592, GE2: 1.7117791175842285] [D1: -3.463958263397217, D2: -0.9454188942909241]\n",
      "[Epoch 2/200]\n",
      "Losses: [GE1: -6.681489944458008, GE2: 1.8790055513381958] [D1: -1.4128614664077759, D2: -0.9741290807723999]\n",
      "[Epoch 2/200]\n",
      "Losses: [GE1: -5.712862968444824, GE2: 2.7857754230499268] [D1: -1.888409972190857, D2: -1.0029282569885254]\n",
      "[Epoch 2/200]\n",
      "Losses: [GE1: -5.798069477081299, GE2: 0.958079993724823] [D1: -1.5529359579086304, D2: -1.060396671295166]\n",
      "[Epoch 2/200]\n",
      "Losses: [GE1: -5.4044952392578125, GE2: 2.661027193069458] [D1: -1.839202880859375, D2: -0.9893638491630554]\n"
     ]
    },
    {
     "name": "stderr",
     "output_type": "stream",
     "text": [
      "  2%|▍                                | 3/200 [01:25<1:33:31, 28.49s/it]"
     ]
    },
    {
     "name": "stdout",
     "output_type": "stream",
     "text": [
      "[Epoch 3/200]\n",
      "Losses: [GE1: -3.318998098373413, GE2: 2.8947677612304688] [D1: -1.937252402305603, D2: -0.8596631288528442]\n",
      "[Epoch 3/200]\n",
      "Losses: [GE1: -4.483153343200684, GE2: 2.2108139991760254] [D1: -2.1034231185913086, D2: -0.9359561204910278]\n",
      "[Epoch 3/200]\n",
      "Losses: [GE1: -4.798503875732422, GE2: 1.1993072032928467] [D1: -1.7064473628997803, D2: -0.9074094891548157]\n",
      "[Epoch 3/200]\n",
      "Losses: [GE1: -3.9799458980560303, GE2: 1.5773845911026] [D1: -1.7859336137771606, D2: -0.9311584830284119]\n",
      "[Epoch 3/200]\n",
      "Losses: [GE1: -4.021800994873047, GE2: 0.6277527213096619] [D1: -3.084908962249756, D2: -0.9434165954589844]\n",
      "[Epoch 3/200]\n",
      "Losses: [GE1: -3.9778249263763428, GE2: 2.2287158966064453] [D1: -1.7876098155975342, D2: -0.9541407823562622]\n",
      "[Epoch 3/200]\n",
      "Losses: [GE1: -4.114141464233398, GE2: 0.00286022387444973] [D1: -3.021972894668579, D2: -0.9118223190307617]\n",
      "[Epoch 3/200]\n",
      "Losses: [GE1: -3.91206693649292, GE2: 2.653796911239624] [D1: -3.858558416366577, D2: -0.8799123167991638]\n",
      "[Epoch 3/200]\n",
      "Losses: [GE1: -3.0624794960021973, GE2: 1.042793869972229] [D1: -1.2881971597671509, D2: -0.8652644157409668]\n",
      "[Epoch 3/200]\n",
      "Losses: [GE1: -2.3732738494873047, GE2: 3.1712803840637207] [D1: -2.05208683013916, D2: -0.73345947265625]\n"
     ]
    },
    {
     "name": "stderr",
     "output_type": "stream",
     "text": [
      "  2%|▋                                | 4/200 [01:54<1:33:08, 28.51s/it]"
     ]
    },
    {
     "name": "stdout",
     "output_type": "stream",
     "text": [
      "[Epoch 4/200]\n",
      "Losses: [GE1: -1.9091018438339233, GE2: 2.056300640106201] [D1: -3.157163619995117, D2: -0.8591445684432983]\n",
      "[Epoch 4/200]\n",
      "Losses: [GE1: -2.568953037261963, GE2: 2.8011066913604736] [D1: -1.591723918914795, D2: -0.8627676963806152]\n",
      "[Epoch 4/200]\n",
      "Losses: [GE1: -1.334301471710205, GE2: 1.9784727096557617] [D1: -1.5165737867355347, D2: -0.7056319713592529]\n",
      "[Epoch 4/200]\n",
      "Losses: [GE1: -1.1508710384368896, GE2: 4.253783226013184] [D1: -1.644949197769165, D2: -0.9584783315658569]\n",
      "[Epoch 4/200]\n",
      "Losses: [GE1: -1.972847580909729, GE2: 1.766450047492981] [D1: -2.308298110961914, D2: -0.7226594686508179]\n",
      "[Epoch 4/200]\n",
      "Losses: [GE1: 0.2472662478685379, GE2: 3.3286595344543457] [D1: -1.6947497129440308, D2: -0.7954466342926025]\n",
      "[Epoch 4/200]\n",
      "Losses: [GE1: 0.06780711561441422, GE2: 2.6652729511260986] [D1: -1.530457615852356, D2: -0.7382521033287048]\n",
      "[Epoch 4/200]\n",
      "Losses: [GE1: -0.30471882224082947, GE2: 1.1669583320617676] [D1: -1.5833287239074707, D2: -0.6828144192695618]\n",
      "[Epoch 4/200]\n",
      "Losses: [GE1: 1.0024079084396362, GE2: 3.664850950241089] [D1: -2.873547315597534, D2: -0.572542667388916]\n",
      "[Epoch 4/200]\n",
      "Losses: [GE1: 1.0121601819992065, GE2: 2.6310417652130127] [D1: -2.3717103004455566, D2: -0.5445343852043152]\n"
     ]
    },
    {
     "name": "stderr",
     "output_type": "stream",
     "text": [
      "  2%|▊                                | 5/200 [02:22<1:32:45, 28.54s/it]"
     ]
    },
    {
     "name": "stdout",
     "output_type": "stream",
     "text": [
      "[Epoch 5/200]\n",
      "Losses: [GE1: 0.055352583527565, GE2: 1.2065550088882446] [D1: -2.159858226776123, D2: -0.5899698734283447]\n",
      "[Epoch 5/200]\n",
      "Losses: [GE1: 1.263056755065918, GE2: 2.3693151473999023] [D1: -2.2008635997772217, D2: -0.6845755577087402]\n",
      "[Epoch 5/200]\n",
      "Losses: [GE1: 1.9342992305755615, GE2: 2.847999095916748] [D1: -3.4125242233276367, D2: -0.7303323745727539]\n",
      "[Epoch 5/200]\n",
      "Losses: [GE1: 1.2068053483963013, GE2: 3.276643753051758] [D1: -1.1575305461883545, D2: -0.6944096684455872]\n",
      "[Epoch 5/200]\n",
      "Losses: [GE1: 2.5087943077087402, GE2: 2.2160871028900146] [D1: -1.784120798110962, D2: -0.6709529757499695]\n",
      "[Epoch 5/200]\n",
      "Losses: [GE1: 2.855747699737549, GE2: 2.857198715209961] [D1: -2.4305896759033203, D2: -0.6791797280311584]\n",
      "[Epoch 5/200]\n",
      "Losses: [GE1: 2.2741200923919678, GE2: 1.3181121349334717] [D1: -1.833485722541809, D2: -0.6266523599624634]\n",
      "[Epoch 5/200]\n",
      "Losses: [GE1: 4.621012210845947, GE2: 2.7615814208984375] [D1: -1.5429655313491821, D2: -0.7163861393928528]\n",
      "[Epoch 5/200]\n",
      "Losses: [GE1: 3.303438901901245, GE2: 3.6196508407592773] [D1: -1.8502393960952759, D2: -0.36551132798194885]\n",
      "[Epoch 5/200]\n",
      "Losses: [GE1: 2.9186394214630127, GE2: 1.2946293354034424] [D1: -2.285505771636963, D2: -0.6165300607681274]\n"
     ]
    },
    {
     "name": "stderr",
     "output_type": "stream",
     "text": [
      "  3%|▉                                | 6/200 [02:51<1:32:18, 28.55s/it]"
     ]
    },
    {
     "name": "stdout",
     "output_type": "stream",
     "text": [
      "[Epoch 6/200]\n",
      "Losses: [GE1: 3.553252696990967, GE2: 1.9718741178512573] [D1: -2.3933634757995605, D2: -0.5738237500190735]\n",
      "[Epoch 6/200]\n",
      "Losses: [GE1: 3.6761467456817627, GE2: 0.5209375023841858] [D1: -2.4854819774627686, D2: -0.619074821472168]\n",
      "[Epoch 6/200]\n",
      "Losses: [GE1: 3.8762388229370117, GE2: 1.6399871110916138] [D1: -2.68939208984375, D2: -0.6103608012199402]\n",
      "[Epoch 6/200]\n",
      "Losses: [GE1: 4.280445575714111, GE2: 1.8427268266677856] [D1: -2.0593814849853516, D2: -0.5674487948417664]\n",
      "[Epoch 6/200]\n",
      "Losses: [GE1: 4.80742883682251, GE2: 1.20138680934906] [D1: -2.657489776611328, D2: -0.6168068051338196]\n",
      "[Epoch 6/200]\n",
      "Losses: [GE1: 5.627295017242432, GE2: 2.555741786956787] [D1: -2.01173734664917, D2: -0.6346309185028076]\n",
      "[Epoch 6/200]\n",
      "Losses: [GE1: 4.604371547698975, GE2: 1.527999997138977] [D1: -1.677932858467102, D2: -0.5783692002296448]\n",
      "[Epoch 6/200]\n",
      "Losses: [GE1: 4.396251678466797, GE2: 2.765099287033081] [D1: -2.1973283290863037, D2: -0.8167132139205933]\n",
      "[Epoch 6/200]\n",
      "Losses: [GE1: 5.686975479125977, GE2: 3.006781816482544] [D1: -2.011197805404663, D2: -0.49668532609939575]\n",
      "[Epoch 6/200]\n",
      "Losses: [GE1: 5.596508502960205, GE2: 1.44273841381073] [D1: -2.408457040786743, D2: -0.6841028928756714]\n"
     ]
    },
    {
     "name": "stderr",
     "output_type": "stream",
     "text": [
      "  4%|█▏                               | 7/200 [03:19<1:31:41, 28.51s/it]"
     ]
    },
    {
     "name": "stdout",
     "output_type": "stream",
     "text": [
      "[Epoch 7/200]\n",
      "Losses: [GE1: 5.136467456817627, GE2: 1.52775239944458] [D1: -3.7053914070129395, D2: -0.6280405521392822]\n",
      "[Epoch 7/200]\n",
      "Losses: [GE1: 3.830611228942871, GE2: -0.044584885239601135] [D1: -1.9376730918884277, D2: -0.5796605348587036]\n",
      "[Epoch 7/200]\n",
      "Losses: [GE1: 4.6578216552734375, GE2: -0.8547891974449158] [D1: -3.5524463653564453, D2: -0.6197361946105957]\n",
      "[Epoch 7/200]\n",
      "Losses: [GE1: 4.060407638549805, GE2: 0.7038628458976746] [D1: -2.186399459838867, D2: -0.5551328659057617]\n",
      "[Epoch 7/200]\n",
      "Losses: [GE1: 4.674210548400879, GE2: 0.17895649373531342] [D1: -2.6697940826416016, D2: -0.5180990695953369]\n",
      "[Epoch 7/200]\n",
      "Losses: [GE1: 6.291807174682617, GE2: 0.3229445815086365] [D1: -2.944880723953247, D2: -0.531995415687561]\n",
      "[Epoch 7/200]\n",
      "Losses: [GE1: 5.919309139251709, GE2: -0.9491396546363831] [D1: -1.7835767269134521, D2: -0.4524078667163849]\n",
      "[Epoch 7/200]\n",
      "Losses: [GE1: 6.125556945800781, GE2: 0.17024025321006775] [D1: -2.3797926902770996, D2: -0.580981969833374]\n",
      "[Epoch 7/200]\n",
      "Losses: [GE1: 6.9940900802612305, GE2: -0.4762750267982483] [D1: -1.6338614225387573, D2: -0.4978065490722656]\n",
      "[Epoch 7/200]\n",
      "Losses: [GE1: 6.398899555206299, GE2: -1.8825995922088623] [D1: -1.1088011264801025, D2: -0.5710766315460205]\n"
     ]
    },
    {
     "name": "stderr",
     "output_type": "stream",
     "text": [
      "  4%|█▎                               | 8/200 [03:47<1:31:11, 28.50s/it]"
     ]
    },
    {
     "name": "stdout",
     "output_type": "stream",
     "text": [
      "[Epoch 8/200]\n",
      "Losses: [GE1: 6.387256145477295, GE2: 0.6839632987976074] [D1: -1.836348295211792, D2: -0.4545028507709503]\n",
      "[Epoch 8/200]\n",
      "Losses: [GE1: 5.590726852416992, GE2: -0.6898383498191833] [D1: -1.8690221309661865, D2: -0.5524676442146301]\n",
      "[Epoch 8/200]\n",
      "Losses: [GE1: 4.993959903717041, GE2: -1.5559301376342773] [D1: -1.7049154043197632, D2: -0.4654005467891693]\n",
      "[Epoch 8/200]\n",
      "Losses: [GE1: 5.898029804229736, GE2: -0.6320810317993164] [D1: -2.411867618560791, D2: -0.4902239441871643]\n",
      "[Epoch 8/200]\n",
      "Losses: [GE1: 5.116979122161865, GE2: -0.0817834734916687] [D1: -2.893068790435791, D2: -0.4993561804294586]\n",
      "[Epoch 8/200]\n",
      "Losses: [GE1: 5.366081714630127, GE2: -0.6675804853439331] [D1: -1.0528926849365234, D2: -0.5609676837921143]\n",
      "[Epoch 8/200]\n",
      "Losses: [GE1: 7.241263389587402, GE2: -2.1207592487335205] [D1: -2.431029796600342, D2: -0.6641094088554382]\n",
      "[Epoch 8/200]\n",
      "Losses: [GE1: 5.560423374176025, GE2: -0.7768981456756592] [D1: -2.290365695953369, D2: -0.5308610796928406]\n",
      "[Epoch 8/200]\n",
      "Losses: [GE1: 6.4946160316467285, GE2: -0.5987025499343872] [D1: -1.9437639713287354, D2: -0.5396198034286499]\n",
      "[Epoch 8/200]\n",
      "Losses: [GE1: 7.118719577789307, GE2: -1.1358195543289185] [D1: -1.8310999870300293, D2: -0.5795146226882935]\n"
     ]
    },
    {
     "name": "stderr",
     "output_type": "stream",
     "text": [
      "  4%|█▍                               | 9/200 [04:16<1:30:43, 28.50s/it]"
     ]
    },
    {
     "name": "stdout",
     "output_type": "stream",
     "text": [
      "[Epoch 9/200]\n",
      "Losses: [GE1: 8.110431671142578, GE2: -0.475270539522171] [D1: -3.0241284370422363, D2: -0.5046640634536743]\n",
      "[Epoch 9/200]\n",
      "Losses: [GE1: 7.7061262130737305, GE2: -1.6160264015197754] [D1: -1.9428788423538208, D2: -0.5417890548706055]\n",
      "[Epoch 9/200]\n",
      "Losses: [GE1: 8.105204582214355, GE2: -2.47472882270813] [D1: -2.326524019241333, D2: -0.6230753064155579]\n",
      "[Epoch 9/200]\n",
      "Losses: [GE1: 6.916057586669922, GE2: -1.0267494916915894] [D1: -4.390899658203125, D2: -0.5516537427902222]\n",
      "[Epoch 9/200]\n",
      "Losses: [GE1: 7.102887153625488, GE2: -2.61272931098938] [D1: -1.761103630065918, D2: -0.595676600933075]\n",
      "[Epoch 9/200]\n",
      "Losses: [GE1: 6.955994129180908, GE2: -2.4941189289093018] [D1: -1.2272155284881592, D2: -0.5275921821594238]\n",
      "[Epoch 9/200]\n",
      "Losses: [GE1: 6.9437947273254395, GE2: -0.9884144067764282] [D1: -1.7179646492004395, D2: -0.5767729878425598]\n",
      "[Epoch 9/200]\n",
      "Losses: [GE1: 6.670845985412598, GE2: -1.3448801040649414] [D1: -2.2284388542175293, D2: -0.34949547052383423]\n",
      "[Epoch 9/200]\n",
      "Losses: [GE1: 8.016436576843262, GE2: -2.6872217655181885] [D1: -1.6302309036254883, D2: -0.7839647531509399]\n",
      "[Epoch 9/200]\n",
      "Losses: [GE1: 7.124997138977051, GE2: -2.6265459060668945] [D1: -2.406085968017578, D2: -0.49419859051704407]\n"
     ]
    },
    {
     "name": "stderr",
     "output_type": "stream",
     "text": [
      "  5%|█▌                              | 10/200 [04:45<1:30:16, 28.51s/it]"
     ]
    },
    {
     "name": "stdout",
     "output_type": "stream",
     "text": [
      "[Epoch 10/200]\n",
      "Losses: [GE1: 7.793983459472656, GE2: -1.2814419269561768] [D1: -1.63103187084198, D2: -0.4490760862827301]\n",
      "[Epoch 10/200]\n",
      "Losses: [GE1: 7.652787208557129, GE2: -0.7637738585472107] [D1: -2.1736440658569336, D2: -0.5518686175346375]\n",
      "[Epoch 10/200]\n",
      "Losses: [GE1: 7.19139289855957, GE2: -0.9244899749755859] [D1: -1.464629054069519, D2: -0.5380495190620422]\n",
      "[Epoch 10/200]\n",
      "Losses: [GE1: 7.974114418029785, GE2: -2.719289541244507] [D1: -1.637425422668457, D2: -0.5304388999938965]\n",
      "[Epoch 10/200]\n",
      "Losses: [GE1: 8.119196891784668, GE2: -1.6313644647598267] [D1: -1.7288485765457153, D2: -0.5041792392730713]\n",
      "[Epoch 10/200]\n",
      "Losses: [GE1: 8.443017959594727, GE2: -1.7655773162841797] [D1: -2.718731164932251, D2: -0.5408411622047424]\n",
      "[Epoch 10/200]\n",
      "Losses: [GE1: 8.688985824584961, GE2: -1.6922301054000854] [D1: -2.6526336669921875, D2: -0.483159601688385]\n",
      "[Epoch 10/200]\n",
      "Losses: [GE1: 8.183916091918945, GE2: -1.5694721937179565] [D1: -2.5662288665771484, D2: -0.34354645013809204]\n",
      "[Epoch 10/200]\n",
      "Losses: [GE1: 6.304234504699707, GE2: -0.8653425574302673] [D1: -2.1245369911193848, D2: -0.5668088793754578]\n",
      "[Epoch 10/200]\n",
      "Losses: [GE1: 8.279613494873047, GE2: -2.2606077194213867] [D1: -2.5992159843444824, D2: -0.4945961833000183]\n"
     ]
    },
    {
     "name": "stderr",
     "output_type": "stream",
     "text": [
      "  6%|█▊                              | 11/200 [05:13<1:29:48, 28.51s/it]"
     ]
    },
    {
     "name": "stdout",
     "output_type": "stream",
     "text": [
      "[Epoch 11/200]\n",
      "Losses: [GE1: 8.816758155822754, GE2: -2.6119062900543213] [D1: -2.904484272003174, D2: -0.46777456998825073]\n",
      "[Epoch 11/200]\n",
      "Losses: [GE1: 8.80451774597168, GE2: -1.7014524936676025] [D1: -2.688384532928467, D2: -0.5766395330429077]\n",
      "[Epoch 11/200]\n",
      "Losses: [GE1: 8.207222938537598, GE2: -2.2845981121063232] [D1: -2.366424083709717, D2: -0.4203237295150757]\n",
      "[Epoch 11/200]\n",
      "Losses: [GE1: 8.391268730163574, GE2: -2.425816297531128] [D1: -1.8513215780258179, D2: -0.5429999828338623]\n",
      "[Epoch 11/200]\n",
      "Losses: [GE1: 8.878859519958496, GE2: -2.563838005065918] [D1: -2.4281063079833984, D2: -0.4531240463256836]\n",
      "[Epoch 11/200]\n",
      "Losses: [GE1: 8.953917503356934, GE2: -2.8094229698181152] [D1: -2.1265652179718018, D2: -0.38116949796676636]\n",
      "[Epoch 11/200]\n",
      "Losses: [GE1: 8.136920928955078, GE2: -2.001258373260498] [D1: -2.174459457397461, D2: -0.38766053318977356]\n",
      "[Epoch 11/200]\n",
      "Losses: [GE1: 7.956902503967285, GE2: -3.0017082691192627] [D1: -1.976940393447876, D2: -0.4859810471534729]\n",
      "[Epoch 11/200]\n",
      "Losses: [GE1: 8.422107696533203, GE2: -2.5167834758758545] [D1: -3.5332462787628174, D2: -0.44678935408592224]\n",
      "[Epoch 11/200]\n",
      "Losses: [GE1: 8.452505111694336, GE2: -2.8510923385620117] [D1: -3.0893938541412354, D2: -0.565158486366272]\n"
     ]
    },
    {
     "name": "stderr",
     "output_type": "stream",
     "text": [
      "  6%|█▉                              | 12/200 [05:41<1:29:17, 28.50s/it]"
     ]
    },
    {
     "name": "stdout",
     "output_type": "stream",
     "text": [
      "[Epoch 12/200]\n",
      "Losses: [GE1: 8.628405570983887, GE2: -2.0102899074554443] [D1: -1.790647268295288, D2: -0.5092402100563049]\n",
      "[Epoch 12/200]\n",
      "Losses: [GE1: 7.79547119140625, GE2: -2.1833877563476562] [D1: -2.918545722961426, D2: -0.5962462425231934]\n",
      "[Epoch 12/200]\n",
      "Losses: [GE1: 8.789582252502441, GE2: -2.834441900253296] [D1: -2.907358169555664, D2: -0.4988301694393158]\n",
      "[Epoch 12/200]\n",
      "Losses: [GE1: 7.353912830352783, GE2: -2.879089593887329] [D1: -1.8425301313400269, D2: -0.4324314594268799]\n",
      "[Epoch 12/200]\n",
      "Losses: [GE1: 8.718196868896484, GE2: -2.0806972980499268] [D1: -1.5132298469543457, D2: -0.4403730034828186]\n",
      "[Epoch 12/200]\n",
      "Losses: [GE1: 8.992277145385742, GE2: -2.9437527656555176] [D1: -2.582106828689575, D2: -0.4927358031272888]\n",
      "[Epoch 12/200]\n",
      "Losses: [GE1: 9.88400936126709, GE2: -3.0355942249298096] [D1: -3.405284881591797, D2: -0.5344371199607849]\n",
      "[Epoch 12/200]\n",
      "Losses: [GE1: 9.887682914733887, GE2: -3.274111270904541] [D1: -2.702387809753418, D2: -0.4063781499862671]\n",
      "[Epoch 12/200]\n",
      "Losses: [GE1: 8.478631973266602, GE2: -2.86134672164917] [D1: -1.2749357223510742, D2: -0.5142327547073364]\n",
      "[Epoch 12/200]\n",
      "Losses: [GE1: 8.298025131225586, GE2: -3.720609664916992] [D1: -1.370909333229065, D2: -0.5677270889282227]\n"
     ]
    },
    {
     "name": "stderr",
     "output_type": "stream",
     "text": [
      "  6%|██                              | 13/200 [06:10<1:28:49, 28.50s/it]"
     ]
    },
    {
     "name": "stdout",
     "output_type": "stream",
     "text": [
      "[Epoch 13/200]\n",
      "Losses: [GE1: 8.56596565246582, GE2: -2.1409966945648193] [D1: -2.5126514434814453, D2: -0.31296706199645996]\n",
      "[Epoch 13/200]\n",
      "Losses: [GE1: 8.893383026123047, GE2: -2.576296329498291] [D1: -2.6076948642730713, D2: -0.4050899147987366]\n",
      "[Epoch 13/200]\n",
      "Losses: [GE1: 7.866415977478027, GE2: -3.104494333267212] [D1: -1.6518430709838867, D2: -0.5027077794075012]\n",
      "[Epoch 13/200]\n",
      "Losses: [GE1: 9.023265838623047, GE2: -3.1566286087036133] [D1: -2.1104989051818848, D2: -0.4084622859954834]\n",
      "[Epoch 13/200]\n",
      "Losses: [GE1: 7.779028415679932, GE2: -3.4024312496185303] [D1: -1.9610943794250488, D2: -0.42873406410217285]\n",
      "[Epoch 13/200]\n",
      "Losses: [GE1: 8.887702941894531, GE2: -3.1831018924713135] [D1: -1.7466034889221191, D2: -0.45820242166519165]\n",
      "[Epoch 13/200]\n",
      "Losses: [GE1: 10.676824569702148, GE2: -2.7766501903533936] [D1: -1.4376702308654785, D2: -0.3994902968406677]\n",
      "[Epoch 13/200]\n",
      "Losses: [GE1: 7.910689830780029, GE2: -2.4426796436309814] [D1: -3.0696663856506348, D2: -0.5475659370422363]\n",
      "[Epoch 13/200]\n",
      "Losses: [GE1: 8.65274715423584, GE2: -2.539708375930786] [D1: -1.0048799514770508, D2: -0.42315807938575745]\n",
      "[Epoch 13/200]\n",
      "Losses: [GE1: 8.071089744567871, GE2: -2.661736488342285] [D1: -2.438138246536255, D2: -0.4160819351673126]\n"
     ]
    },
    {
     "name": "stderr",
     "output_type": "stream",
     "text": [
      "  7%|██▏                             | 14/200 [06:38<1:28:19, 28.49s/it]"
     ]
    },
    {
     "name": "stdout",
     "output_type": "stream",
     "text": [
      "[Epoch 14/200]\n",
      "Losses: [GE1: 7.772953510284424, GE2: -2.408374547958374] [D1: -2.825702667236328, D2: -0.47953468561172485]\n",
      "[Epoch 14/200]\n",
      "Losses: [GE1: 9.250001907348633, GE2: -2.3654558658599854] [D1: -2.235381841659546, D2: -0.4346754550933838]\n",
      "[Epoch 14/200]\n",
      "Losses: [GE1: 8.652113914489746, GE2: -2.8492400646209717] [D1: -3.8682312965393066, D2: -0.46923285722732544]\n",
      "[Epoch 14/200]\n",
      "Losses: [GE1: 7.8491435050964355, GE2: -3.068681478500366] [D1: -3.50187349319458, D2: -0.4594269394874573]\n",
      "[Epoch 14/200]\n",
      "Losses: [GE1: 9.20981502532959, GE2: -2.971295118331909] [D1: -2.773803949356079, D2: -0.3812327980995178]\n",
      "[Epoch 14/200]\n",
      "Losses: [GE1: 8.697883605957031, GE2: -2.4623122215270996] [D1: -2.048889636993408, D2: -0.4532986879348755]\n",
      "[Epoch 14/200]\n",
      "Losses: [GE1: 9.306153297424316, GE2: -2.725282669067383] [D1: -2.0117759704589844, D2: -0.4641696512699127]\n",
      "[Epoch 14/200]\n",
      "Losses: [GE1: 9.184914588928223, GE2: -2.879159450531006] [D1: -2.673053026199341, D2: -0.4282989203929901]\n",
      "[Epoch 14/200]\n",
      "Losses: [GE1: 8.708639144897461, GE2: -2.9406073093414307] [D1: -1.6648519039154053, D2: -0.4170653820037842]\n",
      "[Epoch 14/200]\n",
      "Losses: [GE1: 7.7107086181640625, GE2: -3.365656852722168] [D1: -1.7784730195999146, D2: -0.5003753900527954]\n"
     ]
    },
    {
     "name": "stderr",
     "output_type": "stream",
     "text": [
      "  8%|██▍                             | 15/200 [07:07<1:27:49, 28.48s/it]"
     ]
    },
    {
     "name": "stdout",
     "output_type": "stream",
     "text": [
      "[Epoch 15/200]\n",
      "Losses: [GE1: 8.487698554992676, GE2: -2.487415075302124] [D1: -3.0341992378234863, D2: -0.5715401768684387]\n",
      "[Epoch 15/200]\n",
      "Losses: [GE1: 9.99969482421875, GE2: -2.370253562927246] [D1: -1.9940686225891113, D2: -0.31195753812789917]\n",
      "[Epoch 15/200]\n",
      "Losses: [GE1: 8.122547149658203, GE2: -3.174109935760498] [D1: -2.0107152462005615, D2: -0.6314878463745117]\n",
      "[Epoch 15/200]\n",
      "Losses: [GE1: 9.3771390914917, GE2: -2.4270901679992676] [D1: -3.5950710773468018, D2: -0.5175296068191528]\n",
      "[Epoch 15/200]\n",
      "Losses: [GE1: 8.856963157653809, GE2: -3.3085246086120605] [D1: -1.7208476066589355, D2: -0.3879789710044861]\n",
      "[Epoch 15/200]\n",
      "Losses: [GE1: 8.922237396240234, GE2: -3.2403712272644043] [D1: -2.7086026668548584, D2: -0.4066796898841858]\n",
      "[Epoch 15/200]\n",
      "Losses: [GE1: 9.001656532287598, GE2: -2.8492000102996826] [D1: -2.302441358566284, D2: -0.3854376971721649]\n",
      "[Epoch 15/200]\n",
      "Losses: [GE1: 9.176807403564453, GE2: -2.926767349243164] [D1: -1.814748764038086, D2: -0.46311041712760925]\n",
      "[Epoch 15/200]\n",
      "Losses: [GE1: 8.47626781463623, GE2: -2.510862350463867] [D1: -2.2177793979644775, D2: -0.4223414659500122]\n",
      "[Epoch 15/200]\n",
      "Losses: [GE1: 8.37830924987793, GE2: -2.471381902694702] [D1: -2.222076416015625, D2: -0.5073086023330688]\n"
     ]
    },
    {
     "name": "stderr",
     "output_type": "stream",
     "text": [
      "  8%|██▌                             | 16/200 [07:35<1:27:19, 28.48s/it]"
     ]
    },
    {
     "name": "stdout",
     "output_type": "stream",
     "text": [
      "[Epoch 16/200]\n",
      "Losses: [GE1: 7.593252658843994, GE2: -3.518902063369751] [D1: -1.992516040802002, D2: -0.33494865894317627]\n",
      "[Epoch 16/200]\n",
      "Losses: [GE1: 8.36656665802002, GE2: -2.739734172821045] [D1: -1.9353541135787964, D2: -0.45865321159362793]\n",
      "[Epoch 16/200]\n",
      "Losses: [GE1: 7.804254531860352, GE2: -2.344224214553833] [D1: -2.5520987510681152, D2: -0.4867004156112671]\n",
      "[Epoch 16/200]\n",
      "Losses: [GE1: 8.202713966369629, GE2: -2.669250011444092] [D1: -1.156357765197754, D2: -0.49258431792259216]\n",
      "[Epoch 16/200]\n",
      "Losses: [GE1: 8.969741821289062, GE2: -2.569071054458618] [D1: -2.7744452953338623, D2: -0.3409905433654785]\n",
      "[Epoch 16/200]\n",
      "Losses: [GE1: 8.009099960327148, GE2: -3.037006139755249] [D1: -1.670015811920166, D2: -0.3950393497943878]\n",
      "[Epoch 16/200]\n",
      "Losses: [GE1: 7.609598636627197, GE2: -3.690037727355957] [D1: -2.989884853363037, D2: -0.5706530213356018]\n",
      "[Epoch 16/200]\n",
      "Losses: [GE1: 7.818136692047119, GE2: -3.009702444076538] [D1: -1.7312653064727783, D2: -0.5364105701446533]\n",
      "[Epoch 16/200]\n",
      "Losses: [GE1: 8.499750137329102, GE2: -3.0898752212524414] [D1: -2.4649553298950195, D2: -0.41941097378730774]\n",
      "[Epoch 16/200]\n",
      "Losses: [GE1: 7.067999362945557, GE2: -2.4813907146453857] [D1: -2.317378044128418, D2: -0.4562045931816101]\n"
     ]
    },
    {
     "name": "stderr",
     "output_type": "stream",
     "text": [
      "  8%|██▋                             | 17/200 [08:04<1:26:50, 28.47s/it]"
     ]
    },
    {
     "name": "stdout",
     "output_type": "stream",
     "text": [
      "[Epoch 17/200]\n",
      "Losses: [GE1: 8.54017448425293, GE2: -3.2961952686309814] [D1: -2.958637237548828, D2: -0.5480074882507324]\n",
      "[Epoch 17/200]\n",
      "Losses: [GE1: 7.462526798248291, GE2: -3.1398441791534424] [D1: -2.249856948852539, D2: -0.36501848697662354]\n",
      "[Epoch 17/200]\n",
      "Losses: [GE1: 7.929548263549805, GE2: -2.4019405841827393] [D1: -1.9419434070587158, D2: -0.36444011330604553]\n",
      "[Epoch 17/200]\n",
      "Losses: [GE1: 6.991384029388428, GE2: -2.3189916610717773] [D1: -2.1297850608825684, D2: -0.5052273273468018]\n",
      "[Epoch 17/200]\n",
      "Losses: [GE1: 6.659780502319336, GE2: -2.949965715408325] [D1: -2.5486550331115723, D2: -0.49169909954071045]\n",
      "[Epoch 17/200]\n",
      "Losses: [GE1: 8.59945297241211, GE2: -3.435830593109131] [D1: -2.3542089462280273, D2: -0.4091964364051819]\n",
      "[Epoch 17/200]\n",
      "Losses: [GE1: 7.184539318084717, GE2: -3.0445501804351807] [D1: -1.3931375741958618, D2: -0.4568704664707184]\n",
      "[Epoch 17/200]\n",
      "Losses: [GE1: 8.031124114990234, GE2: -3.2937681674957275] [D1: -2.046726703643799, D2: -0.47978469729423523]\n",
      "[Epoch 17/200]\n",
      "Losses: [GE1: 8.137436866760254, GE2: -2.940120220184326] [D1: -1.9795688390731812, D2: -0.4708947539329529]\n",
      "[Epoch 17/200]\n",
      "Losses: [GE1: 7.481144905090332, GE2: -2.7510905265808105] [D1: -2.8011417388916016, D2: -0.4477355182170868]\n"
     ]
    },
    {
     "name": "stderr",
     "output_type": "stream",
     "text": [
      "  9%|██▉                             | 18/200 [08:32<1:26:22, 28.48s/it]"
     ]
    },
    {
     "name": "stdout",
     "output_type": "stream",
     "text": [
      "[Epoch 18/200]\n",
      "Losses: [GE1: 6.950973033905029, GE2: -2.4242706298828125] [D1: -1.7258100509643555, D2: -0.5309987664222717]\n",
      "[Epoch 18/200]\n",
      "Losses: [GE1: 7.29850959777832, GE2: -2.323439836502075] [D1: -3.613278865814209, D2: -0.5391102433204651]\n",
      "[Epoch 18/200]\n",
      "Losses: [GE1: 7.5026326179504395, GE2: -2.288468599319458] [D1: -2.6411705017089844, D2: -0.5218477845191956]\n",
      "[Epoch 18/200]\n",
      "Losses: [GE1: 7.712015151977539, GE2: -3.1214277744293213] [D1: -2.4779372215270996, D2: -0.6269016861915588]\n",
      "[Epoch 18/200]\n",
      "Losses: [GE1: 8.355209350585938, GE2: -2.6115052700042725] [D1: -1.9097723960876465, D2: -0.5103603601455688]\n",
      "[Epoch 18/200]\n",
      "Losses: [GE1: 8.050196647644043, GE2: -2.423586845397949] [D1: -2.883054733276367, D2: -0.5002976059913635]\n",
      "[Epoch 18/200]\n",
      "Losses: [GE1: 7.172962188720703, GE2: -2.4966530799865723] [D1: -1.6288666725158691, D2: -0.46033841371536255]\n",
      "[Epoch 18/200]\n",
      "Losses: [GE1: 6.841154098510742, GE2: -2.556752920150757] [D1: -3.3047614097595215, D2: -0.4336850345134735]\n",
      "[Epoch 18/200]\n",
      "Losses: [GE1: 7.356459617614746, GE2: -3.245671510696411] [D1: -1.5669276714324951, D2: -0.4767344892024994]\n",
      "[Epoch 18/200]\n",
      "Losses: [GE1: 6.863224029541016, GE2: -2.9806151390075684] [D1: -2.0379180908203125, D2: -0.35919758677482605]\n"
     ]
    },
    {
     "name": "stderr",
     "output_type": "stream",
     "text": [
      " 10%|███                             | 19/200 [09:01<1:25:54, 28.48s/it]"
     ]
    },
    {
     "name": "stdout",
     "output_type": "stream",
     "text": [
      "[Epoch 19/200]\n",
      "Losses: [GE1: 7.303956031799316, GE2: -2.834125280380249] [D1: -2.6647183895111084, D2: -0.46357306838035583]\n",
      "[Epoch 19/200]\n",
      "Losses: [GE1: 8.326687812805176, GE2: -3.190088987350464] [D1: -2.005002021789551, D2: -0.45532092452049255]\n",
      "[Epoch 19/200]\n",
      "Losses: [GE1: 6.351492881774902, GE2: -3.3827805519104004] [D1: -2.153177261352539, D2: -0.4875970184803009]\n",
      "[Epoch 19/200]\n",
      "Losses: [GE1: 8.077547073364258, GE2: -2.834847927093506] [D1: -2.5223004817962646, D2: -0.4698134660720825]\n",
      "[Epoch 19/200]\n",
      "Losses: [GE1: 6.500500679016113, GE2: -2.017913341522217] [D1: -2.6520957946777344, D2: -0.5968340039253235]\n",
      "[Epoch 19/200]\n",
      "Losses: [GE1: 7.281378746032715, GE2: -3.016641855239868] [D1: -1.4745681285858154, D2: -0.4646020531654358]\n",
      "[Epoch 19/200]\n",
      "Losses: [GE1: 7.228789329528809, GE2: -3.3928914070129395] [D1: -2.8496270179748535, D2: -0.3897574543952942]\n",
      "[Epoch 19/200]\n",
      "Losses: [GE1: 8.008340835571289, GE2: -3.369372606277466] [D1: -2.598649501800537, D2: -0.3941303491592407]\n",
      "[Epoch 19/200]\n",
      "Losses: [GE1: 4.997857093811035, GE2: -3.2798423767089844] [D1: -2.2481698989868164, D2: -0.36467066407203674]\n",
      "[Epoch 19/200]\n",
      "Losses: [GE1: 6.523364067077637, GE2: -2.8466570377349854] [D1: -1.8812953233718872, D2: -0.3659994602203369]\n"
     ]
    },
    {
     "name": "stderr",
     "output_type": "stream",
     "text": [
      " 10%|███▏                            | 20/200 [09:29<1:25:26, 28.48s/it]"
     ]
    },
    {
     "name": "stdout",
     "output_type": "stream",
     "text": [
      "[Epoch 20/200]\n",
      "Losses: [GE1: 6.497609615325928, GE2: -3.9397614002227783] [D1: -1.489525556564331, D2: -0.42859697341918945]\n",
      "[Epoch 20/200]\n",
      "Losses: [GE1: 5.5583014488220215, GE2: -3.505977153778076] [D1: -1.899035930633545, D2: -0.3261146545410156]\n",
      "[Epoch 20/200]\n",
      "Losses: [GE1: 6.959414958953857, GE2: -2.7955493927001953] [D1: -2.78080677986145, D2: -0.3503515124320984]\n",
      "[Epoch 20/200]\n",
      "Losses: [GE1: 5.800206184387207, GE2: -2.5442380905151367] [D1: -1.4012703895568848, D2: -0.5525258183479309]\n",
      "[Epoch 20/200]\n",
      "Losses: [GE1: 6.7121052742004395, GE2: -3.1469829082489014] [D1: -2.18705415725708, D2: -0.43635743856430054]\n",
      "[Epoch 20/200]\n",
      "Losses: [GE1: 6.350770473480225, GE2: -2.3863131999969482] [D1: -1.34322190284729, D2: -0.5081701278686523]\n",
      "[Epoch 20/200]\n",
      "Losses: [GE1: 6.631486415863037, GE2: -3.3029115200042725] [D1: -2.630127191543579, D2: -0.3449842631816864]\n",
      "[Epoch 20/200]\n",
      "Losses: [GE1: 6.001135349273682, GE2: -3.133009672164917] [D1: -1.787182092666626, D2: -0.2845210134983063]\n",
      "[Epoch 20/200]\n",
      "Losses: [GE1: 5.923000335693359, GE2: -2.26878023147583] [D1: -3.942610025405884, D2: -0.4809783101081848]\n",
      "[Epoch 20/200]\n",
      "Losses: [GE1: 6.462862014770508, GE2: -3.0074808597564697] [D1: -2.7554752826690674, D2: -0.4934239685535431]\n"
     ]
    },
    {
     "name": "stderr",
     "output_type": "stream",
     "text": [
      " 10%|███▎                            | 21/200 [09:57<1:24:56, 28.47s/it]"
     ]
    },
    {
     "name": "stdout",
     "output_type": "stream",
     "text": [
      "[Epoch 21/200]\n",
      "Losses: [GE1: 5.7323479652404785, GE2: -2.8419435024261475] [D1: -1.3905513286590576, D2: -0.40227577090263367]\n",
      "[Epoch 21/200]\n",
      "Losses: [GE1: 6.362742900848389, GE2: -3.3869385719299316] [D1: -1.9703774452209473, D2: -0.3095141351222992]\n",
      "[Epoch 21/200]\n",
      "Losses: [GE1: 4.956624984741211, GE2: -2.937112331390381] [D1: -2.3336362838745117, D2: -0.38149121403694153]\n",
      "[Epoch 21/200]\n",
      "Losses: [GE1: 5.192577838897705, GE2: -3.478628396987915] [D1: -1.075068712234497, D2: -0.480330228805542]\n",
      "[Epoch 21/200]\n",
      "Losses: [GE1: 4.751512050628662, GE2: -3.7707648277282715] [D1: -3.830832004547119, D2: -0.47151151299476624]\n",
      "[Epoch 21/200]\n",
      "Losses: [GE1: 5.650555610656738, GE2: -2.943052291870117] [D1: -1.2654156684875488, D2: -0.38521939516067505]\n",
      "[Epoch 21/200]\n",
      "Losses: [GE1: 4.5613508224487305, GE2: -3.0506765842437744] [D1: -2.6086511611938477, D2: -0.3718520402908325]\n",
      "[Epoch 21/200]\n",
      "Losses: [GE1: 4.726616382598877, GE2: -3.1223723888397217] [D1: -2.443190097808838, D2: -0.3318939507007599]\n",
      "[Epoch 21/200]\n",
      "Losses: [GE1: 4.752215385437012, GE2: -2.586625099182129] [D1: -2.5449066162109375, D2: -0.3650878369808197]\n",
      "[Epoch 21/200]\n",
      "Losses: [GE1: 5.483618259429932, GE2: -2.128570318222046] [D1: -1.602447271347046, D2: -0.5284873843193054]\n"
     ]
    },
    {
     "name": "stderr",
     "output_type": "stream",
     "text": [
      " 11%|███▌                            | 22/200 [10:26<1:24:28, 28.47s/it]"
     ]
    },
    {
     "name": "stdout",
     "output_type": "stream",
     "text": [
      "[Epoch 22/200]\n",
      "Losses: [GE1: 6.326041221618652, GE2: -3.1348578929901123] [D1: -1.8069937229156494, D2: -0.429526686668396]\n",
      "[Epoch 22/200]\n",
      "Losses: [GE1: 5.892614364624023, GE2: -2.982356071472168] [D1: -2.196850061416626, D2: -0.3533458411693573]\n",
      "[Epoch 22/200]\n",
      "Losses: [GE1: 5.721104145050049, GE2: -2.2065742015838623] [D1: -2.4492459297180176, D2: -0.5097997188568115]\n",
      "[Epoch 22/200]\n",
      "Losses: [GE1: 4.64949893951416, GE2: -3.3716323375701904] [D1: -3.796908140182495, D2: -0.40417444705963135]\n",
      "[Epoch 22/200]\n",
      "Losses: [GE1: 4.97933292388916, GE2: -2.92287015914917] [D1: -2.0777482986450195, D2: -0.34617581963539124]\n",
      "[Epoch 22/200]\n",
      "Losses: [GE1: 5.3143815994262695, GE2: -2.3131372928619385] [D1: -1.5437549352645874, D2: -0.4934334456920624]\n",
      "[Epoch 22/200]\n",
      "Losses: [GE1: 4.944435119628906, GE2: -2.6068239212036133] [D1: -1.9948980808258057, D2: -0.4686248302459717]\n",
      "[Epoch 22/200]\n",
      "Losses: [GE1: 4.725914478302002, GE2: -2.536642074584961] [D1: -2.328735828399658, D2: -0.5009252429008484]\n",
      "[Epoch 22/200]\n",
      "Losses: [GE1: 4.884363174438477, GE2: -3.166814088821411] [D1: -2.95276141166687, D2: -0.39861661195755005]\n",
      "[Epoch 22/200]\n",
      "Losses: [GE1: 4.044591426849365, GE2: -3.5944292545318604] [D1: -3.118765354156494, D2: -0.4522871971130371]\n"
     ]
    },
    {
     "name": "stderr",
     "output_type": "stream",
     "text": [
      " 12%|███▋                            | 23/200 [10:54<1:23:59, 28.47s/it]"
     ]
    },
    {
     "name": "stdout",
     "output_type": "stream",
     "text": [
      "[Epoch 23/200]\n",
      "Losses: [GE1: 4.248230457305908, GE2: -3.1131577491760254] [D1: -1.6787445545196533, D2: -0.38651612401008606]\n",
      "[Epoch 23/200]\n",
      "Losses: [GE1: 5.461626052856445, GE2: -3.10772442817688] [D1: -3.433424949645996, D2: -0.4034888446331024]\n",
      "[Epoch 23/200]\n",
      "Losses: [GE1: 4.91026496887207, GE2: -2.614405870437622] [D1: -3.3655595779418945, D2: -0.4049818813800812]\n",
      "[Epoch 23/200]\n",
      "Losses: [GE1: 5.069009780883789, GE2: -2.852588415145874] [D1: -1.5681934356689453, D2: -0.38896679878234863]\n",
      "[Epoch 23/200]\n",
      "Losses: [GE1: 5.319336414337158, GE2: -2.313396453857422] [D1: -1.8722903728485107, D2: -0.4541216194629669]\n",
      "[Epoch 23/200]\n",
      "Losses: [GE1: 5.720434665679932, GE2: -3.0433197021484375] [D1: -2.817176342010498, D2: -0.37478822469711304]\n",
      "[Epoch 23/200]\n",
      "Losses: [GE1: 5.162697792053223, GE2: -3.0851926803588867] [D1: -2.1084091663360596, D2: -0.31941619515419006]\n",
      "[Epoch 23/200]\n",
      "Losses: [GE1: 5.659333229064941, GE2: -2.27152419090271] [D1: -1.3282487392425537, D2: -0.42550933361053467]\n",
      "[Epoch 23/200]\n",
      "Losses: [GE1: 4.1462178230285645, GE2: -2.8676867485046387] [D1: -1.1821355819702148, D2: -0.4505370259284973]\n",
      "[Epoch 23/200]\n",
      "Losses: [GE1: 3.9901034832000732, GE2: -3.095048666000366] [D1: -1.3627451658248901, D2: -0.41124269366264343]\n"
     ]
    },
    {
     "name": "stderr",
     "output_type": "stream",
     "text": [
      " 12%|███▊                            | 24/200 [11:23<1:23:32, 28.48s/it]"
     ]
    },
    {
     "name": "stdout",
     "output_type": "stream",
     "text": [
      "[Epoch 24/200]\n",
      "Losses: [GE1: 6.250405788421631, GE2: -3.3858792781829834] [D1: -1.7572481632232666, D2: -0.42642202973365784]\n",
      "[Epoch 24/200]\n",
      "Losses: [GE1: 4.7342424392700195, GE2: -3.5306944847106934] [D1: -2.5080015659332275, D2: -0.34520766139030457]\n",
      "[Epoch 24/200]\n",
      "Losses: [GE1: 4.699124813079834, GE2: -3.438040018081665] [D1: -1.5873761177062988, D2: -0.4555056691169739]\n",
      "[Epoch 24/200]\n",
      "Losses: [GE1: 5.804840564727783, GE2: -2.64949893951416] [D1: -2.046396017074585, D2: -0.3981274366378784]\n",
      "[Epoch 24/200]\n",
      "Losses: [GE1: 5.139153957366943, GE2: -2.6496989727020264] [D1: -2.8495938777923584, D2: -0.39905643463134766]\n",
      "[Epoch 24/200]\n",
      "Losses: [GE1: 5.086845397949219, GE2: -3.06783390045166] [D1: -1.5209741592407227, D2: -0.4264451861381531]\n",
      "[Epoch 24/200]\n",
      "Losses: [GE1: 4.610533237457275, GE2: -3.246624231338501] [D1: -1.9244495630264282, D2: -0.37426209449768066]\n",
      "[Epoch 24/200]\n",
      "Losses: [GE1: 5.665661334991455, GE2: -2.2269489765167236] [D1: -2.2044758796691895, D2: -0.45799338817596436]\n",
      "[Epoch 24/200]\n",
      "Losses: [GE1: 4.372995853424072, GE2: -2.2017157077789307] [D1: -2.18505859375, D2: -0.437641978263855]\n",
      "[Epoch 24/200]\n",
      "Losses: [GE1: 4.8973708152771, GE2: -2.6277194023132324] [D1: -0.9346175789833069, D2: -0.38896530866622925]\n"
     ]
    },
    {
     "name": "stderr",
     "output_type": "stream",
     "text": [
      " 12%|████                            | 25/200 [11:51<1:23:03, 28.48s/it]"
     ]
    },
    {
     "name": "stdout",
     "output_type": "stream",
     "text": [
      "[Epoch 25/200]\n",
      "Losses: [GE1: 4.4723124504089355, GE2: -3.256054162979126] [D1: -2.140606164932251, D2: -0.29270926117897034]\n",
      "[Epoch 25/200]\n",
      "Losses: [GE1: 4.059780597686768, GE2: -3.171785593032837] [D1: -1.9850165843963623, D2: -0.3013042211532593]\n",
      "[Epoch 25/200]\n",
      "Losses: [GE1: 3.5590434074401855, GE2: -3.1612160205841064] [D1: -1.2242560386657715, D2: -0.29468199610710144]\n",
      "[Epoch 25/200]\n",
      "Losses: [GE1: 4.661910533905029, GE2: -3.394979476928711] [D1: -1.7857434749603271, D2: -0.414492666721344]\n",
      "[Epoch 25/200]\n",
      "Losses: [GE1: 4.355449676513672, GE2: -3.104055881500244] [D1: -2.3202929496765137, D2: -0.40048304200172424]\n",
      "[Epoch 25/200]\n",
      "Losses: [GE1: 5.077345848083496, GE2: -3.2683746814727783] [D1: -1.920249104499817, D2: -0.41086673736572266]\n",
      "[Epoch 25/200]\n",
      "Losses: [GE1: 3.8606932163238525, GE2: -3.6735386848449707] [D1: -2.1068644523620605, D2: -0.48343145847320557]\n",
      "[Epoch 25/200]\n",
      "Losses: [GE1: 3.356088161468506, GE2: -3.322514533996582] [D1: -5.986144065856934, D2: -0.4383738934993744]\n",
      "[Epoch 25/200]\n",
      "Losses: [GE1: 2.829481601715088, GE2: -3.416208505630493] [D1: -2.706613540649414, D2: -0.44205066561698914]\n",
      "[Epoch 25/200]\n",
      "Losses: [GE1: 4.369710445404053, GE2: -3.3811237812042236] [D1: -2.03857159614563, D2: -0.2823500335216522]\n"
     ]
    },
    {
     "name": "stderr",
     "output_type": "stream",
     "text": [
      " 13%|████▏                           | 26/200 [12:20<1:22:35, 28.48s/it]"
     ]
    },
    {
     "name": "stdout",
     "output_type": "stream",
     "text": [
      "[Epoch 26/200]\n",
      "Losses: [GE1: 4.2411956787109375, GE2: -2.6206161975860596] [D1: -1.8020793199539185, D2: -0.4509267807006836]\n",
      "[Epoch 26/200]\n",
      "Losses: [GE1: 4.834390163421631, GE2: -3.3011863231658936] [D1: -1.976183295249939, D2: -0.3406423032283783]\n",
      "[Epoch 26/200]\n",
      "Losses: [GE1: 4.1573166847229, GE2: -3.6848907470703125] [D1: -3.434155225753784, D2: -0.43534931540489197]\n",
      "[Epoch 26/200]\n",
      "Losses: [GE1: 3.5904386043548584, GE2: -3.338986396789551] [D1: -1.642549991607666, D2: -0.3761194944381714]\n",
      "[Epoch 26/200]\n",
      "Losses: [GE1: 3.3962903022766113, GE2: -2.8603076934814453] [D1: -2.3694584369659424, D2: -0.3694273829460144]\n",
      "[Epoch 26/200]\n",
      "Losses: [GE1: 4.606655597686768, GE2: -3.2834837436676025] [D1: -1.7868483066558838, D2: -0.4246980547904968]\n",
      "[Epoch 26/200]\n",
      "Losses: [GE1: 3.5990452766418457, GE2: -3.258636236190796] [D1: -2.7983293533325195, D2: -0.4901583790779114]\n",
      "[Epoch 26/200]\n",
      "Losses: [GE1: 4.645328521728516, GE2: -3.6677610874176025] [D1: -1.854346752166748, D2: -0.44838863611221313]\n",
      "[Epoch 26/200]\n",
      "Losses: [GE1: 5.426466941833496, GE2: -3.4121718406677246] [D1: -2.906820774078369, D2: -0.436187744140625]\n",
      "[Epoch 26/200]\n",
      "Losses: [GE1: 3.0633082389831543, GE2: -3.3963823318481445] [D1: -3.561720848083496, D2: -0.44365689158439636]\n"
     ]
    },
    {
     "name": "stderr",
     "output_type": "stream",
     "text": [
      " 14%|████▎                           | 27/200 [12:48<1:22:06, 28.48s/it]"
     ]
    },
    {
     "name": "stdout",
     "output_type": "stream",
     "text": [
      "[Epoch 27/200]\n",
      "Losses: [GE1: 4.32869815826416, GE2: -2.8376410007476807] [D1: -3.1622018814086914, D2: -0.4482648968696594]\n",
      "[Epoch 27/200]\n",
      "Losses: [GE1: 4.928899765014648, GE2: -3.77016019821167] [D1: -1.2962416410446167, D2: -0.342850923538208]\n",
      "[Epoch 27/200]\n",
      "Losses: [GE1: 4.084838390350342, GE2: -3.353886365890503] [D1: -2.6223487854003906, D2: -0.45414406061172485]\n",
      "[Epoch 27/200]\n",
      "Losses: [GE1: 4.732819080352783, GE2: -3.0723178386688232] [D1: -2.3284752368927, D2: -0.4358285367488861]\n",
      "[Epoch 27/200]\n",
      "Losses: [GE1: 3.8006341457366943, GE2: -3.6126840114593506] [D1: -1.661415934562683, D2: -0.42619574069976807]\n",
      "[Epoch 27/200]\n",
      "Losses: [GE1: 3.7257747650146484, GE2: -3.114140272140503] [D1: -1.9099565744400024, D2: -0.3695593774318695]\n",
      "[Epoch 27/200]\n",
      "Losses: [GE1: 4.490614891052246, GE2: -3.0313282012939453] [D1: -2.3911988735198975, D2: -0.4209563732147217]\n",
      "[Epoch 27/200]\n",
      "Losses: [GE1: 4.0426836013793945, GE2: -2.5770061016082764] [D1: -2.1052961349487305, D2: -0.4005756378173828]\n",
      "[Epoch 27/200]\n",
      "Losses: [GE1: 3.8671443462371826, GE2: -2.6468095779418945] [D1: -2.022446632385254, D2: -0.36225301027297974]\n",
      "[Epoch 27/200]\n",
      "Losses: [GE1: 3.7223687171936035, GE2: -3.8718342781066895] [D1: -2.6631171703338623, D2: -0.41458824276924133]\n"
     ]
    },
    {
     "name": "stderr",
     "output_type": "stream",
     "text": [
      " 14%|████▍                           | 28/200 [13:17<1:21:37, 28.47s/it]"
     ]
    },
    {
     "name": "stdout",
     "output_type": "stream",
     "text": [
      "[Epoch 28/200]\n",
      "Losses: [GE1: 4.225460529327393, GE2: -2.6529974937438965] [D1: -2.2916765213012695, D2: -0.4811350703239441]\n",
      "[Epoch 28/200]\n",
      "Losses: [GE1: 3.9779372215270996, GE2: -2.868100166320801] [D1: -2.3199315071105957, D2: -0.48672249913215637]\n",
      "[Epoch 28/200]\n",
      "Losses: [GE1: 3.4779512882232666, GE2: -3.080843687057495] [D1: -2.1213579177856445, D2: -0.30909809470176697]\n",
      "[Epoch 28/200]\n",
      "Losses: [GE1: 4.140321731567383, GE2: -2.153745412826538] [D1: -2.362870931625366, D2: -0.4806375801563263]\n",
      "[Epoch 28/200]\n",
      "Losses: [GE1: 3.4228291511535645, GE2: -2.6985068321228027] [D1: -2.6864099502563477, D2: -0.3466545641422272]\n",
      "[Epoch 28/200]\n",
      "Losses: [GE1: 2.831608772277832, GE2: -4.023890018463135] [D1: -3.111084461212158, D2: -0.4049018919467926]\n",
      "[Epoch 28/200]\n",
      "Losses: [GE1: 4.504374980926514, GE2: -3.1779556274414062] [D1: -1.5716664791107178, D2: -0.45790573954582214]\n",
      "[Epoch 28/200]\n",
      "Losses: [GE1: 2.8991000652313232, GE2: -3.0860071182250977] [D1: -2.1601476669311523, D2: -0.47842174768447876]\n",
      "[Epoch 28/200]\n",
      "Losses: [GE1: 4.052791118621826, GE2: -2.0956437587738037] [D1: -2.3158390522003174, D2: -0.43990522623062134]\n",
      "[Epoch 28/200]\n",
      "Losses: [GE1: 3.670097827911377, GE2: -2.8998847007751465] [D1: -1.7880702018737793, D2: -0.30450934171676636]\n"
     ]
    },
    {
     "name": "stderr",
     "output_type": "stream",
     "text": [
      " 14%|████▋                           | 29/200 [13:45<1:21:09, 28.48s/it]"
     ]
    },
    {
     "name": "stdout",
     "output_type": "stream",
     "text": [
      "[Epoch 29/200]\n",
      "Losses: [GE1: 3.6362195014953613, GE2: -3.1281986236572266] [D1: -0.9903304576873779, D2: -0.4345664978027344]\n",
      "[Epoch 29/200]\n",
      "Losses: [GE1: 2.8561906814575195, GE2: -3.0123329162597656] [D1: -1.4431490898132324, D2: -0.38339105248451233]\n",
      "[Epoch 29/200]\n",
      "Losses: [GE1: 3.318260908126831, GE2: -2.359506607055664] [D1: -1.9542171955108643, D2: -0.4591153860092163]\n",
      "[Epoch 29/200]\n",
      "Losses: [GE1: 2.82792067527771, GE2: -3.1022067070007324] [D1: -2.1340034008026123, D2: -0.5078608989715576]\n",
      "[Epoch 29/200]\n",
      "Losses: [GE1: 2.8104448318481445, GE2: -3.374157190322876] [D1: -2.6491641998291016, D2: -0.37800532579421997]\n",
      "[Epoch 29/200]\n",
      "Losses: [GE1: 3.534128427505493, GE2: -2.8312931060791016] [D1: -2.8937957286834717, D2: -0.2923771142959595]\n",
      "[Epoch 29/200]\n",
      "Losses: [GE1: 3.086879253387451, GE2: -3.532547950744629] [D1: -0.9905682802200317, D2: -0.44411444664001465]\n",
      "[Epoch 29/200]\n",
      "Losses: [GE1: 3.8969764709472656, GE2: -3.3449161052703857] [D1: -2.275308132171631, D2: -0.4605322480201721]\n",
      "[Epoch 29/200]\n",
      "Losses: [GE1: 3.6142139434814453, GE2: -2.7187395095825195] [D1: -1.6041709184646606, D2: -0.3939834237098694]\n",
      "[Epoch 29/200]\n",
      "Losses: [GE1: 2.2755465507507324, GE2: -3.666909694671631] [D1: -2.213500499725342, D2: -0.3190858066082001]\n"
     ]
    },
    {
     "name": "stderr",
     "output_type": "stream",
     "text": [
      " 15%|████▊                           | 30/200 [14:14<1:20:40, 28.47s/it]"
     ]
    },
    {
     "name": "stdout",
     "output_type": "stream",
     "text": [
      "[Epoch 30/200]\n",
      "Losses: [GE1: 3.0253851413726807, GE2: -2.615643262863159] [D1: -1.9888893365859985, D2: -0.39255523681640625]\n",
      "[Epoch 30/200]\n",
      "Losses: [GE1: 3.7593178749084473, GE2: -2.470381498336792] [D1: -1.9425992965698242, D2: -0.43233948945999146]\n",
      "[Epoch 30/200]\n",
      "Losses: [GE1: 4.4287896156311035, GE2: -2.2400951385498047] [D1: -2.3077023029327393, D2: -0.2781038284301758]\n",
      "[Epoch 30/200]\n",
      "Losses: [GE1: 4.68595027923584, GE2: -2.675760507583618] [D1: -2.4446611404418945, D2: -0.3603648245334625]\n",
      "[Epoch 30/200]\n",
      "Losses: [GE1: 2.1992998123168945, GE2: -2.702136278152466] [D1: -2.086001396179199, D2: -0.3602404296398163]\n",
      "[Epoch 30/200]\n",
      "Losses: [GE1: 3.359078884124756, GE2: -3.001723527908325] [D1: -2.4618334770202637, D2: -0.40785473585128784]\n",
      "[Epoch 30/200]\n",
      "Losses: [GE1: 3.0583481788635254, GE2: -2.8120005130767822] [D1: -0.9345486164093018, D2: -0.39146071672439575]\n",
      "[Epoch 30/200]\n",
      "Losses: [GE1: 3.5206267833709717, GE2: -2.758992910385132] [D1: -2.6323301792144775, D2: -0.48166340589523315]\n",
      "[Epoch 30/200]\n",
      "Losses: [GE1: 2.97031307220459, GE2: -2.8885233402252197] [D1: -1.1747578382492065, D2: -0.4567938446998596]\n",
      "[Epoch 30/200]\n",
      "Losses: [GE1: 3.9093334674835205, GE2: -2.898582696914673] [D1: -2.5763585567474365, D2: -0.39609357714653015]\n"
     ]
    },
    {
     "name": "stderr",
     "output_type": "stream",
     "text": [
      " 16%|████▉                           | 31/200 [14:42<1:20:11, 28.47s/it]"
     ]
    },
    {
     "name": "stdout",
     "output_type": "stream",
     "text": [
      "[Epoch 31/200]\n",
      "Losses: [GE1: 4.1729936599731445, GE2: -2.2592713832855225] [D1: -1.8815315961837769, D2: -0.3693189322948456]\n",
      "[Epoch 31/200]\n",
      "Losses: [GE1: 2.8827075958251953, GE2: -2.434844493865967] [D1: -1.8022791147232056, D2: -0.4379012882709503]\n",
      "[Epoch 31/200]\n",
      "Losses: [GE1: 4.205618381500244, GE2: -3.2575576305389404] [D1: -2.5489163398742676, D2: -0.36130720376968384]\n",
      "[Epoch 31/200]\n",
      "Losses: [GE1: 3.9807090759277344, GE2: -3.0638487339019775] [D1: -1.720994472503662, D2: -0.4461480379104614]\n",
      "[Epoch 31/200]\n",
      "Losses: [GE1: 4.479730606079102, GE2: -2.2271926403045654] [D1: -3.156468391418457, D2: -0.3590017557144165]\n",
      "[Epoch 31/200]\n",
      "Losses: [GE1: 3.2561585903167725, GE2: -2.2447688579559326] [D1: -2.211242437362671, D2: -0.3714231848716736]\n",
      "[Epoch 31/200]\n",
      "Losses: [GE1: 4.449643135070801, GE2: -2.286689281463623] [D1: -2.127866506576538, D2: -0.45321813225746155]\n",
      "[Epoch 31/200]\n",
      "Losses: [GE1: 4.014928817749023, GE2: -2.4262759685516357] [D1: -2.2659802436828613, D2: -0.47452372312545776]\n",
      "[Epoch 31/200]\n",
      "Losses: [GE1: 3.9858689308166504, GE2: -3.554884433746338] [D1: -3.680525302886963, D2: -0.3033137023448944]\n",
      "[Epoch 31/200]\n",
      "Losses: [GE1: 4.2955498695373535, GE2: -3.3535146713256836] [D1: -2.406903028488159, D2: -0.3530076742172241]\n"
     ]
    },
    {
     "name": "stderr",
     "output_type": "stream",
     "text": [
      " 16%|█████                           | 32/200 [15:11<1:19:42, 28.47s/it]"
     ]
    },
    {
     "name": "stdout",
     "output_type": "stream",
     "text": [
      "[Epoch 32/200]\n",
      "Losses: [GE1: 3.4359169006347656, GE2: -2.217064142227173] [D1: -1.8963006734848022, D2: -0.36581912636756897]\n",
      "[Epoch 32/200]\n",
      "Losses: [GE1: 4.291823387145996, GE2: -2.6458044052124023] [D1: -2.619213104248047, D2: -0.45064517855644226]\n",
      "[Epoch 32/200]\n",
      "Losses: [GE1: 4.845712661743164, GE2: -3.077097177505493] [D1: -3.2669763565063477, D2: -0.38210129737854004]\n",
      "[Epoch 32/200]\n",
      "Losses: [GE1: 3.3290295600891113, GE2: -2.789196729660034] [D1: -2.6735687255859375, D2: -0.4285316467285156]\n",
      "[Epoch 32/200]\n",
      "Losses: [GE1: 3.592833995819092, GE2: -3.5563595294952393] [D1: -1.8307559490203857, D2: -0.3024897575378418]\n",
      "[Epoch 32/200]\n",
      "Losses: [GE1: 3.577716827392578, GE2: -3.198230504989624] [D1: -2.2193517684936523, D2: -0.4569554626941681]\n",
      "[Epoch 32/200]\n",
      "Losses: [GE1: 3.809502363204956, GE2: -2.5588619709014893] [D1: -2.4969542026519775, D2: -0.45240071415901184]\n",
      "[Epoch 32/200]\n",
      "Losses: [GE1: 3.109135627746582, GE2: -2.7973580360412598] [D1: -2.3353304862976074, D2: -0.3905465304851532]\n",
      "[Epoch 32/200]\n",
      "Losses: [GE1: 3.998060464859009, GE2: -2.6306302547454834] [D1: -1.6413509845733643, D2: -0.3937279284000397]\n",
      "[Epoch 32/200]\n",
      "Losses: [GE1: 4.060487270355225, GE2: -2.6676418781280518] [D1: -2.5280983448028564, D2: -0.30004820227622986]\n"
     ]
    },
    {
     "name": "stderr",
     "output_type": "stream",
     "text": [
      " 16%|█████▎                          | 33/200 [15:39<1:19:13, 28.47s/it]"
     ]
    },
    {
     "name": "stdout",
     "output_type": "stream",
     "text": [
      "[Epoch 33/200]\n",
      "Losses: [GE1: 2.797262191772461, GE2: -3.1046767234802246] [D1: -2.491407871246338, D2: -0.3538765609264374]\n",
      "[Epoch 33/200]\n",
      "Losses: [GE1: 4.384025573730469, GE2: -2.1189444065093994] [D1: -2.022449493408203, D2: -0.27076414227485657]\n",
      "[Epoch 33/200]\n",
      "Losses: [GE1: 3.6516056060791016, GE2: -3.268507719039917] [D1: -2.8167271614074707, D2: -0.3697701394557953]\n",
      "[Epoch 33/200]\n",
      "Losses: [GE1: 4.119816780090332, GE2: -2.3075225353240967] [D1: -2.7802376747131348, D2: -0.41580450534820557]\n",
      "[Epoch 33/200]\n",
      "Losses: [GE1: 4.073021411895752, GE2: -3.211737632751465] [D1: -1.9296094179153442, D2: -0.3296065926551819]\n",
      "[Epoch 33/200]\n",
      "Losses: [GE1: 3.5623605251312256, GE2: -2.6182994842529297] [D1: -2.930266857147217, D2: -0.38576820492744446]\n",
      "[Epoch 33/200]\n",
      "Losses: [GE1: 3.5491132736206055, GE2: -2.6648247241973877] [D1: -2.7732479572296143, D2: -0.36718398332595825]\n",
      "[Epoch 33/200]\n",
      "Losses: [GE1: 2.9537746906280518, GE2: -2.6749267578125] [D1: -1.3711766004562378, D2: -0.36389023065567017]\n",
      "[Epoch 33/200]\n",
      "Losses: [GE1: 2.3721439838409424, GE2: -2.773082733154297] [D1: -4.233441352844238, D2: -0.37389349937438965]\n",
      "[Epoch 33/200]\n",
      "Losses: [GE1: 4.029201507568359, GE2: -2.573903799057007] [D1: -2.127311944961548, D2: -0.36957496404647827]\n"
     ]
    },
    {
     "name": "stderr",
     "output_type": "stream",
     "text": [
      " 17%|█████▍                          | 34/200 [16:08<1:18:46, 28.47s/it]"
     ]
    },
    {
     "name": "stdout",
     "output_type": "stream",
     "text": [
      "[Epoch 34/200]\n",
      "Losses: [GE1: 4.539445400238037, GE2: -2.625004768371582] [D1: -1.2516212463378906, D2: -0.335582971572876]\n",
      "[Epoch 34/200]\n",
      "Losses: [GE1: 3.78182053565979, GE2: -2.767238140106201] [D1: -2.6997976303100586, D2: -0.33585214614868164]\n",
      "[Epoch 34/200]\n",
      "Losses: [GE1: 3.5723953247070312, GE2: -2.6780834197998047] [D1: -2.5735538005828857, D2: -0.36214250326156616]\n",
      "[Epoch 34/200]\n",
      "Losses: [GE1: 2.7362241744995117, GE2: -3.115234136581421] [D1: -1.6429059505462646, D2: -0.4109017848968506]\n",
      "[Epoch 34/200]\n",
      "Losses: [GE1: 3.7242252826690674, GE2: -2.1596310138702393] [D1: -2.0344443321228027, D2: -0.4246944189071655]\n",
      "[Epoch 34/200]\n",
      "Losses: [GE1: 2.7339859008789062, GE2: -2.140057325363159] [D1: -1.7095880508422852, D2: -0.3628993332386017]\n",
      "[Epoch 34/200]\n",
      "Losses: [GE1: 3.6153016090393066, GE2: -2.826713800430298] [D1: -2.316732883453369, D2: -0.46068036556243896]\n",
      "[Epoch 34/200]\n",
      "Losses: [GE1: 1.9747709035873413, GE2: -1.638714075088501] [D1: -2.964789867401123, D2: -0.47535377740859985]\n",
      "[Epoch 34/200]\n",
      "Losses: [GE1: 3.856116771697998, GE2: -2.547666311264038] [D1: -2.154175043106079, D2: -0.3059771656990051]\n",
      "[Epoch 34/200]\n",
      "Losses: [GE1: 3.0969743728637695, GE2: -2.4242749214172363] [D1: -1.3268572092056274, D2: -0.43228673934936523]\n"
     ]
    },
    {
     "name": "stderr",
     "output_type": "stream",
     "text": [
      " 18%|█████▌                          | 35/200 [16:36<1:18:17, 28.47s/it]"
     ]
    },
    {
     "name": "stdout",
     "output_type": "stream",
     "text": [
      "[Epoch 35/200]\n",
      "Losses: [GE1: 2.522977113723755, GE2: -1.811509370803833] [D1: -1.8907735347747803, D2: -0.42534852027893066]\n",
      "[Epoch 35/200]\n",
      "Losses: [GE1: 3.190359592437744, GE2: -1.858494758605957] [D1: -2.83665132522583, D2: -0.404697448015213]\n",
      "[Epoch 35/200]\n",
      "Losses: [GE1: 3.3963520526885986, GE2: -2.88087797164917] [D1: -2.1743834018707275, D2: -0.4855864346027374]\n",
      "[Epoch 35/200]\n",
      "Losses: [GE1: 3.404428243637085, GE2: -1.9517362117767334] [D1: -2.894197463989258, D2: -0.3280346393585205]\n",
      "[Epoch 35/200]\n",
      "Losses: [GE1: 4.3656721115112305, GE2: -1.5431047677993774] [D1: -1.3326821327209473, D2: -0.3192283809185028]\n",
      "[Epoch 35/200]\n",
      "Losses: [GE1: 2.6170811653137207, GE2: -2.0819735527038574] [D1: -1.2632532119750977, D2: -0.4668452739715576]\n",
      "[Epoch 35/200]\n",
      "Losses: [GE1: 3.8804104328155518, GE2: -1.6093345880508423] [D1: -1.4818235635757446, D2: -0.4219171404838562]\n",
      "[Epoch 35/200]\n",
      "Losses: [GE1: 2.5497169494628906, GE2: -1.901726245880127] [D1: -2.543567657470703, D2: -0.382705956697464]\n",
      "[Epoch 35/200]\n",
      "Losses: [GE1: 3.2622499465942383, GE2: -3.1846320629119873] [D1: -2.395512819290161, D2: -0.3804043233394623]\n",
      "[Epoch 35/200]\n",
      "Losses: [GE1: 2.848848819732666, GE2: -2.2331042289733887] [D1: -2.2381017208099365, D2: -0.3231203854084015]\n"
     ]
    },
    {
     "name": "stderr",
     "output_type": "stream",
     "text": [
      " 18%|█████▊                          | 36/200 [17:04<1:17:48, 28.47s/it]"
     ]
    },
    {
     "name": "stdout",
     "output_type": "stream",
     "text": [
      "[Epoch 36/200]\n",
      "Losses: [GE1: 3.870708703994751, GE2: -2.0576043128967285] [D1: -1.1017593145370483, D2: -0.3152514398097992]\n",
      "[Epoch 36/200]\n",
      "Losses: [GE1: 3.4707658290863037, GE2: -2.4845526218414307] [D1: -2.1788034439086914, D2: -0.33580827713012695]\n",
      "[Epoch 36/200]\n",
      "Losses: [GE1: 2.9721875190734863, GE2: -2.730085849761963] [D1: -1.9967012405395508, D2: -0.40890079736709595]\n",
      "[Epoch 36/200]\n",
      "Losses: [GE1: 3.3440890312194824, GE2: -2.8027873039245605] [D1: -1.6906658411026, D2: -0.3977299928665161]\n",
      "[Epoch 36/200]\n",
      "Losses: [GE1: 3.4757368564605713, GE2: -2.019632339477539] [D1: -1.83121919631958, D2: -0.4679621756076813]\n",
      "[Epoch 36/200]\n",
      "Losses: [GE1: 3.090581178665161, GE2: -1.836679458618164] [D1: -1.3012921810150146, D2: -0.37191230058670044]\n",
      "[Epoch 36/200]\n",
      "Losses: [GE1: 3.0913243293762207, GE2: -1.7867567539215088] [D1: -2.169135332107544, D2: -0.3286803662776947]\n",
      "[Epoch 36/200]\n",
      "Losses: [GE1: 3.232924222946167, GE2: -2.0789403915405273] [D1: -2.9486231803894043, D2: -0.45640015602111816]\n",
      "[Epoch 36/200]\n",
      "Losses: [GE1: 2.9022204875946045, GE2: -2.1876232624053955] [D1: -3.3628764152526855, D2: -0.352617084980011]\n",
      "[Epoch 36/200]\n",
      "Losses: [GE1: 3.8197176456451416, GE2: -1.8745601177215576] [D1: -1.4164643287658691, D2: -0.2878619432449341]\n"
     ]
    },
    {
     "name": "stderr",
     "output_type": "stream",
     "text": [
      " 18%|█████▉                          | 37/200 [17:33<1:17:20, 28.47s/it]"
     ]
    },
    {
     "name": "stdout",
     "output_type": "stream",
     "text": [
      "[Epoch 37/200]\n",
      "Losses: [GE1: 4.028648853302002, GE2: -2.151620864868164] [D1: -2.1179146766662598, D2: -0.33436423540115356]\n",
      "[Epoch 37/200]\n",
      "Losses: [GE1: 3.1433145999908447, GE2: -1.270662784576416] [D1: -2.8887836933135986, D2: -0.425756573677063]\n",
      "[Epoch 37/200]\n",
      "Losses: [GE1: 2.567816972732544, GE2: -3.115365982055664] [D1: -2.1292285919189453, D2: -0.38230136036872864]\n",
      "[Epoch 37/200]\n",
      "Losses: [GE1: 2.873835325241089, GE2: -1.8484268188476562] [D1: -1.192663550376892, D2: -0.42979955673217773]\n",
      "[Epoch 37/200]\n",
      "Losses: [GE1: 3.1017556190490723, GE2: -1.9093912839889526] [D1: -3.9766383171081543, D2: -0.30365750193595886]\n",
      "[Epoch 37/200]\n",
      "Losses: [GE1: 3.548508405685425, GE2: -2.0773282051086426] [D1: -2.532069683074951, D2: -0.41143473982810974]\n",
      "[Epoch 37/200]\n",
      "Losses: [GE1: 4.285879135131836, GE2: -2.113370418548584] [D1: -2.7371323108673096, D2: -0.3964690566062927]\n",
      "[Epoch 37/200]\n",
      "Losses: [GE1: 3.611438035964966, GE2: -1.9949555397033691] [D1: -1.7897093296051025, D2: -0.3874533474445343]\n",
      "[Epoch 37/200]\n",
      "Losses: [GE1: 3.90610408782959, GE2: -1.4817700386047363] [D1: -2.068936824798584, D2: -0.34046512842178345]\n",
      "[Epoch 37/200]\n",
      "Losses: [GE1: 2.890709400177002, GE2: -1.112712025642395] [D1: -1.4176476001739502, D2: -0.39260193705558777]\n"
     ]
    },
    {
     "name": "stderr",
     "output_type": "stream",
     "text": [
      " 19%|██████                          | 38/200 [18:01<1:16:51, 28.47s/it]"
     ]
    },
    {
     "name": "stdout",
     "output_type": "stream",
     "text": [
      "[Epoch 38/200]\n",
      "Losses: [GE1: 3.313277244567871, GE2: -2.198162317276001] [D1: -1.9569294452667236, D2: -0.48936158418655396]\n",
      "[Epoch 38/200]\n",
      "Losses: [GE1: 2.7992515563964844, GE2: -2.0230820178985596] [D1: -2.4352309703826904, D2: -0.42335274815559387]\n",
      "[Epoch 38/200]\n",
      "Losses: [GE1: 2.885855197906494, GE2: -1.3926254510879517] [D1: -2.784792423248291, D2: -0.2500862181186676]\n",
      "[Epoch 38/200]\n",
      "Losses: [GE1: 2.2307188510894775, GE2: -1.5831918716430664] [D1: -1.5083611011505127, D2: -0.40351179242134094]\n",
      "[Epoch 38/200]\n",
      "Losses: [GE1: 3.1898391246795654, GE2: -1.5047684907913208] [D1: -2.1936748027801514, D2: -0.4083820581436157]\n",
      "[Epoch 38/200]\n",
      "Losses: [GE1: 2.9330179691314697, GE2: -1.7648494243621826] [D1: -1.3972675800323486, D2: -0.38522472977638245]\n",
      "[Epoch 38/200]\n",
      "Losses: [GE1: 3.4847898483276367, GE2: -2.2949087619781494] [D1: -1.7190320491790771, D2: -0.3117653727531433]\n",
      "[Epoch 38/200]\n",
      "Losses: [GE1: 3.223806858062744, GE2: -1.341218113899231] [D1: -1.565042495727539, D2: -0.21945226192474365]\n",
      "[Epoch 38/200]\n",
      "Losses: [GE1: 2.7819664478302, GE2: -2.774797201156616] [D1: -3.3863272666931152, D2: -0.40645915269851685]\n",
      "[Epoch 38/200]\n",
      "Losses: [GE1: 3.4109201431274414, GE2: -1.5374691486358643] [D1: -1.710515022277832, D2: -0.395222544670105]\n"
     ]
    },
    {
     "name": "stderr",
     "output_type": "stream",
     "text": [
      " 20%|██████▏                         | 39/200 [18:30<1:16:23, 28.47s/it]"
     ]
    },
    {
     "name": "stdout",
     "output_type": "stream",
     "text": [
      "[Epoch 39/200]\n",
      "Losses: [GE1: 2.9923629760742188, GE2: -1.5947716236114502] [D1: -3.027453899383545, D2: -0.4506332278251648]\n",
      "[Epoch 39/200]\n",
      "Losses: [GE1: 3.0822854042053223, GE2: -2.639521598815918] [D1: -1.3498773574829102, D2: -0.3517579436302185]\n",
      "[Epoch 39/200]\n",
      "Losses: [GE1: 2.3835904598236084, GE2: -1.3961937427520752] [D1: -2.479182720184326, D2: -0.366505891084671]\n",
      "[Epoch 39/200]\n",
      "Losses: [GE1: 2.732558250427246, GE2: -2.8588037490844727] [D1: -1.3695166110992432, D2: -0.26434528827667236]\n",
      "[Epoch 39/200]\n",
      "Losses: [GE1: 4.074124336242676, GE2: -1.7251181602478027] [D1: -3.104968309402466, D2: -0.36126863956451416]\n",
      "[Epoch 39/200]\n",
      "Losses: [GE1: 3.388237714767456, GE2: -2.084967613220215] [D1: -1.5870579481124878, D2: -0.3739496171474457]\n",
      "[Epoch 39/200]\n",
      "Losses: [GE1: 3.638721227645874, GE2: -2.0023062229156494] [D1: -2.919457197189331, D2: -0.3481069505214691]\n",
      "[Epoch 39/200]\n",
      "Losses: [GE1: 3.7813737392425537, GE2: -1.9708521366119385] [D1: -1.7089353799819946, D2: -0.40342777967453003]\n",
      "[Epoch 39/200]\n",
      "Losses: [GE1: 2.6409480571746826, GE2: -1.8862805366516113] [D1: -2.052593946456909, D2: -0.41342681646347046]\n",
      "[Epoch 39/200]\n",
      "Losses: [GE1: 3.001563549041748, GE2: -1.0716910362243652] [D1: -1.852083683013916, D2: -0.31921884417533875]\n"
     ]
    },
    {
     "name": "stderr",
     "output_type": "stream",
     "text": [
      " 20%|██████▍                         | 40/200 [18:58<1:15:55, 28.47s/it]"
     ]
    },
    {
     "name": "stdout",
     "output_type": "stream",
     "text": [
      "[Epoch 40/200]\n",
      "Losses: [GE1: 2.745863199234009, GE2: -2.520564317703247] [D1: -2.336183786392212, D2: -0.45384880900382996]\n",
      "[Epoch 40/200]\n",
      "Losses: [GE1: 4.52225399017334, GE2: -1.931386113166809] [D1: -3.0984721183776855, D2: -0.30420053005218506]\n",
      "[Epoch 40/200]\n",
      "Losses: [GE1: 3.2372143268585205, GE2: -1.3734842538833618] [D1: -1.4818696975708008, D2: -0.3249466121196747]\n",
      "[Epoch 40/200]\n",
      "Losses: [GE1: 2.537299871444702, GE2: -2.3534345626831055] [D1: -1.6151270866394043, D2: -0.3590550422668457]\n",
      "[Epoch 40/200]\n",
      "Losses: [GE1: 3.3632211685180664, GE2: -1.8097257614135742] [D1: -1.9675862789154053, D2: -0.42527785897254944]\n",
      "[Epoch 40/200]\n",
      "Losses: [GE1: 2.0929300785064697, GE2: -1.5487617254257202] [D1: -0.9159074425697327, D2: -0.3857399821281433]\n",
      "[Epoch 40/200]\n",
      "Losses: [GE1: 2.3891568183898926, GE2: -2.4712436199188232] [D1: -1.3888006210327148, D2: -0.302094966173172]\n",
      "[Epoch 40/200]\n",
      "Losses: [GE1: 2.0551304817199707, GE2: -2.701810359954834] [D1: -2.210710048675537, D2: -0.3581230044364929]\n",
      "[Epoch 40/200]\n",
      "Losses: [GE1: 3.3182435035705566, GE2: -1.6234345436096191] [D1: -1.5914394855499268, D2: -0.45061105489730835]\n",
      "[Epoch 40/200]\n",
      "Losses: [GE1: 3.7752811908721924, GE2: -2.1517276763916016] [D1: -1.9563283920288086, D2: -0.33130189776420593]\n"
     ]
    },
    {
     "name": "stderr",
     "output_type": "stream",
     "text": [
      " 20%|██████▌                         | 41/200 [19:27<1:15:26, 28.47s/it]"
     ]
    },
    {
     "name": "stdout",
     "output_type": "stream",
     "text": [
      "[Epoch 41/200]\n",
      "Losses: [GE1: 3.450385808944702, GE2: -1.312267541885376] [D1: -2.456573963165283, D2: -0.4318915605545044]\n",
      "[Epoch 41/200]\n",
      "Losses: [GE1: 3.7415730953216553, GE2: -1.4935097694396973] [D1: -2.9606728553771973, D2: -0.3697299063205719]\n",
      "[Epoch 41/200]\n",
      "Losses: [GE1: 3.127957820892334, GE2: -1.8376479148864746] [D1: -1.6775987148284912, D2: -0.3243144154548645]\n",
      "[Epoch 41/200]\n",
      "Losses: [GE1: 2.603161573410034, GE2: -1.736463189125061] [D1: -1.641854166984558, D2: -0.26782888174057007]\n",
      "[Epoch 41/200]\n",
      "Losses: [GE1: 2.46649432182312, GE2: -1.972861647605896] [D1: -2.037259578704834, D2: -0.3808556795120239]\n",
      "[Epoch 41/200]\n",
      "Losses: [GE1: 3.731853723526001, GE2: -1.3757238388061523] [D1: -2.440372943878174, D2: -0.3223414421081543]\n",
      "[Epoch 41/200]\n",
      "Losses: [GE1: 3.375300884246826, GE2: -1.5240145921707153] [D1: -3.5516443252563477, D2: -0.39830896258354187]\n",
      "[Epoch 41/200]\n",
      "Losses: [GE1: 2.6870694160461426, GE2: -2.051487445831299] [D1: -1.3992842435836792, D2: -0.45771417021751404]\n",
      "[Epoch 41/200]\n",
      "Losses: [GE1: 2.7333333492279053, GE2: -2.165739059448242] [D1: -1.3588190078735352, D2: -0.36130279302597046]\n",
      "[Epoch 41/200]\n",
      "Losses: [GE1: 2.215055227279663, GE2: -1.7436221837997437] [D1: -1.497938871383667, D2: -0.3071098029613495]\n"
     ]
    },
    {
     "name": "stderr",
     "output_type": "stream",
     "text": [
      " 21%|██████▋                         | 42/200 [19:55<1:14:58, 28.47s/it]"
     ]
    },
    {
     "name": "stdout",
     "output_type": "stream",
     "text": [
      "[Epoch 42/200]\n",
      "Losses: [GE1: 2.512753963470459, GE2: -1.63681960105896] [D1: -3.5650312900543213, D2: -0.31927335262298584]\n",
      "[Epoch 42/200]\n",
      "Losses: [GE1: 2.4835119247436523, GE2: -2.3697667121887207] [D1: -1.830214262008667, D2: -0.23937155306339264]\n",
      "[Epoch 42/200]\n",
      "Losses: [GE1: 3.2909982204437256, GE2: -1.8186146020889282] [D1: -2.506080389022827, D2: -0.31182754039764404]\n",
      "[Epoch 42/200]\n",
      "Losses: [GE1: 2.4971165657043457, GE2: -1.6500076055526733] [D1: -2.6256155967712402, D2: -0.3604571223258972]\n",
      "[Epoch 42/200]\n",
      "Losses: [GE1: 3.563610315322876, GE2: -1.7542147636413574] [D1: -1.9056941270828247, D2: -0.1393623948097229]\n",
      "[Epoch 42/200]\n",
      "Losses: [GE1: 3.414611339569092, GE2: -1.9120980501174927] [D1: -1.9858622550964355, D2: -0.40276700258255005]\n",
      "[Epoch 42/200]\n",
      "Losses: [GE1: 2.614176034927368, GE2: -2.1276023387908936] [D1: -3.2556190490722656, D2: -0.453705370426178]\n",
      "[Epoch 42/200]\n",
      "Losses: [GE1: 3.7401556968688965, GE2: -2.0352797508239746] [D1: -1.687258005142212, D2: -0.3157610297203064]\n",
      "[Epoch 42/200]\n",
      "Losses: [GE1: 1.4229822158813477, GE2: -1.9525145292282104] [D1: -1.4233508110046387, D2: -0.3803355395793915]\n",
      "[Epoch 42/200]\n",
      "Losses: [GE1: 2.856250524520874, GE2: -0.8193401098251343] [D1: -1.123381495475769, D2: -0.38951048254966736]\n"
     ]
    },
    {
     "name": "stderr",
     "output_type": "stream",
     "text": [
      " 22%|██████▉                         | 43/200 [20:24<1:14:29, 28.47s/it]"
     ]
    },
    {
     "name": "stdout",
     "output_type": "stream",
     "text": [
      "[Epoch 43/200]\n",
      "Losses: [GE1: 2.1238231658935547, GE2: -1.9279310703277588] [D1: -1.9023303985595703, D2: -0.39763379096984863]\n",
      "[Epoch 43/200]\n",
      "Losses: [GE1: 2.6096930503845215, GE2: -1.9881091117858887] [D1: -2.201174736022949, D2: -0.3124627470970154]\n",
      "[Epoch 43/200]\n",
      "Losses: [GE1: 3.170513391494751, GE2: -0.9445292353630066] [D1: -1.7591662406921387, D2: -0.4170241951942444]\n",
      "[Epoch 43/200]\n",
      "Losses: [GE1: 2.6515390872955322, GE2: -2.5897114276885986] [D1: -2.9713408946990967, D2: -0.32561007142066956]\n",
      "[Epoch 43/200]\n",
      "Losses: [GE1: 3.0445613861083984, GE2: -2.326674222946167] [D1: -2.469794273376465, D2: -0.4069788455963135]\n",
      "[Epoch 43/200]\n",
      "Losses: [GE1: 2.516793966293335, GE2: -1.862985372543335] [D1: -1.98270845413208, D2: -0.26872900128364563]\n",
      "[Epoch 43/200]\n",
      "Losses: [GE1: 2.9029765129089355, GE2: -1.2390071153640747] [D1: -2.6734089851379395, D2: -0.17361542582511902]\n",
      "[Epoch 43/200]\n",
      "Losses: [GE1: 3.442075490951538, GE2: -0.9395539164543152] [D1: -1.8217451572418213, D2: -0.40750136971473694]\n",
      "[Epoch 43/200]\n",
      "Losses: [GE1: 2.945976734161377, GE2: -2.4471871852874756] [D1: -3.5276689529418945, D2: -0.3851243555545807]\n",
      "[Epoch 43/200]\n",
      "Losses: [GE1: 2.1004550457000732, GE2: -1.6057147979736328] [D1: -2.0850260257720947, D2: -0.3475916385650635]\n"
     ]
    },
    {
     "name": "stderr",
     "output_type": "stream",
     "text": [
      " 22%|███████                         | 44/200 [20:52<1:14:01, 28.47s/it]"
     ]
    },
    {
     "name": "stdout",
     "output_type": "stream",
     "text": [
      "[Epoch 44/200]\n",
      "Losses: [GE1: 2.175957202911377, GE2: -0.834048867225647] [D1: -3.7763772010803223, D2: -0.3404160439968109]\n",
      "[Epoch 44/200]\n",
      "Losses: [GE1: 3.8207311630249023, GE2: -1.822479009628296] [D1: -3.72617769241333, D2: -0.30390316247940063]\n",
      "[Epoch 44/200]\n",
      "Losses: [GE1: 1.5094239711761475, GE2: -1.9069361686706543] [D1: -2.68698787689209, D2: -0.38906702399253845]\n",
      "[Epoch 44/200]\n",
      "Losses: [GE1: 2.147101640701294, GE2: -1.1427785158157349] [D1: -1.921915888786316, D2: -0.3552118241786957]\n",
      "[Epoch 44/200]\n",
      "Losses: [GE1: 2.983783483505249, GE2: -0.9812026619911194] [D1: -2.346210241317749, D2: -0.46137070655822754]\n",
      "[Epoch 44/200]\n",
      "Losses: [GE1: 1.979536533355713, GE2: -1.1548887491226196] [D1: -2.407858371734619, D2: -0.3221698999404907]\n",
      "[Epoch 44/200]\n",
      "Losses: [GE1: 3.0627787113189697, GE2: -2.152139186859131] [D1: -1.4093658924102783, D2: -0.4575392007827759]\n",
      "[Epoch 44/200]\n",
      "Losses: [GE1: 2.4090256690979004, GE2: -1.8706982135772705] [D1: -1.749772548675537, D2: -0.4243444502353668]\n",
      "[Epoch 44/200]\n",
      "Losses: [GE1: 3.0614333152770996, GE2: -1.2634379863739014] [D1: -2.1433708667755127, D2: -0.43478119373321533]\n",
      "[Epoch 44/200]\n",
      "Losses: [GE1: 1.5895378589630127, GE2: -1.585755705833435] [D1: -2.0595319271087646, D2: -0.34550803899765015]\n"
     ]
    },
    {
     "name": "stderr",
     "output_type": "stream",
     "text": [
      " 22%|███████▏                        | 45/200 [21:21<1:13:33, 28.47s/it]"
     ]
    },
    {
     "name": "stdout",
     "output_type": "stream",
     "text": [
      "[Epoch 45/200]\n",
      "Losses: [GE1: 2.85630464553833, GE2: -1.0631299018859863] [D1: -1.9331767559051514, D2: -0.34102094173431396]\n",
      "[Epoch 45/200]\n",
      "Losses: [GE1: 2.968245267868042, GE2: -1.49709153175354] [D1: -3.1311728954315186, D2: -0.36554059386253357]\n",
      "[Epoch 45/200]\n",
      "Losses: [GE1: 1.8855316638946533, GE2: -2.3632636070251465] [D1: -2.7977941036224365, D2: -0.39946281909942627]\n",
      "[Epoch 45/200]\n",
      "Losses: [GE1: 2.256855010986328, GE2: -2.114065170288086] [D1: -1.7069573402404785, D2: -0.475719690322876]\n",
      "[Epoch 45/200]\n",
      "Losses: [GE1: 2.8465778827667236, GE2: -1.2808384895324707] [D1: -0.9566360712051392, D2: -0.3929361402988434]\n",
      "[Epoch 45/200]\n",
      "Losses: [GE1: 2.28413987159729, GE2: -1.0366873741149902] [D1: -3.4451870918273926, D2: -0.37382441759109497]\n",
      "[Epoch 45/200]\n",
      "Losses: [GE1: 1.6853116750717163, GE2: -0.7787322402000427] [D1: -1.7023895978927612, D2: -0.3534238338470459]\n",
      "[Epoch 45/200]\n",
      "Losses: [GE1: 2.1564033031463623, GE2: -1.5172911882400513] [D1: -1.500169038772583, D2: -0.27682071924209595]\n",
      "[Epoch 45/200]\n",
      "Losses: [GE1: 1.7243351936340332, GE2: -0.6510665416717529] [D1: -2.4519641399383545, D2: -0.5189516544342041]\n",
      "[Epoch 45/200]\n",
      "Losses: [GE1: 1.659476637840271, GE2: -2.3057610988616943] [D1: -1.562001347541809, D2: -0.4846256971359253]\n"
     ]
    },
    {
     "name": "stderr",
     "output_type": "stream",
     "text": [
      " 23%|███████▎                        | 46/200 [21:49<1:13:04, 28.47s/it]"
     ]
    },
    {
     "name": "stdout",
     "output_type": "stream",
     "text": [
      "[Epoch 46/200]\n",
      "Losses: [GE1: 1.7447489500045776, GE2: -1.0441234111785889] [D1: -1.5855733156204224, D2: -0.4658939838409424]\n",
      "[Epoch 46/200]\n",
      "Losses: [GE1: 2.247764825820923, GE2: -1.7963025569915771] [D1: -1.5858551263809204, D2: -0.34718361496925354]\n",
      "[Epoch 46/200]\n",
      "Losses: [GE1: 2.204578161239624, GE2: -1.7460278272628784] [D1: -2.168271541595459, D2: -0.33852729201316833]\n",
      "[Epoch 46/200]\n",
      "Losses: [GE1: 1.6728211641311646, GE2: -1.6267385482788086] [D1: -1.0596930980682373, D2: -0.36453020572662354]\n",
      "[Epoch 46/200]\n",
      "Losses: [GE1: 1.5846307277679443, GE2: -1.9843757152557373] [D1: -1.4399566650390625, D2: -0.4052523076534271]\n",
      "[Epoch 46/200]\n",
      "Losses: [GE1: 1.2688792943954468, GE2: -1.6006633043289185] [D1: -2.8811285495758057, D2: -0.40520602464675903]\n",
      "[Epoch 46/200]\n",
      "Losses: [GE1: 1.436592698097229, GE2: -2.1755270957946777] [D1: -2.3547255992889404, D2: -0.3836228549480438]\n",
      "[Epoch 46/200]\n",
      "Losses: [GE1: 0.8719227313995361, GE2: -1.1193550825119019] [D1: -1.9739093780517578, D2: -0.4369518458843231]\n",
      "[Epoch 46/200]\n",
      "Losses: [GE1: 1.2993860244750977, GE2: -0.7720006108283997] [D1: -1.8339200019836426, D2: -0.3767525553703308]\n",
      "[Epoch 46/200]\n",
      "Losses: [GE1: 1.0674794912338257, GE2: -0.7929770946502686] [D1: -1.8286950588226318, D2: -0.34781816601753235]\n"
     ]
    },
    {
     "name": "stderr",
     "output_type": "stream",
     "text": [
      " 24%|███████▌                        | 47/200 [22:17<1:12:35, 28.47s/it]"
     ]
    },
    {
     "name": "stdout",
     "output_type": "stream",
     "text": [
      "[Epoch 47/200]\n",
      "Losses: [GE1: 0.8411644697189331, GE2: -2.047469139099121] [D1: -2.9692535400390625, D2: -0.3902079463005066]\n",
      "[Epoch 47/200]\n",
      "Losses: [GE1: 1.1479616165161133, GE2: -1.6055852174758911] [D1: -2.376067638397217, D2: -0.486750066280365]\n",
      "[Epoch 47/200]\n",
      "Losses: [GE1: 0.8429865837097168, GE2: -1.0647923946380615] [D1: -1.6368473768234253, D2: -0.3510645031929016]\n",
      "[Epoch 47/200]\n",
      "Losses: [GE1: 1.1533541679382324, GE2: -1.4855165481567383] [D1: -2.0467512607574463, D2: -0.4303250014781952]\n",
      "[Epoch 47/200]\n",
      "Losses: [GE1: 1.2683806419372559, GE2: -2.2442591190338135] [D1: -2.073197364807129, D2: -0.3961077034473419]\n",
      "[Epoch 47/200]\n",
      "Losses: [GE1: 1.6231305599212646, GE2: -1.530133605003357] [D1: -2.1311721801757812, D2: -0.41496512293815613]\n",
      "[Epoch 47/200]\n",
      "Losses: [GE1: 1.5369727611541748, GE2: -1.717390775680542] [D1: -2.976713180541992, D2: -0.3094894587993622]\n",
      "[Epoch 47/200]\n",
      "Losses: [GE1: 0.6300987601280212, GE2: -1.2742302417755127] [D1: -2.041428327560425, D2: -0.37097567319869995]\n",
      "[Epoch 47/200]\n",
      "Losses: [GE1: 1.0153251886367798, GE2: -0.8710170984268188] [D1: -1.6901170015335083, D2: -0.46061474084854126]\n",
      "[Epoch 47/200]\n",
      "Losses: [GE1: 0.7803202271461487, GE2: -1.5877643823623657] [D1: -0.9290883541107178, D2: -0.3714040517807007]\n"
     ]
    },
    {
     "name": "stderr",
     "output_type": "stream",
     "text": [
      " 24%|███████▋                        | 48/200 [22:46<1:12:06, 28.47s/it]"
     ]
    },
    {
     "name": "stdout",
     "output_type": "stream",
     "text": [
      "[Epoch 48/200]\n",
      "Losses: [GE1: 1.3902667760849, GE2: -0.7446208000183105] [D1: -2.045837879180908, D2: -0.3737213909626007]\n",
      "[Epoch 48/200]\n",
      "Losses: [GE1: 0.612193763256073, GE2: -1.270893931388855] [D1: -1.505039930343628, D2: -0.30510213971138]\n",
      "[Epoch 48/200]\n",
      "Losses: [GE1: 1.7433308362960815, GE2: -1.0202797651290894] [D1: -2.426748275756836, D2: -0.41176554560661316]\n",
      "[Epoch 48/200]\n",
      "Losses: [GE1: 1.3842664957046509, GE2: -1.4671159982681274] [D1: -2.255688428878784, D2: -0.32302117347717285]\n",
      "[Epoch 48/200]\n",
      "Losses: [GE1: 1.100122094154358, GE2: -1.281908392906189] [D1: -3.0870308876037598, D2: -0.43985697627067566]\n",
      "[Epoch 48/200]\n",
      "Losses: [GE1: 1.089133620262146, GE2: -0.9946751594543457] [D1: -2.647850513458252, D2: -0.35870885848999023]\n",
      "[Epoch 48/200]\n",
      "Losses: [GE1: 0.3293507993221283, GE2: -1.4309965372085571] [D1: -3.284311532974243, D2: -0.3534244894981384]\n",
      "[Epoch 48/200]\n",
      "Losses: [GE1: 1.5727113485336304, GE2: -1.8196254968643188] [D1: -2.6957030296325684, D2: -0.3736928403377533]\n",
      "[Epoch 48/200]\n",
      "Losses: [GE1: 1.6191380023956299, GE2: -1.951794981956482] [D1: -2.9014172554016113, D2: -0.3326426148414612]\n",
      "[Epoch 48/200]\n",
      "Losses: [GE1: 1.301580786705017, GE2: -0.8929007649421692] [D1: -2.346849203109741, D2: -0.3536331355571747]\n"
     ]
    },
    {
     "name": "stderr",
     "output_type": "stream",
     "text": [
      " 24%|███████▊                        | 49/200 [23:14<1:11:38, 28.47s/it]"
     ]
    },
    {
     "name": "stdout",
     "output_type": "stream",
     "text": [
      "[Epoch 49/200]\n",
      "Losses: [GE1: 1.293624758720398, GE2: -1.8055888414382935] [D1: -2.3538551330566406, D2: -0.311832994222641]\n",
      "[Epoch 49/200]\n",
      "Losses: [GE1: 1.9877879619598389, GE2: -1.153926968574524] [D1: -2.349045515060425, D2: -0.37916770577430725]\n",
      "[Epoch 49/200]\n",
      "Losses: [GE1: 2.5497891902923584, GE2: -1.1872323751449585] [D1: -2.0231776237487793, D2: -0.3587390184402466]\n",
      "[Epoch 49/200]\n",
      "Losses: [GE1: 0.8324159383773804, GE2: -1.2768999338150024] [D1: -2.8014166355133057, D2: -0.35956305265426636]\n",
      "[Epoch 49/200]\n",
      "Losses: [GE1: 0.7650781273841858, GE2: -2.4845643043518066] [D1: -2.0109243392944336, D2: -0.3954644501209259]\n",
      "[Epoch 49/200]\n",
      "Losses: [GE1: 1.2449588775634766, GE2: -1.255850911140442] [D1: -3.0501086711883545, D2: -0.3292195200920105]\n",
      "[Epoch 49/200]\n",
      "Losses: [GE1: 1.643957495689392, GE2: -2.020599603652954] [D1: -1.6981654167175293, D2: -0.3164133131504059]\n",
      "[Epoch 49/200]\n",
      "Losses: [GE1: 1.8839614391326904, GE2: -1.4580477476119995] [D1: -1.4145941734313965, D2: -0.2744496762752533]\n",
      "[Epoch 49/200]\n",
      "Losses: [GE1: 1.9393079280853271, GE2: -1.4168171882629395] [D1: -2.7939867973327637, D2: -0.3857390880584717]\n",
      "[Epoch 49/200]\n",
      "Losses: [GE1: 1.2853007316589355, GE2: -1.208387851715088] [D1: -2.186581611633301, D2: -0.3084893822669983]\n"
     ]
    },
    {
     "name": "stderr",
     "output_type": "stream",
     "text": [
      " 25%|████████                        | 50/200 [23:43<1:11:10, 28.47s/it]"
     ]
    },
    {
     "name": "stdout",
     "output_type": "stream",
     "text": [
      "[Epoch 50/200]\n",
      "Losses: [GE1: 1.0012619495391846, GE2: -2.2020745277404785] [D1: -3.7409186363220215, D2: -0.39770153164863586]\n",
      "[Epoch 50/200]\n",
      "Losses: [GE1: 1.6942189931869507, GE2: -1.1235967874526978] [D1: -1.4354138374328613, D2: -0.33623358607292175]\n",
      "[Epoch 50/200]\n",
      "Losses: [GE1: 1.8337247371673584, GE2: -1.6767215728759766] [D1: -2.1018218994140625, D2: -0.36376696825027466]\n",
      "[Epoch 50/200]\n",
      "Losses: [GE1: 0.4146042466163635, GE2: -2.0530683994293213] [D1: -2.068053722381592, D2: -0.3844807744026184]\n",
      "[Epoch 50/200]\n",
      "Losses: [GE1: 1.595681071281433, GE2: -1.7487945556640625] [D1: -2.10587477684021, D2: -0.2913283705711365]\n",
      "[Epoch 50/200]\n",
      "Losses: [GE1: 2.0302398204803467, GE2: -1.872652530670166] [D1: -2.9805591106414795, D2: -0.3314770460128784]\n",
      "[Epoch 50/200]\n",
      "Losses: [GE1: 1.027678370475769, GE2: -1.6070436239242554] [D1: -1.8607847690582275, D2: -0.41496285796165466]\n",
      "[Epoch 50/200]\n",
      "Losses: [GE1: 1.8086897134780884, GE2: -0.8907734751701355] [D1: -3.011195659637451, D2: -0.313007116317749]\n",
      "[Epoch 50/200]\n",
      "Losses: [GE1: 1.814278483390808, GE2: -2.013357162475586] [D1: -2.0326449871063232, D2: -0.4384429156780243]\n",
      "[Epoch 50/200]\n",
      "Losses: [GE1: 0.7305719256401062, GE2: -1.4134069681167603] [D1: -1.7169959545135498, D2: -0.4052804112434387]\n"
     ]
    },
    {
     "name": "stderr",
     "output_type": "stream",
     "text": [
      " 26%|████████▏                       | 51/200 [24:11<1:10:41, 28.47s/it]"
     ]
    },
    {
     "name": "stdout",
     "output_type": "stream",
     "text": [
      "[Epoch 51/200]\n",
      "Losses: [GE1: 2.016502618789673, GE2: -1.813698410987854] [D1: -0.923827052116394, D2: -0.44070327281951904]\n",
      "[Epoch 51/200]\n",
      "Losses: [GE1: 1.3640273809432983, GE2: -1.2764338254928589] [D1: -2.995509386062622, D2: -0.42081379890441895]\n",
      "[Epoch 51/200]\n",
      "Losses: [GE1: 2.194420337677002, GE2: -1.050893783569336] [D1: -2.356339454650879, D2: -0.379218190908432]\n",
      "[Epoch 51/200]\n",
      "Losses: [GE1: 0.9279826283454895, GE2: -1.6238176822662354] [D1: -2.737929582595825, D2: -0.3438279330730438]\n",
      "[Epoch 51/200]\n",
      "Losses: [GE1: 1.534180760383606, GE2: -0.9324024319648743] [D1: -2.1650357246398926, D2: -0.5281464457511902]\n",
      "[Epoch 51/200]\n",
      "Losses: [GE1: 1.3375258445739746, GE2: -0.9838613867759705] [D1: -2.3952503204345703, D2: -0.3423616290092468]\n",
      "[Epoch 51/200]\n",
      "Losses: [GE1: 1.2633553743362427, GE2: -1.089329719543457] [D1: -1.798841953277588, D2: -0.34622034430503845]\n",
      "[Epoch 51/200]\n",
      "Losses: [GE1: 1.083275318145752, GE2: -1.344247817993164] [D1: -1.6500797271728516, D2: -0.33895671367645264]\n",
      "[Epoch 51/200]\n",
      "Losses: [GE1: 1.2664669752120972, GE2: -1.3760693073272705] [D1: -2.8821752071380615, D2: -0.3199763596057892]\n",
      "[Epoch 51/200]\n",
      "Losses: [GE1: 1.9906408786773682, GE2: -1.5373808145523071] [D1: -3.00333833694458, D2: -0.3252941966056824]\n"
     ]
    },
    {
     "name": "stderr",
     "output_type": "stream",
     "text": [
      " 26%|████████▎                       | 52/200 [24:40<1:10:12, 28.46s/it]"
     ]
    },
    {
     "name": "stdout",
     "output_type": "stream",
     "text": [
      "[Epoch 52/200]\n",
      "Losses: [GE1: 1.2211703062057495, GE2: -1.0381815433502197] [D1: -1.6667935848236084, D2: -0.35486656427383423]\n",
      "[Epoch 52/200]\n",
      "Losses: [GE1: 1.8822941780090332, GE2: -0.9130937457084656] [D1: -2.577950954437256, D2: -0.40706905722618103]\n",
      "[Epoch 52/200]\n",
      "Losses: [GE1: 1.4672598838806152, GE2: -0.9710197448730469] [D1: -2.3536596298217773, D2: -0.38837501406669617]\n",
      "[Epoch 52/200]\n",
      "Losses: [GE1: 1.2133463621139526, GE2: -1.4491322040557861] [D1: -1.8070778846740723, D2: -0.35300499200820923]\n",
      "[Epoch 52/200]\n",
      "Losses: [GE1: 1.8858323097229004, GE2: -0.7775943279266357] [D1: -2.003359079360962, D2: -0.38807860016822815]\n",
      "[Epoch 52/200]\n",
      "Losses: [GE1: 1.5504549741744995, GE2: -0.9286842942237854] [D1: -4.810892105102539, D2: -0.4423171877861023]\n",
      "[Epoch 52/200]\n",
      "Losses: [GE1: 1.1675450801849365, GE2: -1.611772894859314] [D1: -2.252119779586792, D2: -0.36679258942604065]\n",
      "[Epoch 52/200]\n",
      "Losses: [GE1: 1.4281539916992188, GE2: -1.388880729675293] [D1: -2.9196715354919434, D2: -0.2965966761112213]\n",
      "[Epoch 52/200]\n",
      "Losses: [GE1: 1.4755308628082275, GE2: -1.0749475955963135] [D1: -2.13968563079834, D2: -0.4547961354255676]\n",
      "[Epoch 52/200]\n",
      "Losses: [GE1: 0.4196559190750122, GE2: -1.194106936454773] [D1: -2.3967533111572266, D2: -0.40897613763809204]\n"
     ]
    },
    {
     "name": "stderr",
     "output_type": "stream",
     "text": [
      " 26%|████████▍                       | 53/200 [25:08<1:09:44, 28.46s/it]"
     ]
    },
    {
     "name": "stdout",
     "output_type": "stream",
     "text": [
      "[Epoch 53/200]\n",
      "Losses: [GE1: 1.3562592267990112, GE2: -0.7643753290176392] [D1: -1.5082652568817139, D2: -0.32000988721847534]\n",
      "[Epoch 53/200]\n",
      "Losses: [GE1: 1.445139765739441, GE2: -1.5074681043624878] [D1: -1.8857017755508423, D2: -0.42402908205986023]\n",
      "[Epoch 53/200]\n",
      "Losses: [GE1: 2.3782355785369873, GE2: -1.055643081665039] [D1: -2.9512579441070557, D2: -0.3912818431854248]\n",
      "[Epoch 53/200]\n",
      "Losses: [GE1: 1.6381361484527588, GE2: -1.0701231956481934] [D1: -2.3044044971466064, D2: -0.3942122757434845]\n",
      "[Epoch 53/200]\n",
      "Losses: [GE1: 1.4691599607467651, GE2: -0.926947832107544] [D1: -1.5168559551239014, D2: -0.4319247305393219]\n",
      "[Epoch 53/200]\n",
      "Losses: [GE1: 0.9381449818611145, GE2: -1.3728493452072144] [D1: -1.7322384119033813, D2: -0.41488683223724365]\n",
      "[Epoch 53/200]\n",
      "Losses: [GE1: 1.9703832864761353, GE2: -1.3646786212921143] [D1: -2.5099220275878906, D2: -0.3349440395832062]\n",
      "[Epoch 53/200]\n",
      "Losses: [GE1: 1.395390272140503, GE2: -1.7344574928283691] [D1: -2.9414641857147217, D2: -0.4883483350276947]\n",
      "[Epoch 53/200]\n",
      "Losses: [GE1: 1.7835153341293335, GE2: -1.5623056888580322] [D1: -3.947814464569092, D2: -0.3917773962020874]\n",
      "[Epoch 53/200]\n",
      "Losses: [GE1: 2.310673236846924, GE2: -1.1893576383590698] [D1: -3.130438804626465, D2: -0.3793010115623474]\n"
     ]
    },
    {
     "name": "stderr",
     "output_type": "stream",
     "text": [
      " 27%|████████▋                       | 54/200 [25:36<1:09:15, 28.46s/it]"
     ]
    },
    {
     "name": "stdout",
     "output_type": "stream",
     "text": [
      "[Epoch 54/200]\n",
      "Losses: [GE1: 1.986425518989563, GE2: -1.5620384216308594] [D1: -1.6974486112594604, D2: -0.31587547063827515]\n",
      "[Epoch 54/200]\n",
      "Losses: [GE1: 1.7942578792572021, GE2: -1.062644362449646] [D1: -1.3487521409988403, D2: -0.3156838119029999]\n",
      "[Epoch 54/200]\n",
      "Losses: [GE1: 2.0300958156585693, GE2: -1.2682342529296875] [D1: -2.706512928009033, D2: -0.3772090673446655]\n",
      "[Epoch 54/200]\n",
      "Losses: [GE1: 1.9038416147232056, GE2: -1.025140404701233] [D1: -2.7560038566589355, D2: -0.35858532786369324]\n",
      "[Epoch 54/200]\n",
      "Losses: [GE1: 2.192871332168579, GE2: -1.5863478183746338] [D1: -2.523974895477295, D2: -0.3170439600944519]\n",
      "[Epoch 54/200]\n",
      "Losses: [GE1: 2.1807425022125244, GE2: -0.954105019569397] [D1: -1.7605483531951904, D2: -0.460374653339386]\n",
      "[Epoch 54/200]\n",
      "Losses: [GE1: 1.4845730066299438, GE2: -1.3569414615631104] [D1: -2.0294127464294434, D2: -0.41410234570503235]\n",
      "[Epoch 54/200]\n",
      "Losses: [GE1: 2.339292287826538, GE2: -1.7436273097991943] [D1: -2.711416482925415, D2: -0.4614788591861725]\n",
      "[Epoch 54/200]\n",
      "Losses: [GE1: 2.47226881980896, GE2: -1.6269609928131104] [D1: -2.526508092880249, D2: -0.39593178033828735]\n",
      "[Epoch 54/200]\n",
      "Losses: [GE1: 2.5787761211395264, GE2: -0.9353235363960266] [D1: -2.56396746635437, D2: -0.40175920724868774]\n"
     ]
    },
    {
     "name": "stderr",
     "output_type": "stream",
     "text": [
      " 28%|████████▊                       | 55/200 [26:05<1:08:46, 28.46s/it]"
     ]
    },
    {
     "name": "stdout",
     "output_type": "stream",
     "text": [
      "[Epoch 55/200]\n",
      "Losses: [GE1: 1.5553674697875977, GE2: -1.4961073398590088] [D1: -1.878239393234253, D2: -0.4270550310611725]\n",
      "[Epoch 55/200]\n",
      "Losses: [GE1: 2.7095460891723633, GE2: -1.1437369585037231] [D1: -2.101715087890625, D2: -0.3574559986591339]\n",
      "[Epoch 55/200]\n",
      "Losses: [GE1: 1.864184021949768, GE2: -1.7362333536148071] [D1: -1.796072006225586, D2: -0.39644575119018555]\n",
      "[Epoch 55/200]\n",
      "Losses: [GE1: 2.5345089435577393, GE2: -1.6910159587860107] [D1: -2.3681960105895996, D2: -0.4142909646034241]\n",
      "[Epoch 55/200]\n",
      "Losses: [GE1: 2.6854965686798096, GE2: -1.4102238416671753] [D1: -2.2329776287078857, D2: -0.2879093289375305]\n",
      "[Epoch 55/200]\n",
      "Losses: [GE1: 2.9920496940612793, GE2: -1.784421682357788] [D1: -2.4965248107910156, D2: -0.3064999282360077]\n",
      "[Epoch 55/200]\n",
      "Losses: [GE1: 2.5511302947998047, GE2: -1.6974945068359375] [D1: -2.31976318359375, D2: -0.43548619747161865]\n",
      "[Epoch 55/200]\n",
      "Losses: [GE1: 2.207050085067749, GE2: -1.3824799060821533] [D1: -1.9535516500473022, D2: -0.34795907139778137]\n",
      "[Epoch 55/200]\n",
      "Losses: [GE1: 2.033381462097168, GE2: -0.3136782944202423] [D1: -1.8751040697097778, D2: -0.3285640478134155]\n",
      "[Epoch 55/200]\n",
      "Losses: [GE1: 2.527923107147217, GE2: -1.2341667413711548] [D1: -1.4539769887924194, D2: -0.35781267285346985]\n"
     ]
    },
    {
     "name": "stderr",
     "output_type": "stream",
     "text": [
      " 28%|████████▉                       | 56/200 [26:33<1:08:18, 28.46s/it]"
     ]
    },
    {
     "name": "stdout",
     "output_type": "stream",
     "text": [
      "[Epoch 56/200]\n",
      "Losses: [GE1: 2.4486243724823, GE2: -1.3162205219268799] [D1: -3.465277671813965, D2: -0.3092469573020935]\n",
      "[Epoch 56/200]\n",
      "Losses: [GE1: 2.8905327320098877, GE2: -1.1295323371887207] [D1: -1.8491880893707275, D2: -0.3037899136543274]\n",
      "[Epoch 56/200]\n",
      "Losses: [GE1: 2.953174114227295, GE2: -1.5033485889434814] [D1: -2.0072460174560547, D2: -0.4199790060520172]\n",
      "[Epoch 56/200]\n",
      "Losses: [GE1: 1.780127763748169, GE2: -1.8678778409957886] [D1: -1.8896398544311523, D2: -0.33837395906448364]\n",
      "[Epoch 56/200]\n",
      "Losses: [GE1: 2.4549765586853027, GE2: -1.7722092866897583] [D1: -2.5086402893066406, D2: -0.39695069193840027]\n",
      "[Epoch 56/200]\n",
      "Losses: [GE1: 2.239562511444092, GE2: -1.318711757659912] [D1: -2.554405927658081, D2: -0.38415229320526123]\n",
      "[Epoch 56/200]\n",
      "Losses: [GE1: 2.4295709133148193, GE2: -1.4753155708312988] [D1: -1.824428677558899, D2: -0.40737271308898926]\n",
      "[Epoch 56/200]\n",
      "Losses: [GE1: 3.3831851482391357, GE2: -1.6440352201461792] [D1: -2.012357473373413, D2: -0.4048881530761719]\n",
      "[Epoch 56/200]\n",
      "Losses: [GE1: 2.2650723457336426, GE2: -2.075347423553467] [D1: -1.9697837829589844, D2: -0.3787006437778473]\n",
      "[Epoch 56/200]\n",
      "Losses: [GE1: 2.210268020629883, GE2: -1.1839596033096313] [D1: -1.9489381313323975, D2: -0.40016278624534607]\n"
     ]
    },
    {
     "name": "stderr",
     "output_type": "stream",
     "text": [
      " 28%|█████████                       | 57/200 [27:02<1:07:49, 28.46s/it]"
     ]
    },
    {
     "name": "stdout",
     "output_type": "stream",
     "text": [
      "[Epoch 57/200]\n",
      "Losses: [GE1: 1.8399574756622314, GE2: -1.6839040517807007] [D1: -2.0896427631378174, D2: -0.35156553983688354]\n",
      "[Epoch 57/200]\n",
      "Losses: [GE1: 2.3655331134796143, GE2: -1.60860013961792] [D1: -1.768056869506836, D2: -0.25244802236557007]\n",
      "[Epoch 57/200]\n",
      "Losses: [GE1: 2.7273476123809814, GE2: -1.6313613653182983] [D1: -1.1276326179504395, D2: -0.2656492590904236]\n",
      "[Epoch 57/200]\n",
      "Losses: [GE1: 2.5904014110565186, GE2: -1.6505658626556396] [D1: -2.348909854888916, D2: -0.2823370397090912]\n",
      "[Epoch 57/200]\n",
      "Losses: [GE1: 2.764533758163452, GE2: -0.5286858081817627] [D1: -3.2139158248901367, D2: -0.3047460615634918]\n",
      "[Epoch 57/200]\n",
      "Losses: [GE1: 3.1609320640563965, GE2: -0.8514723181724548] [D1: -2.176124095916748, D2: -0.4327640235424042]\n",
      "[Epoch 57/200]\n",
      "Losses: [GE1: 1.84917151927948, GE2: -1.4893977642059326] [D1: -2.0474555492401123, D2: -0.3012141287326813]\n",
      "[Epoch 57/200]\n",
      "Losses: [GE1: 2.2169597148895264, GE2: -1.2040090560913086] [D1: -3.290536403656006, D2: -0.29628488421440125]\n",
      "[Epoch 57/200]\n",
      "Losses: [GE1: 2.1357052326202393, GE2: -1.8091336488723755] [D1: -2.422178268432617, D2: -0.4280810058116913]\n",
      "[Epoch 57/200]\n",
      "Losses: [GE1: 3.1636099815368652, GE2: -0.9528102874755859] [D1: -2.2223691940307617, D2: -0.33262959122657776]\n"
     ]
    },
    {
     "name": "stderr",
     "output_type": "stream",
     "text": [
      " 29%|█████████▎                      | 58/200 [27:30<1:07:20, 28.46s/it]"
     ]
    },
    {
     "name": "stdout",
     "output_type": "stream",
     "text": [
      "[Epoch 58/200]\n",
      "Losses: [GE1: 3.103630542755127, GE2: -2.047576427459717] [D1: -1.491464614868164, D2: -0.32212933897972107]\n",
      "[Epoch 58/200]\n",
      "Losses: [GE1: 2.66023325920105, GE2: -1.9930644035339355] [D1: -1.946702003479004, D2: -0.3913276791572571]\n",
      "[Epoch 58/200]\n",
      "Losses: [GE1: 2.6991047859191895, GE2: -1.6732732057571411] [D1: -2.5513205528259277, D2: -0.40499648451805115]\n",
      "[Epoch 58/200]\n",
      "Losses: [GE1: 2.557055711746216, GE2: -0.8365577459335327] [D1: -1.4437751770019531, D2: -0.3551749587059021]\n",
      "[Epoch 58/200]\n",
      "Losses: [GE1: 2.5485284328460693, GE2: -1.2022911310195923] [D1: -1.9579973220825195, D2: -0.3684622049331665]\n",
      "[Epoch 58/200]\n",
      "Losses: [GE1: 3.15575909614563, GE2: -0.4837893843650818] [D1: -2.1067824363708496, D2: -0.4607240855693817]\n",
      "[Epoch 58/200]\n",
      "Losses: [GE1: 2.1141505241394043, GE2: -1.4346964359283447] [D1: -4.059873104095459, D2: -0.3233603835105896]\n",
      "[Epoch 58/200]\n",
      "Losses: [GE1: 2.6492037773132324, GE2: -1.4394973516464233] [D1: -2.253392219543457, D2: -0.3683388829231262]\n",
      "[Epoch 58/200]\n",
      "Losses: [GE1: 2.899585723876953, GE2: -1.1969976425170898] [D1: -1.882965326309204, D2: -0.3627084493637085]\n",
      "[Epoch 58/200]\n",
      "Losses: [GE1: 2.4828739166259766, GE2: -1.4977853298187256] [D1: -1.7051924467086792, D2: -0.3934119939804077]\n"
     ]
    },
    {
     "name": "stderr",
     "output_type": "stream",
     "text": [
      " 30%|█████████▍                      | 59/200 [27:59<1:06:52, 28.46s/it]"
     ]
    },
    {
     "name": "stdout",
     "output_type": "stream",
     "text": [
      "[Epoch 59/200]\n",
      "Losses: [GE1: 2.575317859649658, GE2: -1.0432381629943848] [D1: -3.7517037391662598, D2: -0.308115690946579]\n",
      "[Epoch 59/200]\n",
      "Losses: [GE1: 2.318896770477295, GE2: -1.6040327548980713] [D1: -4.328422546386719, D2: -0.3591459095478058]\n",
      "[Epoch 59/200]\n",
      "Losses: [GE1: 2.3293519020080566, GE2: -0.8833458423614502] [D1: -1.8904521465301514, D2: -0.3441615700721741]\n",
      "[Epoch 59/200]\n",
      "Losses: [GE1: 1.984162449836731, GE2: -1.4325851202011108] [D1: -1.756076693534851, D2: -0.4710058271884918]\n",
      "[Epoch 59/200]\n",
      "Losses: [GE1: 2.9700348377227783, GE2: -1.0395050048828125] [D1: -2.502514600753784, D2: -0.36162739992141724]\n",
      "[Epoch 59/200]\n",
      "Losses: [GE1: 2.989271879196167, GE2: -1.4029234647750854] [D1: -2.783247232437134, D2: -0.37729182839393616]\n",
      "[Epoch 59/200]\n",
      "Losses: [GE1: 2.0861129760742188, GE2: -1.4268882274627686] [D1: -1.0295168161392212, D2: -0.43280211091041565]\n",
      "[Epoch 59/200]\n",
      "Losses: [GE1: 2.068654775619507, GE2: -1.4120014905929565] [D1: -1.4822688102722168, D2: -0.42815104126930237]\n",
      "[Epoch 59/200]\n",
      "Losses: [GE1: 1.9155867099761963, GE2: -2.0525174140930176] [D1: -1.7756167650222778, D2: -0.42838236689567566]\n",
      "[Epoch 59/200]\n",
      "Losses: [GE1: 2.548955202102661, GE2: -1.28783118724823] [D1: -2.1419732570648193, D2: -0.3724151849746704]\n"
     ]
    },
    {
     "name": "stderr",
     "output_type": "stream",
     "text": [
      " 30%|█████████▌                      | 60/200 [28:27<1:06:24, 28.46s/it]"
     ]
    },
    {
     "name": "stdout",
     "output_type": "stream",
     "text": [
      "[Epoch 60/200]\n",
      "Losses: [GE1: 2.5822818279266357, GE2: -1.2176610231399536] [D1: -1.1976792812347412, D2: -0.4333987832069397]\n",
      "[Epoch 60/200]\n",
      "Losses: [GE1: 2.6874961853027344, GE2: -1.8428667783737183] [D1: -1.4977596998214722, D2: -0.3839312493801117]\n",
      "[Epoch 60/200]\n",
      "Losses: [GE1: 2.5945534706115723, GE2: -1.7730493545532227] [D1: -2.548750400543213, D2: -0.33956658840179443]\n",
      "[Epoch 60/200]\n",
      "Losses: [GE1: 2.3461692333221436, GE2: -1.0184829235076904] [D1: -2.548032283782959, D2: -0.44250765442848206]\n",
      "[Epoch 60/200]\n",
      "Losses: [GE1: 1.6756508350372314, GE2: -0.7561959028244019] [D1: -2.495569944381714, D2: -0.28246498107910156]\n",
      "[Epoch 60/200]\n",
      "Losses: [GE1: 2.2138824462890625, GE2: -1.1855463981628418] [D1: -2.637364625930786, D2: -0.43415290117263794]\n",
      "[Epoch 60/200]\n",
      "Losses: [GE1: 2.0680158138275146, GE2: -0.8106794357299805] [D1: -1.9093384742736816, D2: -0.2942579984664917]\n",
      "[Epoch 60/200]\n",
      "Losses: [GE1: 2.2293899059295654, GE2: -0.39176589250564575] [D1: -2.513065814971924, D2: -0.46247372031211853]\n",
      "[Epoch 60/200]\n",
      "Losses: [GE1: 1.3772000074386597, GE2: -0.8106484413146973] [D1: -2.551279067993164, D2: -0.3496546447277069]\n",
      "[Epoch 60/200]\n",
      "Losses: [GE1: 2.775066614151001, GE2: -1.3959579467773438] [D1: -2.1888725757598877, D2: -0.3995087444782257]\n"
     ]
    },
    {
     "name": "stderr",
     "output_type": "stream",
     "text": [
      " 30%|█████████▊                      | 61/200 [28:55<1:05:55, 28.46s/it]"
     ]
    },
    {
     "name": "stdout",
     "output_type": "stream",
     "text": [
      "[Epoch 61/200]\n",
      "Losses: [GE1: 2.378817081451416, GE2: -0.658837080001831] [D1: -1.0904603004455566, D2: -0.3427053391933441]\n",
      "[Epoch 61/200]\n",
      "Losses: [GE1: 2.947023630142212, GE2: -1.4483603239059448] [D1: -2.039396047592163, D2: -0.30525004863739014]\n",
      "[Epoch 61/200]\n",
      "Losses: [GE1: 1.7369624376296997, GE2: -1.2427393198013306] [D1: -1.6135947704315186, D2: -0.3351149260997772]\n",
      "[Epoch 61/200]\n",
      "Losses: [GE1: 1.9812157154083252, GE2: -1.0486500263214111] [D1: -1.8211815357208252, D2: -0.32889944314956665]\n",
      "[Epoch 61/200]\n",
      "Losses: [GE1: 2.1244492530822754, GE2: -1.2967535257339478] [D1: -2.944322109222412, D2: -0.3109990060329437]\n",
      "[Epoch 61/200]\n",
      "Losses: [GE1: 2.149691343307495, GE2: -1.260766625404358] [D1: -2.8693199157714844, D2: -0.3135288953781128]\n",
      "[Epoch 61/200]\n",
      "Losses: [GE1: 1.0860848426818848, GE2: -0.82196044921875] [D1: -2.9024605751037598, D2: -0.3697397708892822]\n",
      "[Epoch 61/200]\n",
      "Losses: [GE1: 1.559792399406433, GE2: -1.0277924537658691] [D1: -3.0529096126556396, D2: -0.3415065407752991]\n",
      "[Epoch 61/200]\n",
      "Losses: [GE1: 2.221102476119995, GE2: -1.369360089302063] [D1: -2.11600923538208, D2: -0.2868867516517639]\n",
      "[Epoch 61/200]\n",
      "Losses: [GE1: 1.4932315349578857, GE2: -1.6174192428588867] [D1: -2.929633855819702, D2: -0.40751683712005615]\n"
     ]
    },
    {
     "name": "stderr",
     "output_type": "stream",
     "text": [
      " 31%|█████████▉                      | 62/200 [29:24<1:05:26, 28.46s/it]"
     ]
    },
    {
     "name": "stdout",
     "output_type": "stream",
     "text": [
      "[Epoch 62/200]\n",
      "Losses: [GE1: 0.9755855798721313, GE2: -0.3039223253726959] [D1: -1.3789169788360596, D2: -0.3762320876121521]\n",
      "[Epoch 62/200]\n",
      "Losses: [GE1: 1.8524212837219238, GE2: -1.2195271253585815] [D1: -1.4059749841690063, D2: -0.42345261573791504]\n",
      "[Epoch 62/200]\n",
      "Losses: [GE1: 1.8366611003875732, GE2: -0.6824191808700562] [D1: -1.8256652355194092, D2: -0.39591094851493835]\n",
      "[Epoch 62/200]\n",
      "Losses: [GE1: 2.0343399047851562, GE2: -0.7099788784980774] [D1: -2.60689115524292, D2: -0.3798036277294159]\n",
      "[Epoch 62/200]\n",
      "Losses: [GE1: 1.8456354141235352, GE2: -1.4361804723739624] [D1: -2.1359453201293945, D2: -0.3420080542564392]\n",
      "[Epoch 62/200]\n",
      "Losses: [GE1: 2.0918147563934326, GE2: -1.1581475734710693] [D1: -1.9264198541641235, D2: -0.350324422121048]\n",
      "[Epoch 62/200]\n",
      "Losses: [GE1: 1.5994622707366943, GE2: -1.3529890775680542] [D1: -1.0200163125991821, D2: -0.43796828389167786]\n",
      "[Epoch 62/200]\n",
      "Losses: [GE1: 2.385647773742676, GE2: -1.1363732814788818] [D1: -1.5625879764556885, D2: -0.3267025351524353]\n",
      "[Epoch 62/200]\n",
      "Losses: [GE1: 1.9567946195602417, GE2: -0.8140004277229309] [D1: -2.8207108974456787, D2: -0.3801722526550293]\n",
      "[Epoch 62/200]\n",
      "Losses: [GE1: 1.890557050704956, GE2: -1.1077184677124023] [D1: -1.0230374336242676, D2: -0.3124415874481201]\n"
     ]
    },
    {
     "name": "stderr",
     "output_type": "stream",
     "text": [
      " 32%|██████████                      | 63/200 [29:52<1:04:58, 28.46s/it]"
     ]
    },
    {
     "name": "stdout",
     "output_type": "stream",
     "text": [
      "[Epoch 63/200]\n",
      "Losses: [GE1: 1.4559162855148315, GE2: -0.7136982083320618] [D1: -2.1064114570617676, D2: -0.39588671922683716]\n",
      "[Epoch 63/200]\n",
      "Losses: [GE1: 2.416426420211792, GE2: -0.8391907215118408] [D1: -1.6570777893066406, D2: -0.3282015025615692]\n",
      "[Epoch 63/200]\n",
      "Losses: [GE1: 2.882478713989258, GE2: -0.16027843952178955] [D1: -2.130762815475464, D2: -0.5673362016677856]\n",
      "[Epoch 63/200]\n",
      "Losses: [GE1: 1.1429303884506226, GE2: -1.2869969606399536] [D1: -3.3381385803222656, D2: -0.4000958800315857]\n",
      "[Epoch 63/200]\n",
      "Losses: [GE1: 1.6105728149414062, GE2: -0.6982360482215881] [D1: -1.9383668899536133, D2: -0.40626388788223267]\n",
      "[Epoch 63/200]\n",
      "Losses: [GE1: 1.8916603326797485, GE2: -1.2213475704193115] [D1: -1.7834440469741821, D2: -0.301929771900177]\n",
      "[Epoch 63/200]\n",
      "Losses: [GE1: 1.8554303646087646, GE2: -1.0609140396118164] [D1: -2.0224690437316895, D2: -0.35745182633399963]\n",
      "[Epoch 63/200]\n",
      "Losses: [GE1: 1.8217332363128662, GE2: -1.5398540496826172] [D1: -1.0714683532714844, D2: -0.37020567059516907]\n",
      "[Epoch 63/200]\n",
      "Losses: [GE1: 1.4011284112930298, GE2: -1.3671129941940308] [D1: -2.353440284729004, D2: -0.34632930159568787]\n",
      "[Epoch 63/200]\n",
      "Losses: [GE1: 1.7610576152801514, GE2: -0.6701607704162598] [D1: -2.605506420135498, D2: -0.2872515320777893]\n"
     ]
    },
    {
     "name": "stderr",
     "output_type": "stream",
     "text": [
      " 32%|██████████▏                     | 64/200 [30:21<1:04:29, 28.45s/it]"
     ]
    },
    {
     "name": "stdout",
     "output_type": "stream",
     "text": [
      "[Epoch 64/200]\n",
      "Losses: [GE1: 2.635584592819214, GE2: -1.26022207736969] [D1: -2.149404287338257, D2: -0.361355721950531]\n",
      "[Epoch 64/200]\n",
      "Losses: [GE1: 2.3288087844848633, GE2: -1.6867804527282715] [D1: -1.9440417289733887, D2: -0.410671204328537]\n",
      "[Epoch 64/200]\n",
      "Losses: [GE1: 2.3577210903167725, GE2: -0.6916592717170715] [D1: -1.3887029886245728, D2: -0.2897183895111084]\n",
      "[Epoch 64/200]\n",
      "Losses: [GE1: 2.3662056922912598, GE2: -0.7764990329742432] [D1: -2.189973831176758, D2: -0.38626423478126526]\n",
      "[Epoch 64/200]\n",
      "Losses: [GE1: 1.4944980144500732, GE2: -0.9231310486793518] [D1: -1.9157888889312744, D2: -0.3664693236351013]\n",
      "[Epoch 64/200]\n",
      "Losses: [GE1: 1.2371282577514648, GE2: -1.1306133270263672] [D1: -2.220921039581299, D2: -0.35448145866394043]\n",
      "[Epoch 64/200]\n",
      "Losses: [GE1: 1.354340672492981, GE2: -1.5626461505889893] [D1: -3.1838150024414062, D2: -0.3186444938182831]\n",
      "[Epoch 64/200]\n",
      "Losses: [GE1: 0.9664490818977356, GE2: -0.84526127576828] [D1: -2.1932287216186523, D2: -0.3672742545604706]\n",
      "[Epoch 64/200]\n",
      "Losses: [GE1: 2.339604616165161, GE2: -0.45931291580200195] [D1: -1.9564504623413086, D2: -0.36252066493034363]\n",
      "[Epoch 64/200]\n",
      "Losses: [GE1: 1.1140565872192383, GE2: -0.7671289443969727] [D1: -1.9041571617126465, D2: -0.42486056685447693]\n"
     ]
    },
    {
     "name": "stderr",
     "output_type": "stream",
     "text": [
      " 32%|██████████▍                     | 65/200 [30:49<1:04:01, 28.46s/it]"
     ]
    },
    {
     "name": "stdout",
     "output_type": "stream",
     "text": [
      "[Epoch 65/200]\n",
      "Losses: [GE1: 1.2528765201568604, GE2: -0.5881331562995911] [D1: -2.956812620162964, D2: -0.3921305537223816]\n",
      "[Epoch 65/200]\n",
      "Losses: [GE1: 2.253631353378296, GE2: -0.9973556995391846] [D1: -3.130340576171875, D2: -0.311683714389801]\n",
      "[Epoch 65/200]\n",
      "Losses: [GE1: 1.1785188913345337, GE2: -1.1344633102416992] [D1: -2.326775074005127, D2: -0.4769299328327179]\n",
      "[Epoch 65/200]\n",
      "Losses: [GE1: 1.8495588302612305, GE2: -0.8603062629699707] [D1: -2.555187702178955, D2: -0.45431452989578247]\n",
      "[Epoch 65/200]\n",
      "Losses: [GE1: 1.7902265787124634, GE2: -0.5177262425422668] [D1: -1.9408955574035645, D2: -0.4141925573348999]\n",
      "[Epoch 65/200]\n",
      "Losses: [GE1: 1.6189686059951782, GE2: -0.3581565320491791] [D1: -2.8438687324523926, D2: -0.37789076566696167]\n",
      "[Epoch 65/200]\n",
      "Losses: [GE1: 0.4280083477497101, GE2: -1.5124768018722534] [D1: -1.4289900064468384, D2: -0.21576233208179474]\n",
      "[Epoch 65/200]\n",
      "Losses: [GE1: 0.9186875224113464, GE2: -1.5739997625350952] [D1: -2.7093472480773926, D2: -0.3364863693714142]\n",
      "[Epoch 65/200]\n",
      "Losses: [GE1: 1.501602292060852, GE2: -1.4289528131484985] [D1: -1.1253291368484497, D2: -0.33982086181640625]\n",
      "[Epoch 65/200]\n",
      "Losses: [GE1: 1.7892875671386719, GE2: -1.0808393955230713] [D1: -2.276045799255371, D2: -0.35866838693618774]\n"
     ]
    },
    {
     "name": "stderr",
     "output_type": "stream",
     "text": [
      " 33%|██████████▌                     | 66/200 [31:18<1:03:33, 28.46s/it]"
     ]
    },
    {
     "name": "stdout",
     "output_type": "stream",
     "text": [
      "[Epoch 66/200]\n",
      "Losses: [GE1: 1.0525379180908203, GE2: -0.92213374376297] [D1: -1.8349851369857788, D2: -0.33920201659202576]\n",
      "[Epoch 66/200]\n",
      "Losses: [GE1: 0.6986850500106812, GE2: -0.9325062036514282] [D1: -1.435544490814209, D2: -0.2918296754360199]\n",
      "[Epoch 66/200]\n",
      "Losses: [GE1: 1.9226564168930054, GE2: -1.461351752281189] [D1: -2.88773250579834, D2: -0.29896464943885803]\n",
      "[Epoch 66/200]\n",
      "Losses: [GE1: 1.614746332168579, GE2: -1.3664278984069824] [D1: -2.5292890071868896, D2: -0.37482523918151855]\n",
      "[Epoch 66/200]\n",
      "Losses: [GE1: 1.0385555028915405, GE2: -1.1339082717895508] [D1: -2.1764988899230957, D2: -0.4252432584762573]\n",
      "[Epoch 66/200]\n",
      "Losses: [GE1: 1.757344365119934, GE2: -0.8262567520141602] [D1: -3.263488292694092, D2: -0.4307529032230377]\n",
      "[Epoch 66/200]\n",
      "Losses: [GE1: 1.2138134241104126, GE2: -1.778899073600769] [D1: -3.5474085807800293, D2: -0.27180197834968567]\n",
      "[Epoch 66/200]\n",
      "Losses: [GE1: 0.8976671695709229, GE2: -1.0205748081207275] [D1: -1.7222795486450195, D2: -0.39382171630859375]\n",
      "[Epoch 66/200]\n",
      "Losses: [GE1: 1.939406156539917, GE2: -0.7654842138290405] [D1: -1.6745185852050781, D2: -0.37204548716545105]\n",
      "[Epoch 66/200]\n",
      "Losses: [GE1: 2.094087839126587, GE2: -1.307359218597412] [D1: -3.261432647705078, D2: -0.3311123251914978]\n"
     ]
    },
    {
     "name": "stderr",
     "output_type": "stream",
     "text": [
      " 34%|██████████▋                     | 67/200 [31:46<1:03:04, 28.46s/it]"
     ]
    },
    {
     "name": "stdout",
     "output_type": "stream",
     "text": [
      "[Epoch 67/200]\n",
      "Losses: [GE1: 0.5104474425315857, GE2: -0.8264034986495972] [D1: -1.942311406135559, D2: -0.38734370470046997]\n",
      "[Epoch 67/200]\n",
      "Losses: [GE1: 1.209226369857788, GE2: -1.087964415550232] [D1: -2.8821520805358887, D2: -0.4677164554595947]\n",
      "[Epoch 67/200]\n",
      "Losses: [GE1: 0.6143826246261597, GE2: -0.9709635376930237] [D1: -2.1737887859344482, D2: -0.40839946269989014]\n",
      "[Epoch 67/200]\n",
      "Losses: [GE1: 1.3597512245178223, GE2: -1.1386970281600952] [D1: -2.4339840412139893, D2: -0.42979905009269714]\n",
      "[Epoch 67/200]\n",
      "Losses: [GE1: 0.6015189290046692, GE2: -0.5783759355545044] [D1: -1.496389627456665, D2: -0.4082626700401306]\n",
      "[Epoch 67/200]\n",
      "Losses: [GE1: 1.4920545816421509, GE2: -0.9547590017318726] [D1: -2.987009048461914, D2: -0.28497275710105896]\n",
      "[Epoch 67/200]\n",
      "Losses: [GE1: 1.6976577043533325, GE2: -0.9005396366119385] [D1: -3.0335094928741455, D2: -0.39478397369384766]\n",
      "[Epoch 67/200]\n",
      "Losses: [GE1: 1.4068284034729004, GE2: -0.5380463600158691] [D1: -1.8613895177841187, D2: -0.3637755811214447]\n",
      "[Epoch 67/200]\n",
      "Losses: [GE1: 0.3888576626777649, GE2: -0.7977780103683472] [D1: -1.8092538118362427, D2: -0.43826669454574585]\n",
      "[Epoch 67/200]\n",
      "Losses: [GE1: 0.7389739751815796, GE2: -1.0023174285888672] [D1: -1.8189427852630615, D2: -0.42118003964424133]\n"
     ]
    },
    {
     "name": "stderr",
     "output_type": "stream",
     "text": [
      " 34%|██████████▉                     | 68/200 [32:14<1:02:36, 28.46s/it]"
     ]
    },
    {
     "name": "stdout",
     "output_type": "stream",
     "text": [
      "[Epoch 68/200]\n",
      "Losses: [GE1: 0.6065179109573364, GE2: -0.5501245856285095] [D1: -3.279893398284912, D2: -0.3998202383518219]\n",
      "[Epoch 68/200]\n",
      "Losses: [GE1: 1.2250233888626099, GE2: -0.41047894954681396] [D1: -2.003316879272461, D2: -0.3478597104549408]\n",
      "[Epoch 68/200]\n",
      "Losses: [GE1: 1.507988691329956, GE2: -1.3292145729064941] [D1: -2.141623020172119, D2: -0.4920933246612549]\n",
      "[Epoch 68/200]\n",
      "Losses: [GE1: 1.4632271528244019, GE2: -0.6244109272956848] [D1: -2.141113042831421, D2: -0.3767700493335724]\n",
      "[Epoch 68/200]\n",
      "Losses: [GE1: 1.2714201211929321, GE2: -0.965600848197937] [D1: -2.4587631225585938, D2: -0.3875352740287781]\n",
      "[Epoch 68/200]\n",
      "Losses: [GE1: 1.0663386583328247, GE2: -0.5531468987464905] [D1: -1.9396122694015503, D2: -0.32699212431907654]\n",
      "[Epoch 68/200]\n",
      "Losses: [GE1: 0.6876459121704102, GE2: -0.8932908773422241] [D1: -1.7642483711242676, D2: -0.3176223635673523]\n",
      "[Epoch 68/200]\n",
      "Losses: [GE1: 0.14667938649654388, GE2: -0.8582873940467834] [D1: -3.1301631927490234, D2: -0.393603652715683]\n",
      "[Epoch 68/200]\n",
      "Losses: [GE1: 0.46352553367614746, GE2: -0.9121617674827576] [D1: -1.3215513229370117, D2: -0.400424063205719]\n",
      "[Epoch 68/200]\n",
      "Losses: [GE1: 0.2517031729221344, GE2: -1.0612056255340576] [D1: -1.7390588521957397, D2: -0.3197089731693268]\n"
     ]
    },
    {
     "name": "stderr",
     "output_type": "stream",
     "text": [
      " 34%|███████████                     | 69/200 [32:43<1:02:07, 28.45s/it]"
     ]
    },
    {
     "name": "stdout",
     "output_type": "stream",
     "text": [
      "[Epoch 69/200]\n",
      "Losses: [GE1: 0.44181346893310547, GE2: -0.5151481032371521] [D1: -1.4694234132766724, D2: -0.3857749104499817]\n",
      "[Epoch 69/200]\n",
      "Losses: [GE1: 0.7768480181694031, GE2: -1.0372262001037598] [D1: -2.1946821212768555, D2: -0.4492948651313782]\n",
      "[Epoch 69/200]\n",
      "Losses: [GE1: 1.0385081768035889, GE2: -1.406822681427002] [D1: -3.020005226135254, D2: -0.35303860902786255]\n",
      "[Epoch 69/200]\n",
      "Losses: [GE1: 0.24898427724838257, GE2: -1.3069489002227783] [D1: -3.005293369293213, D2: -0.3151410222053528]\n",
      "[Epoch 69/200]\n",
      "Losses: [GE1: 0.8129315972328186, GE2: -1.437940239906311] [D1: -3.000490188598633, D2: -0.3693063259124756]\n",
      "[Epoch 69/200]\n",
      "Losses: [GE1: 0.9566449522972107, GE2: -1.5265676975250244] [D1: -1.3804339170455933, D2: -0.29765862226486206]\n",
      "[Epoch 69/200]\n",
      "Losses: [GE1: 1.0060080289840698, GE2: -0.8491155505180359] [D1: -1.7695938348770142, D2: -0.3491916358470917]\n",
      "[Epoch 69/200]\n",
      "Losses: [GE1: 0.5299654603004456, GE2: -0.9239888191223145] [D1: -2.9338786602020264, D2: -0.534101665019989]\n",
      "[Epoch 69/200]\n",
      "Losses: [GE1: 0.8567408919334412, GE2: -1.3037569522857666] [D1: -2.3971400260925293, D2: -0.4841563403606415]\n",
      "[Epoch 69/200]\n",
      "Losses: [GE1: -0.08126634359359741, GE2: -1.1727045774459839] [D1: -2.364410877227783, D2: -0.37077611684799194]\n"
     ]
    },
    {
     "name": "stderr",
     "output_type": "stream",
     "text": [
      " 35%|███████████▏                    | 70/200 [33:11<1:01:39, 28.46s/it]"
     ]
    },
    {
     "name": "stdout",
     "output_type": "stream",
     "text": [
      "[Epoch 70/200]\n",
      "Losses: [GE1: 0.5375567674636841, GE2: -0.9911344051361084] [D1: -2.940776824951172, D2: -0.3922441005706787]\n",
      "[Epoch 70/200]\n",
      "Losses: [GE1: 0.5805336833000183, GE2: -0.8841579556465149] [D1: -1.257420301437378, D2: -0.362673819065094]\n",
      "[Epoch 70/200]\n",
      "Losses: [GE1: 0.5550372004508972, GE2: -0.7309737205505371] [D1: -1.9355894327163696, D2: -0.4265841841697693]\n",
      "[Epoch 70/200]\n",
      "Losses: [GE1: -0.16327008605003357, GE2: -0.840683102607727] [D1: -2.725074291229248, D2: -0.4057614505290985]\n",
      "[Epoch 70/200]\n",
      "Losses: [GE1: 0.2507542371749878, GE2: -0.42226821184158325] [D1: -2.337200164794922, D2: -0.3500123620033264]\n",
      "[Epoch 70/200]\n",
      "Losses: [GE1: -0.3520437479019165, GE2: -0.8808875679969788] [D1: -1.1024612188339233, D2: -0.33634671568870544]\n",
      "[Epoch 70/200]\n",
      "Losses: [GE1: 0.07535868883132935, GE2: -0.9247108101844788] [D1: -2.1299338340759277, D2: -0.3535117208957672]\n",
      "[Epoch 70/200]\n",
      "Losses: [GE1: 0.07190478593111038, GE2: -0.41968604922294617] [D1: -2.299896240234375, D2: -0.3777943551540375]\n",
      "[Epoch 70/200]\n",
      "Losses: [GE1: 0.6439514756202698, GE2: -0.6954246759414673] [D1: -1.8391433954238892, D2: -0.3577136695384979]\n",
      "[Epoch 70/200]\n",
      "Losses: [GE1: 0.5095493197441101, GE2: -0.8508962988853455] [D1: -1.7573215961456299, D2: -0.4112529456615448]\n"
     ]
    },
    {
     "name": "stderr",
     "output_type": "stream",
     "text": [
      " 36%|███████████▎                    | 71/200 [33:40<1:01:10, 28.46s/it]"
     ]
    },
    {
     "name": "stdout",
     "output_type": "stream",
     "text": [
      "[Epoch 71/200]\n",
      "Losses: [GE1: -0.281660795211792, GE2: -1.1406959295272827] [D1: -2.457357406616211, D2: -0.2908707559108734]\n",
      "[Epoch 71/200]\n",
      "Losses: [GE1: 0.9859763979911804, GE2: -0.8042251467704773] [D1: -2.3246138095855713, D2: -0.3429029583930969]\n",
      "[Epoch 71/200]\n",
      "Losses: [GE1: 0.4467613697052002, GE2: -0.8848253488540649] [D1: -1.7083317041397095, D2: -0.39207643270492554]\n",
      "[Epoch 71/200]\n",
      "Losses: [GE1: 0.7078143954277039, GE2: -0.9202637076377869] [D1: -2.7864816188812256, D2: -0.326318621635437]\n",
      "[Epoch 71/200]\n",
      "Losses: [GE1: 0.15787069499492645, GE2: -0.9234201908111572] [D1: -3.577259063720703, D2: -0.3094361424446106]\n",
      "[Epoch 71/200]\n",
      "Losses: [GE1: 0.17697672545909882, GE2: -1.0188571214675903] [D1: -2.005836009979248, D2: -0.4548880159854889]\n",
      "[Epoch 71/200]\n",
      "Losses: [GE1: 0.4625673294067383, GE2: -0.3948395252227783] [D1: -1.381632924079895, D2: -0.3626976013183594]\n",
      "[Epoch 71/200]\n",
      "Losses: [GE1: 0.17129553854465485, GE2: -0.7156877517700195] [D1: -1.9242334365844727, D2: -0.40595728158950806]\n",
      "[Epoch 71/200]\n",
      "Losses: [GE1: 0.4134523570537567, GE2: -0.5139899253845215] [D1: -2.5691471099853516, D2: -0.39612433314323425]\n",
      "[Epoch 71/200]\n",
      "Losses: [GE1: 0.03239070996642113, GE2: -0.797055184841156] [D1: -1.6784276962280273, D2: -0.39671590924263]\n"
     ]
    },
    {
     "name": "stderr",
     "output_type": "stream",
     "text": [
      " 36%|███████████▌                    | 72/200 [34:08<1:00:42, 28.46s/it]"
     ]
    },
    {
     "name": "stdout",
     "output_type": "stream",
     "text": [
      "[Epoch 72/200]\n",
      "Losses: [GE1: -0.01511293649673462, GE2: -0.9266048669815063] [D1: -2.428067207336426, D2: -0.32968366146087646]\n",
      "[Epoch 72/200]\n",
      "Losses: [GE1: 0.5193170309066772, GE2: -0.6655418872833252] [D1: -2.693800449371338, D2: -0.445365846157074]\n",
      "[Epoch 72/200]\n",
      "Losses: [GE1: 0.0725000873208046, GE2: -1.0686652660369873] [D1: -2.537724494934082, D2: -0.36869969964027405]\n",
      "[Epoch 72/200]\n",
      "Losses: [GE1: -0.712897002696991, GE2: -1.2674100399017334] [D1: -2.6699109077453613, D2: -0.33902713656425476]\n",
      "[Epoch 72/200]\n",
      "Losses: [GE1: -0.4869717061519623, GE2: -0.9112374782562256] [D1: -3.564225196838379, D2: -0.4089348316192627]\n",
      "[Epoch 72/200]\n",
      "Losses: [GE1: 0.04276716709136963, GE2: -0.3967195451259613] [D1: -2.182331085205078, D2: -0.37970617413520813]\n",
      "[Epoch 72/200]\n",
      "Losses: [GE1: -0.18932192027568817, GE2: -0.661604642868042] [D1: -1.4457679986953735, D2: -0.4543287754058838]\n",
      "[Epoch 72/200]\n",
      "Losses: [GE1: -0.30979448556900024, GE2: -0.8704895973205566] [D1: -3.8745951652526855, D2: -0.4336325228214264]\n",
      "[Epoch 72/200]\n",
      "Losses: [GE1: -0.43885400891304016, GE2: -0.5460237264633179] [D1: -2.114377975463867, D2: -0.40470439195632935]\n",
      "[Epoch 72/200]\n",
      "Losses: [GE1: -0.4770062565803528, GE2: -1.3189679384231567] [D1: -2.642454147338867, D2: -0.3473343253135681]\n"
     ]
    },
    {
     "name": "stderr",
     "output_type": "stream",
     "text": [
      " 36%|███████████▋                    | 73/200 [34:37<1:00:13, 28.45s/it]"
     ]
    },
    {
     "name": "stdout",
     "output_type": "stream",
     "text": [
      "[Epoch 73/200]\n",
      "Losses: [GE1: -0.7829768657684326, GE2: -0.6611477136611938] [D1: -1.421480417251587, D2: -0.37345561385154724]\n",
      "[Epoch 73/200]\n",
      "Losses: [GE1: 0.2180718630552292, GE2: -0.8739600777626038] [D1: -1.9046610593795776, D2: -0.3508042097091675]\n",
      "[Epoch 73/200]\n",
      "Losses: [GE1: -0.6007460951805115, GE2: -0.9111573100090027] [D1: -3.0946500301361084, D2: -0.35986417531967163]\n",
      "[Epoch 73/200]\n",
      "Losses: [GE1: -0.3987686336040497, GE2: -1.182235598564148] [D1: -1.754536509513855, D2: -0.38259220123291016]\n",
      "[Epoch 73/200]\n",
      "Losses: [GE1: -0.3891614079475403, GE2: -0.9816843867301941] [D1: -2.5018725395202637, D2: -0.35501986742019653]\n",
      "[Epoch 73/200]\n",
      "Losses: [GE1: -0.15999513864517212, GE2: -1.0286452770233154] [D1: -2.9927217960357666, D2: -0.34350425004959106]\n",
      "[Epoch 73/200]\n",
      "Losses: [GE1: 0.3582639694213867, GE2: -0.9120202660560608] [D1: -1.416675090789795, D2: -0.335702121257782]\n",
      "[Epoch 73/200]\n",
      "Losses: [GE1: 0.3246428072452545, GE2: -1.2097967863082886] [D1: -1.8276082277297974, D2: -0.4020666182041168]\n",
      "[Epoch 73/200]\n",
      "Losses: [GE1: -0.22261223196983337, GE2: -0.8780269622802734] [D1: -2.681035041809082, D2: -0.28660303354263306]\n",
      "[Epoch 73/200]\n",
      "Losses: [GE1: 0.005246823653578758, GE2: -0.3761475086212158] [D1: -3.2321536540985107, D2: -0.43561211228370667]\n"
     ]
    },
    {
     "name": "stderr",
     "output_type": "stream",
     "text": [
      " 37%|████████████▌                     | 74/200 [35:05<59:45, 28.45s/it]"
     ]
    },
    {
     "name": "stdout",
     "output_type": "stream",
     "text": [
      "[Epoch 74/200]\n",
      "Losses: [GE1: -0.1284182220697403, GE2: -0.3325798809528351] [D1: -2.1330621242523193, D2: -0.488385945558548]\n",
      "[Epoch 74/200]\n",
      "Losses: [GE1: 0.4185740351676941, GE2: -0.9848324060440063] [D1: -2.451063394546509, D2: -0.30127325654029846]\n",
      "[Epoch 74/200]\n",
      "Losses: [GE1: -0.615900993347168, GE2: -0.4032171070575714] [D1: -2.8845791816711426, D2: -0.41630983352661133]\n",
      "[Epoch 74/200]\n",
      "Losses: [GE1: -1.5078253746032715, GE2: -1.3605977296829224] [D1: -2.4217233657836914, D2: -0.4075468182563782]\n",
      "[Epoch 74/200]\n",
      "Losses: [GE1: -1.0263558626174927, GE2: -1.1343834400177002] [D1: -2.003754138946533, D2: -0.5442751049995422]\n",
      "[Epoch 74/200]\n",
      "Losses: [GE1: -0.414913147687912, GE2: -0.7801058292388916] [D1: -2.0852808952331543, D2: -0.3320733308792114]\n",
      "[Epoch 74/200]\n",
      "Losses: [GE1: -0.4730646312236786, GE2: -0.6759064793586731] [D1: -1.760817289352417, D2: -0.3365848660469055]\n",
      "[Epoch 74/200]\n",
      "Losses: [GE1: 0.05243562161922455, GE2: -0.7940815091133118] [D1: -2.6223044395446777, D2: -0.4496872127056122]\n",
      "[Epoch 74/200]\n",
      "Losses: [GE1: -0.31153348088264465, GE2: -1.4430420398712158] [D1: -1.6797192096710205, D2: -0.3580976724624634]\n",
      "[Epoch 74/200]\n",
      "Losses: [GE1: 0.18685999512672424, GE2: -0.5259650945663452] [D1: -2.9608688354492188, D2: -0.33473095297813416]\n"
     ]
    },
    {
     "name": "stderr",
     "output_type": "stream",
     "text": [
      " 38%|████████████▊                     | 75/200 [35:34<59:17, 28.46s/it]"
     ]
    },
    {
     "name": "stdout",
     "output_type": "stream",
     "text": [
      "[Epoch 75/200]\n",
      "Losses: [GE1: -0.9836028218269348, GE2: -0.9001317620277405] [D1: -2.056781768798828, D2: -0.3503324091434479]\n",
      "[Epoch 75/200]\n",
      "Losses: [GE1: -1.205562949180603, GE2: -0.3463900089263916] [D1: -1.791243553161621, D2: -0.3964388370513916]\n",
      "[Epoch 75/200]\n",
      "Losses: [GE1: -0.6909451484680176, GE2: -0.5179948210716248] [D1: -1.7320845127105713, D2: -0.4618533253669739]\n",
      "[Epoch 75/200]\n",
      "Losses: [GE1: -0.40087196230888367, GE2: -0.9889340996742249] [D1: -1.7531704902648926, D2: -0.3727775514125824]\n",
      "[Epoch 75/200]\n",
      "Losses: [GE1: 0.2765515148639679, GE2: -0.49350622296333313] [D1: -1.5500537157058716, D2: -0.3067516088485718]\n",
      "[Epoch 75/200]\n",
      "Losses: [GE1: -0.6223260164260864, GE2: -0.23818473517894745] [D1: -2.542206048965454, D2: -0.412206768989563]\n",
      "[Epoch 75/200]\n",
      "Losses: [GE1: -0.6843515634536743, GE2: -0.7146161794662476] [D1: -1.415976881980896, D2: -0.3759264051914215]\n",
      "[Epoch 75/200]\n",
      "Losses: [GE1: -0.2828863859176636, GE2: -0.7297765016555786] [D1: -1.7914150953292847, D2: -0.3068895637989044]\n",
      "[Epoch 75/200]\n",
      "Losses: [GE1: -0.9883028268814087, GE2: -1.2448419332504272] [D1: -2.9589061737060547, D2: -0.409782737493515]\n",
      "[Epoch 75/200]\n",
      "Losses: [GE1: -0.291202574968338, GE2: -0.8296915888786316] [D1: -1.0471450090408325, D2: -0.4204646944999695]\n"
     ]
    },
    {
     "name": "stderr",
     "output_type": "stream",
     "text": [
      " 38%|████████████▉                     | 76/200 [36:02<58:48, 28.46s/it]"
     ]
    },
    {
     "name": "stdout",
     "output_type": "stream",
     "text": [
      "[Epoch 76/200]\n",
      "Losses: [GE1: -1.3401176929473877, GE2: -0.872576892375946] [D1: -3.597346782684326, D2: -0.31146442890167236]\n",
      "[Epoch 76/200]\n",
      "Losses: [GE1: -0.9579692482948303, GE2: -1.0011303424835205] [D1: -1.401238203048706, D2: -0.3514045178890228]\n",
      "[Epoch 76/200]\n",
      "Losses: [GE1: 0.23665359616279602, GE2: -0.2553063631057739] [D1: -1.3230878114700317, D2: -0.3605079650878906]\n",
      "[Epoch 76/200]\n",
      "Losses: [GE1: -1.0333764553070068, GE2: -0.1836753785610199] [D1: -1.9627128839492798, D2: -0.38083240389823914]\n",
      "[Epoch 76/200]\n",
      "Losses: [GE1: -0.6511850953102112, GE2: -0.3332751989364624] [D1: -2.269094944000244, D2: -0.4075123369693756]\n",
      "[Epoch 76/200]\n",
      "Losses: [GE1: -0.8557422161102295, GE2: -0.6935910582542419] [D1: -1.7120137214660645, D2: -0.3861524164676666]\n",
      "[Epoch 76/200]\n",
      "Losses: [GE1: -0.17956027388572693, GE2: -0.7432056665420532] [D1: -1.9602187871932983, D2: -0.26131904125213623]\n",
      "[Epoch 76/200]\n",
      "Losses: [GE1: -0.7190722227096558, GE2: -0.48145008087158203] [D1: -1.575696349143982, D2: -0.33370688557624817]\n",
      "[Epoch 76/200]\n",
      "Losses: [GE1: -1.3199336528778076, GE2: -1.2552521228790283] [D1: -1.0587232112884521, D2: -0.3507939577102661]\n",
      "[Epoch 76/200]\n",
      "Losses: [GE1: -1.4182671308517456, GE2: -1.1737459897994995] [D1: -3.8470234870910645, D2: -0.4751914441585541]\n"
     ]
    },
    {
     "name": "stderr",
     "output_type": "stream",
     "text": [
      " 38%|█████████████                     | 77/200 [36:31<58:20, 28.46s/it]"
     ]
    },
    {
     "name": "stdout",
     "output_type": "stream",
     "text": [
      "[Epoch 77/200]\n",
      "Losses: [GE1: -0.7549060583114624, GE2: -0.4433826804161072] [D1: -1.7443315982818604, D2: -0.36146119236946106]\n",
      "[Epoch 77/200]\n",
      "Losses: [GE1: -0.50091552734375, GE2: -1.1908570528030396] [D1: -2.2481586933135986, D2: -0.32046717405319214]\n",
      "[Epoch 77/200]\n",
      "Losses: [GE1: -0.8206337094306946, GE2: -1.3979103565216064] [D1: -2.425079584121704, D2: -0.35743963718414307]\n",
      "[Epoch 77/200]\n",
      "Losses: [GE1: -0.14056572318077087, GE2: -0.8879481554031372] [D1: -1.3574426174163818, D2: -0.32763588428497314]\n",
      "[Epoch 77/200]\n",
      "Losses: [GE1: -0.8429102301597595, GE2: -0.5681414008140564] [D1: -2.859142780303955, D2: -0.3977341055870056]\n",
      "[Epoch 77/200]\n",
      "Losses: [GE1: -0.9357056617736816, GE2: -0.3421502113342285] [D1: -2.0994315147399902, D2: -0.37714260816574097]\n",
      "[Epoch 77/200]\n",
      "Losses: [GE1: 0.25085246562957764, GE2: -0.4451565444469452] [D1: -1.6714292764663696, D2: -0.4105023741722107]\n",
      "[Epoch 77/200]\n",
      "Losses: [GE1: -0.7321863770484924, GE2: -0.8118687868118286] [D1: -1.5570459365844727, D2: -0.32686126232147217]\n",
      "[Epoch 77/200]\n",
      "Losses: [GE1: -0.3392314016819, GE2: -1.3437339067459106] [D1: -2.9242324829101562, D2: -0.3791049122810364]\n",
      "[Epoch 77/200]\n",
      "Losses: [GE1: 0.2754308879375458, GE2: -0.5652406811714172] [D1: -2.209656000137329, D2: -0.4029058516025543]\n"
     ]
    },
    {
     "name": "stderr",
     "output_type": "stream",
     "text": [
      " 39%|█████████████▎                    | 78/200 [36:59<57:51, 28.46s/it]"
     ]
    },
    {
     "name": "stdout",
     "output_type": "stream",
     "text": [
      "[Epoch 78/200]\n",
      "Losses: [GE1: -0.5374569892883301, GE2: -0.6687958240509033] [D1: -3.2518303394317627, D2: -0.3751704692840576]\n",
      "[Epoch 78/200]\n",
      "Losses: [GE1: -0.896085262298584, GE2: -0.7468751072883606] [D1: -1.4509207010269165, D2: -0.36436334252357483]\n",
      "[Epoch 78/200]\n",
      "Losses: [GE1: -0.1575099229812622, GE2: -0.7820310592651367] [D1: -1.8129178285598755, D2: -0.3282613754272461]\n",
      "[Epoch 78/200]\n",
      "Losses: [GE1: -0.7901486754417419, GE2: -0.7586401700973511] [D1: -2.123098850250244, D2: -0.3294474482536316]\n",
      "[Epoch 78/200]\n",
      "Losses: [GE1: -0.8722987174987793, GE2: -0.750815212726593] [D1: -2.1517274379730225, D2: -0.3362993001937866]\n",
      "[Epoch 78/200]\n",
      "Losses: [GE1: -1.4624420404434204, GE2: -0.5290417671203613] [D1: -2.740792989730835, D2: -0.2894507348537445]\n",
      "[Epoch 78/200]\n",
      "Losses: [GE1: -0.092369943857193, GE2: -0.0590025931596756] [D1: -1.8180488348007202, D2: -0.4371047616004944]\n",
      "[Epoch 78/200]\n",
      "Losses: [GE1: -0.8789169788360596, GE2: -0.46775129437446594] [D1: -2.277405261993408, D2: -0.32325443625450134]\n",
      "[Epoch 78/200]\n",
      "Losses: [GE1: -0.6403152942657471, GE2: -0.8385785222053528] [D1: -1.7852952480316162, D2: -0.49793732166290283]\n",
      "[Epoch 78/200]\n",
      "Losses: [GE1: -2.065528631210327, GE2: -0.574396550655365] [D1: -1.548467993736267, D2: -0.3789588212966919]\n"
     ]
    },
    {
     "name": "stderr",
     "output_type": "stream",
     "text": [
      " 40%|█████████████▍                    | 79/200 [37:28<57:23, 28.46s/it]"
     ]
    },
    {
     "name": "stdout",
     "output_type": "stream",
     "text": [
      "[Epoch 79/200]\n",
      "Losses: [GE1: -0.7645366191864014, GE2: -1.059820294380188] [D1: -1.8339920043945312, D2: -0.4163472354412079]\n",
      "[Epoch 79/200]\n",
      "Losses: [GE1: -1.458396315574646, GE2: -0.6384895443916321] [D1: -1.2509174346923828, D2: -0.3527902066707611]\n",
      "[Epoch 79/200]\n",
      "Losses: [GE1: -1.343744158744812, GE2: -1.036487340927124] [D1: -2.1426000595092773, D2: -0.4018835425376892]\n",
      "[Epoch 79/200]\n",
      "Losses: [GE1: -1.0095250606536865, GE2: -0.9011552929878235] [D1: -1.2069215774536133, D2: -0.39892691373825073]\n",
      "[Epoch 79/200]\n",
      "Losses: [GE1: -0.5294943451881409, GE2: -0.40558335185050964] [D1: -3.2118422985076904, D2: -0.46648919582366943]\n",
      "[Epoch 79/200]\n",
      "Losses: [GE1: -1.3794994354248047, GE2: -0.19477955996990204] [D1: -1.938882827758789, D2: -0.31477266550064087]\n",
      "[Epoch 79/200]\n",
      "Losses: [GE1: -1.1813981533050537, GE2: -0.541545033454895] [D1: -1.889672875404358, D2: -0.32890239357948303]\n",
      "[Epoch 79/200]\n",
      "Losses: [GE1: -0.6563181281089783, GE2: -0.5541378855705261] [D1: -2.180978775024414, D2: -0.3524194359779358]\n",
      "[Epoch 79/200]\n",
      "Losses: [GE1: -1.5446659326553345, GE2: -1.1640511751174927] [D1: -1.3812419176101685, D2: -0.3994588255882263]\n",
      "[Epoch 79/200]\n",
      "Losses: [GE1: -0.31231987476348877, GE2: -0.590732216835022] [D1: -2.133704423904419, D2: -0.31852805614471436]\n"
     ]
    },
    {
     "name": "stderr",
     "output_type": "stream",
     "text": [
      " 40%|█████████████▌                    | 80/200 [37:56<56:54, 28.46s/it]"
     ]
    },
    {
     "name": "stdout",
     "output_type": "stream",
     "text": [
      "[Epoch 80/200]\n",
      "Losses: [GE1: -1.846662998199463, GE2: -0.9632577300071716] [D1: -2.6574368476867676, D2: -0.36131900548934937]\n",
      "[Epoch 80/200]\n",
      "Losses: [GE1: -1.6117421388626099, GE2: -0.904563844203949] [D1: -2.8439157009124756, D2: -0.3828907907009125]\n",
      "[Epoch 80/200]\n",
      "Losses: [GE1: -1.4565420150756836, GE2: -0.25796863436698914] [D1: -1.610291838645935, D2: -0.3257383108139038]\n",
      "[Epoch 80/200]\n",
      "Losses: [GE1: -0.8016633987426758, GE2: -0.5154944658279419] [D1: -1.7562226057052612, D2: -0.3483649492263794]\n",
      "[Epoch 80/200]\n",
      "Losses: [GE1: -0.39844009280204773, GE2: -1.0237659215927124] [D1: -1.3382790088653564, D2: -0.4006766676902771]\n",
      "[Epoch 80/200]\n",
      "Losses: [GE1: -0.8976494669914246, GE2: -0.803514838218689] [D1: -1.7477463483810425, D2: -0.28425952792167664]\n",
      "[Epoch 80/200]\n",
      "Losses: [GE1: -1.1198469400405884, GE2: -0.30866751074790955] [D1: -2.1721928119659424, D2: -0.36197417974472046]\n",
      "[Epoch 80/200]\n",
      "Losses: [GE1: -1.4603359699249268, GE2: -0.9444337487220764] [D1: -2.352417469024658, D2: -0.32300540804862976]\n",
      "[Epoch 80/200]\n",
      "Losses: [GE1: -1.9792358875274658, GE2: -1.0083746910095215] [D1: -2.2345151901245117, D2: -0.3371441662311554]\n",
      "[Epoch 80/200]\n",
      "Losses: [GE1: -1.4795781373977661, GE2: -0.2186986804008484] [D1: -2.1970043182373047, D2: -0.418459951877594]\n"
     ]
    },
    {
     "name": "stderr",
     "output_type": "stream",
     "text": [
      " 40%|█████████████▊                    | 81/200 [38:24<56:26, 28.46s/it]"
     ]
    },
    {
     "name": "stdout",
     "output_type": "stream",
     "text": [
      "[Epoch 81/200]\n",
      "Losses: [GE1: -0.806393027305603, GE2: -0.9732399582862854] [D1: -2.210292100906372, D2: -0.37245577573776245]\n",
      "[Epoch 81/200]\n",
      "Losses: [GE1: -1.3462460041046143, GE2: -0.36718884110450745] [D1: -2.4625277519226074, D2: -0.42604243755340576]\n",
      "[Epoch 81/200]\n",
      "Losses: [GE1: -1.133018136024475, GE2: -0.3819667398929596] [D1: -1.670106053352356, D2: -0.4267399311065674]\n",
      "[Epoch 81/200]\n",
      "Losses: [GE1: -0.6820880770683289, GE2: -0.4598596692085266] [D1: -1.8022702932357788, D2: -0.3286285102367401]\n",
      "[Epoch 81/200]\n",
      "Losses: [GE1: -1.104157567024231, GE2: -0.6302730441093445] [D1: -2.832949638366699, D2: -0.31614989042282104]\n",
      "[Epoch 81/200]\n",
      "Losses: [GE1: -1.3707491159439087, GE2: -0.5632919669151306] [D1: -3.6171140670776367, D2: -0.36314988136291504]\n",
      "[Epoch 81/200]\n",
      "Losses: [GE1: -2.065117120742798, GE2: -1.0975350141525269] [D1: -2.157575845718384, D2: -0.34932175278663635]\n",
      "[Epoch 81/200]\n",
      "Losses: [GE1: -1.5308650732040405, GE2: -0.29036572575569153] [D1: -1.8295669555664062, D2: -0.39046794176101685]\n",
      "[Epoch 81/200]\n",
      "Losses: [GE1: -1.4059364795684814, GE2: -0.695296049118042] [D1: -2.3537650108337402, D2: -0.3479771316051483]\n",
      "[Epoch 81/200]\n",
      "Losses: [GE1: -1.0545759201049805, GE2: -0.37637749314308167] [D1: -2.758005142211914, D2: -0.3069281578063965]\n"
     ]
    },
    {
     "name": "stderr",
     "output_type": "stream",
     "text": [
      " 41%|█████████████▉                    | 82/200 [38:53<55:57, 28.46s/it]"
     ]
    },
    {
     "name": "stdout",
     "output_type": "stream",
     "text": [
      "[Epoch 82/200]\n",
      "Losses: [GE1: -1.8525478839874268, GE2: -0.5976600646972656] [D1: -2.4321095943450928, D2: -0.32222890853881836]\n",
      "[Epoch 82/200]\n",
      "Losses: [GE1: -2.1454780101776123, GE2: -0.40178245306015015] [D1: -1.790170669555664, D2: -0.3011109530925751]\n",
      "[Epoch 82/200]\n",
      "Losses: [GE1: -1.0722970962524414, GE2: -0.3830019235610962] [D1: -2.6569182872772217, D2: -0.4066065847873688]\n",
      "[Epoch 82/200]\n",
      "Losses: [GE1: -1.0101317167282104, GE2: -0.5997620820999146] [D1: -1.5588841438293457, D2: -0.3927076458930969]\n",
      "[Epoch 82/200]\n",
      "Losses: [GE1: -1.408819556236267, GE2: -0.9416128396987915] [D1: -2.6509697437286377, D2: -0.36407509446144104]\n",
      "[Epoch 82/200]\n",
      "Losses: [GE1: -2.0048704147338867, GE2: -0.7189974188804626] [D1: -2.7628276348114014, D2: -0.29779213666915894]\n",
      "[Epoch 82/200]\n",
      "Losses: [GE1: -2.075958490371704, GE2: -0.6166789531707764] [D1: -1.408083438873291, D2: -0.4000859260559082]\n",
      "[Epoch 82/200]\n",
      "Losses: [GE1: -1.4242855310440063, GE2: -0.5132283568382263] [D1: -2.3475098609924316, D2: -0.41473206877708435]\n",
      "[Epoch 82/200]\n",
      "Losses: [GE1: -1.4934463500976562, GE2: -0.5372262001037598] [D1: -2.798506498336792, D2: -0.30144283175468445]\n",
      "[Epoch 82/200]\n",
      "Losses: [GE1: -1.8789756298065186, GE2: -0.6751311421394348] [D1: -1.7656594514846802, D2: -0.31229546666145325]\n"
     ]
    },
    {
     "name": "stderr",
     "output_type": "stream",
     "text": [
      " 42%|██████████████                    | 83/200 [39:21<55:29, 28.46s/it]"
     ]
    },
    {
     "name": "stdout",
     "output_type": "stream",
     "text": [
      "[Epoch 83/200]\n",
      "Losses: [GE1: -2.533186912536621, GE2: -0.5455244779586792] [D1: -1.727967381477356, D2: -0.4157651662826538]\n",
      "[Epoch 83/200]\n",
      "Losses: [GE1: -1.5434187650680542, GE2: -0.3257008492946625] [D1: -2.362126350402832, D2: -0.4379660487174988]\n",
      "[Epoch 83/200]\n",
      "Losses: [GE1: -1.6839739084243774, GE2: -0.542363166809082] [D1: -3.7310166358947754, D2: -0.40553152561187744]\n",
      "[Epoch 83/200]\n",
      "Losses: [GE1: -1.683376431465149, GE2: -0.5376753211021423] [D1: -2.6994805335998535, D2: -0.418843150138855]\n",
      "[Epoch 83/200]\n",
      "Losses: [GE1: -1.4505342245101929, GE2: -0.8466285467147827] [D1: -2.167699098587036, D2: -0.2531552314758301]\n",
      "[Epoch 83/200]\n",
      "Losses: [GE1: -1.7459430694580078, GE2: -0.436015248298645] [D1: -3.267594814300537, D2: -0.38841184973716736]\n",
      "[Epoch 83/200]\n",
      "Losses: [GE1: -2.4337422847747803, GE2: -0.848937451839447] [D1: -3.600170135498047, D2: -0.447974294424057]\n",
      "[Epoch 83/200]\n",
      "Losses: [GE1: -2.1662545204162598, GE2: -0.8504443764686584] [D1: -3.538870334625244, D2: -0.3943778872489929]\n",
      "[Epoch 83/200]\n",
      "Losses: [GE1: -1.3951257467269897, GE2: -0.25593098998069763] [D1: -1.8267083168029785, D2: -0.35652920603752136]\n",
      "[Epoch 83/200]\n",
      "Losses: [GE1: -1.8399890661239624, GE2: -0.8086752891540527] [D1: -2.1818699836730957, D2: -0.37129658460617065]\n"
     ]
    },
    {
     "name": "stderr",
     "output_type": "stream",
     "text": [
      " 42%|██████████████▎                   | 84/200 [39:50<55:00, 28.45s/it]"
     ]
    },
    {
     "name": "stdout",
     "output_type": "stream",
     "text": [
      "[Epoch 84/200]\n",
      "Losses: [GE1: -1.5548359155654907, GE2: -0.19039900600910187] [D1: -1.4193286895751953, D2: -0.4239833652973175]\n",
      "[Epoch 84/200]\n",
      "Losses: [GE1: -2.401432991027832, GE2: -0.8281404376029968] [D1: -1.9441169500350952, D2: -0.31814566254615784]\n",
      "[Epoch 84/200]\n",
      "Losses: [GE1: -2.2895238399505615, GE2: -0.5320271253585815] [D1: -2.4853250980377197, D2: -0.41454917192459106]\n",
      "[Epoch 84/200]\n",
      "Losses: [GE1: -1.9003463983535767, GE2: -0.19582431018352509] [D1: -2.6938235759735107, D2: -0.3652750551700592]\n",
      "[Epoch 84/200]\n",
      "Losses: [GE1: -2.1222009658813477, GE2: -0.3777843415737152] [D1: -1.7763457298278809, D2: -0.38347327709198]\n",
      "[Epoch 84/200]\n",
      "Losses: [GE1: -1.4695758819580078, GE2: -0.7986693978309631] [D1: -1.9184529781341553, D2: -0.4147397577762604]\n",
      "[Epoch 84/200]\n",
      "Losses: [GE1: -2.8007583618164062, GE2: -0.8531820178031921] [D1: -1.3923773765563965, D2: -0.46377938985824585]\n",
      "[Epoch 84/200]\n",
      "Losses: [GE1: -2.5332581996917725, GE2: -0.5352739095687866] [D1: -1.3523190021514893, D2: -0.370329350233078]\n",
      "[Epoch 84/200]\n",
      "Losses: [GE1: -1.8365908861160278, GE2: -0.2501783072948456] [D1: -2.0352089405059814, D2: -0.4473976492881775]\n",
      "[Epoch 84/200]\n",
      "Losses: [GE1: -3.228346824645996, GE2: -0.919711172580719] [D1: -1.4471675157546997, D2: -0.4233247935771942]\n"
     ]
    },
    {
     "name": "stderr",
     "output_type": "stream",
     "text": [
      " 42%|██████████████▍                   | 85/200 [40:18<54:32, 28.45s/it]"
     ]
    },
    {
     "name": "stdout",
     "output_type": "stream",
     "text": [
      "[Epoch 85/200]\n",
      "Losses: [GE1: -2.8304226398468018, GE2: -0.3670171797275543] [D1: -2.0506980419158936, D2: -0.39205989241600037]\n",
      "[Epoch 85/200]\n",
      "Losses: [GE1: -3.178346872329712, GE2: -0.39760085940361023] [D1: -2.218240976333618, D2: -0.365421861410141]\n",
      "[Epoch 85/200]\n",
      "Losses: [GE1: -2.012002468109131, GE2: -0.3283849060535431] [D1: -2.7481844425201416, D2: -0.39271774888038635]\n",
      "[Epoch 85/200]\n",
      "Losses: [GE1: -3.6832377910614014, GE2: -0.9552063345909119] [D1: -2.2745683193206787, D2: -0.31146329641342163]\n",
      "[Epoch 85/200]\n",
      "Losses: [GE1: -2.439769744873047, GE2: -0.5621035099029541] [D1: -1.4851067066192627, D2: -0.39290115237236023]\n",
      "[Epoch 85/200]\n",
      "Losses: [GE1: -1.1729999780654907, GE2: -0.5426072478294373] [D1: -1.0565440654754639, D2: -0.33838072419166565]\n",
      "[Epoch 85/200]\n",
      "Losses: [GE1: -1.7848628759384155, GE2: -0.7775694131851196] [D1: -1.8734065294265747, D2: -0.3468284010887146]\n",
      "[Epoch 85/200]\n",
      "Losses: [GE1: -2.5878779888153076, GE2: -0.6316443085670471] [D1: -2.4778194427490234, D2: -0.33721044659614563]\n",
      "[Epoch 85/200]\n",
      "Losses: [GE1: -1.9219473600387573, GE2: -0.7547014355659485] [D1: -2.975022792816162, D2: -0.2508758306503296]\n",
      "[Epoch 85/200]\n",
      "Losses: [GE1: -2.9472126960754395, GE2: -0.5470079183578491] [D1: -1.9437777996063232, D2: -0.362737774848938]\n"
     ]
    },
    {
     "name": "stderr",
     "output_type": "stream",
     "text": [
      " 43%|██████████████▌                   | 86/200 [40:47<54:03, 28.45s/it]"
     ]
    },
    {
     "name": "stdout",
     "output_type": "stream",
     "text": [
      "[Epoch 86/200]\n",
      "Losses: [GE1: -2.5621705055236816, GE2: -0.6996413469314575] [D1: -1.759962797164917, D2: -0.2886306643486023]\n",
      "[Epoch 86/200]\n",
      "Losses: [GE1: -3.9114694595336914, GE2: -0.6024507284164429] [D1: -2.908703327178955, D2: -0.44221726059913635]\n",
      "[Epoch 86/200]\n",
      "Losses: [GE1: -2.5538933277130127, GE2: -0.6951584815979004] [D1: -1.994270920753479, D2: -0.342323362827301]\n",
      "[Epoch 86/200]\n",
      "Losses: [GE1: -2.241623640060425, GE2: -0.21458017826080322] [D1: -2.2593154907226562, D2: -0.3867838978767395]\n",
      "[Epoch 86/200]\n",
      "Losses: [GE1: -2.6655611991882324, GE2: -0.8467833399772644] [D1: -1.2366952896118164, D2: -0.35324743390083313]\n",
      "[Epoch 86/200]\n",
      "Losses: [GE1: -3.468639850616455, GE2: -0.9809127449989319] [D1: -2.288851499557495, D2: -0.4426521062850952]\n",
      "[Epoch 86/200]\n",
      "Losses: [GE1: -2.7978782653808594, GE2: -0.981502115726471] [D1: -2.4555764198303223, D2: -0.46175116300582886]\n",
      "[Epoch 86/200]\n",
      "Losses: [GE1: -2.865450620651245, GE2: -0.5256252884864807] [D1: -2.0705618858337402, D2: -0.35836565494537354]\n",
      "[Epoch 86/200]\n",
      "Losses: [GE1: -2.6566357612609863, GE2: -0.5890050530433655] [D1: -2.9322047233581543, D2: -0.36326760053634644]\n",
      "[Epoch 86/200]\n",
      "Losses: [GE1: -2.8527073860168457, GE2: -0.34678131341934204] [D1: -2.343904733657837, D2: -0.3561333119869232]\n"
     ]
    },
    {
     "name": "stderr",
     "output_type": "stream",
     "text": [
      " 44%|██████████████▊                   | 87/200 [41:15<53:35, 28.45s/it]"
     ]
    },
    {
     "name": "stdout",
     "output_type": "stream",
     "text": [
      "[Epoch 87/200]\n",
      "Losses: [GE1: -2.651918888092041, GE2: -1.0305274724960327] [D1: -1.8393094539642334, D2: -0.30335870385169983]\n",
      "[Epoch 87/200]\n",
      "Losses: [GE1: -2.63999342918396, GE2: -0.6714803576469421] [D1: -3.2856173515319824, D2: -0.43175873160362244]\n",
      "[Epoch 87/200]\n",
      "Losses: [GE1: -3.143608331680298, GE2: -0.6851902008056641] [D1: -1.780203938484192, D2: -0.3788173198699951]\n",
      "[Epoch 87/200]\n",
      "Losses: [GE1: -3.200684070587158, GE2: -0.3345308005809784] [D1: -3.739368200302124, D2: -0.4845419228076935]\n",
      "[Epoch 87/200]\n",
      "Losses: [GE1: -2.779453992843628, GE2: -0.5332520008087158] [D1: -2.9677393436431885, D2: -0.35934513807296753]\n",
      "[Epoch 87/200]\n",
      "Losses: [GE1: -2.7817161083221436, GE2: -0.4304077625274658] [D1: -2.700627326965332, D2: -0.417510986328125]\n",
      "[Epoch 87/200]\n",
      "Losses: [GE1: -2.7283647060394287, GE2: -0.7578168511390686] [D1: -2.557224988937378, D2: -0.4262593686580658]\n",
      "[Epoch 87/200]\n",
      "Losses: [GE1: -3.1308178901672363, GE2: -0.4892292618751526] [D1: -3.4331979751586914, D2: -0.40516823530197144]\n",
      "[Epoch 87/200]\n",
      "Losses: [GE1: -3.073381185531616, GE2: -0.4610656201839447] [D1: -2.495494842529297, D2: -0.36512741446495056]\n",
      "[Epoch 87/200]\n",
      "Losses: [GE1: -3.282425880432129, GE2: -0.3787316381931305] [D1: -2.7951931953430176, D2: -0.4241725504398346]\n"
     ]
    },
    {
     "name": "stderr",
     "output_type": "stream",
     "text": [
      " 44%|██████████████▉                   | 88/200 [41:43<53:06, 28.45s/it]"
     ]
    },
    {
     "name": "stdout",
     "output_type": "stream",
     "text": [
      "[Epoch 88/200]\n",
      "Losses: [GE1: -1.8530845642089844, GE2: -0.707718014717102] [D1: -1.2517704963684082, D2: -0.3633160889148712]\n",
      "[Epoch 88/200]\n",
      "Losses: [GE1: -3.1761226654052734, GE2: -0.5067622661590576] [D1: -2.4373092651367188, D2: -0.3052256107330322]\n",
      "[Epoch 88/200]\n",
      "Losses: [GE1: -3.354384660720825, GE2: -0.7003197073936462] [D1: -2.9951553344726562, D2: -0.41780009865760803]\n",
      "[Epoch 88/200]\n",
      "Losses: [GE1: -2.870450496673584, GE2: -0.20579597353935242] [D1: -1.1830544471740723, D2: -0.306799054145813]\n",
      "[Epoch 88/200]\n",
      "Losses: [GE1: -3.128397226333618, GE2: -0.414468377828598] [D1: -2.674496650695801, D2: -0.39254462718963623]\n",
      "[Epoch 88/200]\n",
      "Losses: [GE1: -2.576115846633911, GE2: -0.6241861581802368] [D1: -1.6077544689178467, D2: -0.3347201347351074]\n",
      "[Epoch 88/200]\n",
      "Losses: [GE1: -2.746385097503662, GE2: -0.2498241662979126] [D1: -3.1881048679351807, D2: -0.30218249559402466]\n",
      "[Epoch 88/200]\n",
      "Losses: [GE1: -3.1489179134368896, GE2: -0.45455867052078247] [D1: -2.4113876819610596, D2: -0.44234412908554077]\n",
      "[Epoch 88/200]\n",
      "Losses: [GE1: -3.6260807514190674, GE2: -0.8274120688438416] [D1: -2.4349546432495117, D2: -0.3017832636833191]\n",
      "[Epoch 88/200]\n",
      "Losses: [GE1: -2.499697208404541, GE2: -0.39932239055633545] [D1: -2.254716396331787, D2: -0.2857917249202728]\n"
     ]
    },
    {
     "name": "stderr",
     "output_type": "stream",
     "text": [
      " 44%|███████████████▏                  | 89/200 [42:12<52:38, 28.45s/it]"
     ]
    },
    {
     "name": "stdout",
     "output_type": "stream",
     "text": [
      "[Epoch 89/200]\n",
      "Losses: [GE1: -3.5413246154785156, GE2: -0.756492018699646] [D1: -2.403684377670288, D2: -0.43239355087280273]\n",
      "[Epoch 89/200]\n",
      "Losses: [GE1: -3.3078725337982178, GE2: -0.45642906427383423] [D1: -1.8565021753311157, D2: -0.3378206491470337]\n",
      "[Epoch 89/200]\n",
      "Losses: [GE1: -2.5147476196289062, GE2: -0.8852590918540955] [D1: -1.2669909000396729, D2: -0.4108452796936035]\n",
      "[Epoch 89/200]\n",
      "Losses: [GE1: -3.394094705581665, GE2: -0.3930535614490509] [D1: -2.7328858375549316, D2: -0.3749851584434509]\n",
      "[Epoch 89/200]\n",
      "Losses: [GE1: -3.889395236968994, GE2: -0.2630211114883423] [D1: -2.744702100753784, D2: -0.3480505049228668]\n",
      "[Epoch 89/200]\n",
      "Losses: [GE1: -3.915762424468994, GE2: -0.8191825747489929] [D1: -2.857948064804077, D2: -0.5016143918037415]\n",
      "[Epoch 89/200]\n",
      "Losses: [GE1: -4.19957971572876, GE2: -0.7180970311164856] [D1: -2.756983518600464, D2: -0.38528141379356384]\n",
      "[Epoch 89/200]\n",
      "Losses: [GE1: -4.07321310043335, GE2: -0.40492016077041626] [D1: -2.1573805809020996, D2: -0.4026568531990051]\n",
      "[Epoch 89/200]\n",
      "Losses: [GE1: -3.8670496940612793, GE2: -0.4916883111000061] [D1: -1.4034755229949951, D2: -0.3541191518306732]\n",
      "[Epoch 89/200]\n",
      "Losses: [GE1: -2.421677350997925, GE2: -0.3717600405216217] [D1: -1.805676817893982, D2: -0.38091257214546204]\n"
     ]
    },
    {
     "name": "stderr",
     "output_type": "stream",
     "text": [
      " 45%|███████████████▎                  | 90/200 [42:40<52:09, 28.45s/it]"
     ]
    },
    {
     "name": "stdout",
     "output_type": "stream",
     "text": [
      "[Epoch 90/200]\n",
      "Losses: [GE1: -2.6413722038269043, GE2: -0.14088739454746246] [D1: -2.181410074234009, D2: -0.3582535982131958]\n",
      "[Epoch 90/200]\n",
      "Losses: [GE1: -3.0859551429748535, GE2: -0.4305073320865631] [D1: -2.1682231426239014, D2: -0.35399168729782104]\n",
      "[Epoch 90/200]\n",
      "Losses: [GE1: -3.912598133087158, GE2: -0.5160691738128662] [D1: -1.4918359518051147, D2: -0.3908260464668274]\n",
      "[Epoch 90/200]\n",
      "Losses: [GE1: -2.294577121734619, GE2: -0.39025551080703735] [D1: -1.661405086517334, D2: -0.41098254919052124]\n",
      "[Epoch 90/200]\n",
      "Losses: [GE1: -3.3120064735412598, GE2: -0.6057738661766052] [D1: -2.334148406982422, D2: -0.4115624725818634]\n",
      "[Epoch 90/200]\n",
      "Losses: [GE1: -2.908463716506958, GE2: -0.48108428716659546] [D1: -1.5729496479034424, D2: -0.32254233956336975]\n",
      "[Epoch 90/200]\n",
      "Losses: [GE1: -3.4458107948303223, GE2: -0.3226158320903778] [D1: -2.3259294033050537, D2: -0.37872403860092163]\n",
      "[Epoch 90/200]\n",
      "Losses: [GE1: -3.1452293395996094, GE2: -0.17721164226531982] [D1: -1.8828285932540894, D2: -0.43910107016563416]\n",
      "[Epoch 90/200]\n",
      "Losses: [GE1: -3.0157575607299805, GE2: -0.22447791695594788] [D1: -1.993386149406433, D2: -0.36517900228500366]\n",
      "[Epoch 90/200]\n",
      "Losses: [GE1: -3.3870344161987305, GE2: -0.4567277431488037] [D1: -1.4581258296966553, D2: -0.4140479862689972]\n"
     ]
    },
    {
     "name": "stderr",
     "output_type": "stream",
     "text": [
      " 46%|███████████████▍                  | 91/200 [43:09<51:41, 28.45s/it]"
     ]
    },
    {
     "name": "stdout",
     "output_type": "stream",
     "text": [
      "[Epoch 91/200]\n",
      "Losses: [GE1: -3.307504177093506, GE2: -0.4062854051589966] [D1: -2.2713088989257812, D2: -0.4151420593261719]\n",
      "[Epoch 91/200]\n",
      "Losses: [GE1: -2.6873857975006104, GE2: -0.4263167381286621] [D1: -2.414604902267456, D2: -0.34896209836006165]\n",
      "[Epoch 91/200]\n",
      "Losses: [GE1: -3.4901065826416016, GE2: -1.2413705587387085] [D1: -1.3878536224365234, D2: -0.3278142213821411]\n",
      "[Epoch 91/200]\n",
      "Losses: [GE1: -2.546657085418701, GE2: -0.6972365379333496] [D1: -1.3786649703979492, D2: -0.2852705121040344]\n",
      "[Epoch 91/200]\n",
      "Losses: [GE1: -3.0291948318481445, GE2: -0.8094910979270935] [D1: -2.0333189964294434, D2: -0.3701935410499573]\n",
      "[Epoch 91/200]\n",
      "Losses: [GE1: -3.7399661540985107, GE2: -0.480979323387146] [D1: -2.1834964752197266, D2: -0.3636302351951599]\n",
      "[Epoch 91/200]\n",
      "Losses: [GE1: -3.0589163303375244, GE2: -0.49013859033584595] [D1: -1.0582897663116455, D2: -0.3317261040210724]\n",
      "[Epoch 91/200]\n",
      "Losses: [GE1: -2.8633124828338623, GE2: -0.4496883451938629] [D1: -1.7469377517700195, D2: -0.43164581060409546]\n",
      "[Epoch 91/200]\n",
      "Losses: [GE1: -3.8194048404693604, GE2: -0.33780956268310547] [D1: -2.458174705505371, D2: -0.39951199293136597]\n",
      "[Epoch 91/200]\n",
      "Losses: [GE1: -3.4957401752471924, GE2: -0.7579379081726074] [D1: -1.5162584781646729, D2: -0.35756340622901917]\n"
     ]
    },
    {
     "name": "stderr",
     "output_type": "stream",
     "text": [
      " 46%|███████████████▋                  | 92/200 [43:37<51:12, 28.45s/it]"
     ]
    },
    {
     "name": "stdout",
     "output_type": "stream",
     "text": [
      "[Epoch 92/200]\n",
      "Losses: [GE1: -2.3563919067382812, GE2: -0.2192094624042511] [D1: -3.2628488540649414, D2: -0.3281329274177551]\n",
      "[Epoch 92/200]\n",
      "Losses: [GE1: -3.097334146499634, GE2: -0.07644719630479813] [D1: -1.9252506494522095, D2: -0.34222373366355896]\n",
      "[Epoch 92/200]\n",
      "Losses: [GE1: -3.134352684020996, GE2: -0.38739296793937683] [D1: -2.2553489208221436, D2: -0.4362086057662964]\n",
      "[Epoch 92/200]\n",
      "Losses: [GE1: -3.6132962703704834, GE2: -0.376135915517807] [D1: -1.4590139389038086, D2: -0.38912642002105713]\n",
      "[Epoch 92/200]\n",
      "Losses: [GE1: -3.996852159500122, GE2: -0.5859636068344116] [D1: -1.4919633865356445, D2: -0.3578309118747711]\n",
      "[Epoch 92/200]\n",
      "Losses: [GE1: -3.497347354888916, GE2: -0.6090298295021057] [D1: -1.5039175748825073, D2: -0.39450910687446594]\n",
      "[Epoch 92/200]\n",
      "Losses: [GE1: -3.0345003604888916, GE2: -0.17996013164520264] [D1: -2.5990495681762695, D2: -0.3193751573562622]\n",
      "[Epoch 92/200]\n",
      "Losses: [GE1: -4.045503616333008, GE2: -0.2249254286289215] [D1: -2.967665195465088, D2: -0.35140904784202576]\n",
      "[Epoch 92/200]\n",
      "Losses: [GE1: -2.985414743423462, GE2: -0.4062173366546631] [D1: -2.2806825637817383, D2: -0.3469984829425812]\n",
      "[Epoch 92/200]\n",
      "Losses: [GE1: -3.501498222351074, GE2: -0.49711740016937256] [D1: -2.4552979469299316, D2: -0.36760497093200684]\n"
     ]
    },
    {
     "name": "stderr",
     "output_type": "stream",
     "text": [
      " 46%|███████████████▊                  | 93/200 [44:06<50:44, 28.46s/it]"
     ]
    },
    {
     "name": "stdout",
     "output_type": "stream",
     "text": [
      "[Epoch 93/200]\n",
      "Losses: [GE1: -3.0809226036071777, GE2: -0.027317825704813004] [D1: -1.4178259372711182, D2: -0.3761463761329651]\n",
      "[Epoch 93/200]\n",
      "Losses: [GE1: -3.7256133556365967, GE2: -0.6465936899185181] [D1: -2.787754774093628, D2: -0.41004014015197754]\n",
      "[Epoch 93/200]\n",
      "Losses: [GE1: -3.31174898147583, GE2: -0.5385468006134033] [D1: -1.901270866394043, D2: -0.3837847411632538]\n",
      "[Epoch 93/200]\n",
      "Losses: [GE1: -3.11479115486145, GE2: -0.6626967787742615] [D1: -2.067291736602783, D2: -0.3276468515396118]\n",
      "[Epoch 93/200]\n",
      "Losses: [GE1: -3.611984968185425, GE2: -0.24718248844146729] [D1: -2.3826305866241455, D2: -0.3329755961894989]\n",
      "[Epoch 93/200]\n",
      "Losses: [GE1: -3.4197356700897217, GE2: -0.4126206636428833] [D1: -3.9658942222595215, D2: -0.4444980323314667]\n",
      "[Epoch 93/200]\n",
      "Losses: [GE1: -3.3910255432128906, GE2: -0.27897757291793823] [D1: -3.0439138412475586, D2: -0.3841277062892914]\n",
      "[Epoch 93/200]\n",
      "Losses: [GE1: -2.4047579765319824, GE2: -0.42621996998786926] [D1: -3.5842089653015137, D2: -0.36784985661506653]\n",
      "[Epoch 93/200]\n",
      "Losses: [GE1: -3.3892695903778076, GE2: -0.6827772855758667] [D1: -2.5649847984313965, D2: -0.39248108863830566]\n",
      "[Epoch 93/200]\n",
      "Losses: [GE1: -3.4639601707458496, GE2: -0.39363014698028564] [D1: -2.270648956298828, D2: -0.37853553891181946]\n"
     ]
    },
    {
     "name": "stderr",
     "output_type": "stream",
     "text": [
      " 47%|███████████████▉                  | 94/200 [44:34<50:16, 28.46s/it]"
     ]
    },
    {
     "name": "stdout",
     "output_type": "stream",
     "text": [
      "[Epoch 94/200]\n",
      "Losses: [GE1: -3.183800220489502, GE2: -0.5685257315635681] [D1: -2.1020779609680176, D2: -0.4075968265533447]\n",
      "[Epoch 94/200]\n",
      "Losses: [GE1: -4.455231666564941, GE2: -0.36868712306022644] [D1: -2.982607126235962, D2: -0.40206021070480347]\n",
      "[Epoch 94/200]\n",
      "Losses: [GE1: -3.4656436443328857, GE2: -0.5673342347145081] [D1: -2.5552048683166504, D2: -0.42377516627311707]\n",
      "[Epoch 94/200]\n",
      "Losses: [GE1: -3.534214496612549, GE2: -0.3724469542503357] [D1: -1.6868175268173218, D2: -0.38030001521110535]\n",
      "[Epoch 94/200]\n",
      "Losses: [GE1: -4.031392574310303, GE2: -0.5412651896476746] [D1: -2.594618320465088, D2: -0.47323721647262573]\n",
      "[Epoch 94/200]\n",
      "Losses: [GE1: -3.4532618522644043, GE2: -0.19462436437606812] [D1: -2.376260757446289, D2: -0.30192118883132935]\n",
      "[Epoch 94/200]\n",
      "Losses: [GE1: -3.6195104122161865, GE2: -0.6614232659339905] [D1: -3.25366473197937, D2: -0.38595840334892273]\n",
      "[Epoch 94/200]\n",
      "Losses: [GE1: -3.026974678039551, GE2: -0.6637700796127319] [D1: -3.0484848022460938, D2: -0.3286104202270508]\n",
      "[Epoch 94/200]\n",
      "Losses: [GE1: -3.7452220916748047, GE2: -0.4890391528606415] [D1: -1.8444076776504517, D2: -0.37576624751091003]\n",
      "[Epoch 94/200]\n",
      "Losses: [GE1: -3.2765989303588867, GE2: -0.2535012662410736] [D1: -1.2237982749938965, D2: -0.42001044750213623]\n"
     ]
    },
    {
     "name": "stderr",
     "output_type": "stream",
     "text": [
      " 48%|████████████████▏                 | 95/200 [45:03<49:47, 28.46s/it]"
     ]
    },
    {
     "name": "stdout",
     "output_type": "stream",
     "text": [
      "[Epoch 95/200]\n",
      "Losses: [GE1: -3.0229854583740234, GE2: 0.15101611614227295] [D1: -2.3193633556365967, D2: -0.3217138648033142]\n",
      "[Epoch 95/200]\n",
      "Losses: [GE1: -3.886456251144409, GE2: -0.9181694984436035] [D1: -2.6224722862243652, D2: -0.36472004652023315]\n",
      "[Epoch 95/200]\n",
      "Losses: [GE1: -3.4585306644439697, GE2: -0.6997119784355164] [D1: -2.8855996131896973, D2: -0.3429429531097412]\n",
      "[Epoch 95/200]\n",
      "Losses: [GE1: -4.050808906555176, GE2: -0.160650834441185] [D1: -2.7346885204315186, D2: -0.3120165169239044]\n",
      "[Epoch 95/200]\n",
      "Losses: [GE1: -3.975785732269287, GE2: -0.3534928858280182] [D1: -2.1987948417663574, D2: -0.3076876401901245]\n",
      "[Epoch 95/200]\n",
      "Losses: [GE1: -3.8796308040618896, GE2: -0.4590364098548889] [D1: -2.1263601779937744, D2: -0.4265309274196625]\n",
      "[Epoch 95/200]\n",
      "Losses: [GE1: -3.697444438934326, GE2: -0.5246685147285461] [D1: -2.441925048828125, D2: -0.4421800673007965]\n",
      "[Epoch 95/200]\n",
      "Losses: [GE1: -4.066827774047852, GE2: -0.3717452585697174] [D1: -1.8213516473770142, D2: -0.3847546875476837]\n",
      "[Epoch 95/200]\n",
      "Losses: [GE1: -3.319835662841797, GE2: -0.31520646810531616] [D1: -1.645546317100525, D2: -0.45538097620010376]\n",
      "[Epoch 95/200]\n",
      "Losses: [GE1: -3.169252634048462, GE2: -0.06778625398874283] [D1: -3.043203830718994, D2: -0.3606360852718353]\n"
     ]
    },
    {
     "name": "stderr",
     "output_type": "stream",
     "text": [
      " 48%|████████████████▎                 | 96/200 [45:31<49:19, 28.46s/it]"
     ]
    },
    {
     "name": "stdout",
     "output_type": "stream",
     "text": [
      "[Epoch 96/200]\n",
      "Losses: [GE1: -2.7569580078125, GE2: -0.763761043548584] [D1: -2.1191349029541016, D2: -0.4111630916595459]\n",
      "[Epoch 96/200]\n",
      "Losses: [GE1: -3.134350061416626, GE2: -0.4240473806858063] [D1: -3.574138879776001, D2: -0.424105167388916]\n",
      "[Epoch 96/200]\n",
      "Losses: [GE1: -3.2694056034088135, GE2: -0.4696290194988251] [D1: -2.754779815673828, D2: -0.39496931433677673]\n",
      "[Epoch 96/200]\n",
      "Losses: [GE1: -3.5642035007476807, GE2: -0.4465720057487488] [D1: -3.347984790802002, D2: -0.44410955905914307]\n",
      "[Epoch 96/200]\n",
      "Losses: [GE1: -3.5254008769989014, GE2: -0.8270929455757141] [D1: -1.800779104232788, D2: -0.3105955123901367]\n",
      "[Epoch 96/200]\n",
      "Losses: [GE1: -3.9356558322906494, GE2: -0.8481762409210205] [D1: -2.0049941539764404, D2: -0.4648289680480957]\n",
      "[Epoch 96/200]\n",
      "Losses: [GE1: -3.96317458152771, GE2: -0.30061155557632446] [D1: -2.1798641681671143, D2: -0.44077441096305847]\n",
      "[Epoch 96/200]\n",
      "Losses: [GE1: -3.593153715133667, GE2: -0.6100884675979614] [D1: -2.3752312660217285, D2: -0.40749186277389526]\n",
      "[Epoch 96/200]\n",
      "Losses: [GE1: -4.629903316497803, GE2: -0.2181016206741333] [D1: -3.1764421463012695, D2: -0.47202593088150024]\n",
      "[Epoch 96/200]\n",
      "Losses: [GE1: -4.257604598999023, GE2: -0.3791833221912384] [D1: -1.8539541959762573, D2: -0.396730899810791]\n"
     ]
    },
    {
     "name": "stderr",
     "output_type": "stream",
     "text": [
      " 48%|████████████████▍                 | 97/200 [46:00<48:50, 28.46s/it]"
     ]
    },
    {
     "name": "stdout",
     "output_type": "stream",
     "text": [
      "[Epoch 97/200]\n",
      "Losses: [GE1: -3.455031633377075, GE2: -0.49529269337654114] [D1: -2.173691987991333, D2: -0.25211474299430847]\n",
      "[Epoch 97/200]\n",
      "Losses: [GE1: -3.792853355407715, GE2: -1.0265328884124756] [D1: -2.6533522605895996, D2: -0.32071653008461]\n",
      "[Epoch 97/200]\n",
      "Losses: [GE1: -3.6023459434509277, GE2: 0.07563219964504242] [D1: -3.1642301082611084, D2: -0.38812270760536194]\n",
      "[Epoch 97/200]\n",
      "Losses: [GE1: -4.082715034484863, GE2: -0.385454386472702] [D1: -2.253422975540161, D2: -0.34352079033851624]\n",
      "[Epoch 97/200]\n",
      "Losses: [GE1: -3.427669048309326, GE2: -0.769261360168457] [D1: -3.001995801925659, D2: -0.4231566786766052]\n",
      "[Epoch 97/200]\n",
      "Losses: [GE1: -3.388895273208618, GE2: -0.0036965999752283096] [D1: -1.9543286561965942, D2: -0.3130783140659332]\n",
      "[Epoch 97/200]\n",
      "Losses: [GE1: -4.632673740386963, GE2: -0.42067474126815796] [D1: -3.7798423767089844, D2: -0.3889629542827606]\n",
      "[Epoch 97/200]\n",
      "Losses: [GE1: -3.345607280731201, GE2: -0.22419185936450958] [D1: -1.5509419441223145, D2: -0.3811940550804138]\n",
      "[Epoch 97/200]\n",
      "Losses: [GE1: -3.855954170227051, GE2: -0.4635424315929413] [D1: -2.5820083618164062, D2: -0.46587663888931274]\n",
      "[Epoch 97/200]\n",
      "Losses: [GE1: -3.326667070388794, GE2: -0.5167171955108643] [D1: -2.2065558433532715, D2: -0.37142887711524963]\n"
     ]
    },
    {
     "name": "stderr",
     "output_type": "stream",
     "text": [
      " 49%|████████████████▋                 | 98/200 [46:28<48:22, 28.46s/it]"
     ]
    },
    {
     "name": "stdout",
     "output_type": "stream",
     "text": [
      "[Epoch 98/200]\n",
      "Losses: [GE1: -4.083158016204834, GE2: -0.4547756016254425] [D1: -3.0922703742980957, D2: -0.35328587889671326]\n",
      "[Epoch 98/200]\n",
      "Losses: [GE1: -4.078593730926514, GE2: -0.557990550994873] [D1: -1.9236712455749512, D2: -0.3570457994937897]\n",
      "[Epoch 98/200]\n",
      "Losses: [GE1: -3.4956631660461426, GE2: -0.4243896007537842] [D1: -1.8932671546936035, D2: -0.3782365322113037]\n",
      "[Epoch 98/200]\n",
      "Losses: [GE1: -4.297407627105713, GE2: -0.7478801608085632] [D1: -2.899095058441162, D2: -0.40707746148109436]\n",
      "[Epoch 98/200]\n",
      "Losses: [GE1: -3.163097620010376, GE2: -0.362594872713089] [D1: -2.9620285034179688, D2: -0.5209006667137146]\n",
      "[Epoch 98/200]\n",
      "Losses: [GE1: -2.9106266498565674, GE2: -0.5520887970924377] [D1: -2.9807419776916504, D2: -0.3188997209072113]\n",
      "[Epoch 98/200]\n",
      "Losses: [GE1: -3.4716713428497314, GE2: -0.6609463691711426] [D1: -1.9973969459533691, D2: -0.3819209635257721]\n",
      "[Epoch 98/200]\n",
      "Losses: [GE1: -3.113769769668579, GE2: -0.3920161724090576] [D1: -2.4116873741149902, D2: -0.395366907119751]\n",
      "[Epoch 98/200]\n",
      "Losses: [GE1: -3.556581974029541, GE2: -0.4992965757846832] [D1: -3.9025230407714844, D2: -0.41339462995529175]\n",
      "[Epoch 98/200]\n",
      "Losses: [GE1: -4.340572357177734, GE2: -0.44847792387008667] [D1: -1.9823670387268066, D2: -0.398689329624176]\n"
     ]
    },
    {
     "name": "stderr",
     "output_type": "stream",
     "text": [
      " 50%|████████████████▊                 | 99/200 [46:57<47:54, 28.46s/it]"
     ]
    },
    {
     "name": "stdout",
     "output_type": "stream",
     "text": [
      "[Epoch 99/200]\n",
      "Losses: [GE1: -4.643782138824463, GE2: -0.46343517303466797] [D1: -1.5827306509017944, D2: -0.3922668695449829]\n",
      "[Epoch 99/200]\n",
      "Losses: [GE1: -4.224778175354004, GE2: -0.5109291076660156] [D1: -1.8423683643341064, D2: -0.38284963369369507]\n",
      "[Epoch 99/200]\n",
      "Losses: [GE1: -3.41694712638855, GE2: -0.4855738878250122] [D1: -3.55880069732666, D2: -0.4528239369392395]\n",
      "[Epoch 99/200]\n",
      "Losses: [GE1: -3.941077947616577, GE2: -0.3732665181159973] [D1: -4.068004608154297, D2: -0.34330543875694275]\n",
      "[Epoch 99/200]\n",
      "Losses: [GE1: -3.4303998947143555, GE2: -0.5476593971252441] [D1: -2.4473421573638916, D2: -0.2910768985748291]\n",
      "[Epoch 99/200]\n",
      "Losses: [GE1: -4.420688629150391, GE2: 0.01827281340956688] [D1: -1.9340319633483887, D2: -0.48079293966293335]\n",
      "[Epoch 99/200]\n",
      "Losses: [GE1: -3.904742956161499, GE2: -0.8562750816345215] [D1: -1.9550797939300537, D2: -0.42191165685653687]\n",
      "[Epoch 99/200]\n",
      "Losses: [GE1: -3.560364007949829, GE2: -0.7010612487792969] [D1: -3.2041573524475098, D2: -0.3214101195335388]\n",
      "[Epoch 99/200]\n",
      "Losses: [GE1: -4.254922866821289, GE2: -0.6350259780883789] [D1: -1.4972764253616333, D2: -0.3393721580505371]\n",
      "[Epoch 99/200]\n",
      "Losses: [GE1: -4.354053497314453, GE2: -0.36751610040664673] [D1: -2.135053873062134, D2: -0.3698383867740631]\n"
     ]
    },
    {
     "name": "stderr",
     "output_type": "stream",
     "text": [
      " 50%|████████████████▌                | 100/200 [47:25<47:25, 28.46s/it]"
     ]
    },
    {
     "name": "stdout",
     "output_type": "stream",
     "text": [
      "[Epoch 100/200]\n",
      "Losses: [GE1: -3.4609501361846924, GE2: -0.3945300579071045] [D1: -3.7879528999328613, D2: -0.37858232855796814]\n",
      "[Epoch 100/200]\n",
      "Losses: [GE1: -3.7683463096618652, GE2: -0.6271452307701111] [D1: -2.053335666656494, D2: -0.24924036860466003]\n",
      "[Epoch 100/200]\n",
      "Losses: [GE1: -4.3104071617126465, GE2: -0.8000735640525818] [D1: -3.020379066467285, D2: -0.30235984921455383]\n",
      "[Epoch 100/200]\n",
      "Losses: [GE1: -3.7230684757232666, GE2: -0.5636216402053833] [D1: -3.405241012573242, D2: -0.3557245135307312]\n",
      "[Epoch 100/200]\n",
      "Losses: [GE1: -3.6870381832122803, GE2: -0.5174206495285034] [D1: -1.9496904611587524, D2: -0.41494572162628174]\n",
      "[Epoch 100/200]\n",
      "Losses: [GE1: -3.7576589584350586, GE2: -0.04630076140165329] [D1: -3.3364500999450684, D2: -0.3994486331939697]\n",
      "[Epoch 100/200]\n",
      "Losses: [GE1: -4.605186462402344, GE2: -0.5046073794364929] [D1: -2.2745747566223145, D2: -0.40044572949409485]\n",
      "[Epoch 100/200]\n",
      "Losses: [GE1: -4.37161111831665, GE2: -0.5979082584381104] [D1: -2.180509567260742, D2: -0.30856677889823914]\n",
      "[Epoch 100/200]\n",
      "Losses: [GE1: -2.913172721862793, GE2: -0.22997283935546875] [D1: -3.0684802532196045, D2: -0.44854894280433655]\n",
      "[Epoch 100/200]\n",
      "Losses: [GE1: -3.5020687580108643, GE2: -0.9380101561546326] [D1: -4.384650707244873, D2: -0.4146868586540222]\n"
     ]
    },
    {
     "name": "stderr",
     "output_type": "stream",
     "text": [
      " 50%|████████████████▋                | 101/200 [47:54<46:57, 28.46s/it]"
     ]
    },
    {
     "name": "stdout",
     "output_type": "stream",
     "text": [
      "[Epoch 101/200]\n",
      "Losses: [GE1: -4.900349140167236, GE2: 0.09167537093162537] [D1: -2.810765266418457, D2: -0.36250171065330505]\n",
      "[Epoch 101/200]\n",
      "Losses: [GE1: -3.385026454925537, GE2: -0.43768951296806335] [D1: -1.8670144081115723, D2: -0.42933157086372375]\n",
      "[Epoch 101/200]\n",
      "Losses: [GE1: -4.002596855163574, GE2: -0.46924248337745667] [D1: -3.335597515106201, D2: -0.3464713990688324]\n",
      "[Epoch 101/200]\n",
      "Losses: [GE1: -3.0329344272613525, GE2: -0.6751172542572021] [D1: -1.4916155338287354, D2: -0.41290783882141113]\n",
      "[Epoch 101/200]\n",
      "Losses: [GE1: -4.346438407897949, GE2: -0.6952595710754395] [D1: -2.825718879699707, D2: -0.2780844271183014]\n",
      "[Epoch 101/200]\n",
      "Losses: [GE1: -4.092459201812744, GE2: -0.06440195441246033] [D1: -2.1470139026641846, D2: -0.4162933826446533]\n",
      "[Epoch 101/200]\n",
      "Losses: [GE1: -3.9285614490509033, GE2: -0.40784141421318054] [D1: -1.7412974834442139, D2: -0.3840219974517822]\n",
      "[Epoch 101/200]\n",
      "Losses: [GE1: -4.6145524978637695, GE2: -0.06373044848442078] [D1: -2.231600761413574, D2: -0.4535679519176483]\n",
      "[Epoch 101/200]\n",
      "Losses: [GE1: -4.094410419464111, GE2: -0.5923035740852356] [D1: -2.2042059898376465, D2: -0.38152050971984863]\n",
      "[Epoch 101/200]\n",
      "Losses: [GE1: -4.181643009185791, GE2: -0.41112250089645386] [D1: -1.6965248584747314, D2: -0.3950130343437195]\n"
     ]
    },
    {
     "name": "stderr",
     "output_type": "stream",
     "text": [
      " 51%|████████████████▊                | 102/200 [48:22<46:28, 28.46s/it]"
     ]
    },
    {
     "name": "stdout",
     "output_type": "stream",
     "text": [
      "[Epoch 102/200]\n",
      "Losses: [GE1: -3.9722766876220703, GE2: -0.8526178598403931] [D1: -2.8021440505981445, D2: -0.43279099464416504]\n",
      "[Epoch 102/200]\n",
      "Losses: [GE1: -4.398109436035156, GE2: -0.5182096362113953] [D1: -3.2538528442382812, D2: -0.35895368456840515]\n",
      "[Epoch 102/200]\n",
      "Losses: [GE1: -3.9844119548797607, GE2: -0.2734805643558502] [D1: -2.0768563747406006, D2: -0.47778448462486267]\n",
      "[Epoch 102/200]\n",
      "Losses: [GE1: -3.939183235168457, GE2: -0.1804080456495285] [D1: -1.1693885326385498, D2: -0.40888506174087524]\n",
      "[Epoch 102/200]\n",
      "Losses: [GE1: -3.5300683975219727, GE2: -0.17400099337100983] [D1: -2.749814987182617, D2: -0.3263424336910248]\n",
      "[Epoch 102/200]\n",
      "Losses: [GE1: -4.409972667694092, GE2: -0.9198389053344727] [D1: -2.3490099906921387, D2: -0.4255843162536621]\n",
      "[Epoch 102/200]\n",
      "Losses: [GE1: -4.347001552581787, GE2: -0.4277907907962799] [D1: -3.1374731063842773, D2: -0.3984582722187042]\n",
      "[Epoch 102/200]\n",
      "Losses: [GE1: -3.2889769077301025, GE2: -0.6537675857543945] [D1: -2.2449047565460205, D2: -0.3542991280555725]\n",
      "[Epoch 102/200]\n",
      "Losses: [GE1: -4.241756439208984, GE2: -0.8936957120895386] [D1: -2.23441481590271, D2: -0.34275880455970764]\n",
      "[Epoch 102/200]\n",
      "Losses: [GE1: -2.9685230255126953, GE2: -0.5062975883483887] [D1: -1.5093876123428345, D2: -0.33759427070617676]\n"
     ]
    },
    {
     "name": "stderr",
     "output_type": "stream",
     "text": [
      " 52%|████████████████▉                | 103/200 [48:51<46:00, 28.46s/it]"
     ]
    },
    {
     "name": "stdout",
     "output_type": "stream",
     "text": [
      "[Epoch 103/200]\n",
      "Losses: [GE1: -3.331644296646118, GE2: -0.15474572777748108] [D1: -1.086418867111206, D2: -0.3847016990184784]\n",
      "[Epoch 103/200]\n",
      "Losses: [GE1: -3.985696315765381, GE2: -0.5612205862998962] [D1: -3.422429323196411, D2: -0.4337044954299927]\n",
      "[Epoch 103/200]\n",
      "Losses: [GE1: -3.999112129211426, GE2: -0.4445019066333771] [D1: -3.654548168182373, D2: -0.39568981528282166]\n",
      "[Epoch 103/200]\n",
      "Losses: [GE1: -4.6808342933654785, GE2: -0.5303440690040588] [D1: -2.5290279388427734, D2: -0.3482538163661957]\n",
      "[Epoch 103/200]\n",
      "Losses: [GE1: -4.619243144989014, GE2: -0.6738411784172058] [D1: -1.1879661083221436, D2: -0.31804177165031433]\n",
      "[Epoch 103/200]\n",
      "Losses: [GE1: -4.046041011810303, GE2: -0.5323684811592102] [D1: -1.0853302478790283, D2: -0.3379816710948944]\n",
      "[Epoch 103/200]\n",
      "Losses: [GE1: -4.156317234039307, GE2: -0.4446447789669037] [D1: -3.873734951019287, D2: -0.47078943252563477]\n",
      "[Epoch 103/200]\n",
      "Losses: [GE1: -3.6633212566375732, GE2: -0.6953151822090149] [D1: -2.303569793701172, D2: -0.37481555342674255]\n",
      "[Epoch 103/200]\n",
      "Losses: [GE1: -4.7607645988464355, GE2: -0.06422166526317596] [D1: -1.94510018825531, D2: -0.4223932921886444]\n",
      "[Epoch 103/200]\n",
      "Losses: [GE1: -4.357461452484131, GE2: -0.2184898555278778] [D1: -1.2293504476547241, D2: -0.3083555996417999]\n"
     ]
    },
    {
     "name": "stderr",
     "output_type": "stream",
     "text": [
      " 52%|█████████████████▏               | 104/200 [49:19<45:31, 28.46s/it]"
     ]
    },
    {
     "name": "stdout",
     "output_type": "stream",
     "text": [
      "[Epoch 104/200]\n",
      "Losses: [GE1: -4.495302200317383, GE2: -0.3487798571586609] [D1: -2.815342426300049, D2: -0.39743030071258545]\n",
      "[Epoch 104/200]\n",
      "Losses: [GE1: -3.712787628173828, GE2: -0.37699079513549805] [D1: -3.193082332611084, D2: -0.3617137670516968]\n",
      "[Epoch 104/200]\n",
      "Losses: [GE1: -4.990661144256592, GE2: -0.7133646011352539] [D1: -2.859541177749634, D2: -0.33408400416374207]\n",
      "[Epoch 104/200]\n",
      "Losses: [GE1: -5.177434921264648, GE2: -0.4622884690761566] [D1: -1.5875064134597778, D2: -0.39181336760520935]\n",
      "[Epoch 104/200]\n",
      "Losses: [GE1: -4.695253849029541, GE2: -0.33789321780204773] [D1: -1.590489387512207, D2: -0.4041539132595062]\n",
      "[Epoch 104/200]\n",
      "Losses: [GE1: -5.004403114318848, GE2: -0.273919939994812] [D1: -3.17205810546875, D2: -0.35566040873527527]\n",
      "[Epoch 104/200]\n",
      "Losses: [GE1: -3.967381000518799, GE2: -0.4548439383506775] [D1: -1.1344177722930908, D2: -0.3843138813972473]\n",
      "[Epoch 104/200]\n",
      "Losses: [GE1: -5.481910228729248, GE2: -0.16567277908325195] [D1: -2.285283327102661, D2: -0.4068601727485657]\n",
      "[Epoch 104/200]\n",
      "Losses: [GE1: -3.8550302982330322, GE2: -0.45503222942352295] [D1: -3.6698365211486816, D2: -0.37297171354293823]\n",
      "[Epoch 104/200]\n",
      "Losses: [GE1: -4.575351715087891, GE2: -0.35800865292549133] [D1: -2.120382785797119, D2: -0.3896320164203644]\n"
     ]
    },
    {
     "name": "stderr",
     "output_type": "stream",
     "text": [
      " 52%|█████████████████▎               | 105/200 [49:47<45:03, 28.46s/it]"
     ]
    },
    {
     "name": "stdout",
     "output_type": "stream",
     "text": [
      "[Epoch 105/200]\n",
      "Losses: [GE1: -4.489573001861572, GE2: -0.472858726978302] [D1: -2.7114834785461426, D2: -0.39503076672554016]\n",
      "[Epoch 105/200]\n",
      "Losses: [GE1: -3.778111457824707, GE2: -0.22386707365512848] [D1: -1.8081998825073242, D2: -0.3100223243236542]\n",
      "[Epoch 105/200]\n",
      "Losses: [GE1: -4.361449241638184, GE2: -0.5281183123588562] [D1: -1.6636046171188354, D2: -0.3493226170539856]\n",
      "[Epoch 105/200]\n",
      "Losses: [GE1: -3.9615354537963867, GE2: -0.15783831477165222] [D1: -3.139274835586548, D2: -0.3888377845287323]\n",
      "[Epoch 105/200]\n",
      "Losses: [GE1: -4.505650997161865, GE2: -0.07672689855098724] [D1: -2.514336585998535, D2: -0.3788892328739166]\n",
      "[Epoch 105/200]\n",
      "Losses: [GE1: -4.018143653869629, GE2: -0.10383479297161102] [D1: -1.895669937133789, D2: -0.31033986806869507]\n",
      "[Epoch 105/200]\n",
      "Losses: [GE1: -3.9135358333587646, GE2: -0.5302302241325378] [D1: -2.455665349960327, D2: -0.3973029553890228]\n",
      "[Epoch 105/200]\n",
      "Losses: [GE1: -3.8086509704589844, GE2: -0.6995480060577393] [D1: -3.648651599884033, D2: -0.39714762568473816]\n",
      "[Epoch 105/200]\n",
      "Losses: [GE1: -4.219298839569092, GE2: -0.5994471907615662] [D1: -1.5511518716812134, D2: -0.4017663598060608]\n",
      "[Epoch 105/200]\n",
      "Losses: [GE1: -4.566209316253662, GE2: -0.053845543414354324] [D1: -3.535609245300293, D2: -0.4095134437084198]\n"
     ]
    },
    {
     "name": "stderr",
     "output_type": "stream",
     "text": [
      " 53%|█████████████████▍               | 106/200 [50:16<44:34, 28.46s/it]"
     ]
    },
    {
     "name": "stdout",
     "output_type": "stream",
     "text": [
      "[Epoch 106/200]\n",
      "Losses: [GE1: -3.3921382427215576, GE2: -0.7094876766204834] [D1: -3.384676218032837, D2: -0.41150200366973877]\n",
      "[Epoch 106/200]\n",
      "Losses: [GE1: -4.045660018920898, GE2: -0.6321099996566772] [D1: -2.238759994506836, D2: -0.4255406856536865]\n",
      "[Epoch 106/200]\n",
      "Losses: [GE1: -4.432655334472656, GE2: -0.6066184639930725] [D1: -1.6139845848083496, D2: -0.45049288868904114]\n",
      "[Epoch 106/200]\n",
      "Losses: [GE1: -5.108208656311035, GE2: -0.7666938900947571] [D1: -1.5515475273132324, D2: -0.3896075487136841]\n",
      "[Epoch 106/200]\n",
      "Losses: [GE1: -4.84145450592041, GE2: -0.9873337745666504] [D1: -2.458740711212158, D2: -0.33168813586235046]\n",
      "[Epoch 106/200]\n",
      "Losses: [GE1: -3.6519935131073, GE2: -0.38873937726020813] [D1: -1.5341793298721313, D2: -0.36308497190475464]\n",
      "[Epoch 106/200]\n",
      "Losses: [GE1: -3.8105545043945312, GE2: -0.3904905319213867] [D1: -1.1639022827148438, D2: -0.34555408358573914]\n",
      "[Epoch 106/200]\n",
      "Losses: [GE1: -2.9390718936920166, GE2: -0.2604900598526001] [D1: -1.4699958562850952, D2: -0.3690834641456604]\n",
      "[Epoch 106/200]\n",
      "Losses: [GE1: -4.607144832611084, GE2: -0.6625088453292847] [D1: -2.8464736938476562, D2: -0.30210989713668823]\n",
      "[Epoch 106/200]\n",
      "Losses: [GE1: -3.4964616298675537, GE2: -0.4734649658203125] [D1: -2.8198492527008057, D2: -0.3913096785545349]\n"
     ]
    },
    {
     "name": "stderr",
     "output_type": "stream",
     "text": [
      " 54%|█████████████████▋               | 107/200 [50:44<44:06, 28.46s/it]"
     ]
    },
    {
     "name": "stdout",
     "output_type": "stream",
     "text": [
      "[Epoch 107/200]\n",
      "Losses: [GE1: -4.344931602478027, GE2: -0.6172648668289185] [D1: -2.715625524520874, D2: -0.33698415756225586]\n",
      "[Epoch 107/200]\n",
      "Losses: [GE1: -3.80924916267395, GE2: -0.3343810439109802] [D1: -1.889991044998169, D2: -0.3774731159210205]\n",
      "[Epoch 107/200]\n",
      "Losses: [GE1: -4.891147136688232, GE2: -0.2458668202161789] [D1: -2.732307195663452, D2: -0.4640534222126007]\n",
      "[Epoch 107/200]\n",
      "Losses: [GE1: -3.85355281829834, GE2: -0.6343903541564941] [D1: -1.8814563751220703, D2: -0.36289966106414795]\n",
      "[Epoch 107/200]\n",
      "Losses: [GE1: -4.1713409423828125, GE2: -0.14075392484664917] [D1: -2.332582712173462, D2: -0.28832435607910156]\n",
      "[Epoch 107/200]\n",
      "Losses: [GE1: -3.4314513206481934, GE2: -0.2842620611190796] [D1: -1.6505861282348633, D2: -0.46285226941108704]\n",
      "[Epoch 107/200]\n",
      "Losses: [GE1: -4.467311859130859, GE2: -0.293750524520874] [D1: -2.2119457721710205, D2: -0.3982376158237457]\n",
      "[Epoch 107/200]\n",
      "Losses: [GE1: -3.5699350833892822, GE2: -0.5574139952659607] [D1: -3.9295010566711426, D2: -0.3458649516105652]\n",
      "[Epoch 107/200]\n",
      "Losses: [GE1: -3.9685704708099365, GE2: -0.6170472502708435] [D1: -3.7039642333984375, D2: -0.2667522132396698]\n",
      "[Epoch 107/200]\n",
      "Losses: [GE1: -4.635180950164795, GE2: -0.5047081708908081] [D1: -2.7770824432373047, D2: -0.3663003742694855]\n"
     ]
    },
    {
     "name": "stderr",
     "output_type": "stream",
     "text": [
      " 54%|█████████████████▊               | 108/200 [51:13<43:37, 28.46s/it]"
     ]
    },
    {
     "name": "stdout",
     "output_type": "stream",
     "text": [
      "[Epoch 108/200]\n",
      "Losses: [GE1: -4.856012344360352, GE2: -0.6839515566825867] [D1: -3.48244047164917, D2: -0.3901345729827881]\n",
      "[Epoch 108/200]\n",
      "Losses: [GE1: -4.907710075378418, GE2: -0.5504007935523987] [D1: -2.6270697116851807, D2: -0.37099072337150574]\n",
      "[Epoch 108/200]\n",
      "Losses: [GE1: -4.141594886779785, GE2: -0.6039257049560547] [D1: -1.0671993494033813, D2: -0.23300454020500183]\n",
      "[Epoch 108/200]\n",
      "Losses: [GE1: -4.310367107391357, GE2: -0.7430537939071655] [D1: -2.4998464584350586, D2: -0.29084405303001404]\n",
      "[Epoch 108/200]\n",
      "Losses: [GE1: -4.260717391967773, GE2: -0.7324445247650146] [D1: -3.7215914726257324, D2: -0.37946853041648865]\n",
      "[Epoch 108/200]\n",
      "Losses: [GE1: -3.7330563068389893, GE2: -0.6686719059944153] [D1: -1.866516351699829, D2: -0.302521288394928]\n",
      "[Epoch 108/200]\n",
      "Losses: [GE1: -4.57774019241333, GE2: -0.6531069874763489] [D1: -2.4657413959503174, D2: -0.394203782081604]\n",
      "[Epoch 108/200]\n",
      "Losses: [GE1: -4.759845733642578, GE2: -0.782123327255249] [D1: -1.744460105895996, D2: -0.3765881657600403]\n",
      "[Epoch 108/200]\n",
      "Losses: [GE1: -4.103236198425293, GE2: -0.4070145785808563] [D1: -1.6846952438354492, D2: -0.344936341047287]\n",
      "[Epoch 108/200]\n",
      "Losses: [GE1: -4.232865333557129, GE2: -0.8265132308006287] [D1: -2.6411874294281006, D2: -0.4011082053184509]\n"
     ]
    },
    {
     "name": "stderr",
     "output_type": "stream",
     "text": [
      " 55%|█████████████████▉               | 109/200 [51:41<43:09, 28.46s/it]"
     ]
    },
    {
     "name": "stdout",
     "output_type": "stream",
     "text": [
      "[Epoch 109/200]\n",
      "Losses: [GE1: -5.220920085906982, GE2: -0.5437392592430115] [D1: -1.730038046836853, D2: -0.3689587116241455]\n",
      "[Epoch 109/200]\n",
      "Losses: [GE1: -4.01291561126709, GE2: -0.21007488667964935] [D1: -2.7021920680999756, D2: -0.39500582218170166]\n",
      "[Epoch 109/200]\n",
      "Losses: [GE1: -4.800278186798096, GE2: -0.6994649767875671] [D1: -1.6107596158981323, D2: -0.3575468957424164]\n",
      "[Epoch 109/200]\n",
      "Losses: [GE1: -3.5106301307678223, GE2: -0.3395041227340698] [D1: -3.290757417678833, D2: -0.433642715215683]\n",
      "[Epoch 109/200]\n",
      "Losses: [GE1: -3.5804131031036377, GE2: 0.12908706068992615] [D1: -3.4495739936828613, D2: -0.39516106247901917]\n",
      "[Epoch 109/200]\n",
      "Losses: [GE1: -3.9103739261627197, GE2: -0.11328499764204025] [D1: -1.8839190006256104, D2: -0.3778870403766632]\n",
      "[Epoch 109/200]\n",
      "Losses: [GE1: -4.070411205291748, GE2: -0.5296712517738342] [D1: -1.6599841117858887, D2: -0.3353159725666046]\n",
      "[Epoch 109/200]\n",
      "Losses: [GE1: -4.098701477050781, GE2: -0.2823846936225891] [D1: -2.3213400840759277, D2: -0.3947048485279083]\n",
      "[Epoch 109/200]\n",
      "Losses: [GE1: -4.3399248123168945, GE2: -0.34635210037231445] [D1: -3.5665817260742188, D2: -0.36041462421417236]\n",
      "[Epoch 109/200]\n",
      "Losses: [GE1: -4.44806432723999, GE2: -0.4126847982406616] [D1: -2.236260414123535, D2: -0.38682088255882263]\n"
     ]
    },
    {
     "name": "stderr",
     "output_type": "stream",
     "text": [
      " 55%|██████████████████▏              | 110/200 [52:10<42:41, 28.46s/it]"
     ]
    },
    {
     "name": "stdout",
     "output_type": "stream",
     "text": [
      "[Epoch 110/200]\n",
      "Losses: [GE1: -4.520628929138184, GE2: -0.3357049524784088] [D1: -2.265033483505249, D2: -0.33605557680130005]\n",
      "[Epoch 110/200]\n",
      "Losses: [GE1: -4.24228572845459, GE2: -0.6456876397132874] [D1: -2.4253532886505127, D2: -0.3952047526836395]\n",
      "[Epoch 110/200]\n",
      "Losses: [GE1: -4.388906002044678, GE2: -0.5500916838645935] [D1: -3.3462460041046143, D2: -0.30446770787239075]\n",
      "[Epoch 110/200]\n",
      "Losses: [GE1: -4.483911991119385, GE2: -0.6802898645401001] [D1: -2.8487679958343506, D2: -0.44741976261138916]\n",
      "[Epoch 110/200]\n",
      "Losses: [GE1: -4.357454299926758, GE2: -0.5125790238380432] [D1: -3.253312110900879, D2: -0.36165642738342285]\n",
      "[Epoch 110/200]\n",
      "Losses: [GE1: -4.327613353729248, GE2: -0.6783023476600647] [D1: -2.746591567993164, D2: -0.4072543978691101]\n",
      "[Epoch 110/200]\n",
      "Losses: [GE1: -5.139073371887207, GE2: -0.7294815182685852] [D1: -3.451869010925293, D2: -0.3872092068195343]\n",
      "[Epoch 110/200]\n",
      "Losses: [GE1: -4.8809003829956055, GE2: -0.4297082722187042] [D1: -2.325843334197998, D2: -0.39805880188941956]\n",
      "[Epoch 110/200]\n",
      "Losses: [GE1: -3.8699426651000977, GE2: -0.46025657653808594] [D1: -1.3169645071029663, D2: -0.39735472202301025]\n",
      "[Epoch 110/200]\n",
      "Losses: [GE1: -4.375940799713135, GE2: -0.5562364459037781] [D1: -2.193702459335327, D2: -0.3718298375606537]\n"
     ]
    },
    {
     "name": "stderr",
     "output_type": "stream",
     "text": [
      " 56%|██████████████████▎              | 111/200 [52:38<42:12, 28.46s/it]"
     ]
    },
    {
     "name": "stdout",
     "output_type": "stream",
     "text": [
      "[Epoch 111/200]\n",
      "Losses: [GE1: -3.9804530143737793, GE2: -0.7571684718132019] [D1: -1.9168797731399536, D2: -0.40889543294906616]\n",
      "[Epoch 111/200]\n",
      "Losses: [GE1: -4.000511646270752, GE2: -0.5431367754936218] [D1: -3.8969831466674805, D2: -0.4021827280521393]\n",
      "[Epoch 111/200]\n",
      "Losses: [GE1: -4.6680707931518555, GE2: -0.5012864470481873] [D1: -1.950492262840271, D2: -0.3793225586414337]\n",
      "[Epoch 111/200]\n",
      "Losses: [GE1: -4.187037944793701, GE2: -0.5307177901268005] [D1: -2.6021952629089355, D2: -0.3276231586933136]\n",
      "[Epoch 111/200]\n",
      "Losses: [GE1: -4.199001789093018, GE2: -0.462923139333725] [D1: -3.0120255947113037, D2: -0.3656206429004669]\n",
      "[Epoch 111/200]\n",
      "Losses: [GE1: -4.024971008300781, GE2: -0.394281268119812] [D1: -2.0352556705474854, D2: -0.42744946479797363]\n",
      "[Epoch 111/200]\n",
      "Losses: [GE1: -4.8196821212768555, GE2: -1.0401840209960938] [D1: -2.9704384803771973, D2: -0.40337038040161133]\n",
      "[Epoch 111/200]\n",
      "Losses: [GE1: -3.702423334121704, GE2: -0.9651919007301331] [D1: -2.0063915252685547, D2: -0.31943485140800476]\n",
      "[Epoch 111/200]\n",
      "Losses: [GE1: -3.751659870147705, GE2: -0.3995983600616455] [D1: -2.59757924079895, D2: -0.4531427025794983]\n",
      "[Epoch 111/200]\n",
      "Losses: [GE1: -4.415192604064941, GE2: -0.3820158541202545] [D1: -2.960540294647217, D2: -0.3763677179813385]\n"
     ]
    },
    {
     "name": "stderr",
     "output_type": "stream",
     "text": [
      " 56%|██████████████████▍              | 112/200 [53:07<41:44, 28.46s/it]"
     ]
    },
    {
     "name": "stdout",
     "output_type": "stream",
     "text": [
      "[Epoch 112/200]\n",
      "Losses: [GE1: -3.4190337657928467, GE2: -0.2641087770462036] [D1: -3.5282249450683594, D2: -0.3559104800224304]\n",
      "[Epoch 112/200]\n",
      "Losses: [GE1: -4.02472448348999, GE2: -0.2372933328151703] [D1: -2.6622958183288574, D2: -0.3737749457359314]\n",
      "[Epoch 112/200]\n",
      "Losses: [GE1: -4.321484565734863, GE2: -0.5324302911758423] [D1: -4.009820938110352, D2: -0.35597115755081177]\n",
      "[Epoch 112/200]\n",
      "Losses: [GE1: -4.327210426330566, GE2: -0.18524938821792603] [D1: -1.657629370689392, D2: -0.5428627729415894]\n",
      "[Epoch 112/200]\n",
      "Losses: [GE1: -4.711871147155762, GE2: -0.47734904289245605] [D1: -2.3008246421813965, D2: -0.42499181628227234]\n",
      "[Epoch 112/200]\n",
      "Losses: [GE1: -4.836335182189941, GE2: -1.1504387855529785] [D1: -2.3917946815490723, D2: -0.3699924349784851]\n",
      "[Epoch 112/200]\n",
      "Losses: [GE1: -4.390596389770508, GE2: -0.7397017478942871] [D1: -1.8496081829071045, D2: -0.4156345725059509]\n",
      "[Epoch 112/200]\n",
      "Losses: [GE1: -5.013684272766113, GE2: -0.5315790176391602] [D1: -2.076752185821533, D2: -0.37694278359413147]\n",
      "[Epoch 112/200]\n",
      "Losses: [GE1: -4.579934120178223, GE2: -0.3869662880897522] [D1: -2.331336498260498, D2: -0.3118000328540802]\n",
      "[Epoch 112/200]\n",
      "Losses: [GE1: -5.442359924316406, GE2: -0.6499607563018799] [D1: -3.181274175643921, D2: -0.38135531544685364]\n"
     ]
    },
    {
     "name": "stderr",
     "output_type": "stream",
     "text": [
      " 56%|██████████████████▋              | 113/200 [53:35<41:15, 28.45s/it]"
     ]
    },
    {
     "name": "stdout",
     "output_type": "stream",
     "text": [
      "[Epoch 113/200]\n",
      "Losses: [GE1: -5.016956329345703, GE2: -0.6433821320533752] [D1: -2.6321053504943848, D2: -0.4096308946609497]\n",
      "[Epoch 113/200]\n",
      "Losses: [GE1: -4.071167945861816, GE2: -0.689810037612915] [D1: -2.03629207611084, D2: -0.41656261682510376]\n",
      "[Epoch 113/200]\n",
      "Losses: [GE1: -4.6759772300720215, GE2: -0.8626095056533813] [D1: -2.572622537612915, D2: -0.355989545583725]\n",
      "[Epoch 113/200]\n",
      "Losses: [GE1: -4.02169942855835, GE2: -0.7518683075904846] [D1: -2.9893510341644287, D2: -0.28414779901504517]\n",
      "[Epoch 113/200]\n",
      "Losses: [GE1: -3.710021734237671, GE2: -0.5976713299751282] [D1: -3.024160861968994, D2: -0.28222206234931946]\n",
      "[Epoch 113/200]\n",
      "Losses: [GE1: -4.630154609680176, GE2: -0.7077513337135315] [D1: -1.6757044792175293, D2: -0.46706250309944153]\n",
      "[Epoch 113/200]\n",
      "Losses: [GE1: -4.0709686279296875, GE2: -1.2315571308135986] [D1: -2.5590288639068604, D2: -0.21428918838500977]\n",
      "[Epoch 113/200]\n",
      "Losses: [GE1: -4.306774616241455, GE2: -0.5464808344841003] [D1: -2.840131998062134, D2: -0.43246638774871826]\n",
      "[Epoch 113/200]\n",
      "Losses: [GE1: -4.230197906494141, GE2: -0.765110433101654] [D1: -2.1848907470703125, D2: -0.3784624934196472]\n",
      "[Epoch 113/200]\n",
      "Losses: [GE1: -4.971635341644287, GE2: -0.31112140417099] [D1: -2.710505962371826, D2: -0.4137572646141052]\n"
     ]
    },
    {
     "name": "stderr",
     "output_type": "stream",
     "text": [
      " 57%|██████████████████▊              | 114/200 [54:03<40:47, 28.45s/it]"
     ]
    },
    {
     "name": "stdout",
     "output_type": "stream",
     "text": [
      "[Epoch 114/200]\n",
      "Losses: [GE1: -4.320895671844482, GE2: -0.41451337933540344] [D1: -3.090864896774292, D2: -0.3704495429992676]\n",
      "[Epoch 114/200]\n",
      "Losses: [GE1: -4.845390796661377, GE2: -0.5933696031570435] [D1: -3.0712766647338867, D2: -0.35998064279556274]\n",
      "[Epoch 114/200]\n",
      "Losses: [GE1: -4.807510852813721, GE2: -0.31248652935028076] [D1: -4.020047187805176, D2: -0.3868406116962433]\n",
      "[Epoch 114/200]\n",
      "Losses: [GE1: -4.557031631469727, GE2: -0.6763828992843628] [D1: -3.004429340362549, D2: -0.3583095371723175]\n",
      "[Epoch 114/200]\n",
      "Losses: [GE1: -4.347299575805664, GE2: -0.5738015174865723] [D1: -2.7385873794555664, D2: -0.4227081835269928]\n",
      "[Epoch 114/200]\n",
      "Losses: [GE1: -4.245150089263916, GE2: -0.5577641725540161] [D1: -1.7942543029785156, D2: -0.36210572719573975]\n",
      "[Epoch 114/200]\n",
      "Losses: [GE1: -3.969085931777954, GE2: -0.7877609133720398] [D1: -2.018064022064209, D2: -0.39499568939208984]\n",
      "[Epoch 114/200]\n",
      "Losses: [GE1: -4.045200824737549, GE2: -0.9960119724273682] [D1: -2.189558744430542, D2: -0.39027440547943115]\n",
      "[Epoch 114/200]\n",
      "Losses: [GE1: -5.135687828063965, GE2: -0.9896243810653687] [D1: -2.404444694519043, D2: -0.3855860233306885]\n",
      "[Epoch 114/200]\n",
      "Losses: [GE1: -4.880035877227783, GE2: -0.30945733189582825] [D1: -1.9093207120895386, D2: -0.4207752048969269]\n"
     ]
    },
    {
     "name": "stderr",
     "output_type": "stream",
     "text": [
      " 57%|██████████████████▉              | 115/200 [54:32<40:18, 28.46s/it]"
     ]
    },
    {
     "name": "stdout",
     "output_type": "stream",
     "text": [
      "[Epoch 115/200]\n",
      "Losses: [GE1: -4.930811405181885, GE2: -0.5989782214164734] [D1: -2.008171796798706, D2: -0.38995811343193054]\n",
      "[Epoch 115/200]\n",
      "Losses: [GE1: -4.162485122680664, GE2: -0.593982994556427] [D1: -1.5650482177734375, D2: -0.36996692419052124]\n",
      "[Epoch 115/200]\n",
      "Losses: [GE1: -4.705881595611572, GE2: -0.638923704624176] [D1: -1.5076615810394287, D2: -0.36833056807518005]\n",
      "[Epoch 115/200]\n",
      "Losses: [GE1: -4.46845817565918, GE2: -0.5017669796943665] [D1: -2.966464042663574, D2: -0.2930968105792999]\n",
      "[Epoch 115/200]\n",
      "Losses: [GE1: -4.218587875366211, GE2: -0.746978223323822] [D1: -2.0971810817718506, D2: -0.2883427143096924]\n",
      "[Epoch 115/200]\n",
      "Losses: [GE1: -3.567246437072754, GE2: -0.49758997559547424] [D1: -1.6483335494995117, D2: -0.2718953490257263]\n",
      "[Epoch 115/200]\n",
      "Losses: [GE1: -3.697474718093872, GE2: -0.743927538394928] [D1: -2.1118829250335693, D2: -0.34710830450057983]\n",
      "[Epoch 115/200]\n",
      "Losses: [GE1: -4.49390983581543, GE2: -0.4097957909107208] [D1: -2.0005040168762207, D2: -0.3291252851486206]\n",
      "[Epoch 115/200]\n",
      "Losses: [GE1: -4.000503063201904, GE2: -0.6139876842498779] [D1: -1.8113127946853638, D2: -0.26360535621643066]\n",
      "[Epoch 115/200]\n",
      "Losses: [GE1: -4.134437561035156, GE2: -0.48639529943466187] [D1: -2.0525450706481934, D2: -0.3443426191806793]\n"
     ]
    },
    {
     "name": "stderr",
     "output_type": "stream",
     "text": [
      " 58%|███████████████████▏             | 116/200 [55:00<39:50, 28.45s/it]"
     ]
    },
    {
     "name": "stdout",
     "output_type": "stream",
     "text": [
      "[Epoch 116/200]\n",
      "Losses: [GE1: -5.2357025146484375, GE2: -0.4107561409473419] [D1: -1.489275574684143, D2: -0.3554545044898987]\n",
      "[Epoch 116/200]\n",
      "Losses: [GE1: -4.871024131774902, GE2: -0.5325726866722107] [D1: -3.003251552581787, D2: -0.24983930587768555]\n",
      "[Epoch 116/200]\n",
      "Losses: [GE1: -4.940645217895508, GE2: -0.46936091780662537] [D1: -2.2948479652404785, D2: -0.3370932638645172]\n",
      "[Epoch 116/200]\n",
      "Losses: [GE1: -3.7124533653259277, GE2: -0.4372648596763611] [D1: -3.5612893104553223, D2: -0.3852335214614868]\n",
      "[Epoch 116/200]\n",
      "Losses: [GE1: -4.7841315269470215, GE2: -0.8775466680526733] [D1: -2.9456400871276855, D2: -0.359419047832489]\n",
      "[Epoch 116/200]\n",
      "Losses: [GE1: -4.829720497131348, GE2: -0.2976779341697693] [D1: -2.124734878540039, D2: -0.31978586316108704]\n",
      "[Epoch 116/200]\n",
      "Losses: [GE1: -4.4746928215026855, GE2: -0.5995408296585083] [D1: -3.0530612468719482, D2: -0.394745409488678]\n",
      "[Epoch 116/200]\n",
      "Losses: [GE1: -4.572337627410889, GE2: -0.2685058116912842] [D1: -2.9377424716949463, D2: -0.32811933755874634]\n",
      "[Epoch 116/200]\n",
      "Losses: [GE1: -4.172948837280273, GE2: -0.6557403206825256] [D1: -3.1093411445617676, D2: -0.3754631280899048]\n",
      "[Epoch 116/200]\n",
      "Losses: [GE1: -4.261584281921387, GE2: -0.20185381174087524] [D1: -1.352852702140808, D2: -0.37728750705718994]\n"
     ]
    },
    {
     "name": "stderr",
     "output_type": "stream",
     "text": [
      " 58%|███████████████████▎             | 117/200 [55:29<39:21, 28.45s/it]"
     ]
    },
    {
     "name": "stdout",
     "output_type": "stream",
     "text": [
      "[Epoch 117/200]\n",
      "Losses: [GE1: -4.270381927490234, GE2: -0.11950910091400146] [D1: -2.138828992843628, D2: -0.42407071590423584]\n",
      "[Epoch 117/200]\n",
      "Losses: [GE1: -4.753896713256836, GE2: -0.6508060097694397] [D1: -1.4720948934555054, D2: -0.38780102133750916]\n",
      "[Epoch 117/200]\n",
      "Losses: [GE1: -4.312167167663574, GE2: -0.4793483316898346] [D1: -2.441885232925415, D2: -0.2999320328235626]\n",
      "[Epoch 117/200]\n",
      "Losses: [GE1: -4.2482733726501465, GE2: -0.5977672934532166] [D1: -2.381030559539795, D2: -0.33279144763946533]\n",
      "[Epoch 117/200]\n",
      "Losses: [GE1: -4.744138240814209, GE2: -0.6485239863395691] [D1: -3.0606071949005127, D2: -0.3447377681732178]\n",
      "[Epoch 117/200]\n",
      "Losses: [GE1: -4.31810998916626, GE2: -0.6920878291130066] [D1: -2.795752763748169, D2: -0.45098453760147095]\n",
      "[Epoch 117/200]\n",
      "Losses: [GE1: -4.290449142456055, GE2: -0.6857098937034607] [D1: -2.655712366104126, D2: -0.4082968831062317]\n",
      "[Epoch 117/200]\n",
      "Losses: [GE1: -4.266786098480225, GE2: -0.48295506834983826] [D1: -1.7141635417938232, D2: -0.5129444599151611]\n",
      "[Epoch 117/200]\n",
      "Losses: [GE1: -4.177486896514893, GE2: -0.4972675144672394] [D1: -2.3835811614990234, D2: -0.466214656829834]\n",
      "[Epoch 117/200]\n",
      "Losses: [GE1: -3.462132453918457, GE2: -0.587461531162262] [D1: -3.5683231353759766, D2: -0.314542293548584]\n"
     ]
    },
    {
     "name": "stderr",
     "output_type": "stream",
     "text": [
      " 59%|███████████████████▍             | 118/200 [55:57<38:53, 28.45s/it]"
     ]
    },
    {
     "name": "stdout",
     "output_type": "stream",
     "text": [
      "[Epoch 118/200]\n",
      "Losses: [GE1: -3.650573968887329, GE2: -0.6567989587783813] [D1: -1.3606035709381104, D2: -0.34660273790359497]\n",
      "[Epoch 118/200]\n",
      "Losses: [GE1: -4.230998992919922, GE2: -0.613017737865448] [D1: -2.5453391075134277, D2: -0.41494110226631165]\n",
      "[Epoch 118/200]\n",
      "Losses: [GE1: -4.780313968658447, GE2: -0.6699972152709961] [D1: -1.8474276065826416, D2: -0.3680301606655121]\n",
      "[Epoch 118/200]\n",
      "Losses: [GE1: -3.6305580139160156, GE2: -0.4940060079097748] [D1: -2.6222033500671387, D2: -0.3346749246120453]\n",
      "[Epoch 118/200]\n",
      "Losses: [GE1: -4.154685974121094, GE2: -0.4403409957885742] [D1: -2.9695487022399902, D2: -0.40615028142929077]\n",
      "[Epoch 118/200]\n",
      "Losses: [GE1: -4.768707275390625, GE2: -0.6871079802513123] [D1: -2.852017641067505, D2: -0.44537270069122314]\n",
      "[Epoch 118/200]\n",
      "Losses: [GE1: -4.019093990325928, GE2: -0.6006930470466614] [D1: -2.8332839012145996, D2: -0.3739776313304901]\n",
      "[Epoch 118/200]\n",
      "Losses: [GE1: -4.930990219116211, GE2: -0.6314219236373901] [D1: -2.095595359802246, D2: -0.3471200466156006]\n",
      "[Epoch 118/200]\n",
      "Losses: [GE1: -4.9714579582214355, GE2: -0.7471833825111389] [D1: -2.6635518074035645, D2: -0.37704622745513916]\n",
      "[Epoch 118/200]\n",
      "Losses: [GE1: -4.5923027992248535, GE2: -0.31749048829078674] [D1: -2.1366007328033447, D2: -0.43793991208076477]\n"
     ]
    },
    {
     "name": "stderr",
     "output_type": "stream",
     "text": [
      " 60%|███████████████████▋             | 119/200 [56:25<38:24, 28.45s/it]"
     ]
    },
    {
     "name": "stdout",
     "output_type": "stream",
     "text": [
      "[Epoch 119/200]\n",
      "Losses: [GE1: -4.125455379486084, GE2: -0.4275291860103607] [D1: -2.430560827255249, D2: -0.3221690058708191]\n",
      "[Epoch 119/200]\n",
      "Losses: [GE1: -4.333102703094482, GE2: -0.37612098455429077] [D1: -4.275826454162598, D2: -0.3329506516456604]\n",
      "[Epoch 119/200]\n",
      "Losses: [GE1: -4.436397075653076, GE2: -0.5178467631340027] [D1: -2.5908308029174805, D2: -0.3334601819515228]\n",
      "[Epoch 119/200]\n",
      "Losses: [GE1: -5.2225661277771, GE2: -0.583306074142456] [D1: -2.1916091442108154, D2: -0.3326976001262665]\n",
      "[Epoch 119/200]\n",
      "Losses: [GE1: -4.329487323760986, GE2: -0.8064227104187012] [D1: -2.977625846862793, D2: -0.35706382989883423]\n",
      "[Epoch 119/200]\n",
      "Losses: [GE1: -4.609625816345215, GE2: -0.8372714519500732] [D1: -1.6579185724258423, D2: -0.2992110848426819]\n",
      "[Epoch 119/200]\n",
      "Losses: [GE1: -4.341361999511719, GE2: -0.7830395102500916] [D1: -1.5000795125961304, D2: -0.31988170742988586]\n",
      "[Epoch 119/200]\n",
      "Losses: [GE1: -3.598568916320801, GE2: -0.30261358618736267] [D1: -1.7541162967681885, D2: -0.42292651534080505]\n",
      "[Epoch 119/200]\n",
      "Losses: [GE1: -5.204265594482422, GE2: -0.3405454754829407] [D1: -2.7963035106658936, D2: -0.4137788712978363]\n",
      "[Epoch 119/200]\n",
      "Losses: [GE1: -4.884283065795898, GE2: -0.4411677122116089] [D1: -3.0904181003570557, D2: -0.4712423086166382]\n"
     ]
    },
    {
     "name": "stderr",
     "output_type": "stream",
     "text": [
      " 60%|███████████████████▊             | 120/200 [56:54<37:56, 28.45s/it]"
     ]
    },
    {
     "name": "stdout",
     "output_type": "stream",
     "text": [
      "[Epoch 120/200]\n",
      "Losses: [GE1: -4.896388530731201, GE2: -0.8305981755256653] [D1: -1.9672083854675293, D2: -0.2624503970146179]\n",
      "[Epoch 120/200]\n",
      "Losses: [GE1: -4.750908851623535, GE2: -0.6742920875549316] [D1: -3.1155107021331787, D2: -0.35267603397369385]\n",
      "[Epoch 120/200]\n",
      "Losses: [GE1: -4.615368366241455, GE2: -0.737369954586029] [D1: -2.986288547515869, D2: -0.3251340687274933]\n",
      "[Epoch 120/200]\n",
      "Losses: [GE1: -4.945260524749756, GE2: -0.5963106751441956] [D1: -1.6450471878051758, D2: -0.37718015909194946]\n",
      "[Epoch 120/200]\n",
      "Losses: [GE1: -3.792020797729492, GE2: -0.2180410772562027] [D1: -2.185426712036133, D2: -0.42128175497055054]\n",
      "[Epoch 120/200]\n",
      "Losses: [GE1: -4.130613803863525, GE2: -0.6374244093894958] [D1: -1.9664682149887085, D2: -0.3316074013710022]\n",
      "[Epoch 120/200]\n",
      "Losses: [GE1: -4.3572163581848145, GE2: -0.7987889051437378] [D1: -1.9506340026855469, D2: -0.3320660889148712]\n",
      "[Epoch 120/200]\n",
      "Losses: [GE1: -5.193195819854736, GE2: -0.6001951098442078] [D1: -2.5822482109069824, D2: -0.30376797914505005]\n",
      "[Epoch 120/200]\n",
      "Losses: [GE1: -4.6991448402404785, GE2: -0.6544802188873291] [D1: -3.0923893451690674, D2: -0.3264826834201813]\n",
      "[Epoch 120/200]\n",
      "Losses: [GE1: -4.7059502601623535, GE2: -0.7055632472038269] [D1: -4.135647296905518, D2: -0.3226282298564911]\n"
     ]
    },
    {
     "name": "stderr",
     "output_type": "stream",
     "text": [
      " 60%|███████████████████▉             | 121/200 [57:22<37:27, 28.45s/it]"
     ]
    },
    {
     "name": "stdout",
     "output_type": "stream",
     "text": [
      "[Epoch 121/200]\n",
      "Losses: [GE1: -4.761160850524902, GE2: -0.950157880783081] [D1: -2.319108009338379, D2: -0.35344257950782776]\n",
      "[Epoch 121/200]\n",
      "Losses: [GE1: -5.262847423553467, GE2: -0.46185535192489624] [D1: -1.2092832326889038, D2: -0.4499538242816925]\n",
      "[Epoch 121/200]\n",
      "Losses: [GE1: -4.55723762512207, GE2: -0.6267173886299133] [D1: -2.339604139328003, D2: -0.4373686909675598]\n",
      "[Epoch 121/200]\n",
      "Losses: [GE1: -3.5457100868225098, GE2: -0.6352477073669434] [D1: -2.323629856109619, D2: -0.28000035881996155]\n",
      "[Epoch 121/200]\n",
      "Losses: [GE1: -4.847650527954102, GE2: -0.9669113159179688] [D1: -2.4025096893310547, D2: -0.3583123981952667]\n",
      "[Epoch 121/200]\n",
      "Losses: [GE1: -4.16058349609375, GE2: -0.6396640539169312] [D1: -2.609766960144043, D2: -0.321615070104599]\n",
      "[Epoch 121/200]\n",
      "Losses: [GE1: -4.631568908691406, GE2: -0.7308393120765686] [D1: -2.6600327491760254, D2: -0.3218110203742981]\n",
      "[Epoch 121/200]\n",
      "Losses: [GE1: -5.189383506774902, GE2: -0.9130872488021851] [D1: -1.660686731338501, D2: -0.35135418176651]\n",
      "[Epoch 121/200]\n",
      "Losses: [GE1: -4.31746768951416, GE2: -0.6246359348297119] [D1: -3.1212635040283203, D2: -0.28808072209358215]\n",
      "[Epoch 121/200]\n",
      "Losses: [GE1: -5.229827880859375, GE2: -0.8821495175361633] [D1: -1.633033037185669, D2: -0.3277202844619751]\n"
     ]
    },
    {
     "name": "stderr",
     "output_type": "stream",
     "text": [
      " 61%|████████████████████▏            | 122/200 [57:51<36:59, 28.45s/it]"
     ]
    },
    {
     "name": "stdout",
     "output_type": "stream",
     "text": [
      "[Epoch 122/200]\n",
      "Losses: [GE1: -4.223095417022705, GE2: -0.5279778838157654] [D1: -2.788867235183716, D2: -0.369566947221756]\n",
      "[Epoch 122/200]\n",
      "Losses: [GE1: -3.6943602561950684, GE2: -0.36525195837020874] [D1: -2.009132146835327, D2: -0.3941650390625]\n",
      "[Epoch 122/200]\n",
      "Losses: [GE1: -3.9894886016845703, GE2: -0.6818987131118774] [D1: -1.9415475130081177, D2: -0.3826436996459961]\n",
      "[Epoch 122/200]\n",
      "Losses: [GE1: -4.591248989105225, GE2: -0.7620067596435547] [D1: -3.082089900970459, D2: -0.29490306973457336]\n",
      "[Epoch 122/200]\n",
      "Losses: [GE1: -4.719086170196533, GE2: -0.9374340176582336] [D1: -2.5578246116638184, D2: -0.3444116413593292]\n",
      "[Epoch 122/200]\n",
      "Losses: [GE1: -3.9873383045196533, GE2: -0.8524956703186035] [D1: -3.305896759033203, D2: -0.43504154682159424]\n",
      "[Epoch 122/200]\n",
      "Losses: [GE1: -4.262480735778809, GE2: -0.7854307293891907] [D1: -3.2624106407165527, D2: -0.3887450397014618]\n",
      "[Epoch 122/200]\n",
      "Losses: [GE1: -4.925823211669922, GE2: -0.36082667112350464] [D1: -2.1701767444610596, D2: -0.387798011302948]\n",
      "[Epoch 122/200]\n",
      "Losses: [GE1: -4.525540828704834, GE2: -0.6256899833679199] [D1: -1.734344244003296, D2: -0.351893812417984]\n",
      "[Epoch 122/200]\n",
      "Losses: [GE1: -4.47914981842041, GE2: -0.6858999133110046] [D1: -2.734234571456909, D2: -0.4519259035587311]\n"
     ]
    },
    {
     "name": "stderr",
     "output_type": "stream",
     "text": [
      " 62%|████████████████████▎            | 123/200 [58:19<36:30, 28.45s/it]"
     ]
    },
    {
     "name": "stdout",
     "output_type": "stream",
     "text": [
      "[Epoch 123/200]\n",
      "Losses: [GE1: -4.267621994018555, GE2: -0.8575358986854553] [D1: -2.719168186187744, D2: -0.4154941439628601]\n",
      "[Epoch 123/200]\n",
      "Losses: [GE1: -3.759010076522827, GE2: -0.6345379948616028] [D1: -1.6979730129241943, D2: -0.3871234953403473]\n",
      "[Epoch 123/200]\n",
      "Losses: [GE1: -4.008953094482422, GE2: -0.5936263203620911] [D1: -2.6200296878814697, D2: -0.3472653925418854]\n",
      "[Epoch 123/200]\n",
      "Losses: [GE1: -5.083043575286865, GE2: -0.6592881083488464] [D1: -1.8053271770477295, D2: -0.34916412830352783]\n",
      "[Epoch 123/200]\n",
      "Losses: [GE1: -3.8997294902801514, GE2: -0.666450560092926] [D1: -2.5706825256347656, D2: -0.3699495494365692]\n",
      "[Epoch 123/200]\n",
      "Losses: [GE1: -4.269157886505127, GE2: -0.6174729466438293] [D1: -2.338627338409424, D2: -0.39020484685897827]\n",
      "[Epoch 123/200]\n",
      "Losses: [GE1: -4.354042053222656, GE2: -0.8348587155342102] [D1: -2.00260066986084, D2: -0.2820991277694702]\n",
      "[Epoch 123/200]\n",
      "Losses: [GE1: -4.517961025238037, GE2: -0.4850887954235077] [D1: -3.0394186973571777, D2: -0.37173959612846375]\n",
      "[Epoch 123/200]\n",
      "Losses: [GE1: -4.244690418243408, GE2: -0.358889639377594] [D1: -1.9440455436706543, D2: -0.4639972746372223]\n",
      "[Epoch 123/200]\n",
      "Losses: [GE1: -4.3691253662109375, GE2: -0.6748577356338501] [D1: -1.9217908382415771, D2: -0.3378588557243347]\n"
     ]
    },
    {
     "name": "stderr",
     "output_type": "stream",
     "text": [
      " 62%|████████████████████▍            | 124/200 [58:48<36:02, 28.45s/it]"
     ]
    },
    {
     "name": "stdout",
     "output_type": "stream",
     "text": [
      "[Epoch 124/200]\n",
      "Losses: [GE1: -4.709976673126221, GE2: -0.7283890843391418] [D1: -1.0782190561294556, D2: -0.31782791018486023]\n",
      "[Epoch 124/200]\n",
      "Losses: [GE1: -4.007009506225586, GE2: -0.5929262638092041] [D1: -2.750868082046509, D2: -0.36965858936309814]\n",
      "[Epoch 124/200]\n",
      "Losses: [GE1: -4.14031457901001, GE2: -0.6251192092895508] [D1: -1.509597897529602, D2: -0.32835376262664795]\n",
      "[Epoch 124/200]\n",
      "Losses: [GE1: -4.163040637969971, GE2: -0.6294482946395874] [D1: -1.9643268585205078, D2: -0.42264991998672485]\n",
      "[Epoch 124/200]\n",
      "Losses: [GE1: -4.086465358734131, GE2: -0.26829993724823] [D1: -2.8479373455047607, D2: -0.41553017497062683]\n",
      "[Epoch 124/200]\n",
      "Losses: [GE1: -4.618496894836426, GE2: -0.934787929058075] [D1: -2.664283275604248, D2: -0.45153573155403137]\n",
      "[Epoch 124/200]\n",
      "Losses: [GE1: -4.643519401550293, GE2: -1.2683862447738647] [D1: -3.6103954315185547, D2: -0.38382235169410706]\n",
      "[Epoch 124/200]\n",
      "Losses: [GE1: -4.451826572418213, GE2: -0.47246289253234863] [D1: -2.430068016052246, D2: -0.335234671831131]\n",
      "[Epoch 124/200]\n",
      "Losses: [GE1: -3.3841493129730225, GE2: -0.7753965258598328] [D1: -2.4207584857940674, D2: -0.31041640043258667]\n",
      "[Epoch 124/200]\n",
      "Losses: [GE1: -4.6187424659729, GE2: -0.6604140996932983] [D1: -3.0936126708984375, D2: -0.44020727276802063]\n"
     ]
    },
    {
     "name": "stderr",
     "output_type": "stream",
     "text": [
      " 62%|████████████████████▋            | 125/200 [59:16<35:33, 28.45s/it]"
     ]
    },
    {
     "name": "stdout",
     "output_type": "stream",
     "text": [
      "[Epoch 125/200]\n",
      "Losses: [GE1: -4.2209391593933105, GE2: -0.670899510383606] [D1: -2.895456552505493, D2: -0.4341707229614258]\n",
      "[Epoch 125/200]\n",
      "Losses: [GE1: -4.667821884155273, GE2: -0.8914128541946411] [D1: -1.789480209350586, D2: -0.3886479139328003]\n",
      "[Epoch 125/200]\n",
      "Losses: [GE1: -4.308621883392334, GE2: -0.7378058433532715] [D1: -2.8336315155029297, D2: -0.28595659136772156]\n",
      "[Epoch 125/200]\n",
      "Losses: [GE1: -4.722624778747559, GE2: -0.1911042332649231] [D1: -4.040131568908691, D2: -0.3034367859363556]\n",
      "[Epoch 125/200]\n",
      "Losses: [GE1: -4.24704122543335, GE2: -1.0137168169021606] [D1: -3.2952237129211426, D2: -0.3766881227493286]\n",
      "[Epoch 125/200]\n",
      "Losses: [GE1: -3.648031234741211, GE2: -0.3459073305130005] [D1: -3.1762638092041016, D2: -0.38362234830856323]\n",
      "[Epoch 125/200]\n",
      "Losses: [GE1: -4.144535064697266, GE2: -0.6974341869354248] [D1: -1.6060789823532104, D2: -0.3676984906196594]\n",
      "[Epoch 125/200]\n",
      "Losses: [GE1: -4.774046421051025, GE2: -0.6612034440040588] [D1: -1.9152954816818237, D2: -0.45162275433540344]\n",
      "[Epoch 125/200]\n",
      "Losses: [GE1: -4.49570894241333, GE2: -0.8457694053649902] [D1: -2.6580450534820557, D2: -0.4925881028175354]\n",
      "[Epoch 125/200]\n",
      "Losses: [GE1: -4.247887134552002, GE2: -0.9057582020759583] [D1: -2.3258538246154785, D2: -0.3557170331478119]\n"
     ]
    },
    {
     "name": "stderr",
     "output_type": "stream",
     "text": [
      " 63%|████████████████████▊            | 126/200 [59:44<35:05, 28.45s/it]"
     ]
    },
    {
     "name": "stdout",
     "output_type": "stream",
     "text": [
      "[Epoch 126/200]\n",
      "Losses: [GE1: -3.9906327724456787, GE2: -1.0464768409729004] [D1: -2.085738182067871, D2: -0.43429645895957947]\n",
      "[Epoch 126/200]\n",
      "Losses: [GE1: -4.241169452667236, GE2: -0.5752828121185303] [D1: -2.265263557434082, D2: -0.40529462695121765]\n",
      "[Epoch 126/200]\n",
      "Losses: [GE1: -3.7387542724609375, GE2: -0.8336930871009827] [D1: -3.294161796569824, D2: -0.3192828297615051]\n",
      "[Epoch 126/200]\n",
      "Losses: [GE1: -3.446129322052002, GE2: -0.7438199520111084] [D1: -2.267650604248047, D2: -0.4473911225795746]\n",
      "[Epoch 126/200]\n",
      "Losses: [GE1: -5.097437858581543, GE2: -0.9596949219703674] [D1: -2.101778984069824, D2: -0.37897413969039917]\n",
      "[Epoch 126/200]\n",
      "Losses: [GE1: -5.1276655197143555, GE2: -0.3188552260398865] [D1: -2.597979784011841, D2: -0.31404101848602295]\n",
      "[Epoch 126/200]\n",
      "Losses: [GE1: -4.718838214874268, GE2: -0.6655364632606506] [D1: -1.0967624187469482, D2: -0.3633003532886505]\n",
      "[Epoch 126/200]\n",
      "Losses: [GE1: -4.696323394775391, GE2: -0.922593355178833] [D1: -1.7539445161819458, D2: -0.29394108057022095]\n",
      "[Epoch 126/200]\n",
      "Losses: [GE1: -4.304199695587158, GE2: -0.7568534016609192] [D1: -1.212651014328003, D2: -0.3534475564956665]\n",
      "[Epoch 126/200]\n",
      "Losses: [GE1: -4.777708053588867, GE2: -0.7037206888198853] [D1: -2.3982162475585938, D2: -0.3760593831539154]\n"
     ]
    },
    {
     "name": "stderr",
     "output_type": "stream",
     "text": [
      " 64%|███████████████████▋           | 127/200 [1:00:13<34:36, 28.45s/it]"
     ]
    },
    {
     "name": "stdout",
     "output_type": "stream",
     "text": [
      "[Epoch 127/200]\n",
      "Losses: [GE1: -4.820122241973877, GE2: -0.43995529413223267] [D1: -3.2088475227355957, D2: -0.40930747985839844]\n",
      "[Epoch 127/200]\n",
      "Losses: [GE1: -3.8139915466308594, GE2: -0.396254301071167] [D1: -0.9859163761138916, D2: -0.39214375615119934]\n",
      "[Epoch 127/200]\n",
      "Losses: [GE1: -4.3079328536987305, GE2: -0.36106425523757935] [D1: -3.5167765617370605, D2: -0.3594928979873657]\n",
      "[Epoch 127/200]\n",
      "Losses: [GE1: -3.864262342453003, GE2: -0.7206173539161682] [D1: -3.1272945404052734, D2: -0.3046407997608185]\n",
      "[Epoch 127/200]\n",
      "Losses: [GE1: -4.754245281219482, GE2: -0.9906745553016663] [D1: -2.284310817718506, D2: -0.394756942987442]\n",
      "[Epoch 127/200]\n",
      "Losses: [GE1: -4.105569362640381, GE2: -1.2638421058654785] [D1: -2.776373863220215, D2: -0.4378015100955963]\n",
      "[Epoch 127/200]\n",
      "Losses: [GE1: -3.9258992671966553, GE2: -0.6191350817680359] [D1: -1.307556390762329, D2: -0.40134483575820923]\n",
      "[Epoch 127/200]\n",
      "Losses: [GE1: -4.53476619720459, GE2: -0.13647669553756714] [D1: -2.1035094261169434, D2: -0.46903717517852783]\n",
      "[Epoch 127/200]\n",
      "Losses: [GE1: -4.362114429473877, GE2: -0.8097881078720093] [D1: -2.329847812652588, D2: -0.4045037031173706]\n",
      "[Epoch 127/200]\n",
      "Losses: [GE1: -4.48930549621582, GE2: -0.6186214685440063] [D1: -2.0059590339660645, D2: -0.3243756890296936]\n"
     ]
    },
    {
     "name": "stderr",
     "output_type": "stream",
     "text": [
      " 64%|███████████████████▊           | 128/200 [1:00:41<34:08, 28.45s/it]"
     ]
    },
    {
     "name": "stdout",
     "output_type": "stream",
     "text": [
      "[Epoch 128/200]\n",
      "Losses: [GE1: -3.9350223541259766, GE2: -0.6234662532806396] [D1: -3.289447784423828, D2: -0.4012121856212616]\n",
      "[Epoch 128/200]\n",
      "Losses: [GE1: -4.520567893981934, GE2: -0.702029824256897] [D1: -1.740424394607544, D2: -0.3576565682888031]\n",
      "[Epoch 128/200]\n",
      "Losses: [GE1: -4.379432201385498, GE2: -0.895208477973938] [D1: -1.575294017791748, D2: -0.4203687310218811]\n",
      "[Epoch 128/200]\n",
      "Losses: [GE1: -4.089117527008057, GE2: -0.5029347538948059] [D1: -3.3944790363311768, D2: -0.38346293568611145]\n",
      "[Epoch 128/200]\n",
      "Losses: [GE1: -4.397006511688232, GE2: -0.6422837972640991] [D1: -1.4880099296569824, D2: -0.4368041157722473]\n",
      "[Epoch 128/200]\n",
      "Losses: [GE1: -3.9902970790863037, GE2: -0.6622573137283325] [D1: -2.4273767471313477, D2: -0.364139199256897]\n",
      "[Epoch 128/200]\n",
      "Losses: [GE1: -3.8423993587493896, GE2: -0.5617515444755554] [D1: -2.3529672622680664, D2: -0.45098069310188293]\n",
      "[Epoch 128/200]\n",
      "Losses: [GE1: -4.667031288146973, GE2: -0.6978664398193359] [D1: -2.9752607345581055, D2: -0.37043026089668274]\n",
      "[Epoch 128/200]\n",
      "Losses: [GE1: -3.4284770488739014, GE2: -0.9092451930046082] [D1: -2.3939428329467773, D2: -0.4091300666332245]\n",
      "[Epoch 128/200]\n",
      "Losses: [GE1: -3.8755149841308594, GE2: -0.7845295071601868] [D1: -2.834085702896118, D2: -0.4959526062011719]\n"
     ]
    },
    {
     "name": "stderr",
     "output_type": "stream",
     "text": [
      " 64%|███████████████████▉           | 129/200 [1:01:10<33:39, 28.45s/it]"
     ]
    },
    {
     "name": "stdout",
     "output_type": "stream",
     "text": [
      "[Epoch 129/200]\n",
      "Losses: [GE1: -3.44633150100708, GE2: -0.6451261043548584] [D1: -1.0233423709869385, D2: -0.3907426595687866]\n",
      "[Epoch 129/200]\n",
      "Losses: [GE1: -4.397993087768555, GE2: -0.6997311115264893] [D1: -3.8402717113494873, D2: -0.376661092042923]\n",
      "[Epoch 129/200]\n",
      "Losses: [GE1: -3.9407503604888916, GE2: -0.4520379900932312] [D1: -1.8929725885391235, D2: -0.3415887951850891]\n",
      "[Epoch 129/200]\n",
      "Losses: [GE1: -4.641363620758057, GE2: -0.6263527870178223] [D1: -3.927931785583496, D2: -0.36132052540779114]\n",
      "[Epoch 129/200]\n",
      "Losses: [GE1: -4.503904819488525, GE2: -0.8151989579200745] [D1: -2.7500414848327637, D2: -0.4324133098125458]\n",
      "[Epoch 129/200]\n",
      "Losses: [GE1: -4.049918174743652, GE2: -0.7510931491851807] [D1: -3.527082920074463, D2: -0.30396002531051636]\n",
      "[Epoch 129/200]\n",
      "Losses: [GE1: -4.394951343536377, GE2: -0.9431284666061401] [D1: -3.1864607334136963, D2: -0.35041067004203796]\n",
      "[Epoch 129/200]\n",
      "Losses: [GE1: -4.380600452423096, GE2: -1.1054221391677856] [D1: -4.689332962036133, D2: -0.3219957947731018]\n",
      "[Epoch 129/200]\n",
      "Losses: [GE1: -4.324767589569092, GE2: -0.9792228937149048] [D1: -1.931355595588684, D2: -0.3399406373500824]\n",
      "[Epoch 129/200]\n",
      "Losses: [GE1: -3.4525978565216064, GE2: -0.2968237102031708] [D1: -2.1266677379608154, D2: -0.37771618366241455]\n"
     ]
    },
    {
     "name": "stderr",
     "output_type": "stream",
     "text": [
      " 65%|████████████████████▏          | 130/200 [1:01:38<33:11, 28.45s/it]"
     ]
    },
    {
     "name": "stdout",
     "output_type": "stream",
     "text": [
      "[Epoch 130/200]\n",
      "Losses: [GE1: -4.7204389572143555, GE2: -0.447773814201355] [D1: -1.338245153427124, D2: -0.39786309003829956]\n",
      "[Epoch 130/200]\n",
      "Losses: [GE1: -4.665278434753418, GE2: -0.756644070148468] [D1: -2.478726387023926, D2: -0.44428566098213196]\n",
      "[Epoch 130/200]\n",
      "Losses: [GE1: -4.491390705108643, GE2: -0.2127150595188141] [D1: -1.454329013824463, D2: -0.4204382300376892]\n",
      "[Epoch 130/200]\n",
      "Losses: [GE1: -3.9097635746002197, GE2: -0.4389267861843109] [D1: -2.632678985595703, D2: -0.3776909112930298]\n",
      "[Epoch 130/200]\n",
      "Losses: [GE1: -3.7932112216949463, GE2: -0.7915261387825012] [D1: -2.2952184677124023, D2: -0.4548934996128082]\n",
      "[Epoch 130/200]\n",
      "Losses: [GE1: -3.894307851791382, GE2: -0.7998096942901611] [D1: -2.5489890575408936, D2: -0.3802330791950226]\n",
      "[Epoch 130/200]\n",
      "Losses: [GE1: -4.149538993835449, GE2: -0.9085522890090942] [D1: -2.6941020488739014, D2: -0.45778775215148926]\n",
      "[Epoch 130/200]\n",
      "Losses: [GE1: -4.205692291259766, GE2: -0.8738869428634644] [D1: -2.9257493019104004, D2: -0.36772844195365906]\n",
      "[Epoch 130/200]\n",
      "Losses: [GE1: -4.128826141357422, GE2: -0.818153440952301] [D1: -2.3011770248413086, D2: -0.33650457859039307]\n",
      "[Epoch 130/200]\n",
      "Losses: [GE1: -3.8276288509368896, GE2: -0.8891445994377136] [D1: -1.9538816213607788, D2: -0.28613507747650146]\n"
     ]
    },
    {
     "name": "stderr",
     "output_type": "stream",
     "text": [
      " 66%|████████████████████▎          | 131/200 [1:02:06<32:43, 28.45s/it]"
     ]
    },
    {
     "name": "stdout",
     "output_type": "stream",
     "text": [
      "[Epoch 131/200]\n",
      "Losses: [GE1: -3.141261100769043, GE2: -0.6719421148300171] [D1: -2.5213992595672607, D2: -0.32725006341934204]\n",
      "[Epoch 131/200]\n",
      "Losses: [GE1: -4.427774906158447, GE2: -0.7315447926521301] [D1: -1.760867953300476, D2: -0.29001590609550476]\n",
      "[Epoch 131/200]\n",
      "Losses: [GE1: -3.98527193069458, GE2: -0.5542030334472656] [D1: -2.417996406555176, D2: -0.4280186593532562]\n",
      "[Epoch 131/200]\n",
      "Losses: [GE1: -3.7533676624298096, GE2: -0.7094671726226807] [D1: -2.282381057739258, D2: -0.4073512554168701]\n",
      "[Epoch 131/200]\n",
      "Losses: [GE1: -3.314188003540039, GE2: -0.7817884087562561] [D1: -3.1098668575286865, D2: -0.2419285923242569]\n",
      "[Epoch 131/200]\n",
      "Losses: [GE1: -4.184761047363281, GE2: -0.9111020565032959] [D1: -2.644160747528076, D2: -0.362456351518631]\n",
      "[Epoch 131/200]\n",
      "Losses: [GE1: -4.416698455810547, GE2: -0.8661636710166931] [D1: -2.4141147136688232, D2: -0.3811550736427307]\n",
      "[Epoch 131/200]\n",
      "Losses: [GE1: -4.404372215270996, GE2: -0.7996016144752502] [D1: -2.4079055786132812, D2: -0.31838592886924744]\n",
      "[Epoch 131/200]\n",
      "Losses: [GE1: -3.705789566040039, GE2: -0.2696284353733063] [D1: -3.854726791381836, D2: -0.4979740381240845]\n",
      "[Epoch 131/200]\n",
      "Losses: [GE1: -4.611737251281738, GE2: -0.61878502368927] [D1: -3.2482070922851562, D2: -0.34904178977012634]\n"
     ]
    },
    {
     "name": "stderr",
     "output_type": "stream",
     "text": [
      " 66%|████████████████████▍          | 132/200 [1:02:35<32:14, 28.45s/it]"
     ]
    },
    {
     "name": "stdout",
     "output_type": "stream",
     "text": [
      "[Epoch 132/200]\n",
      "Losses: [GE1: -3.921757936477661, GE2: -0.2651327848434448] [D1: -1.4191606044769287, D2: -0.3520034849643707]\n",
      "[Epoch 132/200]\n",
      "Losses: [GE1: -3.688767910003662, GE2: -0.5793161988258362] [D1: -3.0367848873138428, D2: -0.29876771569252014]\n",
      "[Epoch 132/200]\n",
      "Losses: [GE1: -4.8295722007751465, GE2: -0.6601272821426392] [D1: -2.068347930908203, D2: -0.39923909306526184]\n",
      "[Epoch 132/200]\n",
      "Losses: [GE1: -4.253994941711426, GE2: -0.5536159873008728] [D1: -3.1070942878723145, D2: -0.3599401116371155]\n",
      "[Epoch 132/200]\n",
      "Losses: [GE1: -4.185678482055664, GE2: -0.420857310295105] [D1: -2.0683937072753906, D2: -0.32132476568222046]\n",
      "[Epoch 132/200]\n",
      "Losses: [GE1: -3.8439078330993652, GE2: -0.7230780124664307] [D1: -1.7827976942062378, D2: -0.46385714411735535]\n",
      "[Epoch 132/200]\n",
      "Losses: [GE1: -3.089472532272339, GE2: -0.400364488363266] [D1: -1.497994065284729, D2: -0.28154781460762024]\n",
      "[Epoch 132/200]\n",
      "Losses: [GE1: -4.172245502471924, GE2: -0.7786768078804016] [D1: -2.7757418155670166, D2: -0.41153791546821594]\n",
      "[Epoch 132/200]\n",
      "Losses: [GE1: -4.046598434448242, GE2: -0.8887940645217896] [D1: -1.9616379737854004, D2: -0.34441041946411133]\n",
      "[Epoch 132/200]\n",
      "Losses: [GE1: -4.2867655754089355, GE2: -0.9467428922653198] [D1: -2.0526318550109863, D2: -0.3303315341472626]\n"
     ]
    },
    {
     "name": "stderr",
     "output_type": "stream",
     "text": [
      " 66%|████████████████████▌          | 133/200 [1:03:03<31:46, 28.45s/it]"
     ]
    },
    {
     "name": "stdout",
     "output_type": "stream",
     "text": [
      "[Epoch 133/200]\n",
      "Losses: [GE1: -3.591552257537842, GE2: -0.32981276512145996] [D1: -2.5313239097595215, D2: -0.3378826081752777]\n",
      "[Epoch 133/200]\n",
      "Losses: [GE1: -4.316648483276367, GE2: -0.6940883994102478] [D1: -2.774186372756958, D2: -0.38567259907722473]\n",
      "[Epoch 133/200]\n",
      "Losses: [GE1: -3.3536806106567383, GE2: -0.36694246530532837] [D1: -3.6783761978149414, D2: -0.3216327726840973]\n",
      "[Epoch 133/200]\n",
      "Losses: [GE1: -3.4884989261627197, GE2: -0.3414444625377655] [D1: -2.2022440433502197, D2: -0.3621980547904968]\n",
      "[Epoch 133/200]\n",
      "Losses: [GE1: -4.244847297668457, GE2: -1.1038399934768677] [D1: -2.4238123893737793, D2: -0.41496556997299194]\n",
      "[Epoch 133/200]\n",
      "Losses: [GE1: -4.465754508972168, GE2: -0.7537784576416016] [D1: -2.666210651397705, D2: -0.3618461489677429]\n",
      "[Epoch 133/200]\n",
      "Losses: [GE1: -4.18167781829834, GE2: -0.8575440049171448] [D1: -2.2953951358795166, D2: -0.4324972927570343]\n",
      "[Epoch 133/200]\n",
      "Losses: [GE1: -4.157957077026367, GE2: -0.5952420234680176] [D1: -2.8000710010528564, D2: -0.3330208659172058]\n",
      "[Epoch 133/200]\n",
      "Losses: [GE1: -3.577749252319336, GE2: -0.491372674703598] [D1: -2.2092461585998535, D2: -0.46149343252182007]\n",
      "[Epoch 133/200]\n",
      "Losses: [GE1: -3.6482136249542236, GE2: -0.9281492829322815] [D1: -1.8438260555267334, D2: -0.3380690813064575]\n"
     ]
    },
    {
     "name": "stderr",
     "output_type": "stream",
     "text": [
      " 67%|████████████████████▊          | 134/200 [1:03:32<31:17, 28.45s/it]"
     ]
    },
    {
     "name": "stdout",
     "output_type": "stream",
     "text": [
      "[Epoch 134/200]\n",
      "Losses: [GE1: -3.554525136947632, GE2: -0.5840771198272705] [D1: -2.485496997833252, D2: -0.2863074243068695]\n",
      "[Epoch 134/200]\n",
      "Losses: [GE1: -3.8921897411346436, GE2: -0.4532657265663147] [D1: -2.4057273864746094, D2: -0.36729612946510315]\n",
      "[Epoch 134/200]\n",
      "Losses: [GE1: -3.705033540725708, GE2: -0.7826783061027527] [D1: -1.9675835371017456, D2: -0.3807967007160187]\n",
      "[Epoch 134/200]\n",
      "Losses: [GE1: -3.561115026473999, GE2: -0.4497547149658203] [D1: -2.6081581115722656, D2: -0.34803685545921326]\n",
      "[Epoch 134/200]\n",
      "Losses: [GE1: -4.260370254516602, GE2: -0.508762538433075] [D1: -2.425152063369751, D2: -0.4033908247947693]\n",
      "[Epoch 134/200]\n",
      "Losses: [GE1: -3.5283634662628174, GE2: -1.0435216426849365] [D1: -2.3805904388427734, D2: -0.38507986068725586]\n",
      "[Epoch 134/200]\n",
      "Losses: [GE1: -4.749958038330078, GE2: -0.8066236972808838] [D1: -1.7231645584106445, D2: -0.4494569003582001]\n",
      "[Epoch 134/200]\n",
      "Losses: [GE1: -3.7822418212890625, GE2: -0.642909586429596] [D1: -2.2510178089141846, D2: -0.34889259934425354]\n",
      "[Epoch 134/200]\n",
      "Losses: [GE1: -4.001572608947754, GE2: -0.8690024018287659] [D1: -1.9308927059173584, D2: -0.3040609359741211]\n",
      "[Epoch 134/200]\n",
      "Losses: [GE1: -4.169297218322754, GE2: -0.4330081343650818] [D1: -2.3223628997802734, D2: -0.32629522681236267]\n"
     ]
    },
    {
     "name": "stderr",
     "output_type": "stream",
     "text": [
      " 68%|████████████████████▉          | 135/200 [1:04:00<30:49, 28.45s/it]"
     ]
    },
    {
     "name": "stdout",
     "output_type": "stream",
     "text": [
      "[Epoch 135/200]\n",
      "Losses: [GE1: -4.175034523010254, GE2: -0.7401713132858276] [D1: -1.146336317062378, D2: -0.2895113527774811]\n",
      "[Epoch 135/200]\n",
      "Losses: [GE1: -4.512035846710205, GE2: -0.6211565732955933] [D1: -2.1315248012542725, D2: -0.4116021394729614]\n",
      "[Epoch 135/200]\n",
      "Losses: [GE1: -4.326681613922119, GE2: -0.7171870470046997] [D1: -2.5398383140563965, D2: -0.42146584391593933]\n",
      "[Epoch 135/200]\n",
      "Losses: [GE1: -4.428617477416992, GE2: -0.850827693939209] [D1: -1.8278955221176147, D2: -0.36681661009788513]\n",
      "[Epoch 135/200]\n",
      "Losses: [GE1: -4.1141533851623535, GE2: -0.28657349944114685] [D1: -3.1025280952453613, D2: -0.38508859276771545]\n",
      "[Epoch 135/200]\n",
      "Losses: [GE1: -3.849863052368164, GE2: -1.0382074117660522] [D1: -2.2459628582000732, D2: -0.38469284772872925]\n",
      "[Epoch 135/200]\n",
      "Losses: [GE1: -4.1711883544921875, GE2: -0.7209792137145996] [D1: -1.7819631099700928, D2: -0.2974352240562439]\n",
      "[Epoch 135/200]\n",
      "Losses: [GE1: -3.7012879848480225, GE2: -0.7684023380279541] [D1: -2.462786912918091, D2: -0.3343081772327423]\n",
      "[Epoch 135/200]\n",
      "Losses: [GE1: -3.630108118057251, GE2: -1.0139274597167969] [D1: -2.7435290813446045, D2: -0.4278973340988159]\n",
      "[Epoch 135/200]\n",
      "Losses: [GE1: -3.3397910594940186, GE2: -0.7970978021621704] [D1: -2.539310932159424, D2: -0.39957955479621887]\n"
     ]
    },
    {
     "name": "stderr",
     "output_type": "stream",
     "text": [
      " 68%|█████████████████████          | 136/200 [1:04:28<30:20, 28.45s/it]"
     ]
    },
    {
     "name": "stdout",
     "output_type": "stream",
     "text": [
      "[Epoch 136/200]\n",
      "Losses: [GE1: -4.551967144012451, GE2: -0.8068405389785767] [D1: -1.8799078464508057, D2: -0.427690327167511]\n",
      "[Epoch 136/200]\n",
      "Losses: [GE1: -4.4593987464904785, GE2: -0.7347560524940491] [D1: -2.488656759262085, D2: -0.3450578451156616]\n",
      "[Epoch 136/200]\n",
      "Losses: [GE1: -4.782808780670166, GE2: -0.6319975852966309] [D1: -2.9394423961639404, D2: -0.27110540866851807]\n",
      "[Epoch 136/200]\n",
      "Losses: [GE1: -4.2937493324279785, GE2: -0.8071523904800415] [D1: -3.0607059001922607, D2: -0.3822007179260254]\n",
      "[Epoch 136/200]\n",
      "Losses: [GE1: -4.280168056488037, GE2: -0.8957061767578125] [D1: -1.7223665714263916, D2: -0.3767640292644501]\n",
      "[Epoch 136/200]\n",
      "Losses: [GE1: -3.5219709873199463, GE2: -0.39466592669487] [D1: -1.536570429801941, D2: -0.3567723035812378]\n",
      "[Epoch 136/200]\n",
      "Losses: [GE1: -5.188937187194824, GE2: -1.1419603824615479] [D1: -2.068533182144165, D2: -0.46545320749282837]\n",
      "[Epoch 136/200]\n",
      "Losses: [GE1: -3.8264801502227783, GE2: -0.8105044364929199] [D1: -2.246199607849121, D2: -0.3884943127632141]\n",
      "[Epoch 136/200]\n",
      "Losses: [GE1: -4.100130558013916, GE2: -0.3594796061515808] [D1: -1.3177647590637207, D2: -0.37516698241233826]\n",
      "[Epoch 136/200]\n",
      "Losses: [GE1: -4.776532173156738, GE2: -1.0097126960754395] [D1: -3.560181140899658, D2: -0.3664964735507965]\n"
     ]
    },
    {
     "name": "stderr",
     "output_type": "stream",
     "text": [
      " 68%|█████████████████████▏         | 137/200 [1:04:57<29:52, 28.45s/it]"
     ]
    },
    {
     "name": "stdout",
     "output_type": "stream",
     "text": [
      "[Epoch 137/200]\n",
      "Losses: [GE1: -4.504487037658691, GE2: -0.8243237137794495] [D1: -2.2493369579315186, D2: -0.4203239381313324]\n",
      "[Epoch 137/200]\n",
      "Losses: [GE1: -3.847116231918335, GE2: -1.0129573345184326] [D1: -1.7013200521469116, D2: -0.4609959125518799]\n",
      "[Epoch 137/200]\n",
      "Losses: [GE1: -3.521127462387085, GE2: -0.7783802151679993] [D1: -2.489041328430176, D2: -0.3189905881881714]\n",
      "[Epoch 137/200]\n",
      "Losses: [GE1: -3.9441144466400146, GE2: -0.46630194783210754] [D1: -1.9594197273254395, D2: -0.2952372431755066]\n",
      "[Epoch 137/200]\n",
      "Losses: [GE1: -4.072995185852051, GE2: -0.7008366584777832] [D1: -2.6071555614471436, D2: -0.3583960235118866]\n",
      "[Epoch 137/200]\n",
      "Losses: [GE1: -4.214593887329102, GE2: -0.3552284240722656] [D1: -1.9956746101379395, D2: -0.3442109227180481]\n",
      "[Epoch 137/200]\n",
      "Losses: [GE1: -4.61051082611084, GE2: -0.8576542139053345] [D1: -3.004211664199829, D2: -0.295335978269577]\n",
      "[Epoch 137/200]\n",
      "Losses: [GE1: -4.433997631072998, GE2: -0.6562082171440125] [D1: -3.036407709121704, D2: -0.38943251967430115]\n",
      "[Epoch 137/200]\n",
      "Losses: [GE1: -3.3668341636657715, GE2: -1.0314812660217285] [D1: -2.0014727115631104, D2: -0.3501753509044647]\n",
      "[Epoch 137/200]\n",
      "Losses: [GE1: -3.592099905014038, GE2: -0.8631231188774109] [D1: -2.4236364364624023, D2: -0.27466124296188354]\n"
     ]
    },
    {
     "name": "stderr",
     "output_type": "stream",
     "text": [
      " 69%|█████████████████████▍         | 138/200 [1:05:25<29:23, 28.45s/it]"
     ]
    },
    {
     "name": "stdout",
     "output_type": "stream",
     "text": [
      "[Epoch 138/200]\n",
      "Losses: [GE1: -3.8195741176605225, GE2: -0.6921581029891968] [D1: -1.7953907251358032, D2: -0.3298114538192749]\n",
      "[Epoch 138/200]\n",
      "Losses: [GE1: -4.823463439941406, GE2: -0.5986003279685974] [D1: -2.276062488555908, D2: -0.3525249660015106]\n",
      "[Epoch 138/200]\n",
      "Losses: [GE1: -3.6935014724731445, GE2: -0.40109941363334656] [D1: -2.406085252761841, D2: -0.38087472319602966]\n",
      "[Epoch 138/200]\n",
      "Losses: [GE1: -3.404693365097046, GE2: -0.6603505611419678] [D1: -2.4630050659179688, D2: -0.41501811146736145]\n",
      "[Epoch 138/200]\n",
      "Losses: [GE1: -4.071664810180664, GE2: -0.898262083530426] [D1: -2.211545944213867, D2: -0.352212131023407]\n",
      "[Epoch 138/200]\n",
      "Losses: [GE1: -4.220535755157471, GE2: -0.864585280418396] [D1: -2.9646825790405273, D2: -0.3217411935329437]\n",
      "[Epoch 138/200]\n",
      "Losses: [GE1: -3.899017095565796, GE2: -0.2750539481639862] [D1: -3.83636474609375, D2: -0.3727779984474182]\n",
      "[Epoch 138/200]\n",
      "Losses: [GE1: -4.453386306762695, GE2: -0.5239066481590271] [D1: -2.2644572257995605, D2: -0.32664918899536133]\n",
      "[Epoch 138/200]\n",
      "Losses: [GE1: -3.582054615020752, GE2: -0.7244547009468079] [D1: -2.2505123615264893, D2: -0.37166962027549744]\n",
      "[Epoch 138/200]\n",
      "Losses: [GE1: -3.948698043823242, GE2: -0.6499434113502502] [D1: -2.6896796226501465, D2: -0.462870717048645]\n"
     ]
    },
    {
     "name": "stderr",
     "output_type": "stream",
     "text": [
      " 70%|█████████████████████▌         | 139/200 [1:05:54<28:55, 28.45s/it]"
     ]
    },
    {
     "name": "stdout",
     "output_type": "stream",
     "text": [
      "[Epoch 139/200]\n",
      "Losses: [GE1: -3.8026981353759766, GE2: -1.2182319164276123] [D1: -2.2959163188934326, D2: -0.3589858412742615]\n",
      "[Epoch 139/200]\n",
      "Losses: [GE1: -4.449581146240234, GE2: -0.7560054659843445] [D1: -1.5698003768920898, D2: -0.31370624899864197]\n",
      "[Epoch 139/200]\n",
      "Losses: [GE1: -3.551922082901001, GE2: -0.7917296886444092] [D1: -1.8247243165969849, D2: -0.3292597830295563]\n",
      "[Epoch 139/200]\n",
      "Losses: [GE1: -4.212676048278809, GE2: -0.425167441368103] [D1: -3.524592876434326, D2: -0.38044601678848267]\n",
      "[Epoch 139/200]\n",
      "Losses: [GE1: -4.695016384124756, GE2: -0.752216100692749] [D1: -2.5878307819366455, D2: -0.29746323823928833]\n",
      "[Epoch 139/200]\n",
      "Losses: [GE1: -3.8575053215026855, GE2: -0.6085569262504578] [D1: -2.400454521179199, D2: -0.3740158677101135]\n",
      "[Epoch 139/200]\n",
      "Losses: [GE1: -3.587693214416504, GE2: -0.6841145753860474] [D1: -2.009860038757324, D2: -0.37298783659935]\n",
      "[Epoch 139/200]\n",
      "Losses: [GE1: -4.398353099822998, GE2: -0.7798634171485901] [D1: -2.756470203399658, D2: -0.3685465157032013]\n",
      "[Epoch 139/200]\n",
      "Losses: [GE1: -3.3559768199920654, GE2: -0.695314347743988] [D1: -2.556337356567383, D2: -0.44096049666404724]\n",
      "[Epoch 139/200]\n",
      "Losses: [GE1: -3.856642961502075, GE2: -0.785175621509552] [D1: -1.7117969989776611, D2: -0.4290317893028259]\n"
     ]
    },
    {
     "name": "stderr",
     "output_type": "stream",
     "text": [
      " 70%|█████████████████████▋         | 140/200 [1:06:22<28:26, 28.44s/it]"
     ]
    },
    {
     "name": "stdout",
     "output_type": "stream",
     "text": [
      "[Epoch 140/200]\n",
      "Losses: [GE1: -4.352947235107422, GE2: -0.9177291393280029] [D1: -2.5202994346618652, D2: -0.32786253094673157]\n",
      "[Epoch 140/200]\n",
      "Losses: [GE1: -4.019627094268799, GE2: -0.7147255539894104] [D1: -1.3638947010040283, D2: -0.32904288172721863]\n",
      "[Epoch 140/200]\n",
      "Losses: [GE1: -3.768272638320923, GE2: -0.9823228120803833] [D1: -2.7392711639404297, D2: -0.3341854512691498]\n",
      "[Epoch 140/200]\n",
      "Losses: [GE1: -3.76304030418396, GE2: -0.5048274397850037] [D1: -2.227473258972168, D2: -0.39745083451271057]\n",
      "[Epoch 140/200]\n",
      "Losses: [GE1: -3.229229688644409, GE2: -0.7813773155212402] [D1: -3.1013259887695312, D2: -0.33949044346809387]\n",
      "[Epoch 140/200]\n",
      "Losses: [GE1: -3.904897451400757, GE2: -0.575626015663147] [D1: -1.0992306470870972, D2: -0.3221698999404907]\n",
      "[Epoch 140/200]\n",
      "Losses: [GE1: -3.5615384578704834, GE2: -0.7533730268478394] [D1: -1.9463648796081543, D2: -0.29499801993370056]\n",
      "[Epoch 140/200]\n",
      "Losses: [GE1: -3.7999181747436523, GE2: -0.6500352621078491] [D1: -1.9503895044326782, D2: -0.36127153038978577]\n",
      "[Epoch 140/200]\n",
      "Losses: [GE1: -4.493453502655029, GE2: -0.7426354885101318] [D1: -2.1214590072631836, D2: -0.3043188452720642]\n",
      "[Epoch 140/200]\n",
      "Losses: [GE1: -4.098130226135254, GE2: -0.7285059094429016] [D1: -3.965601921081543, D2: -0.3528064787387848]\n"
     ]
    },
    {
     "name": "stderr",
     "output_type": "stream",
     "text": [
      " 70%|█████████████████████▊         | 141/200 [1:06:50<27:58, 28.44s/it]"
     ]
    },
    {
     "name": "stdout",
     "output_type": "stream",
     "text": [
      "[Epoch 141/200]\n",
      "Losses: [GE1: -4.59924840927124, GE2: -0.7643824219703674] [D1: -2.4916627407073975, D2: -0.4337383508682251]\n",
      "[Epoch 141/200]\n",
      "Losses: [GE1: -3.996793031692505, GE2: -1.0329868793487549] [D1: -3.6190319061279297, D2: -0.3499433696269989]\n",
      "[Epoch 141/200]\n",
      "Losses: [GE1: -4.4558587074279785, GE2: -0.9318037629127502] [D1: -2.0416946411132812, D2: -0.35408779978752136]\n",
      "[Epoch 141/200]\n",
      "Losses: [GE1: -4.560145378112793, GE2: -0.747626781463623] [D1: -2.448437213897705, D2: -0.3945825397968292]\n",
      "[Epoch 141/200]\n",
      "Losses: [GE1: -3.761122465133667, GE2: -0.5675660371780396] [D1: -3.3915958404541016, D2: -0.3652441203594208]\n",
      "[Epoch 141/200]\n",
      "Losses: [GE1: -4.154230117797852, GE2: -0.6059589385986328] [D1: -1.7248845100402832, D2: -0.25518715381622314]\n",
      "[Epoch 141/200]\n",
      "Losses: [GE1: -3.964775800704956, GE2: -0.7094616293907166] [D1: -2.042167901992798, D2: -0.3685869872570038]\n",
      "[Epoch 141/200]\n",
      "Losses: [GE1: -3.4598119258880615, GE2: -0.9583839774131775] [D1: -2.909135580062866, D2: -0.3735142648220062]\n",
      "[Epoch 141/200]\n",
      "Losses: [GE1: -4.004278659820557, GE2: -1.0039710998535156] [D1: -2.6490542888641357, D2: -0.33761370182037354]\n",
      "[Epoch 141/200]\n",
      "Losses: [GE1: -2.989023208618164, GE2: -0.6333348155021667] [D1: -2.2335028648376465, D2: -0.4841872751712799]\n"
     ]
    },
    {
     "name": "stderr",
     "output_type": "stream",
     "text": [
      " 71%|██████████████████████         | 142/200 [1:07:19<27:29, 28.44s/it]"
     ]
    },
    {
     "name": "stdout",
     "output_type": "stream",
     "text": [
      "[Epoch 142/200]\n",
      "Losses: [GE1: -3.6722917556762695, GE2: -0.48204439878463745] [D1: -2.7538857460021973, D2: -0.417432963848114]\n",
      "[Epoch 142/200]\n",
      "Losses: [GE1: -3.5131583213806152, GE2: -0.6731129288673401] [D1: -3.5712742805480957, D2: -0.31264182925224304]\n",
      "[Epoch 142/200]\n",
      "Losses: [GE1: -4.5480570793151855, GE2: -0.7438623905181885] [D1: -3.4393036365509033, D2: -0.34533587098121643]\n",
      "[Epoch 142/200]\n",
      "Losses: [GE1: -3.1173055171966553, GE2: -0.19640366733074188] [D1: -1.6894659996032715, D2: -0.3189491033554077]\n",
      "[Epoch 142/200]\n",
      "Losses: [GE1: -3.9311561584472656, GE2: -0.7997475862503052] [D1: -2.4322993755340576, D2: -0.42973536252975464]\n",
      "[Epoch 142/200]\n",
      "Losses: [GE1: -3.343992233276367, GE2: -0.749012291431427] [D1: -2.145167827606201, D2: -0.34473228454589844]\n",
      "[Epoch 142/200]\n",
      "Losses: [GE1: -3.246659278869629, GE2: -0.616913914680481] [D1: -2.1284401416778564, D2: -0.4013482928276062]\n",
      "[Epoch 142/200]\n",
      "Losses: [GE1: -3.9627773761749268, GE2: -0.701615035533905] [D1: -2.739339828491211, D2: -0.38020503520965576]\n",
      "[Epoch 142/200]\n",
      "Losses: [GE1: -3.9419808387756348, GE2: -0.5587576627731323] [D1: -1.089347004890442, D2: -0.4297768175601959]\n",
      "[Epoch 142/200]\n",
      "Losses: [GE1: -4.568783760070801, GE2: -0.7002697587013245] [D1: -1.9727656841278076, D2: -0.45734453201293945]\n"
     ]
    },
    {
     "name": "stderr",
     "output_type": "stream",
     "text": [
      " 72%|██████████████████████▏        | 143/200 [1:07:47<27:01, 28.44s/it]"
     ]
    },
    {
     "name": "stdout",
     "output_type": "stream",
     "text": [
      "[Epoch 143/200]\n",
      "Losses: [GE1: -4.226809024810791, GE2: -0.5524153709411621] [D1: -1.2781872749328613, D2: -0.2657402455806732]\n",
      "[Epoch 143/200]\n",
      "Losses: [GE1: -3.781067371368408, GE2: -0.7446478009223938] [D1: -3.5360045433044434, D2: -0.4160710573196411]\n",
      "[Epoch 143/200]\n",
      "Losses: [GE1: -3.826545238494873, GE2: -0.473650187253952] [D1: -1.8626271486282349, D2: -0.41481444239616394]\n",
      "[Epoch 143/200]\n",
      "Losses: [GE1: -3.540386915206909, GE2: -0.6430155038833618] [D1: -1.9003126621246338, D2: -0.354455828666687]\n",
      "[Epoch 143/200]\n",
      "Losses: [GE1: -4.620729923248291, GE2: -0.7471731901168823] [D1: -1.8945770263671875, D2: -0.3547448217868805]\n",
      "[Epoch 143/200]\n",
      "Losses: [GE1: -4.176312446594238, GE2: -0.7639217972755432] [D1: -3.1359949111938477, D2: -0.41342028975486755]\n",
      "[Epoch 143/200]\n",
      "Losses: [GE1: -4.032537937164307, GE2: -0.4680045545101166] [D1: -4.010484218597412, D2: -0.41958820819854736]\n",
      "[Epoch 143/200]\n",
      "Losses: [GE1: -3.360586643218994, GE2: -0.570874810218811] [D1: -2.96517276763916, D2: -0.34711694717407227]\n",
      "[Epoch 143/200]\n",
      "Losses: [GE1: -4.669027805328369, GE2: -0.8452474474906921] [D1: -2.6978206634521484, D2: -0.39133962988853455]\n",
      "[Epoch 143/200]\n",
      "Losses: [GE1: -3.6877121925354004, GE2: -0.9486092329025269] [D1: -3.0285089015960693, D2: -0.35301142930984497]\n"
     ]
    },
    {
     "name": "stderr",
     "output_type": "stream",
     "text": [
      " 72%|██████████████████████▎        | 144/200 [1:08:15<26:32, 28.44s/it]"
     ]
    },
    {
     "name": "stdout",
     "output_type": "stream",
     "text": [
      "[Epoch 144/200]\n",
      "Losses: [GE1: -3.8978450298309326, GE2: -1.149869680404663] [D1: -2.1271214485168457, D2: -0.3903813362121582]\n",
      "[Epoch 144/200]\n",
      "Losses: [GE1: -4.351240158081055, GE2: -1.1173617839813232] [D1: -1.7405750751495361, D2: -0.35573771595954895]\n",
      "[Epoch 144/200]\n",
      "Losses: [GE1: -4.059994220733643, GE2: -0.596773624420166] [D1: -2.7128922939300537, D2: -0.380046010017395]\n",
      "[Epoch 144/200]\n",
      "Losses: [GE1: -3.5001978874206543, GE2: -0.42835280299186707] [D1: -1.7522838115692139, D2: -0.37035274505615234]\n",
      "[Epoch 144/200]\n",
      "Losses: [GE1: -4.335364818572998, GE2: -0.6777781844139099] [D1: -3.3568410873413086, D2: -0.29670098423957825]\n",
      "[Epoch 144/200]\n",
      "Losses: [GE1: -3.94248628616333, GE2: -0.8032662868499756] [D1: -1.7184321880340576, D2: -0.4356847405433655]\n",
      "[Epoch 144/200]\n",
      "Losses: [GE1: -4.0064826011657715, GE2: -0.9272427558898926] [D1: -1.7356517314910889, D2: -0.33421945571899414]\n",
      "[Epoch 144/200]\n",
      "Losses: [GE1: -4.754117488861084, GE2: -1.0527849197387695] [D1: -2.2481937408447266, D2: -0.2961193919181824]\n",
      "[Epoch 144/200]\n",
      "Losses: [GE1: -3.5419254302978516, GE2: -0.628963053226471] [D1: -2.6788384914398193, D2: -0.44574740529060364]\n",
      "[Epoch 144/200]\n",
      "Losses: [GE1: -3.6630218029022217, GE2: -0.6141101717948914] [D1: -2.827747344970703, D2: -0.3752603530883789]\n"
     ]
    },
    {
     "name": "stderr",
     "output_type": "stream",
     "text": [
      " 72%|██████████████████████▍        | 145/200 [1:08:44<26:04, 28.44s/it]"
     ]
    },
    {
     "name": "stdout",
     "output_type": "stream",
     "text": [
      "[Epoch 145/200]\n",
      "Losses: [GE1: -4.189357757568359, GE2: -0.506513237953186] [D1: -2.6050336360931396, D2: -0.31174564361572266]\n",
      "[Epoch 145/200]\n",
      "Losses: [GE1: -4.321796894073486, GE2: -1.0048209428787231] [D1: -1.9394173622131348, D2: -0.3771968483924866]\n",
      "[Epoch 145/200]\n",
      "Losses: [GE1: -4.224109172821045, GE2: -0.8837792873382568] [D1: -2.424933910369873, D2: -0.4020557701587677]\n",
      "[Epoch 145/200]\n",
      "Losses: [GE1: -4.26358699798584, GE2: -0.7105027437210083] [D1: -3.2664129734039307, D2: -0.3706322908401489]\n",
      "[Epoch 145/200]\n",
      "Losses: [GE1: -4.633725166320801, GE2: -0.8116683959960938] [D1: -4.267547130584717, D2: -0.3505207896232605]\n",
      "[Epoch 145/200]\n",
      "Losses: [GE1: -3.964550733566284, GE2: -0.5043807625770569] [D1: -2.249257802963257, D2: -0.36457276344299316]\n",
      "[Epoch 145/200]\n",
      "Losses: [GE1: -3.372177839279175, GE2: -0.838325023651123] [D1: -2.6389856338500977, D2: -0.33230292797088623]\n",
      "[Epoch 145/200]\n",
      "Losses: [GE1: -4.129953384399414, GE2: -0.5941983461380005] [D1: -2.293823480606079, D2: -0.3652048707008362]\n",
      "[Epoch 145/200]\n",
      "Losses: [GE1: -3.91790509223938, GE2: -0.7744508981704712] [D1: -1.8304212093353271, D2: -0.3091636598110199]\n",
      "[Epoch 145/200]\n",
      "Losses: [GE1: -4.258756637573242, GE2: -0.6591391563415527] [D1: -1.9728840589523315, D2: -0.3668771982192993]\n"
     ]
    },
    {
     "name": "stderr",
     "output_type": "stream",
     "text": [
      " 73%|██████████████████████▋        | 146/200 [1:09:12<25:35, 28.44s/it]"
     ]
    },
    {
     "name": "stdout",
     "output_type": "stream",
     "text": [
      "[Epoch 146/200]\n",
      "Losses: [GE1: -3.8823328018188477, GE2: -0.5005269050598145] [D1: -1.9027782678604126, D2: -0.3530760109424591]\n",
      "[Epoch 146/200]\n",
      "Losses: [GE1: -3.7336294651031494, GE2: -0.5918581485748291] [D1: -3.256650447845459, D2: -0.32233670353889465]\n",
      "[Epoch 146/200]\n",
      "Losses: [GE1: -3.8674566745758057, GE2: -1.1514984369277954] [D1: -2.47959041595459, D2: -0.3626512587070465]\n",
      "[Epoch 146/200]\n",
      "Losses: [GE1: -4.302743434906006, GE2: -0.28158819675445557] [D1: -3.121649980545044, D2: -0.3549836575984955]\n",
      "[Epoch 146/200]\n",
      "Losses: [GE1: -3.923320770263672, GE2: -0.8254045248031616] [D1: -3.3130619525909424, D2: -0.33501797914505005]\n",
      "[Epoch 146/200]\n",
      "Losses: [GE1: -3.865185260772705, GE2: -0.6374347805976868] [D1: -2.1733484268188477, D2: -0.3653021454811096]\n",
      "[Epoch 146/200]\n",
      "Losses: [GE1: -3.7925667762756348, GE2: -1.038640022277832] [D1: -2.3660874366760254, D2: -0.39820829033851624]\n",
      "[Epoch 146/200]\n",
      "Losses: [GE1: -4.07633113861084, GE2: -0.7387773394584656] [D1: -1.667768120765686, D2: -0.37626802921295166]\n",
      "[Epoch 146/200]\n",
      "Losses: [GE1: -4.6366143226623535, GE2: -0.7089691162109375] [D1: -2.2358102798461914, D2: -0.45540302991867065]\n",
      "[Epoch 146/200]\n",
      "Losses: [GE1: -3.826019287109375, GE2: -0.48419833183288574] [D1: -1.6587650775909424, D2: -0.3177106976509094]\n"
     ]
    },
    {
     "name": "stderr",
     "output_type": "stream",
     "text": [
      " 74%|██████████████████████▊        | 147/200 [1:09:41<25:07, 28.44s/it]"
     ]
    },
    {
     "name": "stdout",
     "output_type": "stream",
     "text": [
      "[Epoch 147/200]\n",
      "Losses: [GE1: -3.1162354946136475, GE2: -0.924065887928009] [D1: -1.5841978788375854, D2: -0.44151750206947327]\n",
      "[Epoch 147/200]\n",
      "Losses: [GE1: -4.3994140625, GE2: -0.7392457127571106] [D1: -3.5761513710021973, D2: -0.38177457451820374]\n",
      "[Epoch 147/200]\n",
      "Losses: [GE1: -3.917781352996826, GE2: -0.9029995799064636] [D1: -1.6223610639572144, D2: -0.3839348256587982]\n",
      "[Epoch 147/200]\n",
      "Losses: [GE1: -4.20887565612793, GE2: -0.9169424176216125] [D1: -3.7849607467651367, D2: -0.3002087473869324]\n",
      "[Epoch 147/200]\n",
      "Losses: [GE1: -4.439383506774902, GE2: -0.6611441373825073] [D1: -2.1275484561920166, D2: -0.3824772238731384]\n",
      "[Epoch 147/200]\n",
      "Losses: [GE1: -4.259076118469238, GE2: -0.6604742407798767] [D1: -1.585495948791504, D2: -0.37109842896461487]\n",
      "[Epoch 147/200]\n",
      "Losses: [GE1: -3.556903839111328, GE2: -0.7498375177383423] [D1: -2.831606864929199, D2: -0.351913183927536]\n",
      "[Epoch 147/200]\n",
      "Losses: [GE1: -4.862531661987305, GE2: -0.7341542840003967] [D1: -1.9636428356170654, D2: -0.36783140897750854]\n",
      "[Epoch 147/200]\n",
      "Losses: [GE1: -3.497098922729492, GE2: -0.8279256224632263] [D1: -1.7164390087127686, D2: -0.4572354853153229]\n",
      "[Epoch 147/200]\n",
      "Losses: [GE1: -4.343729019165039, GE2: -0.49203887581825256] [D1: -3.5171334743499756, D2: -0.42928650975227356]\n"
     ]
    },
    {
     "name": "stderr",
     "output_type": "stream",
     "text": [
      " 74%|██████████████████████▉        | 148/200 [1:10:09<24:39, 28.44s/it]"
     ]
    },
    {
     "name": "stdout",
     "output_type": "stream",
     "text": [
      "[Epoch 148/200]\n",
      "Losses: [GE1: -4.391997337341309, GE2: -0.7447479963302612] [D1: -2.6272456645965576, D2: -0.35336360335350037]\n",
      "[Epoch 148/200]\n",
      "Losses: [GE1: -4.266550064086914, GE2: -0.3041747808456421] [D1: -1.8779430389404297, D2: -0.307132363319397]\n",
      "[Epoch 148/200]\n",
      "Losses: [GE1: -2.9726037979125977, GE2: -0.5806198716163635] [D1: -3.1456241607666016, D2: -0.3797936737537384]\n",
      "[Epoch 148/200]\n",
      "Losses: [GE1: -3.7154541015625, GE2: -0.8876256346702576] [D1: -2.8932409286499023, D2: -0.3931695818901062]\n",
      "[Epoch 148/200]\n",
      "Losses: [GE1: -3.5479519367218018, GE2: -0.7180368900299072] [D1: -2.855541467666626, D2: -0.38674893975257874]\n",
      "[Epoch 148/200]\n",
      "Losses: [GE1: -4.443008899688721, GE2: -0.6790903806686401] [D1: -3.0512781143188477, D2: -0.3911932110786438]\n",
      "[Epoch 148/200]\n",
      "Losses: [GE1: -4.409689903259277, GE2: -0.9290243983268738] [D1: -2.649707317352295, D2: -0.3412637412548065]\n",
      "[Epoch 148/200]\n",
      "Losses: [GE1: -4.233300685882568, GE2: -0.7923181056976318] [D1: -2.295496702194214, D2: -0.3403085470199585]\n",
      "[Epoch 148/200]\n",
      "Losses: [GE1: -4.06386661529541, GE2: -0.6148352026939392] [D1: -2.8069493770599365, D2: -0.34602048993110657]\n",
      "[Epoch 148/200]\n",
      "Losses: [GE1: -4.103305339813232, GE2: -0.3934721052646637] [D1: -1.8464194536209106, D2: -0.3711901903152466]\n"
     ]
    },
    {
     "name": "stderr",
     "output_type": "stream",
     "text": [
      " 74%|███████████████████████        | 149/200 [1:10:37<24:10, 28.44s/it]"
     ]
    },
    {
     "name": "stdout",
     "output_type": "stream",
     "text": [
      "[Epoch 149/200]\n",
      "Losses: [GE1: -5.1527276039123535, GE2: -0.4930419325828552] [D1: -1.9494717121124268, D2: -0.4722506105899811]\n",
      "[Epoch 149/200]\n",
      "Losses: [GE1: -3.734466314315796, GE2: -0.8329383730888367] [D1: -3.1155309677124023, D2: -0.3291405737400055]\n",
      "[Epoch 149/200]\n",
      "Losses: [GE1: -4.992960453033447, GE2: -0.7950038909912109] [D1: -2.768303155899048, D2: -0.40774884819984436]\n",
      "[Epoch 149/200]\n",
      "Losses: [GE1: -4.40329647064209, GE2: -0.9185708165168762] [D1: -1.3978440761566162, D2: -0.33009764552116394]\n",
      "[Epoch 149/200]\n",
      "Losses: [GE1: -3.8354387283325195, GE2: -0.637647271156311] [D1: -3.52130126953125, D2: -0.41694188117980957]\n",
      "[Epoch 149/200]\n",
      "Losses: [GE1: -3.8968780040740967, GE2: -0.5721110701560974] [D1: -1.6847907304763794, D2: -0.3667835593223572]\n",
      "[Epoch 149/200]\n",
      "Losses: [GE1: -3.5852787494659424, GE2: -0.8885951042175293] [D1: -2.911687135696411, D2: -0.417030394077301]\n",
      "[Epoch 149/200]\n",
      "Losses: [GE1: -4.112302303314209, GE2: -0.4678153693675995] [D1: -2.857016086578369, D2: -0.4368649125099182]\n",
      "[Epoch 149/200]\n",
      "Losses: [GE1: -3.9401910305023193, GE2: -0.5317235589027405] [D1: -3.2561283111572266, D2: -0.3253766894340515]\n",
      "[Epoch 149/200]\n",
      "Losses: [GE1: -4.541101455688477, GE2: -1.0030295848846436] [D1: -2.6792843341827393, D2: -0.3090592920780182]\n"
     ]
    },
    {
     "name": "stderr",
     "output_type": "stream",
     "text": [
      " 75%|███████████████████████▎       | 150/200 [1:11:06<23:42, 28.44s/it]"
     ]
    },
    {
     "name": "stdout",
     "output_type": "stream",
     "text": [
      "[Epoch 150/200]\n",
      "Losses: [GE1: -3.990706443786621, GE2: -0.6648824214935303] [D1: -2.0261805057525635, D2: -0.33427339792251587]\n",
      "[Epoch 150/200]\n",
      "Losses: [GE1: -4.131811141967773, GE2: -0.9415310621261597] [D1: -2.761136054992676, D2: -0.44955769181251526]\n",
      "[Epoch 150/200]\n",
      "Losses: [GE1: -4.128336429595947, GE2: -0.6534468531608582] [D1: -2.5361886024475098, D2: -0.35171735286712646]\n",
      "[Epoch 150/200]\n",
      "Losses: [GE1: -3.7330284118652344, GE2: -0.7315286993980408] [D1: -2.4982566833496094, D2: -0.32353779673576355]\n",
      "[Epoch 150/200]\n",
      "Losses: [GE1: -4.158669948577881, GE2: -0.7884613871574402] [D1: -3.020075559616089, D2: -0.3276677131652832]\n",
      "[Epoch 150/200]\n",
      "Losses: [GE1: -4.013033390045166, GE2: -0.9170450568199158] [D1: -1.6437000036239624, D2: -0.4143483638763428]\n",
      "[Epoch 150/200]\n",
      "Losses: [GE1: -4.254828929901123, GE2: -0.9518910050392151] [D1: -3.079742908477783, D2: -0.38357046246528625]\n",
      "[Epoch 150/200]\n",
      "Losses: [GE1: -3.234365463256836, GE2: -0.6160334348678589] [D1: -2.2068140506744385, D2: -0.3427499234676361]\n",
      "[Epoch 150/200]\n",
      "Losses: [GE1: -4.261239528656006, GE2: -0.6040002107620239] [D1: -3.3676576614379883, D2: -0.3584774434566498]\n",
      "[Epoch 150/200]\n",
      "Losses: [GE1: -4.0446600914001465, GE2: -0.4747268259525299] [D1: -3.917189598083496, D2: -0.46569404006004333]\n"
     ]
    },
    {
     "name": "stderr",
     "output_type": "stream",
     "text": [
      " 76%|███████████████████████▍       | 151/200 [1:11:34<23:13, 28.44s/it]"
     ]
    },
    {
     "name": "stdout",
     "output_type": "stream",
     "text": [
      "[Epoch 151/200]\n",
      "Losses: [GE1: -4.13088846206665, GE2: -0.6684519052505493] [D1: -1.3022736310958862, D2: -0.3612080216407776]\n",
      "[Epoch 151/200]\n",
      "Losses: [GE1: -4.353381633758545, GE2: -0.871865451335907] [D1: -1.3874447345733643, D2: -0.3739255964756012]\n",
      "[Epoch 151/200]\n",
      "Losses: [GE1: -3.487459421157837, GE2: -0.955428957939148] [D1: -3.2979118824005127, D2: -0.31061163544654846]\n",
      "[Epoch 151/200]\n",
      "Losses: [GE1: -3.584010601043701, GE2: -0.6906377673149109] [D1: -2.5938518047332764, D2: -0.3031599223613739]\n",
      "[Epoch 151/200]\n",
      "Losses: [GE1: -3.8065602779388428, GE2: -0.9274325370788574] [D1: -3.223790168762207, D2: -0.36795347929000854]\n",
      "[Epoch 151/200]\n",
      "Losses: [GE1: -4.762467384338379, GE2: -0.7948622107505798] [D1: -2.195075035095215, D2: -0.4736103117465973]\n",
      "[Epoch 151/200]\n",
      "Losses: [GE1: -3.9538960456848145, GE2: -0.7343679666519165] [D1: -2.5714664459228516, D2: -0.30798396468162537]\n",
      "[Epoch 151/200]\n",
      "Losses: [GE1: -3.847306251525879, GE2: -0.8098739385604858] [D1: -2.0852036476135254, D2: -0.38665705919265747]\n",
      "[Epoch 151/200]\n",
      "Losses: [GE1: -4.040497779846191, GE2: -0.3603227138519287] [D1: -2.1745736598968506, D2: -0.44115525484085083]\n",
      "[Epoch 151/200]\n",
      "Losses: [GE1: -4.0682291984558105, GE2: -0.6594711542129517] [D1: -3.739675521850586, D2: -0.37498846650123596]\n"
     ]
    },
    {
     "name": "stderr",
     "output_type": "stream",
     "text": [
      " 76%|███████████████████████▌       | 152/200 [1:12:03<22:45, 28.44s/it]"
     ]
    },
    {
     "name": "stdout",
     "output_type": "stream",
     "text": [
      "[Epoch 152/200]\n",
      "Losses: [GE1: -4.00661563873291, GE2: -0.46039173007011414] [D1: -1.8768888711929321, D2: -0.3276402950286865]\n",
      "[Epoch 152/200]\n",
      "Losses: [GE1: -3.9302191734313965, GE2: -0.9063906073570251] [D1: -3.013172149658203, D2: -0.3427579998970032]\n",
      "[Epoch 152/200]\n",
      "Losses: [GE1: -3.6887519359588623, GE2: -0.4998335540294647] [D1: -1.6737849712371826, D2: -0.41304606199264526]\n",
      "[Epoch 152/200]\n",
      "Losses: [GE1: -4.479382038116455, GE2: -0.789053738117218] [D1: -2.350377321243286, D2: -0.33826279640197754]\n",
      "[Epoch 152/200]\n",
      "Losses: [GE1: -3.810570478439331, GE2: -0.8975838422775269] [D1: -3.7992606163024902, D2: -0.36687132716178894]\n",
      "[Epoch 152/200]\n",
      "Losses: [GE1: -3.4666287899017334, GE2: -0.4651753902435303] [D1: -1.533411979675293, D2: -0.3023833632469177]\n",
      "[Epoch 152/200]\n",
      "Losses: [GE1: -4.555070877075195, GE2: -0.9767860770225525] [D1: -1.8686869144439697, D2: -0.38966870307922363]\n",
      "[Epoch 152/200]\n",
      "Losses: [GE1: -4.495401382446289, GE2: -0.7117109298706055] [D1: -2.534360408782959, D2: -0.45644092559814453]\n",
      "[Epoch 152/200]\n",
      "Losses: [GE1: -3.633948802947998, GE2: -0.8896040320396423] [D1: -1.9939979314804077, D2: -0.34274813532829285]\n",
      "[Epoch 152/200]\n",
      "Losses: [GE1: -3.759528160095215, GE2: -0.6529467105865479] [D1: -3.8932199478149414, D2: -0.3322867751121521]\n"
     ]
    },
    {
     "name": "stderr",
     "output_type": "stream",
     "text": [
      " 76%|███████████████████████▋       | 153/200 [1:12:31<22:16, 28.44s/it]"
     ]
    },
    {
     "name": "stdout",
     "output_type": "stream",
     "text": [
      "[Epoch 153/200]\n",
      "Losses: [GE1: -4.057367324829102, GE2: -0.2935011386871338] [D1: -2.554172992706299, D2: -0.2636823356151581]\n",
      "[Epoch 153/200]\n",
      "Losses: [GE1: -4.748966693878174, GE2: -0.8030983209609985] [D1: -3.183274745941162, D2: -0.41862332820892334]\n",
      "[Epoch 153/200]\n",
      "Losses: [GE1: -4.9433465003967285, GE2: -0.8142289519309998] [D1: -2.134639263153076, D2: -0.3560166358947754]\n",
      "[Epoch 153/200]\n",
      "Losses: [GE1: -4.410401821136475, GE2: -0.6216577291488647] [D1: -3.398669958114624, D2: -0.4006586968898773]\n",
      "[Epoch 153/200]\n",
      "Losses: [GE1: -3.9528167247772217, GE2: -0.6226235628128052] [D1: -1.100860834121704, D2: -0.3506241738796234]\n",
      "[Epoch 153/200]\n",
      "Losses: [GE1: -3.610719919204712, GE2: -0.5309248566627502] [D1: -1.3275129795074463, D2: -0.3491682708263397]\n",
      "[Epoch 153/200]\n",
      "Losses: [GE1: -3.8790652751922607, GE2: -0.6434779763221741] [D1: -1.8103305101394653, D2: -0.3579592704772949]\n",
      "[Epoch 153/200]\n",
      "Losses: [GE1: -4.370333671569824, GE2: -0.7538385391235352] [D1: -3.3186116218566895, D2: -0.3142559826374054]\n",
      "[Epoch 153/200]\n",
      "Losses: [GE1: -3.735548257827759, GE2: -0.9610114097595215] [D1: -1.1103689670562744, D2: -0.36186960339546204]\n",
      "[Epoch 153/200]\n",
      "Losses: [GE1: -3.5241339206695557, GE2: -0.6075226068496704] [D1: -2.7023370265960693, D2: -0.4373854100704193]\n"
     ]
    },
    {
     "name": "stderr",
     "output_type": "stream",
     "text": [
      " 77%|███████████████████████▊       | 154/200 [1:13:00<21:48, 28.44s/it]"
     ]
    },
    {
     "name": "stdout",
     "output_type": "stream",
     "text": [
      "[Epoch 154/200]\n",
      "Losses: [GE1: -4.71205472946167, GE2: -0.799940824508667] [D1: -2.7516536712646484, D2: -0.33126959204673767]\n",
      "[Epoch 154/200]\n",
      "Losses: [GE1: -4.10407829284668, GE2: -0.6979931592941284] [D1: -1.6467866897583008, D2: -0.49673113226890564]\n",
      "[Epoch 154/200]\n",
      "Losses: [GE1: -3.8648200035095215, GE2: -0.6961895227432251] [D1: -2.847846746444702, D2: -0.4471742808818817]\n",
      "[Epoch 154/200]\n",
      "Losses: [GE1: -3.8661136627197266, GE2: -0.9399385452270508] [D1: -3.5752530097961426, D2: -0.3085818886756897]\n",
      "[Epoch 154/200]\n",
      "Losses: [GE1: -4.092029571533203, GE2: -0.5035830140113831] [D1: -1.7986338138580322, D2: -0.4224149286746979]\n",
      "[Epoch 154/200]\n",
      "Losses: [GE1: -4.3955159187316895, GE2: -1.0395084619522095] [D1: -2.5731472969055176, D2: -0.31687599420547485]\n",
      "[Epoch 154/200]\n",
      "Losses: [GE1: -3.318310499191284, GE2: -0.770435631275177] [D1: -2.4097304344177246, D2: -0.4049778878688812]\n",
      "[Epoch 154/200]\n",
      "Losses: [GE1: -3.8779590129852295, GE2: -0.8089236617088318] [D1: -1.619137167930603, D2: -0.34098416566848755]\n",
      "[Epoch 154/200]\n",
      "Losses: [GE1: -3.9639832973480225, GE2: -0.3626009523868561] [D1: -1.3795247077941895, D2: -0.33143699169158936]\n",
      "[Epoch 154/200]\n",
      "Losses: [GE1: -4.450323581695557, GE2: -0.7171854376792908] [D1: -2.361661195755005, D2: -0.33925172686576843]\n"
     ]
    },
    {
     "name": "stderr",
     "output_type": "stream",
     "text": [
      " 78%|████████████████████████       | 155/200 [1:13:28<21:19, 28.44s/it]"
     ]
    },
    {
     "name": "stdout",
     "output_type": "stream",
     "text": [
      "[Epoch 155/200]\n",
      "Losses: [GE1: -4.30564022064209, GE2: -0.521145224571228] [D1: -2.5055768489837646, D2: -0.46853289008140564]\n",
      "[Epoch 155/200]\n",
      "Losses: [GE1: -3.9823520183563232, GE2: -0.5689106583595276] [D1: -3.2336156368255615, D2: -0.3004351258277893]\n",
      "[Epoch 155/200]\n",
      "Losses: [GE1: -3.598898410797119, GE2: -0.6496800184249878] [D1: -1.4974650144577026, D2: -0.30337652564048767]\n",
      "[Epoch 155/200]\n",
      "Losses: [GE1: -4.379953384399414, GE2: -0.8361201286315918] [D1: -3.0131354331970215, D2: -0.3922168016433716]\n",
      "[Epoch 155/200]\n",
      "Losses: [GE1: -3.7509942054748535, GE2: -0.8554112911224365] [D1: -1.7529898881912231, D2: -0.3778545558452606]\n",
      "[Epoch 155/200]\n",
      "Losses: [GE1: -4.0338215827941895, GE2: -0.7322714328765869] [D1: -1.826973795890808, D2: -0.3852587938308716]\n",
      "[Epoch 155/200]\n",
      "Losses: [GE1: -3.8577449321746826, GE2: -0.3130621910095215] [D1: -2.9830565452575684, D2: -0.341998428106308]\n",
      "[Epoch 155/200]\n",
      "Losses: [GE1: -4.793472766876221, GE2: -0.7528786063194275] [D1: -2.6012516021728516, D2: -0.30897361040115356]\n",
      "[Epoch 155/200]\n",
      "Losses: [GE1: -4.905834197998047, GE2: -0.5769591927528381] [D1: -2.6010513305664062, D2: -0.4510221481323242]\n",
      "[Epoch 155/200]\n",
      "Losses: [GE1: -5.128815174102783, GE2: -1.015781283378601] [D1: -2.6516008377075195, D2: -0.41866135597229004]\n"
     ]
    },
    {
     "name": "stderr",
     "output_type": "stream",
     "text": [
      " 78%|████████████████████████▏      | 156/200 [1:13:56<20:51, 28.44s/it]"
     ]
    },
    {
     "name": "stdout",
     "output_type": "stream",
     "text": [
      "[Epoch 156/200]\n",
      "Losses: [GE1: -4.468832969665527, GE2: -0.6495776176452637] [D1: -3.3385119438171387, D2: -0.3550272285938263]\n",
      "[Epoch 156/200]\n",
      "Losses: [GE1: -4.26388692855835, GE2: -1.050769567489624] [D1: -1.619550347328186, D2: -0.30154407024383545]\n",
      "[Epoch 156/200]\n",
      "Losses: [GE1: -3.5991644859313965, GE2: -1.0907539129257202] [D1: -3.239034652709961, D2: -0.3442356586456299]\n",
      "[Epoch 156/200]\n",
      "Losses: [GE1: -4.291319370269775, GE2: -0.808229923248291] [D1: -3.9149274826049805, D2: -0.3931305706501007]\n",
      "[Epoch 156/200]\n",
      "Losses: [GE1: -4.009263515472412, GE2: -0.890608012676239] [D1: -2.6528255939483643, D2: -0.27961286902427673]\n",
      "[Epoch 156/200]\n",
      "Losses: [GE1: -4.174935817718506, GE2: -1.119706630706787] [D1: -2.1734707355499268, D2: -0.37049299478530884]\n",
      "[Epoch 156/200]\n",
      "Losses: [GE1: -3.56593918800354, GE2: -0.8693435192108154] [D1: -2.003129243850708, D2: -0.3102346956729889]\n",
      "[Epoch 156/200]\n",
      "Losses: [GE1: -4.6507039070129395, GE2: -0.6456435322761536] [D1: -2.112062931060791, D2: -0.3856333792209625]\n",
      "[Epoch 156/200]\n",
      "Losses: [GE1: -4.2327351570129395, GE2: -0.8982629179954529] [D1: -2.6108651161193848, D2: -0.3085207939147949]\n",
      "[Epoch 156/200]\n",
      "Losses: [GE1: -3.285442590713501, GE2: -0.7093685269355774] [D1: -1.5075695514678955, D2: -0.297717422246933]\n"
     ]
    },
    {
     "name": "stderr",
     "output_type": "stream",
     "text": [
      " 78%|████████████████████████▎      | 157/200 [1:14:25<20:22, 28.44s/it]"
     ]
    },
    {
     "name": "stdout",
     "output_type": "stream",
     "text": [
      "[Epoch 157/200]\n",
      "Losses: [GE1: -3.213789463043213, GE2: -0.9848188757896423] [D1: -3.287435531616211, D2: -0.35706767439842224]\n",
      "[Epoch 157/200]\n",
      "Losses: [GE1: -4.369448184967041, GE2: -0.8571904301643372] [D1: -1.5276163816452026, D2: -0.3395031690597534]\n",
      "[Epoch 157/200]\n",
      "Losses: [GE1: -3.828901529312134, GE2: -0.7773770093917847] [D1: -1.6682182550430298, D2: -0.3547836244106293]\n",
      "[Epoch 157/200]\n",
      "Losses: [GE1: -4.3920769691467285, GE2: -0.6248617172241211] [D1: -1.771456003189087, D2: -0.3537960946559906]\n",
      "[Epoch 157/200]\n",
      "Losses: [GE1: -3.7988240718841553, GE2: -0.5722477436065674] [D1: -2.4259984493255615, D2: -0.35588642954826355]\n",
      "[Epoch 157/200]\n",
      "Losses: [GE1: -3.599749803543091, GE2: -0.6337923407554626] [D1: -2.680159568786621, D2: -0.36348551511764526]\n",
      "[Epoch 157/200]\n",
      "Losses: [GE1: -4.406402111053467, GE2: -0.5731931924819946] [D1: -2.6317410469055176, D2: -0.4249769151210785]\n",
      "[Epoch 157/200]\n",
      "Losses: [GE1: -4.059132099151611, GE2: -0.8936479687690735] [D1: -1.8509206771850586, D2: -0.33924734592437744]\n",
      "[Epoch 157/200]\n",
      "Losses: [GE1: -3.8602383136749268, GE2: -1.2203611135482788] [D1: -2.525869131088257, D2: -0.3460792303085327]\n",
      "[Epoch 157/200]\n",
      "Losses: [GE1: -3.7866008281707764, GE2: -0.5664445757865906] [D1: -1.950609564781189, D2: -0.41221970319747925]\n"
     ]
    },
    {
     "name": "stderr",
     "output_type": "stream",
     "text": [
      " 79%|████████████████████████▍      | 158/200 [1:14:53<19:54, 28.44s/it]"
     ]
    },
    {
     "name": "stdout",
     "output_type": "stream",
     "text": [
      "[Epoch 158/200]\n",
      "Losses: [GE1: -4.375205039978027, GE2: -0.782971978187561] [D1: -2.0597972869873047, D2: -0.41416841745376587]\n",
      "[Epoch 158/200]\n",
      "Losses: [GE1: -4.161609172821045, GE2: -0.6787495017051697] [D1: -1.8597474098205566, D2: -0.35747814178466797]\n",
      "[Epoch 158/200]\n",
      "Losses: [GE1: -3.9168148040771484, GE2: -0.9508891105651855] [D1: -1.6029698848724365, D2: -0.345477432012558]\n",
      "[Epoch 158/200]\n",
      "Losses: [GE1: -4.209104061126709, GE2: -0.6416016817092896] [D1: -2.8473610877990723, D2: -0.28336507081985474]\n",
      "[Epoch 158/200]\n",
      "Losses: [GE1: -4.204869270324707, GE2: -0.5936347842216492] [D1: -2.718318462371826, D2: -0.3330325186252594]\n",
      "[Epoch 158/200]\n",
      "Losses: [GE1: -3.8836848735809326, GE2: -0.9109322428703308] [D1: -3.1049022674560547, D2: -0.39821505546569824]\n",
      "[Epoch 158/200]\n",
      "Losses: [GE1: -5.093991279602051, GE2: -0.7433980107307434] [D1: -1.6245319843292236, D2: -0.3122005760669708]\n",
      "[Epoch 158/200]\n",
      "Losses: [GE1: -3.8654088973999023, GE2: -0.6566250324249268] [D1: -2.228738784790039, D2: -0.33609598875045776]\n",
      "[Epoch 158/200]\n",
      "Losses: [GE1: -3.8400511741638184, GE2: -0.8920714855194092] [D1: -2.5050995349884033, D2: -0.37188172340393066]\n",
      "[Epoch 158/200]\n",
      "Losses: [GE1: -4.523220539093018, GE2: -0.7530291676521301] [D1: -2.422834634780884, D2: -0.30578863620758057]\n"
     ]
    },
    {
     "name": "stderr",
     "output_type": "stream",
     "text": [
      " 80%|████████████████████████▋      | 159/200 [1:15:21<19:25, 28.44s/it]"
     ]
    },
    {
     "name": "stdout",
     "output_type": "stream",
     "text": [
      "[Epoch 159/200]\n",
      "Losses: [GE1: -3.861602306365967, GE2: -0.4618935286998749] [D1: -3.593668222427368, D2: -0.3569628596305847]\n",
      "[Epoch 159/200]\n",
      "Losses: [GE1: -3.0746705532073975, GE2: -1.0765395164489746] [D1: -3.0056700706481934, D2: -0.42227745056152344]\n",
      "[Epoch 159/200]\n",
      "Losses: [GE1: -3.4699208736419678, GE2: -0.9952995777130127] [D1: -4.279476642608643, D2: -0.2780430018901825]\n",
      "[Epoch 159/200]\n",
      "Losses: [GE1: -3.5840346813201904, GE2: -0.7758249640464783] [D1: -2.442019462585449, D2: -0.37523263692855835]\n",
      "[Epoch 159/200]\n",
      "Losses: [GE1: -3.7718727588653564, GE2: -0.8914098739624023] [D1: -2.073112726211548, D2: -0.36068540811538696]\n",
      "[Epoch 159/200]\n",
      "Losses: [GE1: -4.1406331062316895, GE2: -0.9011257886886597] [D1: -2.281277894973755, D2: -0.39346009492874146]\n",
      "[Epoch 159/200]\n",
      "Losses: [GE1: -4.237227439880371, GE2: -0.6509435772895813] [D1: -2.0230660438537598, D2: -0.3924342393875122]\n",
      "[Epoch 159/200]\n",
      "Losses: [GE1: -4.159563064575195, GE2: -1.0035552978515625] [D1: -1.7288646697998047, D2: -0.3815286457538605]\n",
      "[Epoch 159/200]\n",
      "Losses: [GE1: -4.947907447814941, GE2: -0.5932033061981201] [D1: -3.167778968811035, D2: -0.26569512486457825]\n",
      "[Epoch 159/200]\n",
      "Losses: [GE1: -4.006667613983154, GE2: -0.6594541668891907] [D1: -2.9024882316589355, D2: -0.3139318823814392]\n"
     ]
    },
    {
     "name": "stderr",
     "output_type": "stream",
     "text": [
      " 80%|████████████████████████▊      | 160/200 [1:15:50<18:57, 28.44s/it]"
     ]
    },
    {
     "name": "stdout",
     "output_type": "stream",
     "text": [
      "[Epoch 160/200]\n",
      "Losses: [GE1: -4.248152732849121, GE2: -0.7532920837402344] [D1: -2.5190515518188477, D2: -0.35724949836730957]\n",
      "[Epoch 160/200]\n",
      "Losses: [GE1: -3.953477144241333, GE2: -0.5387217402458191] [D1: -2.3985354900360107, D2: -0.4153222441673279]\n",
      "[Epoch 160/200]\n",
      "Losses: [GE1: -4.009302139282227, GE2: -0.9617400169372559] [D1: -2.6166934967041016, D2: -0.40096402168273926]\n",
      "[Epoch 160/200]\n",
      "Losses: [GE1: -3.235382556915283, GE2: -1.0897632837295532] [D1: -2.72255802154541, D2: -0.2922118008136749]\n",
      "[Epoch 160/200]\n",
      "Losses: [GE1: -4.260756969451904, GE2: -1.0742095708847046] [D1: -2.0906691551208496, D2: -0.36821404099464417]\n",
      "[Epoch 160/200]\n",
      "Losses: [GE1: -3.8348519802093506, GE2: -0.971835732460022] [D1: -2.9481124877929688, D2: -0.3839476704597473]\n",
      "[Epoch 160/200]\n",
      "Losses: [GE1: -4.542606830596924, GE2: -0.8505964875221252] [D1: -2.6436212062835693, D2: -0.27390003204345703]\n",
      "[Epoch 160/200]\n",
      "Losses: [GE1: -3.9172141551971436, GE2: -0.68165522813797] [D1: -1.788177251815796, D2: -0.31270498037338257]\n",
      "[Epoch 160/200]\n",
      "Losses: [GE1: -4.245148181915283, GE2: -1.0118778944015503] [D1: -1.6297887563705444, D2: -0.30274832248687744]\n",
      "[Epoch 160/200]\n",
      "Losses: [GE1: -4.297018527984619, GE2: -0.8247727751731873] [D1: -1.6317592859268188, D2: -0.3338939845561981]\n"
     ]
    },
    {
     "name": "stderr",
     "output_type": "stream",
     "text": [
      " 80%|████████████████████████▉      | 161/200 [1:16:18<18:29, 28.44s/it]"
     ]
    },
    {
     "name": "stdout",
     "output_type": "stream",
     "text": [
      "[Epoch 161/200]\n",
      "Losses: [GE1: -3.510523557662964, GE2: -0.5187755823135376] [D1: -3.1897664070129395, D2: -0.24252621829509735]\n",
      "[Epoch 161/200]\n",
      "Losses: [GE1: -4.355767726898193, GE2: -0.49733084440231323] [D1: -2.2226600646972656, D2: -0.34973615407943726]\n",
      "[Epoch 161/200]\n",
      "Losses: [GE1: -4.063711166381836, GE2: -1.0344854593276978] [D1: -2.687605857849121, D2: -0.3953436613082886]\n",
      "[Epoch 161/200]\n",
      "Losses: [GE1: -3.3148632049560547, GE2: -0.9674661159515381] [D1: -1.609388828277588, D2: -0.2950695753097534]\n",
      "[Epoch 161/200]\n",
      "Losses: [GE1: -4.243284225463867, GE2: -0.8305359482765198] [D1: -1.9731699228286743, D2: -0.3175685405731201]\n",
      "[Epoch 161/200]\n",
      "Losses: [GE1: -4.238574981689453, GE2: -0.8794040679931641] [D1: -1.1995792388916016, D2: -0.41580069065093994]\n",
      "[Epoch 161/200]\n",
      "Losses: [GE1: -3.3894710540771484, GE2: -0.7934288382530212] [D1: -3.7754945755004883, D2: -0.43025869131088257]\n",
      "[Epoch 161/200]\n",
      "Losses: [GE1: -3.9622647762298584, GE2: -1.0465790033340454] [D1: -2.1225595474243164, D2: -0.3174491226673126]\n",
      "[Epoch 161/200]\n",
      "Losses: [GE1: -4.288607120513916, GE2: -0.7429459095001221] [D1: -2.7808475494384766, D2: -0.3208121061325073]\n",
      "[Epoch 161/200]\n",
      "Losses: [GE1: -3.618339776992798, GE2: -0.678466796875] [D1: -1.8763291835784912, D2: -0.4046277403831482]\n"
     ]
    },
    {
     "name": "stderr",
     "output_type": "stream",
     "text": [
      " 81%|█████████████████████████      | 162/200 [1:16:46<18:00, 28.44s/it]"
     ]
    },
    {
     "name": "stdout",
     "output_type": "stream",
     "text": [
      "[Epoch 162/200]\n",
      "Losses: [GE1: -3.7806594371795654, GE2: -0.9905933141708374] [D1: -2.9737110137939453, D2: -0.3660772442817688]\n",
      "[Epoch 162/200]\n",
      "Losses: [GE1: -4.26522970199585, GE2: -0.7905057668685913] [D1: -2.9708099365234375, D2: -0.3589068651199341]\n",
      "[Epoch 162/200]\n",
      "Losses: [GE1: -3.65472149848938, GE2: -0.681565523147583] [D1: -1.4302457571029663, D2: -0.3948781490325928]\n",
      "[Epoch 162/200]\n",
      "Losses: [GE1: -3.4494740962982178, GE2: -0.7622956037521362] [D1: -1.423224925994873, D2: -0.39018338918685913]\n",
      "[Epoch 162/200]\n",
      "Losses: [GE1: -4.0996785163879395, GE2: -0.8059917092323303] [D1: -1.9098024368286133, D2: -0.2820225656032562]\n",
      "[Epoch 162/200]\n",
      "Losses: [GE1: -3.704954147338867, GE2: -0.7008255124092102] [D1: -2.2185230255126953, D2: -0.3958280682563782]\n",
      "[Epoch 162/200]\n",
      "Losses: [GE1: -4.4776129722595215, GE2: -0.649529755115509] [D1: -1.567857027053833, D2: -0.40573763847351074]\n",
      "[Epoch 162/200]\n",
      "Losses: [GE1: -3.562274932861328, GE2: -0.3417396545410156] [D1: -2.8198935985565186, D2: -0.33944350481033325]\n",
      "[Epoch 162/200]\n",
      "Losses: [GE1: -3.903900146484375, GE2: -1.0221225023269653] [D1: -3.588270425796509, D2: -0.3801189064979553]\n",
      "[Epoch 162/200]\n",
      "Losses: [GE1: -3.1734890937805176, GE2: -0.6584428548812866] [D1: -2.4705724716186523, D2: -0.33484354615211487]\n"
     ]
    },
    {
     "name": "stderr",
     "output_type": "stream",
     "text": [
      " 82%|█████████████████████████▎     | 163/200 [1:17:15<17:32, 28.44s/it]"
     ]
    },
    {
     "name": "stdout",
     "output_type": "stream",
     "text": [
      "[Epoch 163/200]\n",
      "Losses: [GE1: -3.7670791149139404, GE2: -0.6450939774513245] [D1: -1.494178056716919, D2: -0.3786180913448334]\n",
      "[Epoch 163/200]\n",
      "Losses: [GE1: -3.7211434841156006, GE2: -0.8905652761459351] [D1: -2.3448400497436523, D2: -0.2803913950920105]\n",
      "[Epoch 163/200]\n",
      "Losses: [GE1: -3.2353036403656006, GE2: -1.0550074577331543] [D1: -2.3907577991485596, D2: -0.3056027889251709]\n",
      "[Epoch 163/200]\n",
      "Losses: [GE1: -3.2179973125457764, GE2: -0.9220947027206421] [D1: -2.0675549507141113, D2: -0.33416226506233215]\n",
      "[Epoch 163/200]\n",
      "Losses: [GE1: -4.456641674041748, GE2: -0.7839469313621521] [D1: -1.46500825881958, D2: -0.37801381945610046]\n",
      "[Epoch 163/200]\n",
      "Losses: [GE1: -3.6884846687316895, GE2: -0.8709321022033691] [D1: -2.2717580795288086, D2: -0.3007529377937317]\n",
      "[Epoch 163/200]\n",
      "Losses: [GE1: -4.8453569412231445, GE2: -0.6594783663749695] [D1: -2.29256534576416, D2: -0.31651750206947327]\n",
      "[Epoch 163/200]\n",
      "Losses: [GE1: -3.842012405395508, GE2: -0.864654541015625] [D1: -3.8169195652008057, D2: -0.32382380962371826]\n",
      "[Epoch 163/200]\n",
      "Losses: [GE1: -4.40311336517334, GE2: -1.2007436752319336] [D1: -2.9827699661254883, D2: -0.37223243713378906]\n",
      "[Epoch 163/200]\n",
      "Losses: [GE1: -3.234631299972534, GE2: -0.880177915096283] [D1: -2.6246261596679688, D2: -0.30241629481315613]\n"
     ]
    },
    {
     "name": "stderr",
     "output_type": "stream",
     "text": [
      " 82%|█████████████████████████▍     | 164/200 [1:17:43<17:03, 28.44s/it]"
     ]
    },
    {
     "name": "stdout",
     "output_type": "stream",
     "text": [
      "[Epoch 164/200]\n",
      "Losses: [GE1: -3.7398152351379395, GE2: -0.9732855558395386] [D1: -1.637169599533081, D2: -0.4096912145614624]\n",
      "[Epoch 164/200]\n",
      "Losses: [GE1: -3.8285269737243652, GE2: -0.8898255825042725] [D1: -2.1801741123199463, D2: -0.3543128967285156]\n",
      "[Epoch 164/200]\n",
      "Losses: [GE1: -3.5886340141296387, GE2: -0.4728734791278839] [D1: -1.813772201538086, D2: -0.39385098218917847]\n",
      "[Epoch 164/200]\n",
      "Losses: [GE1: -4.161909580230713, GE2: -0.9902863502502441] [D1: -2.096217632293701, D2: -0.2867477238178253]\n",
      "[Epoch 164/200]\n",
      "Losses: [GE1: -4.207008361816406, GE2: -1.2836546897888184] [D1: -1.6769475936889648, D2: -0.34389787912368774]\n",
      "[Epoch 164/200]\n",
      "Losses: [GE1: -3.8369154930114746, GE2: -0.8376487493515015] [D1: -2.5502524375915527, D2: -0.3088071048259735]\n",
      "[Epoch 164/200]\n",
      "Losses: [GE1: -4.500232219696045, GE2: -1.0571478605270386] [D1: -2.7336249351501465, D2: -0.38321882486343384]\n",
      "[Epoch 164/200]\n",
      "Losses: [GE1: -4.478808403015137, GE2: -1.0680947303771973] [D1: -2.545264720916748, D2: -0.27211353182792664]\n",
      "[Epoch 164/200]\n",
      "Losses: [GE1: -3.477545738220215, GE2: -0.5986893177032471] [D1: -1.6389997005462646, D2: -0.43360570073127747]\n",
      "[Epoch 164/200]\n",
      "Losses: [GE1: -4.215185165405273, GE2: -0.738101601600647] [D1: -2.2906150817871094, D2: -0.36863943934440613]\n"
     ]
    },
    {
     "name": "stderr",
     "output_type": "stream",
     "text": [
      " 82%|█████████████████████████▌     | 165/200 [1:18:11<16:35, 28.44s/it]"
     ]
    },
    {
     "name": "stdout",
     "output_type": "stream",
     "text": [
      "[Epoch 165/200]\n",
      "Losses: [GE1: -3.9384984970092773, GE2: -0.7387651801109314] [D1: -2.3265819549560547, D2: -0.2957775592803955]\n",
      "[Epoch 165/200]\n",
      "Losses: [GE1: -4.006968975067139, GE2: -0.9378200173377991] [D1: -2.031581401824951, D2: -0.39216673374176025]\n",
      "[Epoch 165/200]\n",
      "Losses: [GE1: -4.378302574157715, GE2: -1.140308141708374] [D1: -2.3969857692718506, D2: -0.434286892414093]\n",
      "[Epoch 165/200]\n",
      "Losses: [GE1: -3.751493453979492, GE2: -1.002611756324768] [D1: -2.7363507747650146, D2: -0.43334150314331055]\n",
      "[Epoch 165/200]\n",
      "Losses: [GE1: -3.776141881942749, GE2: -0.6441640257835388] [D1: -1.7867560386657715, D2: -0.36968865990638733]\n",
      "[Epoch 165/200]\n",
      "Losses: [GE1: -2.946155071258545, GE2: -0.7871326804161072] [D1: -3.292665958404541, D2: -0.33705997467041016]\n",
      "[Epoch 165/200]\n",
      "Losses: [GE1: -3.5068721771240234, GE2: -0.5641566514968872] [D1: -3.5207419395446777, D2: -0.35919129848480225]\n",
      "[Epoch 165/200]\n",
      "Losses: [GE1: -3.807842493057251, GE2: -0.8472502827644348] [D1: -3.207521677017212, D2: -0.39155033230781555]\n",
      "[Epoch 165/200]\n",
      "Losses: [GE1: -4.5942535400390625, GE2: -0.7971352338790894] [D1: -2.056764602661133, D2: -0.34797361493110657]\n",
      "[Epoch 165/200]\n",
      "Losses: [GE1: -3.666134834289551, GE2: -0.7963750958442688] [D1: -1.3700957298278809, D2: -0.3104003369808197]\n"
     ]
    },
    {
     "name": "stderr",
     "output_type": "stream",
     "text": [
      " 83%|█████████████████████████▋     | 166/200 [1:18:40<16:06, 28.44s/it]"
     ]
    },
    {
     "name": "stdout",
     "output_type": "stream",
     "text": [
      "[Epoch 166/200]\n",
      "Losses: [GE1: -3.600144147872925, GE2: -0.6497224569320679] [D1: -1.2816970348358154, D2: -0.38569483160972595]\n",
      "[Epoch 166/200]\n",
      "Losses: [GE1: -4.337957382202148, GE2: -0.6590904593467712] [D1: -2.7189314365386963, D2: -0.36975547671318054]\n",
      "[Epoch 166/200]\n",
      "Losses: [GE1: -4.9597015380859375, GE2: -0.8958605527877808] [D1: -2.0647950172424316, D2: -0.39467373490333557]\n",
      "[Epoch 166/200]\n",
      "Losses: [GE1: -4.068522930145264, GE2: -0.8112629652023315] [D1: -1.6722697019577026, D2: -0.29215478897094727]\n",
      "[Epoch 166/200]\n",
      "Losses: [GE1: -3.974411725997925, GE2: -0.7759453058242798] [D1: -2.055976152420044, D2: -0.43455591797828674]\n",
      "[Epoch 166/200]\n",
      "Losses: [GE1: -3.5177478790283203, GE2: -0.6287996172904968] [D1: -3.4174067974090576, D2: -0.35235685110092163]\n",
      "[Epoch 166/200]\n",
      "Losses: [GE1: -4.050529956817627, GE2: -0.7878573536872864] [D1: -1.7648192644119263, D2: -0.386949747800827]\n",
      "[Epoch 166/200]\n",
      "Losses: [GE1: -4.130483627319336, GE2: -0.7955636382102966] [D1: -1.8994636535644531, D2: -0.3820493221282959]\n",
      "[Epoch 166/200]\n",
      "Losses: [GE1: -3.9582157135009766, GE2: -1.0304937362670898] [D1: -2.515010356903076, D2: -0.33915093541145325]\n",
      "[Epoch 166/200]\n",
      "Losses: [GE1: -4.0112385749816895, GE2: -1.172305703163147] [D1: -3.0845961570739746, D2: -0.36896762251853943]\n"
     ]
    },
    {
     "name": "stderr",
     "output_type": "stream",
     "text": [
      " 84%|█████████████████████████▉     | 167/200 [1:19:08<15:38, 28.44s/it]"
     ]
    },
    {
     "name": "stdout",
     "output_type": "stream",
     "text": [
      "[Epoch 167/200]\n",
      "Losses: [GE1: -3.851820468902588, GE2: -0.676196813583374] [D1: -1.530771255493164, D2: -0.4338637590408325]\n",
      "[Epoch 167/200]\n",
      "Losses: [GE1: -3.27493953704834, GE2: -1.0456668138504028] [D1: -2.895045042037964, D2: -0.44009268283843994]\n",
      "[Epoch 167/200]\n",
      "Losses: [GE1: -3.7907986640930176, GE2: -1.0398396253585815] [D1: -2.28420352935791, D2: -0.320361465215683]\n",
      "[Epoch 167/200]\n",
      "Losses: [GE1: -3.942863702774048, GE2: -0.9991427063941956] [D1: -3.585930585861206, D2: -0.42931896448135376]\n",
      "[Epoch 167/200]\n",
      "Losses: [GE1: -4.330775260925293, GE2: -0.814417839050293] [D1: -2.6212220191955566, D2: -0.38063231110572815]\n",
      "[Epoch 167/200]\n",
      "Losses: [GE1: -3.806103467941284, GE2: -1.1684080362319946] [D1: -1.229125738143921, D2: -0.26808491349220276]\n",
      "[Epoch 167/200]\n",
      "Losses: [GE1: -4.094255447387695, GE2: -0.6169822216033936] [D1: -1.7875733375549316, D2: -0.38410958647727966]\n",
      "[Epoch 167/200]\n",
      "Losses: [GE1: -5.131001949310303, GE2: -0.7247804403305054] [D1: -2.6167948246002197, D2: -0.37150341272354126]\n",
      "[Epoch 167/200]\n",
      "Losses: [GE1: -4.292571544647217, GE2: -1.028706669807434] [D1: -1.9726696014404297, D2: -0.5220690965652466]\n",
      "[Epoch 167/200]\n",
      "Losses: [GE1: -4.602604389190674, GE2: -1.0037438869476318] [D1: -1.2263336181640625, D2: -0.3240785300731659]\n"
     ]
    },
    {
     "name": "stderr",
     "output_type": "stream",
     "text": [
      " 84%|██████████████████████████     | 168/200 [1:19:37<15:09, 28.44s/it]"
     ]
    },
    {
     "name": "stdout",
     "output_type": "stream",
     "text": [
      "[Epoch 168/200]\n",
      "Losses: [GE1: -3.580385446548462, GE2: -0.6764818429946899] [D1: -2.6668992042541504, D2: -0.29653385281562805]\n",
      "[Epoch 168/200]\n",
      "Losses: [GE1: -3.5114572048187256, GE2: -0.6897776126861572] [D1: -2.254544258117676, D2: -0.3986171782016754]\n",
      "[Epoch 168/200]\n",
      "Losses: [GE1: -4.098215103149414, GE2: -0.852165162563324] [D1: -2.74031662940979, D2: -0.3455229103565216]\n",
      "[Epoch 168/200]\n",
      "Losses: [GE1: -3.931631326675415, GE2: -0.5903640985488892] [D1: -1.798229455947876, D2: -0.3908557891845703]\n",
      "[Epoch 168/200]\n",
      "Losses: [GE1: -3.9717822074890137, GE2: -1.088262915611267] [D1: -3.2275466918945312, D2: -0.3392316699028015]\n",
      "[Epoch 168/200]\n",
      "Losses: [GE1: -4.524394989013672, GE2: -0.7966794967651367] [D1: -3.2559776306152344, D2: -0.35504353046417236]\n",
      "[Epoch 168/200]\n",
      "Losses: [GE1: -4.113827705383301, GE2: -0.744332492351532] [D1: -1.5227338075637817, D2: -0.3664192855358124]\n",
      "[Epoch 168/200]\n",
      "Losses: [GE1: -3.864495277404785, GE2: -0.7315431833267212] [D1: -3.014691114425659, D2: -0.4261482357978821]\n",
      "[Epoch 168/200]\n",
      "Losses: [GE1: -3.182374954223633, GE2: -0.8793274164199829] [D1: -1.4291034936904907, D2: -0.2696712911128998]\n",
      "[Epoch 168/200]\n",
      "Losses: [GE1: -3.7509288787841797, GE2: -0.919951319694519] [D1: -1.7850927114486694, D2: -0.31848397850990295]\n"
     ]
    },
    {
     "name": "stderr",
     "output_type": "stream",
     "text": [
      " 84%|██████████████████████████▏    | 169/200 [1:20:05<14:41, 28.44s/it]"
     ]
    },
    {
     "name": "stdout",
     "output_type": "stream",
     "text": [
      "[Epoch 169/200]\n",
      "Losses: [GE1: -3.889867067337036, GE2: -0.5671204328536987] [D1: -3.672203302383423, D2: -0.47379234433174133]\n",
      "[Epoch 169/200]\n",
      "Losses: [GE1: -3.5665578842163086, GE2: -0.8644863963127136] [D1: -1.9483230113983154, D2: -0.3560120761394501]\n",
      "[Epoch 169/200]\n",
      "Losses: [GE1: -4.324923515319824, GE2: -0.8675228953361511] [D1: -1.4708564281463623, D2: -0.21992908418178558]\n",
      "[Epoch 169/200]\n",
      "Losses: [GE1: -4.137820243835449, GE2: -0.6235659122467041] [D1: -1.9524592161178589, D2: -0.27546921372413635]\n",
      "[Epoch 169/200]\n",
      "Losses: [GE1: -4.429060935974121, GE2: -0.8531411290168762] [D1: -1.5326409339904785, D2: -0.318042516708374]\n",
      "[Epoch 169/200]\n",
      "Losses: [GE1: -3.9305341243743896, GE2: -1.1401211023330688] [D1: -1.5132182836532593, D2: -0.39648106694221497]\n",
      "[Epoch 169/200]\n",
      "Losses: [GE1: -3.8833258152008057, GE2: -0.8860263824462891] [D1: -2.141613006591797, D2: -0.3833734393119812]\n",
      "[Epoch 169/200]\n",
      "Losses: [GE1: -3.780198097229004, GE2: -0.883131742477417] [D1: -2.7682831287384033, D2: -0.34098318219184875]\n",
      "[Epoch 169/200]\n",
      "Losses: [GE1: -3.6678719520568848, GE2: -0.7517516016960144] [D1: -2.0205435752868652, D2: -0.4054313004016876]\n",
      "[Epoch 169/200]\n",
      "Losses: [GE1: -4.501573085784912, GE2: -0.6898700594902039] [D1: -2.716153621673584, D2: -0.37086066603660583]\n"
     ]
    },
    {
     "name": "stderr",
     "output_type": "stream",
     "text": [
      " 85%|██████████████████████████▎    | 170/200 [1:20:34<14:13, 28.44s/it]"
     ]
    },
    {
     "name": "stdout",
     "output_type": "stream",
     "text": [
      "[Epoch 170/200]\n",
      "Losses: [GE1: -3.920070171356201, GE2: -0.6076833009719849] [D1: -2.1304140090942383, D2: -0.3864750266075134]\n",
      "[Epoch 170/200]\n",
      "Losses: [GE1: -3.281874179840088, GE2: -0.9950228929519653] [D1: -3.1031558513641357, D2: -0.34908798336982727]\n",
      "[Epoch 170/200]\n",
      "Losses: [GE1: -4.525903701782227, GE2: -0.892143726348877] [D1: -1.3687454462051392, D2: -0.39391693472862244]\n",
      "[Epoch 170/200]\n",
      "Losses: [GE1: -4.005971908569336, GE2: -0.4619303047657013] [D1: -3.030441999435425, D2: -0.4259207248687744]\n",
      "[Epoch 170/200]\n",
      "Losses: [GE1: -3.627946376800537, GE2: -0.9376264214515686] [D1: -1.8658485412597656, D2: -0.3977394104003906]\n",
      "[Epoch 170/200]\n",
      "Losses: [GE1: -3.9051012992858887, GE2: -0.89788818359375] [D1: -2.2652220726013184, D2: -0.37450340390205383]\n",
      "[Epoch 170/200]\n",
      "Losses: [GE1: -4.218281269073486, GE2: -0.9632239937782288] [D1: -2.566192626953125, D2: -0.38150453567504883]\n",
      "[Epoch 170/200]\n",
      "Losses: [GE1: -4.022186756134033, GE2: -0.9223138093948364] [D1: -3.6690587997436523, D2: -0.3441281318664551]\n",
      "[Epoch 170/200]\n",
      "Losses: [GE1: -4.011746406555176, GE2: -0.5825796127319336] [D1: -2.2327699661254883, D2: -0.3157236874103546]\n",
      "[Epoch 170/200]\n",
      "Losses: [GE1: -4.309014320373535, GE2: -0.9432716965675354] [D1: -2.9070916175842285, D2: -0.38702335953712463]\n"
     ]
    },
    {
     "name": "stderr",
     "output_type": "stream",
     "text": [
      " 86%|██████████████████████████▌    | 171/200 [1:21:02<13:44, 28.44s/it]"
     ]
    },
    {
     "name": "stdout",
     "output_type": "stream",
     "text": [
      "[Epoch 171/200]\n",
      "Losses: [GE1: -3.607170820236206, GE2: -0.7670350670814514] [D1: -2.5771822929382324, D2: -0.38223326206207275]\n",
      "[Epoch 171/200]\n",
      "Losses: [GE1: -3.572380781173706, GE2: -0.8108112812042236] [D1: -1.8649741411209106, D2: -0.3393738865852356]\n",
      "[Epoch 171/200]\n",
      "Losses: [GE1: -3.4880340099334717, GE2: -0.9608169198036194] [D1: -2.4543213844299316, D2: -0.38109099864959717]\n",
      "[Epoch 171/200]\n",
      "Losses: [GE1: -3.9456229209899902, GE2: -0.9266660809516907] [D1: -1.7797622680664062, D2: -0.3149036169052124]\n",
      "[Epoch 171/200]\n",
      "Losses: [GE1: -3.6401705741882324, GE2: -0.8456814885139465] [D1: -2.29475474357605, D2: -0.35189446806907654]\n",
      "[Epoch 171/200]\n",
      "Losses: [GE1: -3.185767650604248, GE2: -0.832876443862915] [D1: -1.8037559986114502, D2: -0.3140040636062622]\n",
      "[Epoch 171/200]\n",
      "Losses: [GE1: -3.428234338760376, GE2: -0.6817721724510193] [D1: -2.700429916381836, D2: -0.30543196201324463]\n",
      "[Epoch 171/200]\n",
      "Losses: [GE1: -3.9156994819641113, GE2: -0.9321731925010681] [D1: -2.519993782043457, D2: -0.3975648880004883]\n",
      "[Epoch 171/200]\n",
      "Losses: [GE1: -4.086441516876221, GE2: -0.9697821140289307] [D1: -2.300640106201172, D2: -0.27456533908843994]\n",
      "[Epoch 171/200]\n",
      "Losses: [GE1: -3.757521629333496, GE2: -1.142621397972107] [D1: -2.4114255905151367, D2: -0.3838665187358856]\n"
     ]
    },
    {
     "name": "stderr",
     "output_type": "stream",
     "text": [
      " 86%|██████████████████████████▋    | 172/200 [1:21:30<13:16, 28.43s/it]"
     ]
    },
    {
     "name": "stdout",
     "output_type": "stream",
     "text": [
      "[Epoch 172/200]\n",
      "Losses: [GE1: -4.047260761260986, GE2: -0.8498554229736328] [D1: -1.324605941772461, D2: -0.34286922216415405]\n",
      "[Epoch 172/200]\n",
      "Losses: [GE1: -4.554575443267822, GE2: -1.2649036645889282] [D1: -2.6935839653015137, D2: -0.3675247132778168]\n",
      "[Epoch 172/200]\n",
      "Losses: [GE1: -3.6644043922424316, GE2: -1.29836106300354] [D1: -2.514921188354492, D2: -0.34027090668678284]\n",
      "[Epoch 172/200]\n",
      "Losses: [GE1: -4.393490791320801, GE2: -0.906812310218811] [D1: -1.6683768033981323, D2: -0.3285578489303589]\n",
      "[Epoch 172/200]\n",
      "Losses: [GE1: -4.237002849578857, GE2: -0.8154345750808716] [D1: -2.6939806938171387, D2: -0.3032078444957733]\n",
      "[Epoch 172/200]\n",
      "Losses: [GE1: -3.9552180767059326, GE2: -0.7543667554855347] [D1: -1.9262820482254028, D2: -0.25601011514663696]\n",
      "[Epoch 172/200]\n",
      "Losses: [GE1: -3.4856104850769043, GE2: -0.8573871850967407] [D1: -1.9913127422332764, D2: -0.370254248380661]\n",
      "[Epoch 172/200]\n",
      "Losses: [GE1: -3.8692426681518555, GE2: -0.9783609509468079] [D1: -2.3400964736938477, D2: -0.34171003103256226]\n",
      "[Epoch 172/200]\n",
      "Losses: [GE1: -3.930382490158081, GE2: -0.8387701511383057] [D1: -2.625753879547119, D2: -0.43245407938957214]\n",
      "[Epoch 172/200]\n",
      "Losses: [GE1: -3.749917507171631, GE2: -1.0140348672866821] [D1: -2.445024013519287, D2: -0.358591765165329]\n"
     ]
    },
    {
     "name": "stderr",
     "output_type": "stream",
     "text": [
      " 86%|██████████████████████████▊    | 173/200 [1:21:59<12:47, 28.43s/it]"
     ]
    },
    {
     "name": "stdout",
     "output_type": "stream",
     "text": [
      "[Epoch 173/200]\n",
      "Losses: [GE1: -3.2801637649536133, GE2: -1.0485824346542358] [D1: -2.602041244506836, D2: -0.3819343149662018]\n",
      "[Epoch 173/200]\n",
      "Losses: [GE1: -3.9644787311553955, GE2: -1.264312505722046] [D1: -1.9508391618728638, D2: -0.32584401965141296]\n",
      "[Epoch 173/200]\n",
      "Losses: [GE1: -3.8729946613311768, GE2: -0.8025701642036438] [D1: -1.064660668373108, D2: -0.3879714608192444]\n",
      "[Epoch 173/200]\n",
      "Losses: [GE1: -3.85542893409729, GE2: -0.8147490620613098] [D1: -3.931088447570801, D2: -0.2403816282749176]\n",
      "[Epoch 173/200]\n",
      "Losses: [GE1: -4.526316165924072, GE2: -0.7758618593215942] [D1: -2.032790422439575, D2: -0.291517972946167]\n",
      "[Epoch 173/200]\n",
      "Losses: [GE1: -3.693457841873169, GE2: -0.9072084426879883] [D1: -1.8644757270812988, D2: -0.35496681928634644]\n",
      "[Epoch 173/200]\n",
      "Losses: [GE1: -4.557384014129639, GE2: -0.8786762952804565] [D1: -1.6972870826721191, D2: -0.2696690559387207]\n",
      "[Epoch 173/200]\n",
      "Losses: [GE1: -4.163161754608154, GE2: -0.7715592980384827] [D1: -1.523011326789856, D2: -0.32555142045021057]\n",
      "[Epoch 173/200]\n",
      "Losses: [GE1: -4.15152645111084, GE2: -0.9302412867546082] [D1: -2.707524299621582, D2: -0.3517841398715973]\n",
      "[Epoch 173/200]\n",
      "Losses: [GE1: -3.5427308082580566, GE2: -0.9819191098213196] [D1: -3.437974214553833, D2: -0.2775212526321411]\n"
     ]
    },
    {
     "name": "stderr",
     "output_type": "stream",
     "text": [
      " 87%|██████████████████████████▉    | 174/200 [1:22:27<12:19, 28.43s/it]"
     ]
    },
    {
     "name": "stdout",
     "output_type": "stream",
     "text": [
      "[Epoch 174/200]\n",
      "Losses: [GE1: -3.3988542556762695, GE2: -0.9581019878387451] [D1: -2.2658276557922363, D2: -0.45003369450569153]\n",
      "[Epoch 174/200]\n",
      "Losses: [GE1: -4.729044437408447, GE2: -1.0361764430999756] [D1: -1.3121471405029297, D2: -0.33033475279808044]\n",
      "[Epoch 174/200]\n",
      "Losses: [GE1: -3.5106449127197266, GE2: -0.6685181856155396] [D1: -2.5458321571350098, D2: -0.44367703795433044]\n",
      "[Epoch 174/200]\n",
      "Losses: [GE1: -4.093470096588135, GE2: -1.0677502155303955] [D1: -1.852522611618042, D2: -0.35048606991767883]\n",
      "[Epoch 174/200]\n",
      "Losses: [GE1: -4.164845943450928, GE2: -0.9856473803520203] [D1: -2.172469139099121, D2: -0.3526865839958191]\n",
      "[Epoch 174/200]\n",
      "Losses: [GE1: -4.61646842956543, GE2: -0.43976297974586487] [D1: -1.7937424182891846, D2: -0.3121553063392639]\n",
      "[Epoch 174/200]\n",
      "Losses: [GE1: -3.43149733543396, GE2: -1.0017526149749756] [D1: -3.2882933616638184, D2: -0.33710235357284546]\n",
      "[Epoch 174/200]\n",
      "Losses: [GE1: -3.3757212162017822, GE2: -1.0053586959838867] [D1: -3.3776040077209473, D2: -0.3863261044025421]\n",
      "[Epoch 174/200]\n",
      "Losses: [GE1: -3.586778163909912, GE2: -0.7600226998329163] [D1: -1.1806797981262207, D2: -0.44780245423316956]\n",
      "[Epoch 174/200]\n",
      "Losses: [GE1: -3.981670379638672, GE2: -0.7641082406044006] [D1: -1.9805973768234253, D2: -0.36079367995262146]\n"
     ]
    },
    {
     "name": "stderr",
     "output_type": "stream",
     "text": [
      " 88%|███████████████████████████▏   | 175/200 [1:22:55<11:50, 28.43s/it]"
     ]
    },
    {
     "name": "stdout",
     "output_type": "stream",
     "text": [
      "[Epoch 175/200]\n",
      "Losses: [GE1: -3.9812347888946533, GE2: -1.0024724006652832] [D1: -1.9524050951004028, D2: -0.30568885803222656]\n",
      "[Epoch 175/200]\n",
      "Losses: [GE1: -4.897257328033447, GE2: -0.8203678131103516] [D1: -2.6377973556518555, D2: -0.3548543453216553]\n",
      "[Epoch 175/200]\n",
      "Losses: [GE1: -4.784590721130371, GE2: -1.02968168258667] [D1: -1.871561050415039, D2: -0.3599441349506378]\n",
      "[Epoch 175/200]\n",
      "Losses: [GE1: -4.003905773162842, GE2: -0.9105201363563538] [D1: -1.9959603548049927, D2: -0.31471097469329834]\n",
      "[Epoch 175/200]\n",
      "Losses: [GE1: -4.217820167541504, GE2: -0.9862821698188782] [D1: -2.8245067596435547, D2: -0.39307138323783875]\n",
      "[Epoch 175/200]\n",
      "Losses: [GE1: -3.584533929824829, GE2: -0.7194401621818542] [D1: -3.561018466949463, D2: -0.37401267886161804]\n",
      "[Epoch 175/200]\n",
      "Losses: [GE1: -3.5848445892333984, GE2: -0.8828456401824951] [D1: -2.358173370361328, D2: -0.35228854417800903]\n",
      "[Epoch 175/200]\n",
      "Losses: [GE1: -4.13402795791626, GE2: -1.0779520273208618] [D1: -1.9960265159606934, D2: -0.3807653784751892]\n",
      "[Epoch 175/200]\n",
      "Losses: [GE1: -3.9669597148895264, GE2: -0.7871797680854797] [D1: -1.323317050933838, D2: -0.2984135150909424]\n",
      "[Epoch 175/200]\n",
      "Losses: [GE1: -3.346975088119507, GE2: -1.1199445724487305] [D1: -1.4905158281326294, D2: -0.3191840946674347]\n"
     ]
    },
    {
     "name": "stderr",
     "output_type": "stream",
     "text": [
      " 88%|███████████████████████████▎   | 176/200 [1:23:24<11:22, 28.43s/it]"
     ]
    },
    {
     "name": "stdout",
     "output_type": "stream",
     "text": [
      "[Epoch 176/200]\n",
      "Losses: [GE1: -3.32281231880188, GE2: -0.7190626859664917] [D1: -2.989511489868164, D2: -0.34392428398132324]\n",
      "[Epoch 176/200]\n",
      "Losses: [GE1: -3.92437744140625, GE2: -0.8006131052970886] [D1: -2.18491530418396, D2: -0.3040831685066223]\n",
      "[Epoch 176/200]\n",
      "Losses: [GE1: -3.975659132003784, GE2: -0.8064186573028564] [D1: -1.6500327587127686, D2: -0.35231417417526245]\n",
      "[Epoch 176/200]\n",
      "Losses: [GE1: -4.302648067474365, GE2: -0.9809607863426208] [D1: -2.0799169540405273, D2: -0.3959972560405731]\n",
      "[Epoch 176/200]\n",
      "Losses: [GE1: -4.040505409240723, GE2: -1.1193585395812988] [D1: -1.3981624841690063, D2: -0.32126346230506897]\n",
      "[Epoch 176/200]\n",
      "Losses: [GE1: -4.513959884643555, GE2: -0.6251592040061951] [D1: -2.427642583847046, D2: -0.26955804228782654]\n",
      "[Epoch 176/200]\n",
      "Losses: [GE1: -3.70988392829895, GE2: -0.70062255859375] [D1: -2.263446092605591, D2: -0.44175824522972107]\n",
      "[Epoch 176/200]\n",
      "Losses: [GE1: -4.0708112716674805, GE2: -0.7305771708488464] [D1: -2.5675859451293945, D2: -0.33538681268692017]\n",
      "[Epoch 176/200]\n",
      "Losses: [GE1: -3.692924976348877, GE2: -0.7472732067108154] [D1: -2.8690640926361084, D2: -0.3806524872779846]\n",
      "[Epoch 176/200]\n",
      "Losses: [GE1: -3.4138805866241455, GE2: -0.9274601936340332] [D1: -2.3918559551239014, D2: -0.28578221797943115]\n"
     ]
    },
    {
     "name": "stderr",
     "output_type": "stream",
     "text": [
      " 88%|███████████████████████████▍   | 177/200 [1:23:52<10:53, 28.43s/it]"
     ]
    },
    {
     "name": "stdout",
     "output_type": "stream",
     "text": [
      "[Epoch 177/200]\n",
      "Losses: [GE1: -4.3504509925842285, GE2: -1.1370362043380737] [D1: -2.931973934173584, D2: -0.47636786103248596]\n",
      "[Epoch 177/200]\n",
      "Losses: [GE1: -3.962080240249634, GE2: -0.9896364212036133] [D1: -3.488715648651123, D2: -0.3928976058959961]\n",
      "[Epoch 177/200]\n",
      "Losses: [GE1: -4.4464311599731445, GE2: -1.2521040439605713] [D1: -2.3505454063415527, D2: -0.31174421310424805]\n",
      "[Epoch 177/200]\n",
      "Losses: [GE1: -4.562755584716797, GE2: -0.6938464045524597] [D1: -2.9844810962677, D2: -0.38615167140960693]\n",
      "[Epoch 177/200]\n",
      "Losses: [GE1: -3.501739263534546, GE2: -0.7681309580802917] [D1: -1.6019138097763062, D2: -0.35822203755378723]\n",
      "[Epoch 177/200]\n",
      "Losses: [GE1: -3.3861989974975586, GE2: -0.919256329536438] [D1: -2.5399909019470215, D2: -0.3494684398174286]\n",
      "[Epoch 177/200]\n",
      "Losses: [GE1: -4.130200386047363, GE2: -1.2245951890945435] [D1: -2.3328089714050293, D2: -0.3360138237476349]\n",
      "[Epoch 177/200]\n",
      "Losses: [GE1: -3.827411413192749, GE2: -0.8748986721038818] [D1: -1.8467426300048828, D2: -0.3122899532318115]\n",
      "[Epoch 177/200]\n",
      "Losses: [GE1: -4.660431385040283, GE2: -1.0782784223556519] [D1: -1.9535062313079834, D2: -0.40925487875938416]\n",
      "[Epoch 177/200]\n",
      "Losses: [GE1: -4.470392227172852, GE2: -0.7449138760566711] [D1: -3.1063668727874756, D2: -0.3397922217845917]\n"
     ]
    },
    {
     "name": "stderr",
     "output_type": "stream",
     "text": [
      " 89%|███████████████████████████▌   | 178/200 [1:24:20<10:25, 28.43s/it]"
     ]
    },
    {
     "name": "stdout",
     "output_type": "stream",
     "text": [
      "[Epoch 178/200]\n",
      "Losses: [GE1: -4.394745349884033, GE2: -0.6695107221603394] [D1: -1.5388797521591187, D2: -0.4218085706233978]\n",
      "[Epoch 178/200]\n",
      "Losses: [GE1: -4.183500289916992, GE2: -1.0455379486083984] [D1: -1.8250579833984375, D2: -0.4262925386428833]\n",
      "[Epoch 178/200]\n",
      "Losses: [GE1: -3.738727569580078, GE2: -1.056890606880188] [D1: -2.6985602378845215, D2: -0.4112449288368225]\n",
      "[Epoch 178/200]\n",
      "Losses: [GE1: -3.4903314113616943, GE2: -0.853039026260376] [D1: -1.2164430618286133, D2: -0.41149991750717163]\n",
      "[Epoch 178/200]\n",
      "Losses: [GE1: -4.471327781677246, GE2: -0.953671932220459] [D1: -2.906122922897339, D2: -0.4120597243309021]\n",
      "[Epoch 178/200]\n",
      "Losses: [GE1: -4.687736988067627, GE2: -1.0298255681991577] [D1: -2.333479404449463, D2: -0.4276619851589203]\n",
      "[Epoch 178/200]\n",
      "Losses: [GE1: -4.110917091369629, GE2: -0.829287588596344] [D1: -1.8391033411026, D2: -0.37699201703071594]\n",
      "[Epoch 178/200]\n",
      "Losses: [GE1: -4.144039154052734, GE2: -0.8069167733192444] [D1: -2.8819916248321533, D2: -0.4709276258945465]\n",
      "[Epoch 178/200]\n",
      "Losses: [GE1: -4.1261725425720215, GE2: -0.7449244260787964] [D1: -2.597287654876709, D2: -0.41254985332489014]\n",
      "[Epoch 178/200]\n",
      "Losses: [GE1: -3.74885630607605, GE2: -1.0465902090072632] [D1: -1.125669240951538, D2: -0.3490743637084961]\n"
     ]
    },
    {
     "name": "stderr",
     "output_type": "stream",
     "text": [
      " 90%|███████████████████████████▋   | 179/200 [1:24:49<09:57, 28.43s/it]"
     ]
    },
    {
     "name": "stdout",
     "output_type": "stream",
     "text": [
      "[Epoch 179/200]\n",
      "Losses: [GE1: -3.6126866340637207, GE2: -0.9810166358947754] [D1: -3.621819257736206, D2: -0.38472405076026917]\n",
      "[Epoch 179/200]\n",
      "Losses: [GE1: -4.360022068023682, GE2: -0.696598470211029] [D1: -1.9626359939575195, D2: -0.34609055519104004]\n",
      "[Epoch 179/200]\n",
      "Losses: [GE1: -3.932957410812378, GE2: -0.9806846976280212] [D1: -3.6185808181762695, D2: -0.3339574337005615]\n",
      "[Epoch 179/200]\n",
      "Losses: [GE1: -3.6522622108459473, GE2: -0.703059732913971] [D1: -1.0827248096466064, D2: -0.3856886029243469]\n",
      "[Epoch 179/200]\n",
      "Losses: [GE1: -4.374027252197266, GE2: -0.6892349720001221] [D1: -2.967501640319824, D2: -0.444301038980484]\n",
      "[Epoch 179/200]\n",
      "Losses: [GE1: -3.6332411766052246, GE2: -0.7086690664291382] [D1: -2.093729257583618, D2: -0.33822697401046753]\n",
      "[Epoch 179/200]\n",
      "Losses: [GE1: -4.038575649261475, GE2: -0.7474904656410217] [D1: -1.5184191465377808, D2: -0.33878281712532043]\n",
      "[Epoch 179/200]\n",
      "Losses: [GE1: -3.787964105606079, GE2: -0.9180610775947571] [D1: -3.5251646041870117, D2: -0.376038521528244]\n",
      "[Epoch 179/200]\n",
      "Losses: [GE1: -4.277500152587891, GE2: -0.7604829668998718] [D1: -2.6247382164001465, D2: -0.3204612135887146]\n",
      "[Epoch 179/200]\n",
      "Losses: [GE1: -4.174942493438721, GE2: -0.4954129159450531] [D1: -2.641036033630371, D2: -0.3455038070678711]\n"
     ]
    },
    {
     "name": "stderr",
     "output_type": "stream",
     "text": [
      " 90%|███████████████████████████▉   | 180/200 [1:25:17<09:28, 28.43s/it]"
     ]
    },
    {
     "name": "stdout",
     "output_type": "stream",
     "text": [
      "[Epoch 180/200]\n",
      "Losses: [GE1: -3.8552799224853516, GE2: -0.644221842288971] [D1: -2.7170073986053467, D2: -0.36253082752227783]\n",
      "[Epoch 180/200]\n",
      "Losses: [GE1: -4.130123615264893, GE2: -0.8499628305435181] [D1: -3.0457632541656494, D2: -0.33376795053482056]\n",
      "[Epoch 180/200]\n",
      "Losses: [GE1: -4.130615234375, GE2: -0.7677770256996155] [D1: -4.011569023132324, D2: -0.402231365442276]\n",
      "[Epoch 180/200]\n",
      "Losses: [GE1: -3.826136827468872, GE2: -0.8989042639732361] [D1: -2.6849300861358643, D2: -0.4191758334636688]\n",
      "[Epoch 180/200]\n",
      "Losses: [GE1: -3.7172443866729736, GE2: -0.8405047655105591] [D1: -2.2494683265686035, D2: -0.43014225363731384]\n",
      "[Epoch 180/200]\n",
      "Losses: [GE1: -4.346068382263184, GE2: -1.2810254096984863] [D1: -3.295665740966797, D2: -0.372773677110672]\n",
      "[Epoch 180/200]\n",
      "Losses: [GE1: -4.13740873336792, GE2: -1.1426011323928833] [D1: -2.4860587120056152, D2: -0.3739052712917328]\n",
      "[Epoch 180/200]\n",
      "Losses: [GE1: -4.279452800750732, GE2: -0.7955997586250305] [D1: -2.859544277191162, D2: -0.40190330147743225]\n",
      "[Epoch 180/200]\n",
      "Losses: [GE1: -3.739912509918213, GE2: -1.0536943674087524] [D1: -2.4482290744781494, D2: -0.3921454846858978]\n",
      "[Epoch 180/200]\n",
      "Losses: [GE1: -3.446223020553589, GE2: -0.9930412173271179] [D1: -2.595003128051758, D2: -0.37735918164253235]\n"
     ]
    },
    {
     "name": "stderr",
     "output_type": "stream",
     "text": [
      " 90%|████████████████████████████   | 181/200 [1:25:45<09:00, 28.43s/it]"
     ]
    },
    {
     "name": "stdout",
     "output_type": "stream",
     "text": [
      "[Epoch 181/200]\n",
      "Losses: [GE1: -4.157644748687744, GE2: -0.8436809778213501] [D1: -2.76595139503479, D2: -0.3812301456928253]\n",
      "[Epoch 181/200]\n",
      "Losses: [GE1: -3.0936501026153564, GE2: -0.7769943475723267] [D1: -1.9135710000991821, D2: -0.3210088908672333]\n",
      "[Epoch 181/200]\n",
      "Losses: [GE1: -3.4948487281799316, GE2: -0.9850499033927917] [D1: -3.953092336654663, D2: -0.40826910734176636]\n",
      "[Epoch 181/200]\n",
      "Losses: [GE1: -3.8646230697631836, GE2: -0.9456422924995422] [D1: -2.1312947273254395, D2: -0.4973272979259491]\n",
      "[Epoch 181/200]\n",
      "Losses: [GE1: -4.11564826965332, GE2: -1.1397886276245117] [D1: -3.141335964202881, D2: -0.31867167353630066]\n",
      "[Epoch 181/200]\n",
      "Losses: [GE1: -4.5599846839904785, GE2: -0.9885027408599854] [D1: -2.111806631088257, D2: -0.3557996451854706]\n",
      "[Epoch 181/200]\n",
      "Losses: [GE1: -3.4454753398895264, GE2: -0.7940236926078796] [D1: -2.6636135578155518, D2: -0.40939652919769287]\n",
      "[Epoch 181/200]\n",
      "Losses: [GE1: -4.006161689758301, GE2: -0.7340494394302368] [D1: -1.9842121601104736, D2: -0.32017460465431213]\n",
      "[Epoch 181/200]\n",
      "Losses: [GE1: -3.5666253566741943, GE2: -1.0899943113327026] [D1: -1.4012982845306396, D2: -0.26010066270828247]\n",
      "[Epoch 181/200]\n",
      "Losses: [GE1: -3.814070224761963, GE2: -1.0206100940704346] [D1: -2.327897310256958, D2: -0.34603211283683777]\n"
     ]
    },
    {
     "name": "stderr",
     "output_type": "stream",
     "text": [
      " 91%|████████████████████████████▏  | 182/200 [1:26:14<08:31, 28.43s/it]"
     ]
    },
    {
     "name": "stdout",
     "output_type": "stream",
     "text": [
      "[Epoch 182/200]\n",
      "Losses: [GE1: -3.9481358528137207, GE2: -0.5290736556053162] [D1: -2.098451614379883, D2: -0.31671270728111267]\n",
      "[Epoch 182/200]\n",
      "Losses: [GE1: -3.886754035949707, GE2: -0.9311757683753967] [D1: -2.431926727294922, D2: -0.3406619131565094]\n",
      "[Epoch 182/200]\n",
      "Losses: [GE1: -3.5082883834838867, GE2: -0.8430425524711609] [D1: -1.444612741470337, D2: -0.305026650428772]\n",
      "[Epoch 182/200]\n",
      "Losses: [GE1: -4.533235549926758, GE2: -1.004056453704834] [D1: -1.4415873289108276, D2: -0.3470340669155121]\n",
      "[Epoch 182/200]\n",
      "Losses: [GE1: -4.332001686096191, GE2: -0.7951495051383972] [D1: -2.0972797870635986, D2: -0.3141138255596161]\n",
      "[Epoch 182/200]\n",
      "Losses: [GE1: -3.8493542671203613, GE2: -0.9641092419624329] [D1: -3.825125217437744, D2: -0.36938226222991943]\n",
      "[Epoch 182/200]\n",
      "Losses: [GE1: -3.1593499183654785, GE2: -0.930546224117279] [D1: -2.315840721130371, D2: -0.39330387115478516]\n",
      "[Epoch 182/200]\n",
      "Losses: [GE1: -4.296172142028809, GE2: -0.9459639191627502] [D1: -2.245151996612549, D2: -0.3730650842189789]\n",
      "[Epoch 182/200]\n",
      "Losses: [GE1: -3.8242955207824707, GE2: -1.1072708368301392] [D1: -2.776500701904297, D2: -0.3885304629802704]\n",
      "[Epoch 182/200]\n",
      "Losses: [GE1: -3.5178353786468506, GE2: -1.0039728879928589] [D1: -2.2857470512390137, D2: -0.27251124382019043]\n"
     ]
    },
    {
     "name": "stderr",
     "output_type": "stream",
     "text": [
      " 92%|████████████████████████████▎  | 183/200 [1:26:42<08:03, 28.43s/it]"
     ]
    },
    {
     "name": "stdout",
     "output_type": "stream",
     "text": [
      "[Epoch 183/200]\n",
      "Losses: [GE1: -3.507437229156494, GE2: -0.9630256295204163] [D1: -2.459623098373413, D2: -0.3071068525314331]\n",
      "[Epoch 183/200]\n",
      "Losses: [GE1: -4.378121376037598, GE2: -1.1347229480743408] [D1: -2.6126904487609863, D2: -0.30361485481262207]\n",
      "[Epoch 183/200]\n",
      "Losses: [GE1: -4.5720744132995605, GE2: -0.8296176195144653] [D1: -2.9995903968811035, D2: -0.4142968952655792]\n",
      "[Epoch 183/200]\n",
      "Losses: [GE1: -3.713515520095825, GE2: -0.851450502872467] [D1: -1.8856983184814453, D2: -0.41871169209480286]\n",
      "[Epoch 183/200]\n",
      "Losses: [GE1: -4.275024890899658, GE2: -0.9644411206245422] [D1: -1.8565716743469238, D2: -0.36706897616386414]\n",
      "[Epoch 183/200]\n",
      "Losses: [GE1: -3.3888587951660156, GE2: -1.1011769771575928] [D1: -3.2299342155456543, D2: -0.2678261399269104]\n",
      "[Epoch 183/200]\n",
      "Losses: [GE1: -4.070262432098389, GE2: -0.6082400679588318] [D1: -1.2793534994125366, D2: -0.3954070806503296]\n",
      "[Epoch 183/200]\n",
      "Losses: [GE1: -3.3642542362213135, GE2: -1.0558196306228638] [D1: -2.1241626739501953, D2: -0.47327640652656555]\n",
      "[Epoch 183/200]\n",
      "Losses: [GE1: -3.7310566902160645, GE2: -0.8166528344154358] [D1: -1.2271815538406372, D2: -0.37418994307518005]\n",
      "[Epoch 183/200]\n",
      "Losses: [GE1: -3.253418445587158, GE2: -0.859546422958374] [D1: -3.429323673248291, D2: -0.33985966444015503]\n"
     ]
    },
    {
     "name": "stderr",
     "output_type": "stream",
     "text": [
      " 92%|████████████████████████████▌  | 184/200 [1:27:10<07:34, 28.43s/it]"
     ]
    },
    {
     "name": "stdout",
     "output_type": "stream",
     "text": [
      "[Epoch 184/200]\n",
      "Losses: [GE1: -4.1038689613342285, GE2: -1.033454418182373] [D1: -1.6754634380340576, D2: -0.39162522554397583]\n",
      "[Epoch 184/200]\n",
      "Losses: [GE1: -3.604891061782837, GE2: -0.8000615835189819] [D1: -3.4956612586975098, D2: -0.3574390709400177]\n",
      "[Epoch 184/200]\n",
      "Losses: [GE1: -4.10538387298584, GE2: -0.8511077165603638] [D1: -1.8707467317581177, D2: -0.33271950483322144]\n",
      "[Epoch 184/200]\n",
      "Losses: [GE1: -4.055680274963379, GE2: -0.8754690885543823] [D1: -2.507028102874756, D2: -0.3379366397857666]\n",
      "[Epoch 184/200]\n",
      "Losses: [GE1: -3.737912654876709, GE2: -0.9665446877479553] [D1: -3.2119131088256836, D2: -0.36490771174430847]\n",
      "[Epoch 184/200]\n",
      "Losses: [GE1: -2.8337748050689697, GE2: -0.736274778842926] [D1: -1.5054131746292114, D2: -0.3286261260509491]\n",
      "[Epoch 184/200]\n",
      "Losses: [GE1: -3.0503203868865967, GE2: -0.8878717422485352] [D1: -1.5808297395706177, D2: -0.379859983921051]\n",
      "[Epoch 184/200]\n",
      "Losses: [GE1: -3.8106040954589844, GE2: -0.9464100003242493] [D1: -2.025607109069824, D2: -0.3502258062362671]\n",
      "[Epoch 184/200]\n",
      "Losses: [GE1: -3.9934253692626953, GE2: -0.8008968234062195] [D1: -1.723144769668579, D2: -0.3649335503578186]\n",
      "[Epoch 184/200]\n",
      "Losses: [GE1: -4.329785346984863, GE2: -0.7064908742904663] [D1: -1.391437292098999, D2: -0.3265128433704376]\n"
     ]
    },
    {
     "name": "stderr",
     "output_type": "stream",
     "text": [
      " 92%|████████████████████████████▋  | 185/200 [1:27:39<07:06, 28.43s/it]"
     ]
    },
    {
     "name": "stdout",
     "output_type": "stream",
     "text": [
      "[Epoch 185/200]\n",
      "Losses: [GE1: -3.809058666229248, GE2: -0.7903407216072083] [D1: -2.7641468048095703, D2: -0.3721233308315277]\n",
      "[Epoch 185/200]\n",
      "Losses: [GE1: -4.205996036529541, GE2: -0.9750914573669434] [D1: -1.870363473892212, D2: -0.32608139514923096]\n",
      "[Epoch 185/200]\n",
      "Losses: [GE1: -4.111830711364746, GE2: -1.140734314918518] [D1: -4.314790725708008, D2: -0.3859002888202667]\n",
      "[Epoch 185/200]\n",
      "Losses: [GE1: -4.189639091491699, GE2: -0.649290144443512] [D1: -1.5609486103057861, D2: -0.3269403874874115]\n",
      "[Epoch 185/200]\n",
      "Losses: [GE1: -3.985964775085449, GE2: -0.9370031356811523] [D1: -1.119065284729004, D2: -0.30687350034713745]\n",
      "[Epoch 185/200]\n",
      "Losses: [GE1: -3.8123092651367188, GE2: -1.1412454843521118] [D1: -2.5203020572662354, D2: -0.372494101524353]\n",
      "[Epoch 185/200]\n",
      "Losses: [GE1: -4.285625457763672, GE2: -1.1817407608032227] [D1: -2.0044517517089844, D2: -0.401574969291687]\n",
      "[Epoch 185/200]\n",
      "Losses: [GE1: -4.033324241638184, GE2: -0.8401530981063843] [D1: -3.236530065536499, D2: -0.4122456908226013]\n",
      "[Epoch 185/200]\n",
      "Losses: [GE1: -3.7688653469085693, GE2: -0.8548920154571533] [D1: -1.3759331703186035, D2: -0.32063600420951843]\n",
      "[Epoch 185/200]\n",
      "Losses: [GE1: -3.9706223011016846, GE2: -0.7906895279884338] [D1: -2.335078716278076, D2: -0.35838741064071655]\n"
     ]
    },
    {
     "name": "stderr",
     "output_type": "stream",
     "text": [
      " 93%|████████████████████████████▊  | 186/200 [1:28:07<06:38, 28.43s/it]"
     ]
    },
    {
     "name": "stdout",
     "output_type": "stream",
     "text": [
      "[Epoch 186/200]\n",
      "Losses: [GE1: -3.5305325984954834, GE2: -1.060832142829895] [D1: -3.2039997577667236, D2: -0.331564724445343]\n",
      "[Epoch 186/200]\n",
      "Losses: [GE1: -3.728365898132324, GE2: -1.1832292079925537] [D1: -3.083177089691162, D2: -0.31994661688804626]\n",
      "[Epoch 186/200]\n",
      "Losses: [GE1: -3.965391159057617, GE2: -1.016284704208374] [D1: -1.6845862865447998, D2: -0.4179687798023224]\n",
      "[Epoch 186/200]\n",
      "Losses: [GE1: -4.1517720222473145, GE2: -1.0843924283981323] [D1: -2.7824928760528564, D2: -0.2600170075893402]\n",
      "[Epoch 186/200]\n",
      "Losses: [GE1: -4.684532165527344, GE2: -0.9626259207725525] [D1: -2.721601963043213, D2: -0.3040924072265625]\n",
      "[Epoch 186/200]\n",
      "Losses: [GE1: -4.17832612991333, GE2: -1.0275838375091553] [D1: -2.3866732120513916, D2: -0.31860092282295227]\n",
      "[Epoch 186/200]\n",
      "Losses: [GE1: -4.068605899810791, GE2: -1.0087230205535889] [D1: -2.6321468353271484, D2: -0.26925691962242126]\n",
      "[Epoch 186/200]\n",
      "Losses: [GE1: -4.132619857788086, GE2: -0.8368611335754395] [D1: -1.2761270999908447, D2: -0.33079439401626587]\n",
      "[Epoch 186/200]\n",
      "Losses: [GE1: -4.003432273864746, GE2: -0.8093942403793335] [D1: -1.8959076404571533, D2: -0.2920750379562378]\n",
      "[Epoch 186/200]\n",
      "Losses: [GE1: -3.6096482276916504, GE2: -0.8656253218650818] [D1: -2.062880516052246, D2: -0.40063223242759705]\n"
     ]
    },
    {
     "name": "stderr",
     "output_type": "stream",
     "text": [
      " 94%|████████████████████████████▉  | 187/200 [1:28:36<06:09, 28.43s/it]"
     ]
    },
    {
     "name": "stdout",
     "output_type": "stream",
     "text": [
      "[Epoch 187/200]\n",
      "Losses: [GE1: -3.9819679260253906, GE2: -1.1711227893829346] [D1: -4.6603617668151855, D2: -0.39549559354782104]\n",
      "[Epoch 187/200]\n",
      "Losses: [GE1: -4.375430107116699, GE2: -0.5684787631034851] [D1: -1.9511985778808594, D2: -0.3416111469268799]\n",
      "[Epoch 187/200]\n",
      "Losses: [GE1: -4.594144344329834, GE2: -1.1819967031478882] [D1: -3.1267075538635254, D2: -0.3362289369106293]\n",
      "[Epoch 187/200]\n",
      "Losses: [GE1: -4.025417804718018, GE2: -0.9484966397285461] [D1: -2.244842052459717, D2: -0.30685386061668396]\n",
      "[Epoch 187/200]\n",
      "Losses: [GE1: -4.259370803833008, GE2: -0.7577788233757019] [D1: -2.4328598976135254, D2: -0.42003151774406433]\n",
      "[Epoch 187/200]\n",
      "Losses: [GE1: -3.8584296703338623, GE2: -0.8059659004211426] [D1: -1.8667675256729126, D2: -0.31273069977760315]\n",
      "[Epoch 187/200]\n",
      "Losses: [GE1: -4.154019355773926, GE2: -1.0163615942001343] [D1: -3.18212890625, D2: -0.37608084082603455]\n",
      "[Epoch 187/200]\n",
      "Losses: [GE1: -3.320793867111206, GE2: -0.9125575423240662] [D1: -1.811739444732666, D2: -0.33874714374542236]\n",
      "[Epoch 187/200]\n",
      "Losses: [GE1: -4.242226600646973, GE2: -0.8996741771697998] [D1: -1.9670275449752808, D2: -0.3761594295501709]\n",
      "[Epoch 187/200]\n",
      "Losses: [GE1: -3.4890623092651367, GE2: -0.5663009881973267] [D1: -4.174234390258789, D2: -0.33052563667297363]\n"
     ]
    },
    {
     "name": "stderr",
     "output_type": "stream",
     "text": [
      " 94%|█████████████████████████████▏ | 188/200 [1:29:04<05:41, 28.43s/it]"
     ]
    },
    {
     "name": "stdout",
     "output_type": "stream",
     "text": [
      "[Epoch 188/200]\n",
      "Losses: [GE1: -4.068563461303711, GE2: -0.8873143196105957] [D1: -3.229238271713257, D2: -0.3393486738204956]\n",
      "[Epoch 188/200]\n",
      "Losses: [GE1: -3.566039800643921, GE2: -0.7371149659156799] [D1: -1.1198630332946777, D2: -0.36106616258621216]\n",
      "[Epoch 188/200]\n",
      "Losses: [GE1: -4.546420574188232, GE2: -0.8973244428634644] [D1: -1.937187671661377, D2: -0.3659871518611908]\n",
      "[Epoch 188/200]\n",
      "Losses: [GE1: -4.659956932067871, GE2: -1.0358892679214478] [D1: -1.8917653560638428, D2: -0.33465054631233215]\n",
      "[Epoch 188/200]\n",
      "Losses: [GE1: -4.062778472900391, GE2: -1.202597737312317] [D1: -2.399860382080078, D2: -0.3410111963748932]\n",
      "[Epoch 188/200]\n",
      "Losses: [GE1: -3.928389310836792, GE2: -1.1978036165237427] [D1: -1.873549222946167, D2: -0.3332015872001648]\n",
      "[Epoch 188/200]\n",
      "Losses: [GE1: -3.810133218765259, GE2: -0.6531412601470947] [D1: -2.026911735534668, D2: -0.35668665170669556]\n",
      "[Epoch 188/200]\n",
      "Losses: [GE1: -3.994323492050171, GE2: -0.6547139883041382] [D1: -2.766620635986328, D2: -0.4676911532878876]\n",
      "[Epoch 188/200]\n",
      "Losses: [GE1: -4.188022136688232, GE2: -0.6917441487312317] [D1: -1.6626315116882324, D2: -0.4403494894504547]\n",
      "[Epoch 188/200]\n",
      "Losses: [GE1: -4.717904567718506, GE2: -0.8081597685813904] [D1: -1.9957103729248047, D2: -0.37890028953552246]\n"
     ]
    },
    {
     "name": "stderr",
     "output_type": "stream",
     "text": [
      " 94%|█████████████████████████████▎ | 189/200 [1:29:33<05:12, 28.43s/it]"
     ]
    },
    {
     "name": "stdout",
     "output_type": "stream",
     "text": [
      "[Epoch 189/200]\n",
      "Losses: [GE1: -3.4506988525390625, GE2: -0.7766311168670654] [D1: -2.5289523601531982, D2: -0.27798938751220703]\n",
      "[Epoch 189/200]\n",
      "Losses: [GE1: -3.8587069511413574, GE2: -0.8714427351951599] [D1: -1.8483035564422607, D2: -0.30221912264823914]\n",
      "[Epoch 189/200]\n",
      "Losses: [GE1: -4.110273361206055, GE2: -0.8365432024002075] [D1: -1.5527266263961792, D2: -0.41096818447113037]\n",
      "[Epoch 189/200]\n",
      "Losses: [GE1: -3.526918888092041, GE2: -1.0283602476119995] [D1: -1.868503451347351, D2: -0.3439933955669403]\n",
      "[Epoch 189/200]\n",
      "Losses: [GE1: -3.4480245113372803, GE2: -0.7678954005241394] [D1: -2.167715549468994, D2: -0.29991912841796875]\n",
      "[Epoch 189/200]\n",
      "Losses: [GE1: -3.5227291584014893, GE2: -0.7955564260482788] [D1: -2.3870694637298584, D2: -0.3891780972480774]\n",
      "[Epoch 189/200]\n",
      "Losses: [GE1: -4.679717063903809, GE2: -0.943146824836731] [D1: -2.172694683074951, D2: -0.26525285840034485]\n",
      "[Epoch 189/200]\n",
      "Losses: [GE1: -4.570101737976074, GE2: -0.948624849319458] [D1: -1.8996846675872803, D2: -0.3919021487236023]\n",
      "[Epoch 189/200]\n",
      "Losses: [GE1: -3.823420524597168, GE2: -1.0591974258422852] [D1: -2.1136183738708496, D2: -0.4095200300216675]\n",
      "[Epoch 189/200]\n",
      "Losses: [GE1: -3.869594097137451, GE2: -0.965970516204834] [D1: -1.8836643695831299, D2: -0.34802091121673584]\n"
     ]
    },
    {
     "name": "stderr",
     "output_type": "stream",
     "text": [
      " 95%|█████████████████████████████▍ | 190/200 [1:30:01<04:44, 28.43s/it]"
     ]
    },
    {
     "name": "stdout",
     "output_type": "stream",
     "text": [
      "[Epoch 190/200]\n",
      "Losses: [GE1: -3.5016329288482666, GE2: -0.8182296752929688] [D1: -1.5892329216003418, D2: -0.330452561378479]\n",
      "[Epoch 190/200]\n",
      "Losses: [GE1: -4.087344169616699, GE2: -1.1687449216842651] [D1: -2.9229135513305664, D2: -0.2757417559623718]\n",
      "[Epoch 190/200]\n",
      "Losses: [GE1: -3.9625403881073, GE2: -0.7883347868919373] [D1: -3.6443874835968018, D2: -0.33691737055778503]\n",
      "[Epoch 190/200]\n",
      "Losses: [GE1: -4.223167896270752, GE2: -1.1574454307556152] [D1: -1.818791151046753, D2: -0.3478983938694]\n",
      "[Epoch 190/200]\n",
      "Losses: [GE1: -4.754881381988525, GE2: -0.7664921879768372] [D1: -2.301551342010498, D2: -0.39066028594970703]\n",
      "[Epoch 190/200]\n",
      "Losses: [GE1: -3.7898457050323486, GE2: -0.6533623933792114] [D1: -1.8029979467391968, D2: -0.3063029944896698]\n",
      "[Epoch 190/200]\n",
      "Losses: [GE1: -4.074018955230713, GE2: -1.0013949871063232] [D1: -1.6135727167129517, D2: -0.28868818283081055]\n",
      "[Epoch 190/200]\n",
      "Losses: [GE1: -3.9765963554382324, GE2: -0.6052396297454834] [D1: -3.036691904067993, D2: -0.29710978269577026]\n",
      "[Epoch 190/200]\n",
      "Losses: [GE1: -4.160050868988037, GE2: -0.965811550617218] [D1: -2.275655746459961, D2: -0.2756785750389099]\n",
      "[Epoch 190/200]\n",
      "Losses: [GE1: -3.7687735557556152, GE2: -0.6806044578552246] [D1: -1.9075336456298828, D2: -0.38150283694267273]\n"
     ]
    },
    {
     "name": "stderr",
     "output_type": "stream",
     "text": [
      " 96%|█████████████████████████████▌ | 191/200 [1:30:29<04:15, 28.43s/it]"
     ]
    },
    {
     "name": "stdout",
     "output_type": "stream",
     "text": [
      "[Epoch 191/200]\n",
      "Losses: [GE1: -3.4134881496429443, GE2: -0.884591281414032] [D1: -2.1882596015930176, D2: -0.37631770968437195]\n",
      "[Epoch 191/200]\n",
      "Losses: [GE1: -4.21153450012207, GE2: -0.9362839460372925] [D1: -2.116166591644287, D2: -0.4202074408531189]\n",
      "[Epoch 191/200]\n",
      "Losses: [GE1: -3.475525140762329, GE2: -0.9568062424659729] [D1: -3.4898452758789062, D2: -0.37873563170433044]\n",
      "[Epoch 191/200]\n",
      "Losses: [GE1: -4.244319438934326, GE2: -1.171137809753418] [D1: -1.8200379610061646, D2: -0.31040307879447937]\n",
      "[Epoch 191/200]\n",
      "Losses: [GE1: -3.833261013031006, GE2: -1.1368945837020874] [D1: -2.43227219581604, D2: -0.29336100816726685]\n",
      "[Epoch 191/200]\n",
      "Losses: [GE1: -4.452307224273682, GE2: -0.9271208047866821] [D1: -2.446842670440674, D2: -0.43245404958724976]\n",
      "[Epoch 191/200]\n",
      "Losses: [GE1: -4.5018157958984375, GE2: -0.647132158279419] [D1: -1.9484477043151855, D2: -0.23140323162078857]\n",
      "[Epoch 191/200]\n",
      "Losses: [GE1: -4.224690914154053, GE2: -0.9972516894340515] [D1: -2.2305002212524414, D2: -0.379497766494751]\n",
      "[Epoch 191/200]\n",
      "Losses: [GE1: -4.648414134979248, GE2: -1.186065435409546] [D1: -2.6445937156677246, D2: -0.28587502241134644]\n",
      "[Epoch 191/200]\n",
      "Losses: [GE1: -3.8176462650299072, GE2: -1.1928596496582031] [D1: -3.434173583984375, D2: -0.2975926101207733]\n"
     ]
    },
    {
     "name": "stderr",
     "output_type": "stream",
     "text": [
      " 96%|█████████████████████████████▊ | 192/200 [1:30:58<03:47, 28.43s/it]"
     ]
    },
    {
     "name": "stdout",
     "output_type": "stream",
     "text": [
      "[Epoch 192/200]\n",
      "Losses: [GE1: -4.0775580406188965, GE2: -1.1676403284072876] [D1: -2.2981224060058594, D2: -0.31172463297843933]\n",
      "[Epoch 192/200]\n",
      "Losses: [GE1: -3.746925115585327, GE2: -0.9182369709014893] [D1: -2.391885995864868, D2: -0.3657195568084717]\n",
      "[Epoch 192/200]\n",
      "Losses: [GE1: -4.7437005043029785, GE2: -0.8637137413024902] [D1: -1.8888331651687622, D2: -0.3012273609638214]\n",
      "[Epoch 192/200]\n",
      "Losses: [GE1: -4.04706335067749, GE2: -1.0226017236709595] [D1: -2.0006887912750244, D2: -0.34107506275177]\n",
      "[Epoch 192/200]\n",
      "Losses: [GE1: -3.5996527671813965, GE2: -0.9944342970848083] [D1: -1.5154277086257935, D2: -0.43483102321624756]\n",
      "[Epoch 192/200]\n",
      "Losses: [GE1: -3.81917142868042, GE2: -0.9202391505241394] [D1: -2.4459190368652344, D2: -0.4032835066318512]\n",
      "[Epoch 192/200]\n",
      "Losses: [GE1: -3.374908685684204, GE2: -0.6744745969772339] [D1: -2.9460113048553467, D2: -0.40698879957199097]\n",
      "[Epoch 192/200]\n",
      "Losses: [GE1: -3.965394973754883, GE2: -0.8300719857215881] [D1: -1.458510398864746, D2: -0.3844996690750122]\n",
      "[Epoch 192/200]\n",
      "Losses: [GE1: -3.624603271484375, GE2: -0.7578116059303284] [D1: -1.2561653852462769, D2: -0.36374157667160034]\n",
      "[Epoch 192/200]\n",
      "Losses: [GE1: -3.7603445053100586, GE2: -0.8707088232040405] [D1: -2.2141034603118896, D2: -0.31709206104278564]\n"
     ]
    },
    {
     "name": "stderr",
     "output_type": "stream",
     "text": [
      " 96%|█████████████████████████████▉ | 193/200 [1:31:26<03:19, 28.43s/it]"
     ]
    },
    {
     "name": "stdout",
     "output_type": "stream",
     "text": [
      "[Epoch 193/200]\n",
      "Losses: [GE1: -3.8627231121063232, GE2: -0.9343990683555603] [D1: -3.3233373165130615, D2: -0.389054536819458]\n",
      "[Epoch 193/200]\n",
      "Losses: [GE1: -3.780200242996216, GE2: -0.7140572667121887] [D1: -1.5054898262023926, D2: -0.40613657236099243]\n",
      "[Epoch 193/200]\n",
      "Losses: [GE1: -3.839853286743164, GE2: -0.9565194249153137] [D1: -2.456523895263672, D2: -0.3713706433773041]\n",
      "[Epoch 193/200]\n",
      "Losses: [GE1: -4.181403636932373, GE2: -0.7878908514976501] [D1: -2.3860602378845215, D2: -0.24197861552238464]\n",
      "[Epoch 193/200]\n",
      "Losses: [GE1: -4.179351329803467, GE2: -1.0262105464935303] [D1: -2.6220614910125732, D2: -0.4137154817581177]\n",
      "[Epoch 193/200]\n",
      "Losses: [GE1: -4.511005401611328, GE2: -1.2592661380767822] [D1: -2.0323314666748047, D2: -0.47937750816345215]\n",
      "[Epoch 193/200]\n",
      "Losses: [GE1: -4.366727352142334, GE2: -1.0704923868179321] [D1: -2.3613996505737305, D2: -0.39054641127586365]\n",
      "[Epoch 193/200]\n",
      "Losses: [GE1: -4.123973846435547, GE2: -1.0022659301757812] [D1: -2.890338897705078, D2: -0.31517863273620605]\n",
      "[Epoch 193/200]\n",
      "Losses: [GE1: -4.112560749053955, GE2: -1.0605683326721191] [D1: -2.253502607345581, D2: -0.330915629863739]\n",
      "[Epoch 193/200]\n",
      "Losses: [GE1: -4.157373428344727, GE2: -1.163355827331543] [D1: -1.5626591444015503, D2: -0.35394197702407837]\n"
     ]
    },
    {
     "name": "stderr",
     "output_type": "stream",
     "text": [
      " 97%|██████████████████████████████ | 194/200 [1:31:55<02:50, 28.43s/it]"
     ]
    },
    {
     "name": "stdout",
     "output_type": "stream",
     "text": [
      "[Epoch 194/200]\n",
      "Losses: [GE1: -3.885535955429077, GE2: -0.7788932919502258] [D1: -2.179060459136963, D2: -0.34699851274490356]\n",
      "[Epoch 194/200]\n",
      "Losses: [GE1: -3.2501370906829834, GE2: -0.825977623462677] [D1: -2.1921143531799316, D2: -0.46591660380363464]\n",
      "[Epoch 194/200]\n",
      "Losses: [GE1: -3.9594779014587402, GE2: -0.8426337838172913] [D1: -2.3503894805908203, D2: -0.42510104179382324]\n",
      "[Epoch 194/200]\n",
      "Losses: [GE1: -4.3721513748168945, GE2: -0.9947528839111328] [D1: -2.2541942596435547, D2: -0.3889939486980438]\n",
      "[Epoch 194/200]\n",
      "Losses: [GE1: -3.5561089515686035, GE2: -1.0190255641937256] [D1: -2.9420738220214844, D2: -0.35739126801490784]\n",
      "[Epoch 194/200]\n",
      "Losses: [GE1: -4.323463439941406, GE2: -1.0311274528503418] [D1: -2.0283093452453613, D2: -0.2592944800853729]\n",
      "[Epoch 194/200]\n",
      "Losses: [GE1: -4.262521743774414, GE2: -1.025705099105835] [D1: -2.2264018058776855, D2: -0.37500011920928955]\n",
      "[Epoch 194/200]\n",
      "Losses: [GE1: -4.224608421325684, GE2: -0.6958926916122437] [D1: -3.3312630653381348, D2: -0.34192195534706116]\n",
      "[Epoch 194/200]\n",
      "Losses: [GE1: -3.9608983993530273, GE2: -0.9528716206550598] [D1: -2.2104740142822266, D2: -0.3483959436416626]\n",
      "[Epoch 194/200]\n",
      "Losses: [GE1: -3.9824352264404297, GE2: -0.8267064690589905] [D1: -2.6909947395324707, D2: -0.35803985595703125]\n"
     ]
    },
    {
     "name": "stderr",
     "output_type": "stream",
     "text": [
      " 98%|██████████████████████████████▏| 195/200 [1:32:23<02:22, 28.43s/it]"
     ]
    },
    {
     "name": "stdout",
     "output_type": "stream",
     "text": [
      "[Epoch 195/200]\n",
      "Losses: [GE1: -4.519058704376221, GE2: -0.8263928890228271] [D1: -1.6590811014175415, D2: -0.42553865909576416]\n",
      "[Epoch 195/200]\n",
      "Losses: [GE1: -4.115401268005371, GE2: -1.144641399383545] [D1: -1.4500013589859009, D2: -0.35075974464416504]\n",
      "[Epoch 195/200]\n",
      "Losses: [GE1: -4.580544471740723, GE2: -0.7980781197547913] [D1: -2.301180362701416, D2: -0.3307648301124573]\n",
      "[Epoch 195/200]\n",
      "Losses: [GE1: -4.494302749633789, GE2: -0.49280279874801636] [D1: -3.9776968955993652, D2: -0.4307047724723816]\n",
      "[Epoch 195/200]\n",
      "Losses: [GE1: -5.065831184387207, GE2: -1.0168788433074951] [D1: -2.261674404144287, D2: -0.36756157875061035]\n",
      "[Epoch 195/200]\n",
      "Losses: [GE1: -3.986605405807495, GE2: -1.1546286344528198] [D1: -4.264995574951172, D2: -0.35662373900413513]\n",
      "[Epoch 195/200]\n",
      "Losses: [GE1: -4.003048419952393, GE2: -0.7773305177688599] [D1: -2.9364118576049805, D2: -0.3992707133293152]\n",
      "[Epoch 195/200]\n",
      "Losses: [GE1: -4.246973514556885, GE2: -0.9036604166030884] [D1: -2.6180429458618164, D2: -0.42190057039260864]\n",
      "[Epoch 195/200]\n",
      "Losses: [GE1: -4.284041881561279, GE2: -0.8266642689704895] [D1: -1.968050241470337, D2: -0.43899157643318176]\n",
      "[Epoch 195/200]\n",
      "Losses: [GE1: -4.017554759979248, GE2: -0.7533381581306458] [D1: -2.9017248153686523, D2: -0.3307976722717285]\n"
     ]
    },
    {
     "name": "stderr",
     "output_type": "stream",
     "text": [
      " 98%|██████████████████████████████▍| 196/200 [1:32:51<01:53, 28.43s/it]"
     ]
    },
    {
     "name": "stdout",
     "output_type": "stream",
     "text": [
      "[Epoch 196/200]\n",
      "Losses: [GE1: -4.587910175323486, GE2: -0.7318305373191833] [D1: -1.4213334321975708, D2: -0.2917591631412506]\n",
      "[Epoch 196/200]\n",
      "Losses: [GE1: -4.0065999031066895, GE2: -1.026505470275879] [D1: -3.772066116333008, D2: -0.35869723558425903]\n",
      "[Epoch 196/200]\n",
      "Losses: [GE1: -4.547879219055176, GE2: -1.0724149942398071] [D1: -2.5070841312408447, D2: -0.3098180890083313]\n",
      "[Epoch 196/200]\n",
      "Losses: [GE1: -3.4281716346740723, GE2: -0.8918300271034241] [D1: -1.7358157634735107, D2: -0.36587414145469666]\n",
      "[Epoch 196/200]\n",
      "Losses: [GE1: -3.772164821624756, GE2: -0.8981565833091736] [D1: -0.9312838315963745, D2: -0.3243158161640167]\n",
      "[Epoch 196/200]\n",
      "Losses: [GE1: -3.6363728046417236, GE2: -1.056197166442871] [D1: -2.6320958137512207, D2: -0.35076162219047546]\n",
      "[Epoch 196/200]\n",
      "Losses: [GE1: -4.015997886657715, GE2: -0.8843321204185486] [D1: -2.180708646774292, D2: -0.3938780128955841]\n",
      "[Epoch 196/200]\n",
      "Losses: [GE1: -3.681786298751831, GE2: -0.773118257522583] [D1: -3.39094877243042, D2: -0.3624427318572998]\n",
      "[Epoch 196/200]\n",
      "Losses: [GE1: -4.4513726234436035, GE2: -0.8914111256599426] [D1: -2.674083709716797, D2: -0.3499860167503357]\n",
      "[Epoch 196/200]\n",
      "Losses: [GE1: -4.374059677124023, GE2: -0.8241082429885864] [D1: -2.350343942642212, D2: -0.3873938322067261]\n"
     ]
    },
    {
     "name": "stderr",
     "output_type": "stream",
     "text": [
      " 98%|██████████████████████████████▌| 197/200 [1:33:20<01:25, 28.43s/it]"
     ]
    },
    {
     "name": "stdout",
     "output_type": "stream",
     "text": [
      "[Epoch 197/200]\n",
      "Losses: [GE1: -4.372154712677002, GE2: -0.8818932175636292] [D1: -2.699542760848999, D2: -0.30092281103134155]\n",
      "[Epoch 197/200]\n",
      "Losses: [GE1: -4.9939799308776855, GE2: -0.7046050429344177] [D1: -1.7183330059051514, D2: -0.2898696959018707]\n",
      "[Epoch 197/200]\n",
      "Losses: [GE1: -4.05300235748291, GE2: -0.902935802936554] [D1: -2.5035176277160645, D2: -0.36346957087516785]\n",
      "[Epoch 197/200]\n",
      "Losses: [GE1: -4.895686626434326, GE2: -0.7908316850662231] [D1: -2.3666489124298096, D2: -0.2589452862739563]\n",
      "[Epoch 197/200]\n",
      "Losses: [GE1: -4.691287517547607, GE2: -0.9804134964942932] [D1: -2.409147024154663, D2: -0.3966674208641052]\n",
      "[Epoch 197/200]\n",
      "Losses: [GE1: -4.323070526123047, GE2: -1.1424003839492798] [D1: -3.668151378631592, D2: -0.42431220412254333]\n",
      "[Epoch 197/200]\n",
      "Losses: [GE1: -4.5607428550720215, GE2: -1.1631476879119873] [D1: -1.7858635187149048, D2: -0.3087608814239502]\n",
      "[Epoch 197/200]\n",
      "Losses: [GE1: -3.7517025470733643, GE2: -0.7825379967689514] [D1: -2.7886581420898438, D2: -0.3815044164657593]\n",
      "[Epoch 197/200]\n",
      "Losses: [GE1: -3.9466705322265625, GE2: -0.9945762753486633] [D1: -2.5699880123138428, D2: -0.3105201721191406]\n",
      "[Epoch 197/200]\n",
      "Losses: [GE1: -3.906745672225952, GE2: -1.0382059812545776] [D1: -2.583512306213379, D2: -0.45466285943984985]\n"
     ]
    },
    {
     "name": "stderr",
     "output_type": "stream",
     "text": [
      " 99%|██████████████████████████████▋| 198/200 [1:33:48<00:56, 28.43s/it]"
     ]
    },
    {
     "name": "stdout",
     "output_type": "stream",
     "text": [
      "[Epoch 198/200]\n",
      "Losses: [GE1: -4.037588596343994, GE2: -0.8906134963035583] [D1: -2.452655553817749, D2: -0.4259815216064453]\n",
      "[Epoch 198/200]\n",
      "Losses: [GE1: -5.07843542098999, GE2: -0.9125415086746216] [D1: -2.1129167079925537, D2: -0.37152403593063354]\n",
      "[Epoch 198/200]\n",
      "Losses: [GE1: -4.149368762969971, GE2: -1.105404019355774] [D1: -1.6338505744934082, D2: -0.35640379786491394]\n",
      "[Epoch 198/200]\n",
      "Losses: [GE1: -4.276347637176514, GE2: -0.9378506541252136] [D1: -1.8583701848983765, D2: -0.3997039794921875]\n",
      "[Epoch 198/200]\n",
      "Losses: [GE1: -4.769027233123779, GE2: -0.9134373664855957] [D1: -1.871652603149414, D2: -0.3486063480377197]\n",
      "[Epoch 198/200]\n",
      "Losses: [GE1: -3.7833399772644043, GE2: -1.05147385597229] [D1: -2.2445311546325684, D2: -0.34019532799720764]\n",
      "[Epoch 198/200]\n",
      "Losses: [GE1: -3.946350574493408, GE2: -0.7398466467857361] [D1: -4.247633934020996, D2: -0.3329385221004486]\n",
      "[Epoch 198/200]\n",
      "Losses: [GE1: -5.402221202850342, GE2: -0.9360080361366272] [D1: -1.7345590591430664, D2: -0.35726916790008545]\n",
      "[Epoch 198/200]\n",
      "Losses: [GE1: -4.351065158843994, GE2: -0.857134222984314] [D1: -2.2767980098724365, D2: -0.3369106650352478]\n",
      "[Epoch 198/200]\n",
      "Losses: [GE1: -4.909730434417725, GE2: -0.8754175305366516] [D1: -3.1661548614501953, D2: -0.2839621901512146]\n"
     ]
    },
    {
     "name": "stderr",
     "output_type": "stream",
     "text": [
      "100%|██████████████████████████████▊| 199/200 [1:34:16<00:28, 28.43s/it]"
     ]
    },
    {
     "name": "stdout",
     "output_type": "stream",
     "text": [
      "[Epoch 199/200]\n",
      "Losses: [GE1: -4.253288269042969, GE2: -1.2158550024032593] [D1: -1.6747078895568848, D2: -0.4339368939399719]\n",
      "[Epoch 199/200]\n",
      "Losses: [GE1: -4.319167137145996, GE2: -0.7127461433410645] [D1: -2.001100778579712, D2: -0.38080543279647827]\n",
      "[Epoch 199/200]\n",
      "Losses: [GE1: -4.588575839996338, GE2: -1.015674114227295] [D1: -2.6124393939971924, D2: -0.3411823511123657]\n",
      "[Epoch 199/200]\n",
      "Losses: [GE1: -3.8384134769439697, GE2: -0.7601622939109802] [D1: -2.1181836128234863, D2: -0.3433961570262909]\n",
      "[Epoch 199/200]\n",
      "Losses: [GE1: -4.070286750793457, GE2: -1.1188900470733643] [D1: -1.9007971286773682, D2: -0.3800123631954193]\n",
      "[Epoch 199/200]\n",
      "Losses: [GE1: -3.9418623447418213, GE2: -0.929510772228241] [D1: -3.019613027572632, D2: -0.4060700833797455]\n",
      "[Epoch 199/200]\n",
      "Losses: [GE1: -4.84968900680542, GE2: -0.7363200783729553] [D1: -2.7501866817474365, D2: -0.38931217789649963]\n",
      "[Epoch 199/200]\n",
      "Losses: [GE1: -3.6858603954315186, GE2: -0.7597497701644897] [D1: -3.2042102813720703, D2: -0.3294185400009155]\n",
      "[Epoch 199/200]\n",
      "Losses: [GE1: -4.708235740661621, GE2: -1.12511146068573] [D1: -2.043802261352539, D2: -0.38758036494255066]\n",
      "[Epoch 199/200]\n",
      "Losses: [GE1: -4.145245552062988, GE2: -1.0077745914459229] [D1: -2.5142712593078613, D2: -0.4828108549118042]\n"
     ]
    },
    {
     "name": "stderr",
     "output_type": "stream",
     "text": [
      "100%|███████████████████████████████| 200/200 [1:34:45<00:00, 28.43s/it]\n"
     ]
    }
   ],
   "source": [
    "d1 = []\n",
    "d2 = []\n",
    "ge1 = []\n",
    "ge2 = []\n",
    "for epoch in tqdm(range(n_epochs)):\n",
    "    # 由于是两个视图，故从中抽取出两个特征矩阵\n",
    "    for i, (data1, data2, labels) in (enumerate(loader)):\n",
    "        # 开启训练模式\n",
    "        net.Gs.train()\n",
    "        net.Es.train()\n",
    "        # 梯度清零\n",
    "        net.Gs.zero_grad()\n",
    "        net.Es.zero_grad()\n",
    "        net.Ds.zero_grad()\n",
    "        # 真实图像 real_imgs[0]/[1]\n",
    "        real_imgs = [data1.type(Tensor), data2.type(Tensor)]\n",
    "#         print(real_imgs[0].shape)\n",
    "\n",
    "        # ---------------------------\n",
    "        #    训练 生成器 和 编码器\n",
    "        # ---------------------------\n",
    "\n",
    "        # 优化两个视图的 G E，梯度清零， 生成器 编码器 \n",
    "        optimizer_GsEs1.zero_grad()\n",
    "        optimizer_GsEs2.zero_grad()\n",
    "\n",
    "        # 采样 (batch_size, latent_dim, class_num) \n",
    "        # zn [64, 30] zc [64 10] zc_idx [64 1]\n",
    "        zn, zc, zc_idx = sample_z(shape=data1.shape[0], latent_dim=latent_dim, n_c=n_c)\n",
    "        zn = [zn for _ in range(2)]\n",
    "        zc = [zc for _ in range(2)]\n",
    "        zc_idx = [zc_idx for _ in range(2)]\n",
    "\n",
    "        # 生成图像\n",
    "        gen_imgs = net(zn=zn, zc=zc, mode='G') # torch.Size([64, 1, 28, 28])\n",
    "        \n",
    "        # 判别fake结果 [64,1]\n",
    "        D_gen = net(data=gen_imgs, mode='D')\n",
    "        \n",
    "        D_real = net(data=real_imgs, mode='D')\n",
    "        \n",
    "#         if (i % n_skip_iter == 0):\n",
    "        # [64, 30] [64, 10] [64, 10]\n",
    "        encs = net(data=gen_imgs, mode='E')\n",
    "\n",
    "\n",
    "        # enc_gen_zn, enc_gen_zc, enc_gen_zc_logits = encs\n",
    "        zn_loss1 = mse_loss1(encs[0][0], zn[0])\n",
    "        zc_loss1 = xe_loss1(encs[0][2], zc_idx[0])\n",
    "        zn_loss2 = mse_loss2(encs[1][0], zn[1])\n",
    "        zc_loss2 = xe_loss2(encs[1][2], zc_idx[1])\n",
    "        if wass_metric:\n",
    "            ge_loss1 = torch.mean(D_gen[0]) + betan1 * zn_loss1 + betac1 * zc_loss1\n",
    "            ge_loss2 = torch.mean(D_gen[1]) + betan2 * zn_loss2 + betac2 * zc_loss2\n",
    "            ge1.append(ge_loss1.item())\n",
    "            ge2.append(ge_loss2.item())\n",
    "        else:\n",
    "            valid1 = Variable(Tensor(gen_imgs[0].size(0), 1).fill_(1.0), requires_grad=False)\n",
    "            valid2 = Variable(Tensor(gen_imgs[1].size(0), 1).fill_(1.0), requires_grad=False)\n",
    "            v_loss1 = bce_loss1(D_gen[0], valid1)\n",
    "            v_loss2 = bce_loss2(D_gen[1], valid2)\n",
    "            ge_loss1 = v_loss1 + betan1 * zn_loss1 + betac1 * zc_loss1\n",
    "            ge_loss2 = v_loss2 + betan2 * zn_loss2 + betac2 * zc_loss2\n",
    "\n",
    "\n",
    "        ge_loss1.backward(retain_graph=True)\n",
    "        ge_loss2.backward(retain_graph=True)\n",
    "\n",
    "        \n",
    "        # ---------------------\n",
    "        #      训练判别器\n",
    "        # ---------------------\n",
    "        optimizer_Ds1.zero_grad()\n",
    "        optimizer_Ds2.zero_grad()\n",
    "        optimizer_GsEs1.step()\n",
    "        optimizer_GsEs2.step()\n",
    "        \n",
    "        gen_imgs = [tensor.detach() for tensor in gen_imgs]\n",
    "        D_gen = net(data=gen_imgs, mode='D')\n",
    "\n",
    "        if wass_metric:\n",
    "            grad_penalty1 = calc_gradient_penalty(net.Ds[0], real_imgs[0], gen_imgs[0])\n",
    "            grad_penalty2 = calc_gradient_penalty(net.Ds[1], real_imgs[1], gen_imgs[1])\n",
    "            d_loss1 = torch.mean(D_real[0]) - torch.mean(D_gen[0]) + grad_penalty1\n",
    "            d_loss2 = torch.mean(D_real[1]) - torch.mean(D_gen[1]) + grad_penalty2\n",
    "            d1.append(d_loss1.item())\n",
    "            d2.append(d_loss2.item())\n",
    "            \n",
    "        else:\n",
    "            fake1 = Variable(Tensor(gen_imgs[0].size(0), 1).fill_(0.0), requires_grad=False)\n",
    "            fake2 = Variable(Tensor(gen_imgs[1].size(0), 1).fill_(0.0), requires_grad=False)\n",
    "            real_loss1 = bce_loss1(D_real[0], valid1)\n",
    "            real_loss2 = bce_loss2(D_real[1], valid2)\n",
    "            fake_loss1 = bce_loss1(D_gen[0], fake1)\n",
    "            fake_loss2 = bce_loss2(D_gen[1], fake2)\n",
    "            d_loss1 = (real_loss1 + fake_loss1) / 2\n",
    "            d_loss2 = (real_loss2 + fake_loss2) / 2\n",
    "\n",
    "        d_loss1.backward(retain_graph=True)\n",
    "        d_loss2.backward(retain_graph=True)\n",
    "        optimizer_Ds1.step()\n",
    "        optimizer_Ds2.step()\n",
    "        if(i%100==0):\n",
    "            print(\"[Epoch {}/{}]\\nLosses: [GE1: {}, GE2: {}] [D1: {}, D2: {}]\".format(epoch, \\\n",
    "                    n_epochs, ge_loss1.item(), ge_loss2.item(), d_loss1.item(), d_loss2.item()))     "
   ]
  },
  {
   "cell_type": "code",
   "execution_count": 47,
   "id": "a72515e3",
   "metadata": {},
   "outputs": [],
   "source": [
    "def draw_loss(ge_loss1, ge_loss2, d_loss1, d_loss2, dir):\n",
    "    tar_f = os.path.join(dir, 'loss.png')\n",
    "    epoch = range(0, len(ge_loss1))\n",
    "    plt.figure()\n",
    "    plt.title('loss')\n",
    "    plt.plot(epoch, ge_loss1, color='blue', label='ge_loss1')\n",
    "    plt.plot(epoch, ge_loss2, color='skyblue', label='ge_loss2')\n",
    "#     plt.plot(epoch, d_loss1, color='green', label='d_loss1')\n",
    "#     plt.plot(epoch, d_loss2, color='orange', label='d_loss2')\n",
    "    plt.legend()\n",
    "    plt.xlabel('epochs')\n",
    "    plt.ylabel('loss')\n",
    "    plt.savefig(tar_f)\n",
    "    plt.show()"
   ]
  },
  {
   "cell_type": "code",
   "execution_count": 48,
   "id": "96f7f202",
   "metadata": {},
   "outputs": [
    {
     "data": {
      "image/png": "[encoded data removed]",
      "text/plain": [
       "<Figure size 640x480 with 1 Axes>"
      ]
     },
     "metadata": {},
     "output_type": "display_data"
    }
   ],
   "source": [
    "draw_loss(ge1, ge2, d1, d2, run_dir)"
   ]
  },
  {
   "cell_type": "code",
   "execution_count": 49,
   "id": "e2a801b2",
   "metadata": {},
   "outputs": [],
   "source": [
    "def save_net(net, dir):\n",
    "    tar_f = os.path.join(dir, 'net.pt')\n",
    "    torch.save(net.state_dict(), tar_f)\n",
    "    print('net saved in {}'.format(tar_f))"
   ]
  },
  {
   "cell_type": "code",
   "execution_count": 50,
   "id": "452fdb1a",
   "metadata": {
    "scrolled": true
   },
   "outputs": [
    {
     "name": "stdout",
     "output_type": "stream",
     "text": [
      "net saved in ./out/lbp_glcm_005_0_wass_e200_b64_l30_betan110.000_betac110.000_betan210.000_betac210.000/net.pt\n"
     ]
    }
   ],
   "source": [
    "save_net(net, run_dir)"
   ]
  },
  {
   "cell_type": "markdown",
   "id": "901b86bc",
   "metadata": {},
   "source": [
    "# Evaluate"
   ]
  },
  {
   "cell_type": "code",
   "execution_count": 57,
   "id": "a2773b2f",
   "metadata": {},
   "outputs": [],
   "source": [
    "from sklearn.preprocessing import OneHotEncoder\n",
    "from sklearn.metrics import accuracy_score\n",
    "from sklearn.neighbors import NearestNeighbors"
   ]
  },
  {
   "cell_type": "code",
   "execution_count": 58,
   "id": "557330f3",
   "metadata": {},
   "outputs": [],
   "source": [
    "def softmax2argmax(x):\n",
    "    res = torch.argmax(x, dim=1)\n",
    "    return res"
   ]
  },
  {
   "cell_type": "code",
   "execution_count": 59,
   "id": "9a12b730",
   "metadata": {},
   "outputs": [],
   "source": [
    "def vote_score(y_true, y_pred):\n",
    "    y_voted_labels = np.zeros(y_true.shape)#创建投票标签列列\n",
    "    labels = np.unique(y_true) #获取真实值中有几个唯一的标签 类似set()\n",
    "    ordered_labels = np.arange(labels.shape[0]) # 有序标签\n",
    "    for k in range(labels.shape[0]):\n",
    "        y_true[y_true==labels[k]] = ordered_labels[k]\n",
    "    labels = np.unique(y_true)\n",
    "    bins = np.concatenate((labels, [np.max(labels)+1]), axis=0)\n",
    "    for cluster in np.unique(y_pred):\n",
    "        hist, _ = np.histogram(y_true[y_pred==cluster], bins=bins)\n",
    "        winner = np.argmax(hist)\n",
    "        y_voted_labels[y_pred==cluster] = winner\n",
    "\n",
    "    return y_true, y_voted_labels"
   ]
  },
  {
   "cell_type": "code",
   "execution_count": 60,
   "id": "3b3559ba",
   "metadata": {},
   "outputs": [],
   "source": [
    "def attr_anom(zn):\n",
    "    nei = NearestNeighbors(n_neighbors=2).fit(zn)\n",
    "    distance, _ = nei.kneighbors(zn)\n",
    "    score = distance[:, 1]\n",
    "    return score"
   ]
  },
  {
   "cell_type": "code",
   "execution_count": 62,
   "id": "cb3dd1a3",
   "metadata": {},
   "outputs": [],
   "source": [
    "# view_num = 2\n",
    "# latent_dim = 30\n",
    "# cls_num = 10\n",
    "# x_shape = (1, 28, 28)\n",
    "# dataset = 'mnist'\n",
    "# feat1 = 'lbp'\n",
    "# feat2 = 'glcm'\n",
    "# anom = '005_100'\n",
    "# wass = True\n",
    "# net_f = '/home/rain/ClusterGAN/out/lbp_glcm_005_100_wass_e200_b64_l30_betan110.000_betac110.000_betan210.000_betac210.000/net.pt'\n",
    "# net = MultiNet_mnist(view_num=view_num, latent_dim=latent_dim, cls_num=cls_num, x_shape=x_shape, wass=wass)\n",
    "# net.load_state_dict(torch.load(net_f, map_location=lambda storage, loc: storage))"
   ]
  },
  {
   "cell_type": "code",
   "execution_count": 63,
   "id": "4c0fd9b4",
   "metadata": {},
   "outputs": [],
   "source": [
    "device_id = 0\n",
    "if cuda: \n",
    "    torch.cuda.set_device(device_id)"
   ]
  },
  {
   "cell_type": "code",
   "execution_count": 64,
   "id": "49c36e8b",
   "metadata": {},
   "outputs": [],
   "source": [
    "net_ = net\n",
    "net_.to('cpu')\n",
    "net_.eval()\n",
    "# if cuda:\n",
    "#     net.cuda()\n",
    "loader = dataloader_v2(dataset=dataset, anom=anom, feat1=feat1, feat2=feat2, batch=60000, shuffle=False)\n",
    "\n",
    "data1, data2, labels = next(iter(loader))\n",
    "data = (data1, data2)\n",
    "enc = net_(data=data, mode='E')\n",
    "enc_labels1 = softmax2argmax(enc[0][1]).cpu().numpy()\n",
    "enc_labels2 = softmax2argmax(enc[1][1]).cpu().numpy()"
   ]
  },
  {
   "cell_type": "code",
   "execution_count": 65,
   "id": "300f3db3",
   "metadata": {},
   "outputs": [
    {
     "data": {
      "text/plain": [
       "tensor([0, 0, 0, 0, 0, 1, 0, 0, 0, 0, 0, 0, 0, 0, 0, 0, 0, 0, 1, 0, 0, 0, 0, 0,\n",
       "        1, 0, 0, 0, 0, 0, 0, 0, 0, 0, 0, 0, 0, 0, 0, 0, 0, 0, 0, 0, 0, 0, 0, 0,\n",
       "        0, 1, 0, 0, 0, 0, 1, 1, 0, 0, 0, 0, 0, 0, 0, 0, 0, 0, 0, 0, 0, 0, 0, 0,\n",
       "        0, 0, 0, 0, 0, 0, 0, 0, 0, 0, 0, 0, 0, 0, 0, 0, 0, 0, 0, 0, 0, 0, 0, 0,\n",
       "        0, 0, 0, 0])"
      ]
     },
     "execution_count": 65,
     "metadata": {},
     "output_type": "execute_result"
    }
   ],
   "source": [
    "labels[200:300]"
   ]
  },
  {
   "cell_type": "code",
   "execution_count": 66,
   "id": "d2461c9e",
   "metadata": {},
   "outputs": [
    {
     "data": {
      "text/plain": [
       "(array([6, 2, 0, 2, 2, 9, 7, 4, 4, 8, 9, 2, 0, 2, 3, 0, 8, 5, 9, 7, 4, 2,\n",
       "        6, 4, 5, 1, 8, 9, 0, 6, 0, 0, 0, 0, 7, 6, 9, 9, 5, 5, 4, 7, 4, 7,\n",
       "        0, 8, 7, 6, 8, 7, 4, 6, 3, 0, 9, 5, 6, 8, 4, 9, 7, 6, 1, 7, 9, 8,\n",
       "        9, 7, 3, 3, 2, 3, 1, 9, 0, 1, 0, 4, 2, 9, 5, 0, 5, 6, 2, 1, 0, 5,\n",
       "        4, 8, 2, 7, 2, 0, 0, 6, 3, 2, 9, 6]),\n",
       " array([5, 5, 0, 5, 5, 0, 5, 6, 8, 5, 7, 5, 0, 0, 5, 5, 5, 0, 5, 5, 2, 0,\n",
       "        3, 5, 0, 6, 5, 5, 0, 6, 0, 5, 1, 5, 6, 6, 0, 6, 5, 5, 2, 5, 5, 0,\n",
       "        0, 5, 6, 5, 5, 0, 0, 5, 0, 5, 5, 1, 5, 6, 8, 2, 5, 0, 5, 5, 0, 5,\n",
       "        5, 5, 0, 5, 5, 5, 5, 0, 0, 5, 5, 6, 5, 6, 3, 5, 0, 5, 2, 5, 7, 0,\n",
       "        5, 0, 0, 5, 5, 5, 5, 5, 5, 6, 0, 0]))"
      ]
     },
     "execution_count": 66,
     "metadata": {},
     "output_type": "execute_result"
    }
   ],
   "source": [
    "enc_labels1[100:200],enc_labels2[100:200]"
   ]
  },
  {
   "cell_type": "code",
   "execution_count": 67,
   "id": "33374f16",
   "metadata": {},
   "outputs": [
    {
     "data": {
      "image/png": "[encoded data removed]",
      "text/plain": [
       "<Figure size 640x480 with 2 Axes>"
      ]
     },
     "metadata": {},
     "output_type": "display_data"
    }
   ],
   "source": [
    "import matplotlib.pyplot as plt\n",
    "\n",
    "i = 206\n",
    "\n",
    "# 创建一个包含两个子图的画布\n",
    "fig, axes = plt.subplots(1, 2)\n",
    "\n",
    "# 绘制第一个子图\n",
    "axes[0].imshow(data2[i].squeeze().cpu().detach().numpy())\n",
    "\n",
    "# 绘制第二个子图\n",
    "axes[1].imshow(data1[i].squeeze().cpu().detach().numpy())\n",
    "\n",
    "# 显示图形\n",
    "plt.show()"
   ]
  },
  {
   "cell_type": "code",
   "execution_count": 68,
   "id": "33dd6656",
   "metadata": {},
   "outputs": [
    {
     "name": "stdout",
     "output_type": "stream",
     "text": [
      "attr cost 17.94558358192444s, cls cost 1455.1044416427612s.\n"
     ]
    }
   ],
   "source": [
    "from time import time\n",
    "# 计算attr score\n",
    "# t1 = time()\n",
    "# attr_score1 = attr_anom(enc[0][0].cpu().detach().numpy())\n",
    "# attr_score2 = attr_anom(enc[1][0].cpu().detach().numpy())\n",
    "# attr_score = attr_score1 + attr_score2\n",
    "# t2 = time()\n",
    "\n",
    "# 计算cls score\n",
    "voted_label1, voted_label2 = vote_score(enc_labels1, enc_labels2)\n",
    "cls_score = np.zeros([len(labels), ])\n",
    "for i in range(len(voted_label1)):\n",
    "    if voted_label1[i] != voted_label2[i]:\n",
    "        cls_score[i] += 0.5\n",
    "anom_score =  cls_score#attr_score# attr_score + cls_score\n",
    "# auc = roc_auc_score(labels, anom_score)\n",
    "t3 = time()\n",
    "print('attr cost {}s, cls cost {}s.'.format((t2 - t1), (t3 - t2)))"
   ]
  },
  {
   "cell_type": "code",
   "execution_count": 69,
   "id": "f036402f",
   "metadata": {
    "scrolled": true
   },
   "outputs": [
    {
     "name": "stdout",
     "output_type": "stream",
     "text": [
      "0.5 0\n",
      "0.5 1\n",
      "0.5 2\n",
      "0.5 3\n",
      "0.5 4\n",
      "0.5 5\n",
      "0.5 6\n",
      "0.5 7\n",
      "0.5 8\n",
      "0.5 9\n",
      "0.5 10\n",
      "0.5 11\n",
      "0.5 12\n",
      "0.5 13\n",
      "0.5 14\n",
      "0.5 16\n",
      "0.5 17\n",
      "0.5 18\n",
      "0.5 19\n",
      "0.5 20\n",
      "0.5 21\n",
      "0.5 22\n",
      "0.5 23\n",
      "0.5 24\n",
      "0.5 25\n",
      "0.5 26\n",
      "0.5 27\n",
      "0.5 28\n",
      "0.5 29\n",
      "0.5 30\n",
      "0.5 31\n",
      "0.5 32\n",
      "0.5 33\n",
      "0.5 35\n",
      "0.5 36\n",
      "0.5 38\n",
      "0.5 39\n",
      "0.5 40\n",
      "0.5 41\n",
      "0.5 42\n",
      "0.5 43\n",
      "0.5 44\n",
      "0.5 45\n",
      "0.5 46\n",
      "0.5 49\n",
      "0.5 51\n",
      "0.5 52\n",
      "0.5 53\n",
      "0.5 54\n",
      "0.5 55\n",
      "0.5 56\n",
      "0.5 57\n",
      "0.5 58\n",
      "0.5 59\n",
      "0.5 60\n",
      "0.5 61\n",
      "0.5 62\n",
      "0.5 63\n",
      "0.5 64\n",
      "0.5 65\n",
      "0.5 67\n",
      "0.5 68\n",
      "0.5 69\n",
      "0.5 70\n",
      "0.5 71\n",
      "0.5 72\n",
      "0.5 75\n",
      "0.5 76\n",
      "0.5 77\n",
      "0.5 78\n",
      "0.5 80\n",
      "0.5 81\n",
      "0.5 82\n",
      "0.5 83\n",
      "0.5 85\n",
      "0.5 87\n",
      "0.5 88\n",
      "0.5 89\n",
      "0.5 90\n",
      "0.5 91\n",
      "0.5 92\n",
      "0.5 93\n",
      "0.5 94\n",
      "0.5 95\n",
      "0.5 96\n",
      "0.5 97\n",
      "0.5 98\n",
      "0.5 99\n",
      "0.5 100\n",
      "0.5 101\n",
      "0.5 103\n",
      "0.5 104\n",
      "0.5 105\n",
      "0.5 106\n",
      "0.5 107\n",
      "0.5 108\n",
      "0.5 109\n",
      "0.5 110\n",
      "0.5 111\n",
      "0.5 113\n",
      "0.5 115\n",
      "0.5 116\n",
      "0.5 117\n",
      "0.5 118\n",
      "0.5 119\n",
      "0.5 120\n",
      "0.5 121\n",
      "0.5 122\n",
      "0.5 123\n",
      "0.5 124\n",
      "0.5 125\n",
      "0.5 126\n",
      "0.5 127\n",
      "0.5 129\n",
      "0.5 131\n",
      "0.5 132\n",
      "0.5 133\n",
      "0.5 134\n",
      "0.5 135\n",
      "0.5 136\n",
      "0.5 137\n",
      "0.5 138\n",
      "0.5 139\n",
      "0.5 140\n",
      "0.5 141\n",
      "0.5 142\n",
      "0.5 143\n",
      "0.5 145\n",
      "0.5 146\n",
      "0.5 147\n",
      "0.5 148\n",
      "0.5 149\n",
      "0.5 150\n",
      "0.5 151\n",
      "0.5 152\n",
      "0.5 153\n",
      "0.5 154\n",
      "0.5 155\n",
      "0.5 156\n",
      "0.5 157\n",
      "0.5 158\n",
      "0.5 159\n",
      "0.5 160\n",
      "0.5 161\n",
      "0.5 162\n",
      "0.5 163\n",
      "0.5 164\n",
      "0.5 165\n",
      "0.5 166\n",
      "0.5 167\n",
      "0.5 168\n",
      "0.5 170\n",
      "0.5 172\n",
      "0.5 173\n",
      "0.5 175\n",
      "0.5 176\n",
      "0.5 177\n",
      "0.5 178\n",
      "0.5 179\n",
      "0.5 180\n",
      "0.5 181\n",
      "0.5 182\n",
      "0.5 183\n",
      "0.5 184\n",
      "0.5 185\n",
      "0.5 186\n",
      "0.5 187\n",
      "0.5 188\n",
      "0.5 189\n",
      "0.5 190\n",
      "0.5 191\n",
      "0.5 192\n",
      "0.5 193\n",
      "0.5 194\n",
      "0.5 195\n",
      "0.5 197\n",
      "0.5 198\n",
      "0.5 199\n",
      "0.5 200\n",
      "0.5 201\n",
      "0.5 202\n",
      "0.5 204\n",
      "0.5 205\n",
      "0.5 206\n",
      "0.5 207\n",
      "0.5 208\n",
      "0.5 209\n",
      "0.5 210\n",
      "0.5 211\n",
      "0.5 212\n",
      "0.5 213\n",
      "0.5 214\n",
      "0.5 215\n",
      "0.5 216\n",
      "0.5 218\n",
      "0.5 219\n",
      "0.5 220\n",
      "0.5 221\n",
      "0.5 222\n",
      "0.5 223\n",
      "0.5 224\n",
      "0.5 225\n",
      "0.5 226\n",
      "0.5 227\n",
      "0.5 228\n",
      "0.5 229\n",
      "0.5 230\n",
      "0.5 232\n",
      "0.5 233\n",
      "0.5 234\n",
      "0.5 235\n",
      "0.5 236\n",
      "0.5 237\n",
      "0.5 238\n",
      "0.5 239\n",
      "0.5 240\n",
      "0.5 241\n",
      "0.5 242\n",
      "0.5 244\n",
      "0.5 245\n",
      "0.5 246\n",
      "0.5 247\n",
      "0.5 248\n",
      "0.5 249\n",
      "0.5 250\n",
      "0.5 251\n",
      "0.5 252\n",
      "0.5 253\n",
      "0.5 254\n",
      "0.5 255\n",
      "0.5 256\n",
      "0.5 257\n",
      "0.5 258\n",
      "0.5 259\n",
      "0.5 260\n",
      "0.5 261\n",
      "0.5 262\n",
      "0.5 263\n",
      "0.5 264\n",
      "0.5 265\n",
      "0.5 266\n",
      "0.5 267\n",
      "0.5 269\n",
      "0.5 270\n",
      "0.5 271\n",
      "0.5 272\n",
      "0.5 273\n",
      "0.5 274\n",
      "0.5 275\n",
      "0.5 277\n",
      "0.5 279\n",
      "0.5 280\n",
      "0.5 281\n",
      "0.5 282\n",
      "0.5 283\n",
      "0.5 284\n",
      "0.5 285\n",
      "0.5 286\n",
      "0.5 287\n",
      "0.5 288\n",
      "0.5 289\n",
      "0.5 290\n",
      "0.5 291\n",
      "0.5 292\n",
      "0.5 293\n",
      "0.5 294\n",
      "0.5 295\n",
      "0.5 296\n",
      "0.5 297\n",
      "0.5 298\n",
      "0.5 299\n",
      "0.5 300\n",
      "0.5 301\n",
      "0.5 302\n",
      "0.5 303\n",
      "0.5 304\n",
      "0.5 305\n",
      "0.5 306\n",
      "0.5 307\n",
      "0.5 308\n",
      "0.5 310\n",
      "0.5 311\n",
      "0.5 314\n",
      "0.5 316\n",
      "0.5 317\n",
      "0.5 318\n",
      "0.5 319\n",
      "0.5 321\n",
      "0.5 323\n",
      "0.5 324\n",
      "0.5 325\n",
      "0.5 326\n",
      "0.5 327\n",
      "0.5 328\n",
      "0.5 329\n",
      "0.5 331\n",
      "0.5 332\n",
      "0.5 333\n",
      "0.5 335\n",
      "0.5 337\n",
      "0.5 339\n",
      "0.5 340\n",
      "0.5 341\n",
      "0.5 342\n",
      "0.5 343\n",
      "0.5 344\n",
      "0.5 346\n",
      "0.5 347\n",
      "0.5 348\n",
      "0.5 349\n",
      "0.5 350\n",
      "0.5 351\n",
      "0.5 352\n",
      "0.5 353\n",
      "0.5 354\n",
      "0.5 355\n",
      "0.5 356\n",
      "0.5 357\n",
      "0.5 358\n",
      "0.5 359\n",
      "0.5 360\n",
      "0.5 361\n",
      "0.5 362\n",
      "0.5 363\n",
      "0.5 364\n",
      "0.5 365\n",
      "0.5 366\n",
      "0.5 367\n",
      "0.5 368\n",
      "0.5 369\n",
      "0.5 370\n",
      "0.5 371\n",
      "0.5 372\n",
      "0.5 373\n",
      "0.5 374\n",
      "0.5 375\n",
      "0.5 377\n",
      "0.5 378\n",
      "0.5 380\n",
      "0.5 382\n",
      "0.5 383\n",
      "0.5 384\n",
      "0.5 385\n",
      "0.5 386\n",
      "0.5 387\n",
      "0.5 390\n",
      "0.5 391\n",
      "0.5 392\n",
      "0.5 393\n",
      "0.5 394\n",
      "0.5 395\n",
      "0.5 397\n",
      "0.5 398\n",
      "0.5 399\n",
      "0.5 400\n",
      "0.5 401\n",
      "0.5 402\n",
      "0.5 403\n",
      "0.5 404\n",
      "0.5 405\n",
      "0.5 406\n",
      "0.5 407\n",
      "0.5 410\n",
      "0.5 411\n",
      "0.5 412\n",
      "0.5 413\n",
      "0.5 414\n",
      "0.5 415\n",
      "0.5 416\n",
      "0.5 417\n",
      "0.5 418\n",
      "0.5 419\n",
      "0.5 421\n",
      "0.5 422\n",
      "0.5 423\n",
      "0.5 426\n",
      "0.5 427\n",
      "0.5 428\n",
      "0.5 429\n",
      "0.5 430\n",
      "0.5 431\n",
      "0.5 432\n",
      "0.5 433\n",
      "0.5 434\n",
      "0.5 435\n",
      "0.5 436\n",
      "0.5 437\n",
      "0.5 439\n",
      "0.5 440\n",
      "0.5 442\n",
      "0.5 443\n",
      "0.5 444\n",
      "0.5 445\n",
      "0.5 446\n",
      "0.5 447\n",
      "0.5 448\n",
      "0.5 449\n",
      "0.5 452\n",
      "0.5 453\n",
      "0.5 454\n",
      "0.5 455\n",
      "0.5 456\n",
      "0.5 458\n",
      "0.5 460\n",
      "0.5 461\n",
      "0.5 462\n",
      "0.5 463\n",
      "0.5 464\n",
      "0.5 465\n",
      "0.5 467\n",
      "0.5 468\n",
      "0.5 470\n",
      "0.5 471\n",
      "0.5 472\n",
      "0.5 473\n",
      "0.5 474\n",
      "0.5 475\n",
      "0.5 476\n",
      "0.5 477\n",
      "0.5 478\n",
      "0.5 479\n",
      "0.5 482\n",
      "0.5 483\n",
      "0.5 484\n",
      "0.5 485\n",
      "0.5 486\n",
      "0.5 487\n",
      "0.5 488\n",
      "0.5 489\n",
      "0.5 490\n",
      "0.5 491\n",
      "0.5 492\n",
      "0.5 493\n",
      "0.5 494\n",
      "0.5 495\n",
      "0.5 496\n",
      "0.5 497\n",
      "0.5 499\n",
      "0.5 500\n",
      "0.5 503\n",
      "0.5 504\n",
      "0.5 505\n",
      "0.5 506\n",
      "0.5 507\n",
      "0.5 508\n",
      "0.5 509\n",
      "0.5 511\n",
      "0.5 512\n",
      "0.5 514\n",
      "0.5 515\n",
      "0.5 516\n",
      "0.5 517\n",
      "0.5 518\n",
      "0.5 519\n",
      "0.5 520\n",
      "0.5 521\n",
      "0.5 522\n",
      "0.5 523\n",
      "0.5 524\n",
      "0.5 525\n",
      "0.5 526\n",
      "0.5 527\n",
      "0.5 529\n",
      "0.5 530\n",
      "0.5 531\n",
      "0.5 532\n",
      "0.5 533\n",
      "0.5 534\n",
      "0.5 535\n",
      "0.5 536\n",
      "0.5 539\n",
      "0.5 540\n",
      "0.5 541\n",
      "0.5 542\n",
      "0.5 543\n",
      "0.5 544\n",
      "0.5 545\n",
      "0.5 546\n",
      "0.5 548\n",
      "0.5 549\n",
      "0.5 551\n",
      "0.5 553\n",
      "0.5 554\n",
      "0.5 555\n",
      "0.5 558\n",
      "0.5 559\n",
      "0.5 560\n",
      "0.5 562\n",
      "0.5 563\n",
      "0.5 564\n",
      "0.5 565\n",
      "0.5 566\n",
      "0.5 567\n",
      "0.5 568\n",
      "0.5 569\n",
      "0.5 570\n",
      "0.5 571\n",
      "0.5 572\n",
      "0.5 573\n",
      "0.5 574\n",
      "0.5 575\n",
      "0.5 576\n",
      "0.5 577\n",
      "0.5 578\n",
      "0.5 580\n",
      "0.5 581\n",
      "0.5 582\n",
      "0.5 583\n",
      "0.5 584\n",
      "0.5 585\n",
      "0.5 586\n",
      "0.5 587\n",
      "0.5 588\n",
      "0.5 589\n",
      "0.5 590\n",
      "0.5 592\n",
      "0.5 593\n",
      "0.5 594\n",
      "0.5 596\n",
      "0.5 597\n",
      "0.5 598\n",
      "0.5 599\n",
      "0.5 600\n",
      "0.5 601\n",
      "0.5 602\n",
      "0.5 603\n",
      "0.5 604\n",
      "0.5 605\n",
      "0.5 606\n",
      "0.5 608\n",
      "0.5 610\n",
      "0.5 611\n",
      "0.5 612\n",
      "0.5 613\n",
      "0.5 614\n",
      "0.5 616\n",
      "0.5 617\n",
      "0.5 619\n",
      "0.5 620\n",
      "0.5 622\n",
      "0.5 623\n",
      "0.5 625\n",
      "0.5 626\n",
      "0.5 627\n",
      "0.5 629\n",
      "0.5 631\n",
      "0.5 632\n",
      "0.5 633\n",
      "0.5 635\n",
      "0.5 636\n",
      "0.5 637\n",
      "0.5 638\n",
      "0.5 639\n",
      "0.5 640\n",
      "0.5 641\n",
      "0.5 642\n",
      "0.5 643\n",
      "0.5 644\n",
      "0.5 645\n",
      "0.5 646\n",
      "0.5 648\n",
      "0.5 649\n",
      "0.5 650\n",
      "0.5 651\n",
      "0.5 652\n",
      "0.5 653\n",
      "0.5 656\n",
      "0.5 657\n",
      "0.5 658\n",
      "0.5 660\n",
      "0.5 661\n",
      "0.5 662\n",
      "0.5 663\n",
      "0.5 664\n",
      "0.5 665\n",
      "0.5 666\n",
      "0.5 668\n",
      "0.5 669\n",
      "0.5 670\n",
      "0.5 671\n",
      "0.5 672\n",
      "0.5 673\n",
      "0.5 674\n",
      "0.5 675\n",
      "0.5 676\n",
      "0.5 677\n",
      "0.5 678\n",
      "0.5 679\n",
      "0.5 680\n",
      "0.5 681\n",
      "0.5 682\n",
      "0.5 683\n",
      "0.5 684\n",
      "0.5 685\n",
      "0.5 686\n",
      "0.5 687\n",
      "0.5 689\n",
      "0.5 691\n",
      "0.5 692\n",
      "0.5 693\n",
      "0.5 694\n",
      "0.5 695\n",
      "0.5 696\n",
      "0.5 699\n",
      "0.5 700\n",
      "0.5 701\n",
      "0.5 702\n",
      "0.5 703\n",
      "0.5 704\n",
      "0.5 705\n",
      "0.5 706\n",
      "0.5 707\n",
      "0.5 708\n",
      "0.5 710\n",
      "0.5 711\n",
      "0.5 712\n",
      "0.5 713\n",
      "0.5 714\n",
      "0.5 716\n",
      "0.5 717\n",
      "0.5 719\n",
      "0.5 720\n",
      "0.5 721\n",
      "0.5 722\n",
      "0.5 723\n",
      "0.5 724\n",
      "0.5 725\n",
      "0.5 726\n",
      "0.5 727\n",
      "0.5 729\n",
      "0.5 730\n",
      "0.5 731\n",
      "0.5 732\n",
      "0.5 733\n",
      "0.5 734\n",
      "0.5 735\n",
      "0.5 737\n",
      "0.5 738\n",
      "0.5 739\n",
      "0.5 740\n",
      "0.5 741\n",
      "0.5 742\n",
      "0.5 743\n",
      "0.5 744\n",
      "0.5 745\n",
      "0.5 746\n",
      "0.5 747\n",
      "0.5 748\n",
      "0.5 750\n",
      "0.5 751\n",
      "0.5 752\n",
      "0.5 753\n",
      "0.5 755\n",
      "0.5 756\n",
      "0.5 758\n",
      "0.5 759\n",
      "0.5 760\n",
      "0.5 761\n",
      "0.5 762\n",
      "0.5 763\n",
      "0.5 764\n",
      "0.5 765\n",
      "0.5 766\n",
      "0.5 767\n",
      "0.5 768\n",
      "0.5 770\n",
      "0.5 771\n",
      "0.5 772\n",
      "0.5 773\n",
      "0.5 774\n",
      "0.5 775\n",
      "0.5 776\n",
      "0.5 778\n",
      "0.5 779\n",
      "0.5 780\n",
      "0.5 781\n",
      "0.5 782\n",
      "0.5 783\n",
      "0.5 784\n",
      "0.5 785\n",
      "0.5 786\n",
      "0.5 787\n",
      "0.5 788\n",
      "0.5 789\n",
      "0.5 790\n",
      "0.5 791\n",
      "0.5 794\n",
      "0.5 795\n",
      "0.5 796\n",
      "0.5 797\n",
      "0.5 798\n",
      "0.5 799\n",
      "0.5 800\n",
      "0.5 801\n",
      "0.5 802\n",
      "0.5 803\n",
      "0.5 804\n",
      "0.5 805\n",
      "0.5 806\n",
      "0.5 807\n",
      "0.5 808\n",
      "0.5 809\n",
      "0.5 810\n",
      "0.5 811\n",
      "0.5 812\n",
      "0.5 813\n",
      "0.5 814\n",
      "0.5 816\n",
      "0.5 817\n",
      "0.5 818\n",
      "0.5 820\n",
      "0.5 821\n",
      "0.5 822\n",
      "0.5 823\n",
      "0.5 824\n",
      "0.5 825\n",
      "0.5 826\n",
      "0.5 827\n",
      "0.5 828\n",
      "0.5 829\n",
      "0.5 830\n",
      "0.5 831\n",
      "0.5 833\n",
      "0.5 834\n",
      "0.5 835\n",
      "0.5 836\n",
      "0.5 837\n",
      "0.5 838\n",
      "0.5 839\n",
      "0.5 840\n",
      "0.5 841\n",
      "0.5 842\n",
      "0.5 844\n",
      "0.5 845\n",
      "0.5 846\n",
      "0.5 847\n",
      "0.5 848\n",
      "0.5 849\n",
      "0.5 850\n",
      "0.5 851\n",
      "0.5 852\n",
      "0.5 853\n",
      "0.5 854\n",
      "0.5 855\n",
      "0.5 856\n",
      "0.5 857\n",
      "0.5 858\n",
      "0.5 859\n",
      "0.5 860\n",
      "0.5 861\n",
      "0.5 862\n",
      "0.5 863\n",
      "0.5 864\n",
      "0.5 865\n",
      "0.5 866\n",
      "0.5 867\n",
      "0.5 869\n",
      "0.5 870\n",
      "0.5 871\n",
      "0.5 872\n",
      "0.5 873\n",
      "0.5 874\n",
      "0.5 875\n",
      "0.5 877\n",
      "0.5 878\n",
      "0.5 879\n",
      "0.5 880\n",
      "0.5 881\n",
      "0.5 882\n",
      "0.5 883\n",
      "0.5 884\n",
      "0.5 885\n",
      "0.5 886\n",
      "0.5 887\n",
      "0.5 888\n",
      "0.5 889\n",
      "0.5 890\n",
      "0.5 891\n",
      "0.5 892\n",
      "0.5 893\n",
      "0.5 894\n",
      "0.5 895\n",
      "0.5 896\n",
      "0.5 898\n",
      "0.5 899\n",
      "0.5 900\n",
      "0.5 901\n",
      "0.5 902\n",
      "0.5 903\n",
      "0.5 904\n",
      "0.5 905\n",
      "0.5 906\n",
      "0.5 907\n",
      "0.5 908\n",
      "0.5 909\n",
      "0.5 910\n",
      "0.5 911\n",
      "0.5 912\n",
      "0.5 913\n",
      "0.5 915\n",
      "0.5 916\n",
      "0.5 917\n",
      "0.5 919\n",
      "0.5 920\n",
      "0.5 921\n",
      "0.5 922\n",
      "0.5 923\n",
      "0.5 924\n",
      "0.5 925\n",
      "0.5 926\n",
      "0.5 927\n",
      "0.5 928\n",
      "0.5 929\n",
      "0.5 930\n",
      "0.5 931\n",
      "0.5 932\n",
      "0.5 934\n",
      "0.5 935\n",
      "0.5 936\n",
      "0.5 937\n",
      "0.5 939\n",
      "0.5 940\n",
      "0.5 941\n",
      "0.5 942\n",
      "0.5 943\n",
      "0.5 944\n",
      "0.5 945\n",
      "0.5 946\n",
      "0.5 947\n",
      "0.5 948\n",
      "0.5 949\n",
      "0.5 950\n",
      "0.5 951\n",
      "0.5 952\n",
      "0.5 954\n",
      "0.5 956\n",
      "0.5 957\n",
      "0.5 958\n",
      "0.5 959\n",
      "0.5 960\n",
      "0.5 961\n",
      "0.5 962\n",
      "0.5 963\n",
      "0.5 964\n",
      "0.5 967\n",
      "0.5 968\n",
      "0.5 970\n",
      "0.5 971\n",
      "0.5 973\n",
      "0.5 975\n",
      "0.5 977\n",
      "0.5 978\n",
      "0.5 979\n",
      "0.5 980\n",
      "0.5 981\n",
      "0.5 982\n",
      "0.5 983\n",
      "0.5 984\n",
      "0.5 985\n",
      "0.5 986\n",
      "0.5 987\n",
      "0.5 988\n",
      "0.5 989\n",
      "0.5 990\n",
      "0.5 991\n",
      "0.5 992\n",
      "0.5 993\n",
      "0.5 994\n",
      "0.5 995\n",
      "0.5 996\n",
      "0.5 997\n",
      "0.5 999\n",
      "0.5 1000\n",
      "0.5 1001\n",
      "0.5 1002\n",
      "0.5 1003\n",
      "0.5 1004\n",
      "0.5 1005\n",
      "0.5 1006\n",
      "0.5 1007\n",
      "0.5 1008\n",
      "0.5 1010\n",
      "0.5 1011\n",
      "0.5 1012\n",
      "0.5 1013\n",
      "0.5 1014\n",
      "0.5 1015\n",
      "0.5 1016\n",
      "0.5 1017\n",
      "0.5 1018\n",
      "0.5 1019\n",
      "0.5 1020\n",
      "0.5 1021\n",
      "0.5 1022\n",
      "0.5 1023\n",
      "0.5 1024\n",
      "0.5 1025\n",
      "0.5 1026\n",
      "0.5 1027\n",
      "0.5 1028\n",
      "0.5 1029\n",
      "0.5 1030\n",
      "0.5 1031\n",
      "0.5 1033\n",
      "0.5 1034\n",
      "0.5 1035\n",
      "0.5 1036\n",
      "0.5 1038\n",
      "0.5 1039\n",
      "0.5 1041\n",
      "0.5 1042\n",
      "0.5 1043\n",
      "0.5 1045\n",
      "0.5 1046\n",
      "0.5 1047\n",
      "0.5 1048\n",
      "0.5 1049\n",
      "0.5 1050\n",
      "0.5 1051\n",
      "0.5 1053\n",
      "0.5 1054\n",
      "0.5 1055\n",
      "0.5 1056\n",
      "0.5 1057\n",
      "0.5 1061\n",
      "0.5 1062\n",
      "0.5 1063\n",
      "0.5 1064\n",
      "0.5 1067\n",
      "0.5 1068\n",
      "0.5 1069\n",
      "0.5 1070\n",
      "0.5 1071\n",
      "0.5 1072\n",
      "0.5 1074\n",
      "0.5 1075\n",
      "0.5 1076\n",
      "0.5 1077\n",
      "0.5 1078\n",
      "0.5 1079\n",
      "0.5 1080\n",
      "0.5 1083\n",
      "0.5 1084\n",
      "0.5 1085\n",
      "0.5 1087\n",
      "0.5 1088\n",
      "0.5 1089\n",
      "0.5 1090\n",
      "0.5 1092\n",
      "0.5 1093\n",
      "0.5 1094\n",
      "0.5 1096\n",
      "0.5 1097\n",
      "0.5 1098\n",
      "0.5 1099\n",
      "0.5 1100\n",
      "0.5 1101\n",
      "0.5 1102\n",
      "0.5 1103\n",
      "0.5 1104\n",
      "0.5 1105\n",
      "0.5 1106\n",
      "0.5 1107\n",
      "0.5 1108\n",
      "0.5 1109\n",
      "0.5 1110\n",
      "0.5 1111\n",
      "0.5 1112\n",
      "0.5 1113\n",
      "0.5 1114\n",
      "0.5 1115\n",
      "0.5 1116\n",
      "0.5 1117\n",
      "0.5 1118\n",
      "0.5 1119\n",
      "0.5 1120\n",
      "0.5 1123\n",
      "0.5 1124\n",
      "0.5 1125\n",
      "0.5 1126\n",
      "0.5 1127\n",
      "0.5 1128\n",
      "0.5 1129\n",
      "0.5 1130\n",
      "0.5 1132\n",
      "0.5 1134\n",
      "0.5 1136\n",
      "0.5 1137\n",
      "0.5 1138\n",
      "0.5 1140\n",
      "0.5 1141\n",
      "0.5 1142\n",
      "0.5 1143\n",
      "0.5 1144\n",
      "0.5 1146\n",
      "0.5 1147\n",
      "0.5 1148\n",
      "0.5 1149\n",
      "0.5 1150\n",
      "0.5 1151\n"
     ]
    }
   ],
   "source": [
    "def find_top_values(array):\n",
    "    sorted_array = sorted(enumerate(array), key=lambda x: x[1], reverse=True)\n",
    "    top_values = []\n",
    "    for i in range(1000):\n",
    "        index = sorted_array[i][0]\n",
    "        value = sorted_array[i][1]\n",
    "        top_values.append((value, index))\n",
    "    return top_values\n",
    "\n",
    "# 假设你有一个名为\"my_array\"的 60000 长度的数组\n",
    "my_array = anom_score\n",
    "top_values_with_indices = find_top_values(my_array)\n",
    "\n",
    "anom_list = []\n",
    "for value, index in top_values_with_indices:\n",
    "    anom_list.append(index)\n",
    "    print(value, index)"
   ]
  },
  {
   "cell_type": "markdown",
   "id": "cd543620",
   "metadata": {},
   "source": [
    "# 训练结果可视化"
   ]
  },
  {
   "cell_type": "code",
   "execution_count": 61,
   "id": "822b4e06",
   "metadata": {},
   "outputs": [],
   "source": [
    "net.cuda()\n",
    "net.eval()\n",
    "eval_num = 25\n",
    "zn, zc, _ = sample_z(shape=eval_num, latent_dim=net.latent_dim, n_c=net.cls_num)\n",
    "zn, zc = zn.cuda(), zc.cuda()"
   ]
  },
  {
   "cell_type": "code",
   "execution_count": 62,
   "id": "9556ecee",
   "metadata": {},
   "outputs": [],
   "source": [
    "zn = [zn for _ in range(net.view_num)]\n",
    "zc = [zc for _ in range(net.view_num)]\n",
    "gen_imgs = net(zn=zn, zc=zc, mode='G')"
   ]
  },
  {
   "cell_type": "code",
   "execution_count": 63,
   "id": "de8a1ab6",
   "metadata": {
    "scrolled": false
   },
   "outputs": [
    {
     "data": {
      "image/png": "[encoded data removed]",
      "text/plain": [
       "<Figure size 640x480 with 25 Axes>"
      ]
     },
     "metadata": {},
     "output_type": "display_data"
    },
    {
     "data": {
      "image/png": "[encoded data removed]",
      "text/plain": [
       "<Figure size 640x480 with 25 Axes>"
      ]
     },
     "metadata": {},
     "output_type": "display_data"
    }
   ],
   "source": [
    "for view in range(net.view_num):\n",
    "    for i in range(eval_num):\n",
    "        plt.subplot(5, 5, i + 1)\n",
    "        plt.xticks([])\n",
    "        plt.yticks([])\n",
    "        plt.imshow(gen_imgs[view][i].squeeze().cpu().detach().numpy())\n",
    "    plt.title('view {}'.format(view))\n",
    "#     tar_f = os.path.join(dir, 'net{}_gen_{}.png'.format(view, epoch))\n",
    "#     plt.savefig(tar_f)\n",
    "    plt.show()"
   ]
  },
  {
   "cell_type": "code",
   "execution_count": 64,
   "id": "7f81b453",
   "metadata": {},
   "outputs": [],
   "source": [
    "# 使用TSNE进行降维可视化\n",
    "from sklearn.manifold import TSNE\n",
    "import matplotlib\n",
    "import matplotlib.cm as cm\n",
    "# 使用PCA主成分分析进行初始化 再降到2维\n",
    "tsne = TSNE(n_components=2, verbose=1, init='pca', random_state=42)"
   ]
  },
  {
   "cell_type": "code",
   "execution_count": 65,
   "id": "4454d33d",
   "metadata": {},
   "outputs": [],
   "source": [
    "_, labels = torch.load(\"./datasets/mnist/MNIST/processed/mnist_ori.pt\")"
   ]
  },
  {
   "cell_type": "code",
   "execution_count": 66,
   "id": "24b1586c",
   "metadata": {},
   "outputs": [],
   "source": [
    "net_ = net\n",
    "net_.to('cpu')\n",
    "net_.eval()\n",
    "# if cuda:\n",
    "#     net.cuda()\n",
    "loader = dataloader_v2(dataset=dataset, anom=anom, feat1=feat1, feat2=feat2, batch=60000, shuffle=False)\n",
    "\n",
    "data1, data2, labels = next(iter(loader))\n",
    "data = (data1, data2)\n",
    "enc = net_(data=data, mode='E')\n",
    "enc_labels1 = softmax2argmax(enc[0][1]).cpu().numpy()\n",
    "enc_labels2 = softmax2argmax(enc[1][1]).cpu().numpy()"
   ]
  },
  {
   "cell_type": "code",
   "execution_count": 67,
   "id": "8205bf95",
   "metadata": {},
   "outputs": [
    {
     "name": "stderr",
     "output_type": "stream",
     "text": [
      "/home/rain/anaconda3/envs/MVADG/lib/python3.7/site-packages/sklearn/manifold/_t_sne.py:793: FutureWarning: The default learning rate in TSNE will change from 200.0 to 'auto' in 1.2.\n",
      "  FutureWarning,\n"
     ]
    },
    {
     "name": "stdout",
     "output_type": "stream",
     "text": [
      "[t-SNE] Computing 91 nearest neighbors...\n",
      "[t-SNE] Indexed 60000 samples in 0.002s...\n",
      "[t-SNE] Computed neighbors for 60000 samples in 75.695s...\n",
      "[t-SNE] Computed conditional probabilities for sample 1000 / 60000\n",
      "[t-SNE] Computed conditional probabilities for sample 2000 / 60000\n",
      "[t-SNE] Computed conditional probabilities for sample 3000 / 60000\n",
      "[t-SNE] Computed conditional probabilities for sample 4000 / 60000\n",
      "[t-SNE] Computed conditional probabilities for sample 5000 / 60000\n",
      "[t-SNE] Computed conditional probabilities for sample 6000 / 60000\n",
      "[t-SNE] Computed conditional probabilities for sample 7000 / 60000\n",
      "[t-SNE] Computed conditional probabilities for sample 8000 / 60000\n",
      "[t-SNE] Computed conditional probabilities for sample 9000 / 60000\n",
      "[t-SNE] Computed conditional probabilities for sample 10000 / 60000\n",
      "[t-SNE] Computed conditional probabilities for sample 11000 / 60000\n",
      "[t-SNE] Computed conditional probabilities for sample 12000 / 60000\n",
      "[t-SNE] Computed conditional probabilities for sample 13000 / 60000\n",
      "[t-SNE] Computed conditional probabilities for sample 14000 / 60000\n",
      "[t-SNE] Computed conditional probabilities for sample 15000 / 60000\n",
      "[t-SNE] Computed conditional probabilities for sample 16000 / 60000\n",
      "[t-SNE] Computed conditional probabilities for sample 17000 / 60000\n",
      "[t-SNE] Computed conditional probabilities for sample 18000 / 60000\n",
      "[t-SNE] Computed conditional probabilities for sample 19000 / 60000\n",
      "[t-SNE] Computed conditional probabilities for sample 20000 / 60000\n",
      "[t-SNE] Computed conditional probabilities for sample 21000 / 60000\n",
      "[t-SNE] Computed conditional probabilities for sample 22000 / 60000\n",
      "[t-SNE] Computed conditional probabilities for sample 23000 / 60000\n",
      "[t-SNE] Computed conditional probabilities for sample 24000 / 60000\n",
      "[t-SNE] Computed conditional probabilities for sample 25000 / 60000\n",
      "[t-SNE] Computed conditional probabilities for sample 26000 / 60000\n",
      "[t-SNE] Computed conditional probabilities for sample 27000 / 60000\n",
      "[t-SNE] Computed conditional probabilities for sample 28000 / 60000\n",
      "[t-SNE] Computed conditional probabilities for sample 29000 / 60000\n",
      "[t-SNE] Computed conditional probabilities for sample 30000 / 60000\n",
      "[t-SNE] Computed conditional probabilities for sample 31000 / 60000\n",
      "[t-SNE] Computed conditional probabilities for sample 32000 / 60000\n",
      "[t-SNE] Computed conditional probabilities for sample 33000 / 60000\n",
      "[t-SNE] Computed conditional probabilities for sample 34000 / 60000\n",
      "[t-SNE] Computed conditional probabilities for sample 35000 / 60000\n",
      "[t-SNE] Computed conditional probabilities for sample 36000 / 60000\n",
      "[t-SNE] Computed conditional probabilities for sample 37000 / 60000\n",
      "[t-SNE] Computed conditional probabilities for sample 38000 / 60000\n",
      "[t-SNE] Computed conditional probabilities for sample 39000 / 60000\n",
      "[t-SNE] Computed conditional probabilities for sample 40000 / 60000\n",
      "[t-SNE] Computed conditional probabilities for sample 41000 / 60000\n",
      "[t-SNE] Computed conditional probabilities for sample 42000 / 60000\n",
      "[t-SNE] Computed conditional probabilities for sample 43000 / 60000\n",
      "[t-SNE] Computed conditional probabilities for sample 44000 / 60000\n",
      "[t-SNE] Computed conditional probabilities for sample 45000 / 60000\n",
      "[t-SNE] Computed conditional probabilities for sample 46000 / 60000\n",
      "[t-SNE] Computed conditional probabilities for sample 47000 / 60000\n",
      "[t-SNE] Computed conditional probabilities for sample 48000 / 60000\n",
      "[t-SNE] Computed conditional probabilities for sample 49000 / 60000\n",
      "[t-SNE] Computed conditional probabilities for sample 50000 / 60000\n",
      "[t-SNE] Computed conditional probabilities for sample 51000 / 60000\n",
      "[t-SNE] Computed conditional probabilities for sample 52000 / 60000\n",
      "[t-SNE] Computed conditional probabilities for sample 53000 / 60000\n",
      "[t-SNE] Computed conditional probabilities for sample 54000 / 60000\n",
      "[t-SNE] Computed conditional probabilities for sample 55000 / 60000\n",
      "[t-SNE] Computed conditional probabilities for sample 56000 / 60000\n",
      "[t-SNE] Computed conditional probabilities for sample 57000 / 60000\n",
      "[t-SNE] Computed conditional probabilities for sample 58000 / 60000\n",
      "[t-SNE] Computed conditional probabilities for sample 59000 / 60000\n",
      "[t-SNE] Computed conditional probabilities for sample 60000 / 60000\n",
      "[t-SNE] Mean sigma: 0.424507\n"
     ]
    },
    {
     "name": "stderr",
     "output_type": "stream",
     "text": [
      "/home/rain/anaconda3/envs/MVADG/lib/python3.7/site-packages/sklearn/manifold/_t_sne.py:986: FutureWarning: The PCA initialization in TSNE will change to have the standard deviation of PC1 equal to 1e-4 in 1.2. This will ensure better convergence.\n",
      "  FutureWarning,\n"
     ]
    },
    {
     "name": "stdout",
     "output_type": "stream",
     "text": [
      "[t-SNE] KL divergence after 250 iterations with early exaggeration: 93.835663\n",
      "[t-SNE] KL divergence after 1000 iterations: 2.617380\n"
     ]
    }
   ],
   "source": [
    "enc = np.hstack((enc[0][0].cpu().detach().numpy(), enc[0][1].cpu().detach().numpy()))\n",
    "tsne_enc = tsne.fit_transform(enc)\n"
   ]
  },
  {
   "cell_type": "code",
   "execution_count": 68,
   "id": "564cd574",
   "metadata": {},
   "outputs": [],
   "source": [
    "nr_c = 2"
   ]
  },
  {
   "cell_type": "code",
   "execution_count": 69,
   "id": "ecb80498",
   "metadata": {},
   "outputs": [
    {
     "data": {
      "image/png": "[encoded data removed]",
      "text/plain": [
       "<Figure size 1600x1000 with 1 Axes>"
      ]
     },
     "metadata": {},
     "output_type": "display_data"
    }
   ],
   "source": [
    "colors = cm.rainbow(np.linspace(0, 1, nr_c))\n",
    "markers = matplotlib.markers.MarkerStyle.filled_markers\n",
    "\n",
    "    # Save TSNE figure to file\n",
    "fig, ax = plt.subplots(figsize=(16,10))\n",
    "for iclass in range(0, nr_c):\n",
    "        # Get indices for each class\n",
    "    idxs = labels==iclass\n",
    "        # Scatter those points in tsne dims\n",
    "    ax.scatter(tsne_enc[idxs, 0],\n",
    "                tsne_enc[idxs, 1],\n",
    "                marker=markers[iclass],\n",
    "                c=colors[iclass],\n",
    "                edgecolor=None,\n",
    "                label=r'$%i$'%iclass)\n",
    "\n",
    "    #ax.set_title(r'%s'%fig_title, fontsize=24)\n",
    "    ax.set_xlabel(r'$X^{\\mathrm{tSNE}}_1$', fontsize=18)\n",
    "    ax.set_ylabel(r'$X^{\\mathrm{tSNE}}_2$', fontsize=18)\n",
    "    plt.legend(title=r'Class', loc='best', numpoints=1, fontsize=16)\n",
    "    plt.tight_layout()\n",
    "    fig.savefig('tsne-pca.png')"
   ]
  }
 ],
 "metadata": {
  "kernelspec": {
   "display_name": "Python 3 (ipykernel)",
   "language": "python",
   "name": "python3"
  },
  "language_info": {
   "codemirror_mode": {
    "name": "ipython",
    "version": 3
   },
   "file_extension": ".py",
   "mimetype": "text/x-python",
   "name": "python",
   "nbconvert_exporter": "python",
   "pygments_lexer": "ipython3",
   "version": "3.7.16"
  }
 },
 "nbformat": 4,
 "nbformat_minor": 5
}
