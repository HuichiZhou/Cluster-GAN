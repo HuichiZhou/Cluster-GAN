{
 "cells": [
  {
   "cell_type": "markdown",
   "id": "0231da73",
   "metadata": {},
   "source": [
    "# Gray-Level Co-occurrence Matrix，GLCM 灰度共生矩阵"
   ]
  },
  {
   "cell_type": "code",
   "execution_count": 1,
   "id": "e62dc274",
   "metadata": {},
   "outputs": [],
   "source": [
    "# 导入必要的库\n",
    "import numpy as np\n",
    "import matplotlib.pyplot as plt\n",
    "import cv2\n",
    "import torch"
   ]
  },
  {
   "cell_type": "code",
   "execution_count": 2,
   "id": "0d508b95",
   "metadata": {},
   "outputs": [],
   "source": [
    "def fast_glcm(img, vmin=0, vmax=255, nbit=8, kernel_size=5):\n",
    "    \"\"\"\n",
    "    img: 传入的图像\n",
    "    vmin: 灰度的最小值\n",
    "    vmax: 灰度的最大值\n",
    "    nbit： 间隔\n",
    "    kernel_size: 卷积核的大小\n",
    "    \"\"\"\n",
    "    mi, ma = vmin, vmax\n",
    "    ks = kernel_size\n",
    "    h,w = img.shape\n",
    "\n",
    "    # digitize\n",
    "    bins = np.linspace(mi, ma+1, nbit+1)\n",
    "    gl1 = np.digitize(img, bins) - 1\n",
    "    gl2 = np.append(gl1[:,1:], gl1[:,-1:], axis=1)\n",
    "\n",
    "    # make glcm\n",
    "    glcm = np.zeros((nbit, nbit, h, w), dtype=np.uint8)\n",
    "    for i in range(nbit):\n",
    "        for j in range(nbit):\n",
    "            mask = ((gl1==i) & (gl2==j))\n",
    "            glcm[i,j, mask] = 1\n",
    "\n",
    "    kernel = np.ones((ks, ks), dtype=np.uint8)\n",
    "    for i in range(nbit):\n",
    "        for j in range(nbit):\n",
    "            glcm[i,j] = cv2.filter2D(glcm[i,j], -1, kernel)\n",
    "\n",
    "    glcm = glcm.astype(np.float32)\n",
    "    return glcm"
   ]
  },
  {
   "cell_type": "code",
   "execution_count": 4,
   "id": "e1e8c05f",
   "metadata": {},
   "outputs": [],
   "source": [
    "def fast_glcm_mean(img, vmin=0, vmax=255, nbit=8, ks=5):\n",
    "    '''\n",
    "    calc glcm mean\n",
    "    '''\n",
    "    h,w = img.shape\n",
    "    glcm = fast_glcm(img, vmin, vmax, nbit, ks)\n",
    "    mean = np.zeros((h,w), dtype=np.float32)\n",
    "    for i in range(nbit):\n",
    "        for j in range(nbit):\n",
    "            mean += glcm[i,j] * i / (nbit)**2\n",
    "    return mean\n",
    "\n",
    "def fast_glcm_std(img, vmin=0, vmax=255, nbit=8, ks=5):\n",
    "    '''\n",
    "    calc glcm std\n",
    "    '''\n",
    "    h,w = img.shape\n",
    "    glcm = fast_glcm(img, vmin, vmax, nbit, ks)\n",
    "    mean = np.zeros((h,w), dtype=np.float32)\n",
    "    for i in range(nbit):\n",
    "        for j in range(nbit):\n",
    "            mean += glcm[i,j] * i / (nbit)**2\n",
    "\n",
    "    std2 = np.zeros((h,w), dtype=np.float32)\n",
    "    for i in range(nbit):\n",
    "        for j in range(nbit):\n",
    "            std2 += (glcm[i,j] * i - mean)**2\n",
    "\n",
    "    std = np.sqrt(std2)\n",
    "    return std"
   ]
  },
  {
   "cell_type": "code",
   "execution_count": 5,
   "id": "0129fc95",
   "metadata": {},
   "outputs": [],
   "source": [
    "def fast_glcm_contrast(img, vmin=0, vmax=255, nbit=8, ks=5):\n",
    "    '''\n",
    "    计算对比度\n",
    "    '''\n",
    "    h,w = img.shape\n",
    "    glcm = fast_glcm(img, vmin, vmax, nbit, ks)\n",
    "    cont = np.zeros((h,w), dtype=np.float32)\n",
    "    for i in range(nbit):\n",
    "        for j in range(nbit):\n",
    "            cont += glcm[i,j] * (i-j)**2\n",
    "    return cont"
   ]
  },
  {
   "cell_type": "code",
   "execution_count": 6,
   "id": "d7771458",
   "metadata": {},
   "outputs": [],
   "source": [
    "def fast_glcm_dissimilarity(img, vmin=0, vmax=255, nbit=8, ks=5):\n",
    "    '''\n",
    "    计算不相似度\n",
    "    '''\n",
    "    h,w = img.shape\n",
    "    glcm = fast_glcm(img, vmin, vmax, nbit, ks)\n",
    "    diss = np.zeros((h,w), dtype=np.float32)\n",
    "    for i in range(nbit):\n",
    "        for j in range(nbit):\n",
    "            diss += glcm[i,j] * np.abs(i-j)\n",
    "    return diss"
   ]
  },
  {
   "cell_type": "code",
   "execution_count": 7,
   "id": "d841e033",
   "metadata": {},
   "outputs": [],
   "source": [
    "def fast_glcm_homogeneity(img, vmin=0, vmax=255, nbit=8, ks=5):\n",
    "    '''\n",
    "    计算均匀性\n",
    "    '''\n",
    "    h,w = img.shape\n",
    "    glcm = fast_glcm(img, vmin, vmax, nbit, ks)\n",
    "    homo = np.zeros((h,w), dtype=np.float32)\n",
    "    for i in range(nbit):\n",
    "        for j in range(nbit):\n",
    "            homo += glcm[i,j] / (1.+(i-j)**2)\n",
    "    return homo"
   ]
  },
  {
   "cell_type": "code",
   "execution_count": 8,
   "id": "260bf037",
   "metadata": {},
   "outputs": [],
   "source": [
    "def fast_glcm_ASM(img, vmin=0, vmax=255, nbit=8, ks=5):\n",
    "    '''\n",
    "    ASM（Angular Second Moment）和能量（Energy）\n",
    "    '''\n",
    "    h,w = img.shape\n",
    "    glcm = fast_glcm(img, vmin, vmax, nbit, ks)\n",
    "    asm = np.zeros((h,w), dtype=np.float32)\n",
    "    for i in range(nbit):\n",
    "        for j in range(nbit):\n",
    "            asm  += glcm[i,j]**2\n",
    "\n",
    "    ene = np.sqrt(asm)\n",
    "    return asm, ene"
   ]
  },
  {
   "cell_type": "code",
   "execution_count": 9,
   "id": "3a719e1f",
   "metadata": {},
   "outputs": [],
   "source": [
    "def fast_glcm_max(img, vmin=0, vmax=255, nbit=8, ks=5):\n",
    "    '''\n",
    "    计算GLCM的最大值（Maximum）\n",
    "    '''\n",
    "    glcm = fast_glcm(img, vmin, vmax, nbit, ks)\n",
    "    max_  = np.max(glcm, axis=(0,1))\n",
    "    return max_"
   ]
  },
  {
   "cell_type": "code",
   "execution_count": 10,
   "id": "2349fbf7",
   "metadata": {},
   "outputs": [],
   "source": [
    "def fast_glcm_entropy(img, vmin=0, vmax=255, nbit=8, ks=5):\n",
    "    '''\n",
    "    计算GLCM的熵（Entropy）\n",
    "    '''\n",
    "    glcm = fast_glcm(img, vmin, vmax, nbit, ks)\n",
    "    pnorm = glcm / np.sum(glcm, axis=(0,1)) + 1./ks**2\n",
    "    ent  = np.sum(-pnorm * np.log(pnorm), axis=(0,1))\n",
    "    return ent"
   ]
  },
  {
   "cell_type": "code",
   "execution_count": 11,
   "id": "4a224d9b",
   "metadata": {},
   "outputs": [],
   "source": [
    "def mnist_on_glcm():\n",
    "    nbit = 8\n",
    "    ks = 5\n",
    "    mi, ma = 0, 255\n",
    "\n",
    "    ori_f = '../data/MNIST/processed/training.pt' #该数据集使用torchvision下载\n",
    "    imgs, labels = torch.load(ori_f)\n",
    "\n",
    "    glcm_mnist = []\n",
    "    for img in imgs:\n",
    "        img = fast_glcm_mean(img, vmin=mi, vmax=ma, nbit=nbit, ks=ks)\n",
    "        glcm_mnist.append(img)\n",
    "    glcm_mnist = torch.tensor(glcm_mnist)\n",
    "\n",
    "    file = (glcm_mnist, labels)\n",
    "    tar_f = '../data/mnist_custom/processed/mnist_glcm.pt'\n",
    "    with open(tar_f, 'wb') as f:\n",
    "        torch.save(file, f)\n",
    "    print('shape ', glcm_mnist.shape)\n",
    "    print('glcm on mnist generate success.')\n",
    "    \n",
    "def fashionmnist_on_glcm():\n",
    "    nbit = 8\n",
    "    ks = 5\n",
    "    mi, ma = 0, 255\n",
    "\n",
    "    ori_f = '../data/FashionMNIST/processed/training.pt'\n",
    "    imgs, labels = torch.load(ori_f)\n",
    "\n",
    "    glcm_mnist = []\n",
    "    for img in imgs:\n",
    "        img = fast_glcm_mean(img, vmin=mi, vmax=ma, nbit=nbit, ks=ks)\n",
    "        glcm_mnist.append(img)\n",
    "    glcm_mnist = torch.tensor(glcm_mnist)\n",
    "\n",
    "    file = (glcm_mnist, labels)\n",
    "    tar_f = '../data/FashionMNIST/processed/fashionmnist_glcm.pt'\n",
    "    with open(tar_f, 'wb') as f:\n",
    "        torch.save(file, f)\n",
    "    print('shape ', glcm_mnist.shape)\n",
    "    print('glcm on fashionmnist generate success.')"
   ]
  },
  {
   "cell_type": "code",
   "execution_count": 13,
   "id": "be58a290",
   "metadata": {},
   "outputs": [
    {
     "name": "stdout",
     "output_type": "stream",
     "text": [
      "shape  torch.Size([60000, 28, 28])\n",
      "glcm on mnist generate success.\n",
      "shape  torch.Size([60000, 28, 28])\n",
      "glcm on fashionmnist generate success.\n",
      "cost 102.83318877220154s\n"
     ]
    }
   ],
   "source": [
    "if __name__ == '__main__':\n",
    "    import time\n",
    "    t1 = time.time()\n",
    "    mnist_on_glcm()\n",
    "    fashionmnist_on_glcm()\n",
    "    t2 = time.time()\n",
    "    print('cost {}s'.format(t2 - t1))"
   ]
  }
 ],
 "metadata": {
  "kernelspec": {
   "display_name": "Python 3 (ipykernel)",
   "language": "python",
   "name": "python3"
  },
  "language_info": {
   "codemirror_mode": {
    "name": "ipython",
    "version": 3
   },
   "file_extension": ".py",
   "mimetype": "text/x-python",
   "name": "python",
   "nbconvert_exporter": "python",
   "pygments_lexer": "ipython3",
   "version": "3.7.16"
  }
 },
 "nbformat": 4,
 "nbformat_minor": 5
}
